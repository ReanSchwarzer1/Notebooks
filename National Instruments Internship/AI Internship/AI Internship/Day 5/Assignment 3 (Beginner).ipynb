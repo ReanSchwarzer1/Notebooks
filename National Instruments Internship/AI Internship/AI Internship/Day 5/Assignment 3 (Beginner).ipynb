{
 "cells": [
  {
   "cell_type": "markdown",
   "metadata": {},
   "source": [
    "Feel free to refer to the class Jupyter Notebook, we do not expect you to know the syntax by memory.\n",
    "\n",
    "We only expect you to understand how the libraries work and which function to use where. It is alright if you copy paste from the class Jupyter notebook. Almost everybody copy pastes in programming. The difference is some know what to copy paste and others don't."
   ]
  },
  {
   "cell_type": "code",
   "execution_count": null,
   "metadata": {},
   "outputs": [],
   "source": [
    "import pandas as pd\n",
    "import matplotlib.pyplot as plt\n",
    "import numpy as np"
   ]
  },
  {
   "cell_type": "markdown",
   "metadata": {},
   "source": [
    "## Matplotlib"
   ]
  },
  {
   "cell_type": "code",
   "execution_count": null,
   "metadata": {},
   "outputs": [],
   "source": [
    "%matplotlib inline"
   ]
  },
  {
   "cell_type": "code",
   "execution_count": null,
   "metadata": {},
   "outputs": [],
   "source": [
    "# Plot the following array and label both the axis. Also give the plot a title\n",
    "# x = np.linspace(0, 100, 20)\n",
    "\n"
   ]
  },
  {
   "cell_type": "code",
   "execution_count": null,
   "metadata": {},
   "outputs": [],
   "source": [
    "# Plot y = x^5 and use:\n",
    "# 1. A black line\n",
    "# 2. Red circles\n",
    "# 3. Green squares\n",
    "# to represent the graph\n",
    "\n"
   ]
  },
  {
   "cell_type": "code",
   "execution_count": null,
   "metadata": {},
   "outputs": [],
   "source": [
    "# Plot y = x^2 and y = x^3 in two different subplots (of shape (2,1)) in a figure\n",
    "# x = np.arange(0., 10., 0.2)\n",
    "\n"
   ]
  },
  {
   "cell_type": "code",
   "execution_count": null,
   "metadata": {},
   "outputs": [],
   "source": [
    "# Redo the above plot, but limit the axis to [5,6] in the x-axis and [20,100] in the y-axis\n",
    "\n"
   ]
  },
  {
   "cell_type": "code",
   "execution_count": null,
   "metadata": {},
   "outputs": [],
   "source": [
    "# In three subplots (of shape (3,1)), plot a bar plot, a scatter plot and a line plot\n",
    "\n"
   ]
  },
  {
   "cell_type": "code",
   "execution_count": null,
   "metadata": {},
   "outputs": [],
   "source": [
    "# Plot three different figures of varying sizes (take any size you want)\n",
    "\n"
   ]
  },
  {
   "cell_type": "code",
   "execution_count": null,
   "metadata": {},
   "outputs": [],
   "source": [
    "# Plot the following images in a loop.\n",
    "# If you are doing this on Kaggle, please enable internet in settings \n",
    "# (see telegram group for instructions)\n",
    "# https://i.ibb.co/TwsG391/Screenshot-from-2020-05-21-19-17-26.png\n",
    "# https://i.ibb.co/bR4XSQ8/Screenshot-from-2020-05-23-00-03-32.png\n",
    "# https://i.ibb.co/SQbPCDH/Screenshot-from-2020-05-22-17-30-38.png\n",
    "# https://i.ibb.co/JntTQ9v/Screenshot-from-2020-05-22-18-35-22.png\n",
    "# Hint, the below code allows you to open images from URL\n",
    "\n",
    "from PIL import Image\n",
    "import requests\n",
    "from io import BytesIO\n",
    "\n",
    "url = \"https://i.ibb.co/TwsG391/Screenshot-from-2020-05-21-19-17-26.png\"\n",
    "\n",
    "response = requests.get(url)\n",
    "img = Image.open(BytesIO(response.content))"
   ]
  },
  {
   "cell_type": "markdown",
   "metadata": {},
   "source": [
    "## Pandas"
   ]
  },
  {
   "cell_type": "code",
   "execution_count": null,
   "metadata": {},
   "outputs": [],
   "source": [
    "# Create a new series from a numpy array\n",
    "\n"
   ]
  },
  {
   "cell_type": "code",
   "execution_count": null,
   "metadata": {},
   "outputs": [],
   "source": [
    "# Perform the following computations on the series:\n",
    "# Add, subtract, multiply (with a constant), divide, exponent\n",
    "\n",
    "s = pd.Series(np.random.randint(5, size=10))"
   ]
  },
  {
   "cell_type": "code",
   "execution_count": null,
   "metadata": {},
   "outputs": [],
   "source": [
    "# this is how you import a csv file\n",
    "\n",
    "df = pd.read_csv(\"https://raw.githubusercontent.com/cognibot-official/data/master/occupation.csv\", \n",
    "                 index_col = 'user_id')"
   ]
  },
  {
   "cell_type": "code",
   "execution_count": null,
   "metadata": {},
   "outputs": [],
   "source": [
    "# Display the first 10 rows and last 10 rows of the above dataframe df\n",
    "\n"
   ]
  },
  {
   "cell_type": "code",
   "execution_count": null,
   "metadata": {},
   "outputs": [],
   "source": [
    "# Extract only the occupation column from the dataframe\n",
    "\n",
    "df.head()"
   ]
  },
  {
   "cell_type": "code",
   "execution_count": null,
   "metadata": {},
   "outputs": [],
   "source": [
    "# Display the first 4 rows and 3 columns\n",
    "\n"
   ]
  },
  {
   "cell_type": "code",
   "execution_count": null,
   "metadata": {},
   "outputs": [],
   "source": [
    "# Display till the row index is 6 and column name is gender\n",
    "\n",
    "\n"
   ]
  },
  {
   "cell_type": "code",
   "execution_count": null,
   "metadata": {},
   "outputs": [],
   "source": [
    "# Display all columns of only those whose occupation is writer\n",
    "\n"
   ]
  },
  {
   "cell_type": "code",
   "execution_count": null,
   "metadata": {},
   "outputs": [],
   "source": [
    "# Display the summary statistics of the dataframe\n",
    "\n"
   ]
  },
  {
   "cell_type": "code",
   "execution_count": null,
   "metadata": {},
   "outputs": [],
   "source": [
    "# Calculate the mean age in the dataset \n",
    "\n",
    "\n"
   ]
  },
  {
   "cell_type": "code",
   "execution_count": null,
   "metadata": {},
   "outputs": [],
   "source": [
    "# Add a new column to the dataframe based on the following rules:\n",
    "# If the person is less than 30 years and is an engineer/programmer/scientist\n",
    "# label them as rich, label the others as poor :)\n",
    "\n"
   ]
  },
  {
   "cell_type": "code",
   "execution_count": null,
   "metadata": {},
   "outputs": [],
   "source": [
    "# Find the mean (average) age of a :\n",
    "# Student\n",
    "# Lawyer\n",
    "# Engineer\n",
    "\n",
    "\n"
   ]
  },
  {
   "cell_type": "code",
   "execution_count": null,
   "metadata": {},
   "outputs": [],
   "source": [
    "# Bonus: Find out which field has the youngest people\n",
    "# and which field has more men compared to women and vice versa\n",
    "\n",
    "\n"
   ]
  }
 ],
 "metadata": {
  "kernelspec": {
   "display_name": "Python 3",
   "language": "python",
   "name": "python3"
  },
  "language_info": {
   "codemirror_mode": {
    "name": "ipython",
    "version": 3
   },
   "file_extension": ".py",
   "mimetype": "text/x-python",
   "name": "python",
   "nbconvert_exporter": "python",
   "pygments_lexer": "ipython3",
   "version": "3.6.9"
  }
 },
 "nbformat": 4,
 "nbformat_minor": 4
}
