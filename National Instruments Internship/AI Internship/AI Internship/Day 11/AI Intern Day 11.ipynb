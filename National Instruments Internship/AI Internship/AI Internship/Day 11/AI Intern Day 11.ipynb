{
 "cells": [
  {
   "cell_type": "code",
   "execution_count": 1,
   "metadata": {},
   "outputs": [],
   "source": [
    "%matplotlib inline\n",
    "\n",
    "import pandas as pd\n",
    "import numpy as np\n",
    "from sklearn.tree import DecisionTreeRegressor \n",
    "from sklearn.model_selection import train_test_split\n",
    "from sklearn.metrics import mean_squared_error\n",
    "from math import sqrt\n",
    "from sklearn import tree"
   ]
  },
  {
   "cell_type": "code",
   "execution_count": 2,
   "metadata": {},
   "outputs": [],
   "source": [
    "df_raw = pd.read_csv(\"https://raw.githubusercontent.com/cognibot-official/data/master/train_data.csv\")"
   ]
  },
  {
   "cell_type": "code",
   "execution_count": 3,
   "metadata": {},
   "outputs": [
    {
     "data": {
      "text/html": [
       "<div>\n",
       "<style scoped>\n",
       "    .dataframe tbody tr th:only-of-type {\n",
       "        vertical-align: middle;\n",
       "    }\n",
       "\n",
       "    .dataframe tbody tr th {\n",
       "        vertical-align: top;\n",
       "    }\n",
       "\n",
       "    .dataframe thead th {\n",
       "        text-align: right;\n",
       "    }\n",
       "</style>\n",
       "<table border=\"1\" class=\"dataframe\">\n",
       "  <thead>\n",
       "    <tr style=\"text-align: right;\">\n",
       "      <th></th>\n",
       "      <th>cement</th>\n",
       "      <th>blast</th>\n",
       "      <th>flyash</th>\n",
       "      <th>water</th>\n",
       "      <th>sp</th>\n",
       "      <th>ca</th>\n",
       "      <th>fa</th>\n",
       "      <th>age</th>\n",
       "      <th>strength</th>\n",
       "    </tr>\n",
       "  </thead>\n",
       "  <tbody>\n",
       "    <tr>\n",
       "      <th>0</th>\n",
       "      <td>382.0</td>\n",
       "      <td>0.0</td>\n",
       "      <td>0.0</td>\n",
       "      <td>186.0</td>\n",
       "      <td>0.0</td>\n",
       "      <td>1047.0</td>\n",
       "      <td>739.0</td>\n",
       "      <td>7</td>\n",
       "      <td>24.00</td>\n",
       "    </tr>\n",
       "    <tr>\n",
       "      <th>1</th>\n",
       "      <td>310.0</td>\n",
       "      <td>142.8</td>\n",
       "      <td>0.0</td>\n",
       "      <td>167.9</td>\n",
       "      <td>10.0</td>\n",
       "      <td>914.3</td>\n",
       "      <td>804.0</td>\n",
       "      <td>28</td>\n",
       "      <td>45.30</td>\n",
       "    </tr>\n",
       "    <tr>\n",
       "      <th>2</th>\n",
       "      <td>310.0</td>\n",
       "      <td>0.0</td>\n",
       "      <td>0.0</td>\n",
       "      <td>192.0</td>\n",
       "      <td>0.0</td>\n",
       "      <td>1012.0</td>\n",
       "      <td>830.0</td>\n",
       "      <td>90</td>\n",
       "      <td>35.76</td>\n",
       "    </tr>\n",
       "    <tr>\n",
       "      <th>3</th>\n",
       "      <td>475.0</td>\n",
       "      <td>118.8</td>\n",
       "      <td>0.0</td>\n",
       "      <td>181.1</td>\n",
       "      <td>8.9</td>\n",
       "      <td>852.1</td>\n",
       "      <td>781.5</td>\n",
       "      <td>91</td>\n",
       "      <td>74.19</td>\n",
       "    </tr>\n",
       "    <tr>\n",
       "      <th>4</th>\n",
       "      <td>385.0</td>\n",
       "      <td>0.0</td>\n",
       "      <td>0.0</td>\n",
       "      <td>186.0</td>\n",
       "      <td>0.0</td>\n",
       "      <td>966.0</td>\n",
       "      <td>763.0</td>\n",
       "      <td>3</td>\n",
       "      <td>14.70</td>\n",
       "    </tr>\n",
       "  </tbody>\n",
       "</table>\n",
       "</div>"
      ],
      "text/plain": [
       "   cement  blast  flyash  water    sp      ca     fa  age  strength\n",
       "0   382.0    0.0     0.0  186.0   0.0  1047.0  739.0    7     24.00\n",
       "1   310.0  142.8     0.0  167.9  10.0   914.3  804.0   28     45.30\n",
       "2   310.0    0.0     0.0  192.0   0.0  1012.0  830.0   90     35.76\n",
       "3   475.0  118.8     0.0  181.1   8.9   852.1  781.5   91     74.19\n",
       "4   385.0    0.0     0.0  186.0   0.0   966.0  763.0    3     14.70"
      ]
     },
     "execution_count": 3,
     "metadata": {},
     "output_type": "execute_result"
    }
   ],
   "source": [
    "df_raw.head()"
   ]
  },
  {
   "cell_type": "code",
   "execution_count": 5,
   "metadata": {},
   "outputs": [],
   "source": [
    "# Scoring function, we use rmse\n",
    "\n",
    "def score(y_actual, y_preds):\n",
    "    return sqrt(mean_squared_error(y_actual, y_preds))"
   ]
  },
  {
   "cell_type": "code",
   "execution_count": 6,
   "metadata": {},
   "outputs": [],
   "source": [
    "# Extract the target variable from train dataset\n",
    "\n",
    "y = df_raw['strength']\n",
    "df_raw.drop('strength', axis=1, inplace=True)"
   ]
  },
  {
   "cell_type": "code",
   "execution_count": 7,
   "metadata": {},
   "outputs": [
    {
     "data": {
      "text/html": [
       "<div>\n",
       "<style scoped>\n",
       "    .dataframe tbody tr th:only-of-type {\n",
       "        vertical-align: middle;\n",
       "    }\n",
       "\n",
       "    .dataframe tbody tr th {\n",
       "        vertical-align: top;\n",
       "    }\n",
       "\n",
       "    .dataframe thead th {\n",
       "        text-align: right;\n",
       "    }\n",
       "</style>\n",
       "<table border=\"1\" class=\"dataframe\">\n",
       "  <thead>\n",
       "    <tr style=\"text-align: right;\">\n",
       "      <th></th>\n",
       "      <th>cement</th>\n",
       "      <th>blast</th>\n",
       "      <th>flyash</th>\n",
       "      <th>water</th>\n",
       "      <th>sp</th>\n",
       "      <th>ca</th>\n",
       "      <th>fa</th>\n",
       "      <th>age</th>\n",
       "    </tr>\n",
       "  </thead>\n",
       "  <tbody>\n",
       "    <tr>\n",
       "      <th>0</th>\n",
       "      <td>382.0</td>\n",
       "      <td>0.0</td>\n",
       "      <td>0.0</td>\n",
       "      <td>186.0</td>\n",
       "      <td>0.0</td>\n",
       "      <td>1047.0</td>\n",
       "      <td>739.0</td>\n",
       "      <td>7</td>\n",
       "    </tr>\n",
       "    <tr>\n",
       "      <th>1</th>\n",
       "      <td>310.0</td>\n",
       "      <td>142.8</td>\n",
       "      <td>0.0</td>\n",
       "      <td>167.9</td>\n",
       "      <td>10.0</td>\n",
       "      <td>914.3</td>\n",
       "      <td>804.0</td>\n",
       "      <td>28</td>\n",
       "    </tr>\n",
       "    <tr>\n",
       "      <th>2</th>\n",
       "      <td>310.0</td>\n",
       "      <td>0.0</td>\n",
       "      <td>0.0</td>\n",
       "      <td>192.0</td>\n",
       "      <td>0.0</td>\n",
       "      <td>1012.0</td>\n",
       "      <td>830.0</td>\n",
       "      <td>90</td>\n",
       "    </tr>\n",
       "    <tr>\n",
       "      <th>3</th>\n",
       "      <td>475.0</td>\n",
       "      <td>118.8</td>\n",
       "      <td>0.0</td>\n",
       "      <td>181.1</td>\n",
       "      <td>8.9</td>\n",
       "      <td>852.1</td>\n",
       "      <td>781.5</td>\n",
       "      <td>91</td>\n",
       "    </tr>\n",
       "    <tr>\n",
       "      <th>4</th>\n",
       "      <td>385.0</td>\n",
       "      <td>0.0</td>\n",
       "      <td>0.0</td>\n",
       "      <td>186.0</td>\n",
       "      <td>0.0</td>\n",
       "      <td>966.0</td>\n",
       "      <td>763.0</td>\n",
       "      <td>3</td>\n",
       "    </tr>\n",
       "  </tbody>\n",
       "</table>\n",
       "</div>"
      ],
      "text/plain": [
       "   cement  blast  flyash  water    sp      ca     fa  age\n",
       "0   382.0    0.0     0.0  186.0   0.0  1047.0  739.0    7\n",
       "1   310.0  142.8     0.0  167.9  10.0   914.3  804.0   28\n",
       "2   310.0    0.0     0.0  192.0   0.0  1012.0  830.0   90\n",
       "3   475.0  118.8     0.0  181.1   8.9   852.1  781.5   91\n",
       "4   385.0    0.0     0.0  186.0   0.0   966.0  763.0    3"
      ]
     },
     "execution_count": 7,
     "metadata": {},
     "output_type": "execute_result"
    }
   ],
   "source": [
    "df_raw.head()"
   ]
  },
  {
   "cell_type": "code",
   "execution_count": 8,
   "metadata": {},
   "outputs": [],
   "source": [
    "X_train, X_valid, y_train, y_valid = train_test_split(df_raw, y, test_size=0.3, shuffle=True)"
   ]
  },
  {
   "cell_type": "markdown",
   "metadata": {},
   "source": [
    "\n",
    "## Bagging\n",
    "\n",
    "Trees have low bias inherently. Inorder to better model the dataset, we use RandomForests. This is a type of ensemble model - meaning it uses the result of many models to improve the final prediction.\n",
    "\n",
    "This is done by bootstrapping and features sampling.\n",
    "\n",
    "### Bootstrapping:\n",
    "\n",
    "Bootstrapping in this context referes to the process of training many models on different subsets of the data (with resampling -ie replacement). The individual models are assumed to be of high variance which is the case in trees.\n",
    "\n",
    "### Random feature subsampling:\n",
    "\n",
    "Each model does not have access to all columns of the dataset (All variables of the input space). A fraction of it is made available and the selection process is random for each model.\n",
    "\n",
    "The above methods maintain the same bias but reduce the variance\n"
   ]
  },
  {
   "cell_type": "code",
   "execution_count": 9,
   "metadata": {},
   "outputs": [],
   "source": [
    "from sklearn.ensemble import RandomForestRegressor"
   ]
  },
  {
   "cell_type": "code",
   "execution_count": 10,
   "metadata": {},
   "outputs": [],
   "source": [
    "model3 = RandomForestRegressor(n_estimators=100, max_features=0.7, bootstrap=True, max_depth=10, min_samples_leaf=2, random_state=42)"
   ]
  },
  {
   "cell_type": "code",
   "execution_count": 11,
   "metadata": {},
   "outputs": [
    {
     "name": "stdout",
     "output_type": "stream",
     "text": [
      "CPU times: user 290 ms, sys: 4.18 ms, total: 294 ms\n",
      "Wall time: 305 ms\n"
     ]
    },
    {
     "data": {
      "text/plain": [
       "RandomForestRegressor(max_depth=10, max_features=0.7, min_samples_leaf=2,\n",
       "                      random_state=42)"
      ]
     },
     "execution_count": 11,
     "metadata": {},
     "output_type": "execute_result"
    }
   ],
   "source": [
    "%time model3.fit(X_train, y_train)"
   ]
  },
  {
   "cell_type": "code",
   "execution_count": 12,
   "metadata": {},
   "outputs": [
    {
     "data": {
      "text/plain": [
       "3.098105771853511"
      ]
     },
     "execution_count": 12,
     "metadata": {},
     "output_type": "execute_result"
    }
   ],
   "source": [
    "score(y_train, model3.predict(X_train))"
   ]
  },
  {
   "cell_type": "code",
   "execution_count": 13,
   "metadata": {},
   "outputs": [
    {
     "data": {
      "text/plain": [
       "5.7432143440877095"
      ]
     },
     "execution_count": 13,
     "metadata": {},
     "output_type": "execute_result"
    }
   ],
   "source": [
    "score(y_valid, model3.predict(X_valid))"
   ]
  },
  {
   "cell_type": "code",
   "execution_count": 14,
   "metadata": {},
   "outputs": [
    {
     "name": "stdout",
     "output_type": "stream",
     "text": [
      "Train score:  2.7630651536672626\n",
      "Validation score:  7.641435398284896\n"
     ]
    }
   ],
   "source": [
    "# Decision tree regressor\n",
    "\n",
    "model2 = DecisionTreeRegressor(max_depth=10, min_samples_leaf=2, random_state=42)\n",
    "model2.fit(X_train, y_train)\n",
    "print(\"Train score: \", score(y_train, model2.predict(X_train)))\n",
    "print(\"Validation score: \", score(y_valid, model2.predict(X_valid)))"
   ]
  },
  {
   "cell_type": "markdown",
   "metadata": {},
   "source": [
    "\n",
    "\n",
    "As you can see, it has worse score on train dataset and better score on validation dataset compared to Decision tree regresser using the same parameters\n"
   ]
  },
  {
   "cell_type": "markdown",
   "metadata": {},
   "source": [
    "## Visualizing bagging\n"
   ]
  },
  {
   "cell_type": "code",
   "execution_count": 15,
   "metadata": {},
   "outputs": [],
   "source": [
    "# Collect the prediction from different trees in the forest\n",
    "\n",
    "preds = np.stack([t.predict(X_valid) for t in model3.estimators_])"
   ]
  },
  {
   "cell_type": "code",
   "execution_count": 16,
   "metadata": {},
   "outputs": [
    {
     "data": {
      "text/plain": [
       "(100, 217)"
      ]
     },
     "execution_count": 16,
     "metadata": {},
     "output_type": "execute_result"
    }
   ],
   "source": [
    "preds.shape"
   ]
  },
  {
   "cell_type": "code",
   "execution_count": 17,
   "metadata": {},
   "outputs": [
    {
     "data": {
      "image/png": "[encoded data removed]",
      "text/plain": [
       "<Figure size 432x288 with 1 Axes>"
      ]
     },
     "metadata": {
      "needs_background": "light"
     },
     "output_type": "display_data"
    }
   ],
   "source": [
    "# Plot metric vs number of trees\n",
    "\n",
    "from matplotlib import pyplot as plt\n",
    "plt.plot([sqrt(mean_squared_error(y_valid, np.mean(preds[:i+1], axis=0))) for i in range(100)])\n",
    "plt.xlabel('Number of trees')\n",
    "plt.ylabel('RMSE')\n",
    "plt.show()"
   ]
  },
  {
   "cell_type": "code",
   "execution_count": null,
   "metadata": {},
   "outputs": [],
   "source": []
  }
 ],
 "metadata": {
  "kernelspec": {
   "display_name": "Python 3",
   "language": "python",
   "name": "python3"
  },
  "language_info": {
   "codemirror_mode": {
    "name": "ipython",
    "version": 3
   },
   "file_extension": ".py",
   "mimetype": "text/x-python",
   "name": "python",
   "nbconvert_exporter": "python",
   "pygments_lexer": "ipython3",
   "version": "3.6.9"
  }
 },
 "nbformat": 4,
 "nbformat_minor": 4
}
