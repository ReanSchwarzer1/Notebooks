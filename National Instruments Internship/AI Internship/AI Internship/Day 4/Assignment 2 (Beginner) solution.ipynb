{
 "cells": [
  {
   "cell_type": "markdown",
   "metadata": {},
   "source": [
    "Note: This notebook is compiled from Kavin's and Saanvi Singh's solutions\n",
    "\n",
    "*(Feel free to refer to the AI Intern Day 4 Jupyter notebook if you get stuck.)*\n",
    "\n",
    "## Classes:\n",
    "\n",
    "Create a class in Python to represent fractions. The internal representation contains two integers (the numerator and denominator). \n",
    "\n",
    "The functions in the class should include:\n",
    "   * multiplication (a/b * c/d)\n",
    "   * print the fraction (in the form a/b) (hint: use \\__str__ function)\n",
    "   * invert the fraction (a/b becomes b/a)\n",
    "\n",
    "#### Example usage of this class:\n",
    "\n",
    "frac = Fraction(3, 4) # Fraction 3/4\n",
    "\n",
    "frac2 = Fraction(4, 3) # Fraction 4/3\n",
    "\n",
    "frac.multiply(frac2)\n",
    "\n",
    "print(frac)\n",
    "\n",
    "frac.invert()"
   ]
  },
  {
   "cell_type": "code",
   "execution_count": 2,
   "metadata": {},
   "outputs": [],
   "source": [
    "class Fraction():\n",
    "    def __init__(self,n,d):\n",
    "        self.num = n\n",
    "        self.den = d\n",
    "    def multiply(self, other):\n",
    "        return((self.num*other.num)/(self.den*other.den))\n",
    "    def __str__(self):\n",
    "        return(str(self.num)+\"/\"+str(self.den))\n",
    "    def invert(self):\n",
    "        self.num, self.den = self.den, self.num"
   ]
  },
  {
   "cell_type": "code",
   "execution_count": 3,
   "metadata": {},
   "outputs": [
    {
     "name": "stdout",
     "output_type": "stream",
     "text": [
      "Fraction 1: 3/4 || Fraction 2: 2/5\n",
      "Mutilplied Value:\n",
      "0.3\n",
      "After Inverting:\n",
      "4/3\n"
     ]
    }
   ],
   "source": [
    "frac = Fraction(3,4)\n",
    "frac2 = Fraction(2,5)\n",
    "print(\"Fraction 1: {} || Fraction 2: {}\".format(frac.__str__(),frac2.__str__()))\n",
    "print(\"Mutilplied Value:\")\n",
    "mul = frac.multiply(frac2)\n",
    "print(mul)\n",
    "frac.invert()\n",
    "print(\"After Inverting:\")\n",
    "print(frac)"
   ]
  },
  {
   "cell_type": "markdown",
   "metadata": {},
   "source": [
    "## Numpy:"
   ]
  },
  {
   "cell_type": "code",
   "execution_count": 5,
   "metadata": {},
   "outputs": [
    {
     "name": "stdout",
     "output_type": "stream",
     "text": [
      "1 2 3 4 54\n",
      "[ 1  2  3  4 54]\n"
     ]
    }
   ],
   "source": [
    "# Get a list of integers as input from the user and convert it into a numpy array.\n",
    "import numpy as np\n",
    "lst = list(map(int,input().split()))#[1,2,3,4,5,6,7,8]\n",
    "arr=np.array(lst)\n",
    "print(arr)"
   ]
  },
  {
   "cell_type": "code",
   "execution_count": 6,
   "metadata": {},
   "outputs": [
    {
     "name": "stdout",
     "output_type": "stream",
     "text": [
      "[[1. 1. 1. 1. 1.]\n",
      " [1. 1. 1. 1. 1.]\n",
      " [1. 1. 1. 1. 1.]\n",
      " [1. 1. 1. 1. 1.]]\n"
     ]
    }
   ],
   "source": [
    "# Create an array of ones (all elements in the array is one) of shape (4, 5) [three rows and 5 columns]. \n",
    "x = np.ones((4,5))\n",
    "print(x)"
   ]
  },
  {
   "cell_type": "code",
   "execution_count": 7,
   "metadata": {},
   "outputs": [
    {
     "name": "stdout",
     "output_type": "stream",
     "text": [
      "1. [2 1 0]\n",
      "2. [1 5]\n",
      "3. 7\n",
      "4. [2 7 0]\n"
     ]
    }
   ],
   "source": [
    "'''\n",
    "Given the following array,\n",
    "\n",
    "X = [[2, 5],\n",
    "    [1, 5],\n",
    "    [0, 7]]\n",
    "    \n",
    "Write numpy slicing code to get the following as output:\n",
    "\n",
    "1. [2, 1, 0]\n",
    "2. [1, 5]\n",
    "3. 7\n",
    "4. [2, 7, 0]  (hint, use a list of indices)\n",
    "\n",
    "'''\n",
    "X = [[2, 5],[1, 5],[0, 7]]\n",
    "X = np.array(X)\n",
    "print(\"1.\",X[:,0])\n",
    "print(\"2.\",X[1])\n",
    "print(\"3.\",X[-1,1])\n",
    "row_index = [0,2,2] #Row and col pair for accessing the specific values (Fancy Indexing)\n",
    "col_index = [0,1,0]\n",
    "print(\"4.\",X[row_index,col_index])"
   ]
  },
  {
   "cell_type": "code",
   "execution_count": 8,
   "metadata": {},
   "outputs": [
    {
     "name": "stdout",
     "output_type": "stream",
     "text": [
      "Dim:  2\n",
      "Shape: (2, 5)\n",
      "Size:  10\n"
     ]
    }
   ],
   "source": [
    "# Create a numpy array and print its shape, dimensions, size and datatype\n",
    "arr = np.random.randint(10, size=(10))\n",
    "arr = arr.reshape(2,5)\n",
    "print(\"Dim: \", arr.ndim)\n",
    "print(\"Shape:\", arr.shape)\n",
    "print(\"Size: \", arr.size)"
   ]
  },
  {
   "cell_type": "code",
   "execution_count": 9,
   "metadata": {},
   "outputs": [
    {
     "name": "stdout",
     "output_type": "stream",
     "text": [
      "[[1. 1. 1. 1. 1. 1.]\n",
      " [1. 1. 1. 1. 1. 1.]\n",
      " [1. 1. 1. 1. 1. 1.]\n",
      " [1. 1. 1. 1. 1. 1.]]\n",
      "[[0. 0. 0. 0. 0. 0.]\n",
      " [1. 1. 1. 1. 1. 1.]\n",
      " [1. 1. 1. 1. 1. 1.]\n",
      " [1. 1. 1. 1. 1. 1.]]\n"
     ]
    }
   ],
   "source": [
    "# Create a copy of a numpy array using .copy(), change the copy's value and print both arrays\n",
    "\n",
    "x=np.ones((4,6))\n",
    "y=x.copy()\n",
    "\n",
    "y[0,:]=0\n",
    "\n",
    "print(x)\n",
    "\n",
    "print(y)\n"
   ]
  },
  {
   "cell_type": "code",
   "execution_count": 10,
   "metadata": {},
   "outputs": [
    {
     "name": "stdout",
     "output_type": "stream",
     "text": [
      "(1, 15)\n",
      "[[ 0  1  2  3  4  5  6  7  8  9 10 11 12 13 14]]\n",
      "\n",
      "(3, 5)\n",
      "[[ 0  1  2  3  4]\n",
      " [ 5  6  7  8  9]\n",
      " [10 11 12 13 14]]\n",
      "\n",
      "(5, 3)\n",
      "[[ 0  1  2]\n",
      " [ 3  4  5]\n",
      " [ 6  7  8]\n",
      " [ 9 10 11]\n",
      " [12 13 14]]\n",
      "\n",
      "(15, 1)\n",
      "[[ 0]\n",
      " [ 1]\n",
      " [ 2]\n",
      " [ 3]\n",
      " [ 4]\n",
      " [ 5]\n",
      " [ 6]\n",
      " [ 7]\n",
      " [ 8]\n",
      " [ 9]\n",
      " [10]\n",
      " [11]\n",
      " [12]\n",
      " [13]\n",
      " [14]]\n",
      "\n"
     ]
    }
   ],
   "source": [
    "# Create a numpy array of size 15 and print all possible reshaping.\n",
    "factors=[]\n",
    "for i in range(1,16):\n",
    "    if 15%i==0:\n",
    "        factors.append(i)\n",
    "#print(factors)\n",
    "a=np.arange(15)\n",
    "for i in factors:\n",
    "    for j in factors:\n",
    "        if i*j==15:\n",
    "            a=a.reshape((i,j))\n",
    "            print(a.shape)\n",
    "            print(a)\n",
    "            print()"
   ]
  },
  {
   "cell_type": "code",
   "execution_count": 11,
   "metadata": {},
   "outputs": [
    {
     "name": "stdout",
     "output_type": "stream",
     "text": [
      "[[43 80 34 38]\n",
      " [47 94 61 16]\n",
      " [65 97  9 85]]\n",
      "97\n"
     ]
    }
   ],
   "source": [
    "# Create a random array of shape (3, 4) and find the maximum in it\n",
    "# hint : np.random.randint(0, 100, size=(3, 4))\n",
    "X=np.random.randint(0,100,size=(3,4))\n",
    "print(X)\n",
    "\n",
    "print(np.max(X))"
   ]
  },
  {
   "cell_type": "code",
   "execution_count": 12,
   "metadata": {},
   "outputs": [
    {
     "name": "stdout",
     "output_type": "stream",
     "text": [
      "[1 2 3 4 5]\n"
     ]
    }
   ],
   "source": [
    "# Sort the following array:\n",
    "# x = np.array([2, 1, 4, 3, 5])\n",
    "x = np.array([2,1,4,3,5])\n",
    "print(np.sort(x))\n"
   ]
  },
  {
   "cell_type": "code",
   "execution_count": 13,
   "metadata": {},
   "outputs": [
    {
     "data": {
      "text/plain": [
       "array([ 9, 88,  6, 45])"
      ]
     },
     "execution_count": 13,
     "metadata": {},
     "output_type": "execute_result"
    }
   ],
   "source": [
    "# find the maximum element in each column of the folling array\n",
    "\n",
    "a = np.array([[1,2,4,7],\n",
    "              [9,88,6,45],\n",
    "              [9,76,3,4]])\n",
    "a.max(axis=0)\n",
    "\n"
   ]
  },
  {
   "cell_type": "code",
   "execution_count": 14,
   "metadata": {},
   "outputs": [
    {
     "name": "stdout",
     "output_type": "stream",
     "text": [
      "[1 1 1 1]\n"
     ]
    }
   ],
   "source": [
    "# find the index of the maximum element in each column in the folling array\n",
    "# a = np.array([[1,2,4,7], [9,88,6,45], [9,76,3,4]])\n",
    "Array4 = np.array([[1,2,4,7], [9,88,6,45], [9,76,3,4]])\n",
    "print(np.argmax(Array4,axis=0))"
   ]
  },
  {
   "cell_type": "code",
   "execution_count": 15,
   "metadata": {},
   "outputs": [
    {
     "name": "stdout",
     "output_type": "stream",
     "text": [
      "Matrix 1: \n",
      " [[24 50  7 88]\n",
      " [ 8 41 29 86]\n",
      " [42 83 57 29]]\n",
      "Matrix 2: \n",
      " [[19]\n",
      " [56]\n",
      " [70]]\n"
     ]
    },
    {
     "data": {
      "text/plain": [
       "array([[ 43,  69,  26, 107],\n",
       "       [ 64,  97,  85, 142],\n",
       "       [112, 153, 127,  99]])"
      ]
     },
     "execution_count": 15,
     "metadata": {},
     "output_type": "execute_result"
    }
   ],
   "source": [
    "# Try adding an array of shape (3,4) and another array of shape (3,1)\n",
    "a1 = np.random.randint(0, 100, size=(3, 4))\n",
    "a2 = np.random.randint(0, 100, size=(3, 1))\n",
    "print(\"Matrix 1: \\n\",a1)\n",
    "print(\"Matrix 2: \\n\",a2)\n",
    "a1+a2"
   ]
  },
  {
   "cell_type": "code",
   "execution_count": 16,
   "metadata": {},
   "outputs": [
    {
     "name": "stdout",
     "output_type": "stream",
     "text": [
      "[13 85 12 91 11]\n",
      "[60 98 89 16 55]\n"
     ]
    },
    {
     "data": {
      "text/plain": [
       "array([ 73, 183, 101, 107,  66])"
      ]
     },
     "execution_count": 16,
     "metadata": {},
     "output_type": "execute_result"
    }
   ],
   "source": [
    "# Try adding an array of shape (5,) and (,5)\n",
    "b1 = np.random.randint(0, 100, size=(5))\n",
    "b2 = np.random.randint(0, 100, size=(5))\n",
    "print(b1)\n",
    "print(b2)\n",
    "b1+b2"
   ]
  },
  {
   "cell_type": "code",
   "execution_count": 17,
   "metadata": {},
   "outputs": [
    {
     "name": "stdout",
     "output_type": "stream",
     "text": [
      "Not posible to add two arrays of shape (3,3) and (2,2)\n"
     ]
    }
   ],
   "source": [
    "# Try adding two arrays of shape (3,3) and (2,2) each\n",
    "\n",
    "try:\n",
    "    M=np.ones((3,3))\n",
    "    N=np.ones((2,2))\n",
    "    print(M+N)\n",
    "except:\n",
    "    print(\"Not posible to add two arrays of shape (3,3) and (2,2)\")"
   ]
  }
 ],
 "metadata": {
  "kernelspec": {
   "display_name": "Python 3",
   "language": "python",
   "name": "python3"
  },
  "language_info": {
   "codemirror_mode": {
    "name": "ipython",
    "version": 3
   },
   "file_extension": ".py",
   "mimetype": "text/x-python",
   "name": "python",
   "nbconvert_exporter": "python",
   "pygments_lexer": "ipython3",
   "version": "3.6.9"
  }
 },
 "nbformat": 4,
 "nbformat_minor": 4
}
