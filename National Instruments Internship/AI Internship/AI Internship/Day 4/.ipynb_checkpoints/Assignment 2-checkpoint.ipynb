{
 "cells": [
  {
   "cell_type": "markdown",
   "metadata": {},
   "source": [
    "*(Feel free to refer to the AI Intern Day 4 Jupyter notebook if you get stuck.)*\n",
    "\n",
    "## Classes:\n",
    "\n",
    "Create a class in Python to represent fractions. The internal representation contains two integers (the numerator and denominator). \n",
    "\n",
    "The functions in the class should include:\n",
    "   * multiplication (a/b * c/d)\n",
    "   * print the fraction (in the form a/b) (hint: use \\__str__ function)\n",
    "   * invert the fraction (a/b becomes b/a)\n",
    "\n",
    "#### Example usage of this class:\n",
    "\n",
    "frac = Fraction(3, 4) # Fraction 3/4\n",
    "\n",
    "frac2 = Fraction(4, 3) # Fraction 4/3\n",
    "\n",
    "frac.multiply(frac2)\n",
    "\n",
    "print(frac)\n",
    "\n",
    "frac.invert()"
   ]
  },
  {
   "cell_type": "code",
   "execution_count": null,
   "metadata": {},
   "outputs": [],
   "source": [
    "# Create Class here\n",
    "\n",
    "\n"
   ]
  },
  {
   "cell_type": "markdown",
   "metadata": {},
   "source": [
    "## Numpy:"
   ]
  },
  {
   "cell_type": "code",
   "execution_count": null,
   "metadata": {},
   "outputs": [],
   "source": [
    "# Get a list of integers as input from the user and convert it into a numpy array.\n",
    "\n"
   ]
  },
  {
   "cell_type": "code",
   "execution_count": null,
   "metadata": {},
   "outputs": [],
   "source": [
    "# Create an array of ones (all elements in the array is one) of shape (4, 5) [three rows and 5 columns]. \n",
    "\n"
   ]
  },
  {
   "cell_type": "code",
   "execution_count": null,
   "metadata": {},
   "outputs": [],
   "source": [
    "'''\n",
    "Given the following array,\n",
    "\n",
    "X = [[2, 5]\n",
    "    [1, 5],\n",
    "    [0, 7]]\n",
    "    \n",
    "Write numpy slicing code to get the following as output:\n",
    "\n",
    "1. [2, 1, 0]\n",
    "2. [1, 5]\n",
    "3. 7\n",
    "4. [2, 7, 0]  (hint, use a list of indices)\n",
    "\n",
    "'''"
   ]
  },
  {
   "cell_type": "code",
   "execution_count": null,
   "metadata": {},
   "outputs": [],
   "source": [
    "# Create a numpy array and print its shape, dimensions, size and datatype\n",
    "\n"
   ]
  },
  {
   "cell_type": "code",
   "execution_count": null,
   "metadata": {},
   "outputs": [],
   "source": [
    "# Create a copy of a numpy array using .copy(), change the copy's value and print both arrays\n",
    "\n"
   ]
  },
  {
   "cell_type": "code",
   "execution_count": null,
   "metadata": {},
   "outputs": [],
   "source": [
    "# Create a numpy array of size 15 and print all possible reshaping.\n",
    "\n"
   ]
  },
  {
   "cell_type": "code",
   "execution_count": null,
   "metadata": {},
   "outputs": [],
   "source": [
    "# Create a random array of shape (3, 4) and find the maximum in it\n",
    "# hint : np.random.randint(0, 100, size=(3, 4))\n"
   ]
  },
  {
   "cell_type": "code",
   "execution_count": null,
   "metadata": {},
   "outputs": [],
   "source": [
    "# Sort the following array:\n",
    "# x = np.array([2, 1, 4, 3, 5])\n",
    "\n"
   ]
  },
  {
   "cell_type": "code",
   "execution_count": null,
   "metadata": {},
   "outputs": [],
   "source": [
    "# find the maximum element in each column of the folling array\n",
    "# a = np.array([[1,2,4,7], [9,88,6,45], [9,76,3,4]])\n",
    "\n"
   ]
  },
  {
   "cell_type": "code",
   "execution_count": null,
   "metadata": {},
   "outputs": [],
   "source": [
    "# find the index of the maximum element in each column in the folling array\n",
    "# a = np.array([[1,2,4,7], [9,88,6,45], [9,76,3,4]])\n",
    "\n"
   ]
  },
  {
   "cell_type": "code",
   "execution_count": null,
   "metadata": {},
   "outputs": [],
   "source": [
    "# Try adding an array of shape (3,4) and another array of shape (3,1)\n",
    "\n"
   ]
  },
  {
   "cell_type": "code",
   "execution_count": null,
   "metadata": {},
   "outputs": [],
   "source": [
    "# Try adding an array of shape (5,) and (,5)\n",
    "\n"
   ]
  },
  {
   "cell_type": "code",
   "execution_count": null,
   "metadata": {},
   "outputs": [],
   "source": [
    "# Try adding two arrays of shape (3,3) and (2,2) each\n",
    "\n"
   ]
  },
  {
   "cell_type": "markdown",
   "metadata": {},
   "source": [
    "### That's it folks"
   ]
  }
 ],
 "metadata": {
  "kernelspec": {
   "display_name": "Python 3",
   "language": "python",
   "name": "python3"
  },
  "language_info": {
   "codemirror_mode": {
    "name": "ipython",
    "version": 3
   },
   "file_extension": ".py",
   "mimetype": "text/x-python",
   "name": "python",
   "nbconvert_exporter": "python",
   "pygments_lexer": "ipython3",
   "version": "3.6.9"
  }
 },
 "nbformat": 4,
 "nbformat_minor": 4
}
