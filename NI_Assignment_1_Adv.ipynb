{
  "nbformat": 4,
  "nbformat_minor": 0,
  "metadata": {
    "colab": {
      "name": "NI Assignment 1 Adv.ipynb",
      "provenance": [],
      "include_colab_link": true
    },
    "kernelspec": {
      "name": "python3",
      "display_name": "Python 3"
    }
  },
  "cells": [
    {
      "cell_type": "markdown",
      "metadata": {
        "id": "view-in-github",
        "colab_type": "text"
      },
      "source": [
        "<a href=\"https://colab.research.google.com/github/ReanSchwarzer1/Notebooks/blob/master/NI_Assignment_1_Adv.ipynb\" target=\"_parent\"><img src=\"https://colab.research.google.com/assets/colab-badge.svg\" alt=\"Open In Colab\"/></a>"
      ]
    },
    {
      "cell_type": "code",
      "metadata": {
        "id": "LgU8nDcLX76v",
        "colab_type": "code",
        "outputId": "afde0d9c-c66f-4e30-f135-4bf45dd9b217",
        "colab": {
          "base_uri": "https://localhost:8080/",
          "height": 1000
        }
      },
      "source": [
        "import random\n",
        "from collections import defaultdict\n",
        " \n",
        "printdead, printlive = '01'\n",
        "maxgenerations = 20\n",
        "cellcount = 5,4\n",
        "\n",
        "c={}\n",
        "l=[0, 0, 1, 0, 1,0,1, 0, 0, 1,0, 1, 0, 0, 1,0, 0, 1, 0, 1]\n",
        "x=0\n",
        "for i in range(5):\n",
        "  for j in range(4):\n",
        "    c[(i,j)]=l[0]\n",
        "    x+=1\n",
        "celltable=defaultdict(int,c)\n",
        "\n",
        "for i in range(maxgenerations):\n",
        "    print (\"\\nGeneration %3i:\" % ( i, ))\n",
        "    for row in range(cellcount[1]):\n",
        "        print (\"  \", ''.join(str(universe[(row,col)]) for col in range(cellcount[0])).replace( '0', printdead).replace('1', printlive))\n",
        "    nextgeneration = defaultdict(int)\n",
        "    for row in range(cellcount[1]):\n",
        "        for col in range(cellcount[0]):\n",
        "            nextgeneration[(row,col)] = celltable[\n",
        "                ( universe[(row,col)],\n",
        "                  -universe[(row,col)] + sum(universe[(r,c)]\n",
        "                                             for r in range(row-1,row+2)\n",
        "                                             for c in range(col-1, col+2) )\n",
        "                ) ]\n",
        "    universe = nextgeneration"
      ],
      "execution_count": 0,
      "outputs": [
        {
          "output_type": "stream",
          "text": [
            "\n",
            "Generation   0:\n",
            "   00000\n",
            "   00000\n",
            "   00000\n",
            "   00000\n",
            "\n",
            "Generation   1:\n",
            "   00000\n",
            "   00000\n",
            "   00000\n",
            "   00000\n",
            "\n",
            "Generation   2:\n",
            "   00000\n",
            "   00000\n",
            "   00000\n",
            "   00000\n",
            "\n",
            "Generation   3:\n",
            "   00000\n",
            "   00000\n",
            "   00000\n",
            "   00000\n",
            "\n",
            "Generation   4:\n",
            "   00000\n",
            "   00000\n",
            "   00000\n",
            "   00000\n",
            "\n",
            "Generation   5:\n",
            "   00000\n",
            "   00000\n",
            "   00000\n",
            "   00000\n",
            "\n",
            "Generation   6:\n",
            "   00000\n",
            "   00000\n",
            "   00000\n",
            "   00000\n",
            "\n",
            "Generation   7:\n",
            "   00000\n",
            "   00000\n",
            "   00000\n",
            "   00000\n",
            "\n",
            "Generation   8:\n",
            "   00000\n",
            "   00000\n",
            "   00000\n",
            "   00000\n",
            "\n",
            "Generation   9:\n",
            "   00000\n",
            "   00000\n",
            "   00000\n",
            "   00000\n",
            "\n",
            "Generation  10:\n",
            "   00000\n",
            "   00000\n",
            "   00000\n",
            "   00000\n",
            "\n",
            "Generation  11:\n",
            "   00000\n",
            "   00000\n",
            "   00000\n",
            "   00000\n",
            "\n",
            "Generation  12:\n",
            "   00000\n",
            "   00000\n",
            "   00000\n",
            "   00000\n",
            "\n",
            "Generation  13:\n",
            "   00000\n",
            "   00000\n",
            "   00000\n",
            "   00000\n",
            "\n",
            "Generation  14:\n",
            "   00000\n",
            "   00000\n",
            "   00000\n",
            "   00000\n",
            "\n",
            "Generation  15:\n",
            "   00000\n",
            "   00000\n",
            "   00000\n",
            "   00000\n",
            "\n",
            "Generation  16:\n",
            "   00000\n",
            "   00000\n",
            "   00000\n",
            "   00000\n",
            "\n",
            "Generation  17:\n",
            "   00000\n",
            "   00000\n",
            "   00000\n",
            "   00000\n",
            "\n",
            "Generation  18:\n",
            "   00000\n",
            "   00000\n",
            "   00000\n",
            "   00000\n",
            "\n",
            "Generation  19:\n",
            "   00000\n",
            "   00000\n",
            "   00000\n",
            "   00000\n"
          ],
          "name": "stdout"
        }
      ]
    },
    {
      "cell_type": "code",
      "metadata": {
        "id": "y6H6q0cAaVzl",
        "colab_type": "code",
        "colab": {}
      },
      "source": [
        "c={}\n",
        "l=[0, 0, 1, 0, 1,0,1, 0, 0, 1,0, 1, 0, 0, 1,0, 0, 1, 0, 1]\n",
        "x=0\n",
        "for i in range(4):\n",
        "  for j in range(5):\n",
        "    c[(i,j)]=l[0]\n",
        "    x+=1\n",
        "c=defaultdict(int,c)"
      ],
      "execution_count": 0,
      "outputs": []
    },
    {
      "cell_type": "code",
      "metadata": {
        "id": "lPqIYjSkbPJo",
        "colab_type": "code",
        "outputId": "e8e2a138-f68f-44b2-e15d-df0eecffb783",
        "colab": {
          "base_uri": "https://localhost:8080/",
          "height": 54
        }
      },
      "source": [
        "print(c)"
      ],
      "execution_count": 0,
      "outputs": [
        {
          "output_type": "stream",
          "text": [
            "defaultdict(<class 'int'>, {(0, 0): 0, (0, 1): 0, (0, 2): 0, (0, 3): 0, (0, 4): 0, (1, 0): 0, (1, 1): 0, (1, 2): 0, (1, 3): 0, (1, 4): 0, (2, 0): 0, (2, 1): 0, (2, 2): 0, (2, 3): 0, (2, 4): 0, (3, 0): 0, (3, 1): 0, (3, 2): 0, (3, 3): 0, (3, 4): 0})\n"
          ],
          "name": "stdout"
        }
      ]
    },
    {
      "cell_type": "code",
      "metadata": {
        "id": "EIGNnWMUbSKi",
        "colab_type": "code",
        "colab": {}
      },
      "source": [
        ""
      ],
      "execution_count": 0,
      "outputs": []
    }
  ]
}