{
  "nbformat": 4,
  "nbformat_minor": 0,
  "metadata": {
    "kernelspec": {
      "display_name": "Python 3",
      "language": "python",
      "name": "python3"
    },
    "language_info": {
      "codemirror_mode": {
        "name": "ipython",
        "version": 3
      },
      "file_extension": ".py",
      "mimetype": "text/x-python",
      "name": "python",
      "nbconvert_exporter": "python",
      "pygments_lexer": "ipython3",
      "version": "3.7.4"
    },
    "colab": {
      "name": "Symbolic.ipynb",
      "provenance": [],
      "include_colab_link": true
    }
  },
  "cells": [
    {
      "cell_type": "markdown",
      "metadata": {
        "id": "view-in-github",
        "colab_type": "text"
      },
      "source": [
        "<a href=\"https://colab.research.google.com/github/ReanSchwarzer1/Notebooks/blob/master/Symbolic.ipynb\" target=\"_parent\"><img src=\"https://colab.research.google.com/assets/colab-badge.svg\" alt=\"Open In Colab\"/></a>"
      ]
    },
    {
      "cell_type": "markdown",
      "metadata": {
        "id": "wwOXGcD34H_s",
        "colab_type": "text"
      },
      "source": [
        "# Symbolic Paradigm:"
      ]
    },
    {
      "cell_type": "markdown",
      "metadata": {
        "id": "nUGb8hEs4H_t",
        "colab_type": "text"
      },
      "source": [
        "# (1) Calculate √2  with 100 decimals."
      ]
    },
    {
      "cell_type": "code",
      "metadata": {
        "id": "y-jx5II74H_u",
        "colab_type": "code",
        "colab": {},
        "outputId": "7c72edd6-46cf-4af0-8fff-4c570f00b76f"
      },
      "source": [
        "from sympy import *\n",
        "print(N(sqrt(2), 100))"
      ],
      "execution_count": 0,
      "outputs": [
        {
          "output_type": "stream",
          "text": [
            "1.414213562373095048801688724209698078569671875376948073176679737990732478462107038850387534327641573\n"
          ],
          "name": "stdout"
        }
      ]
    },
    {
      "cell_type": "markdown",
      "metadata": {
        "id": "bTLRVYew4H_z",
        "colab_type": "text"
      },
      "source": [
        "# (2) Calculate 1/2 + 1/3 in rational arithmetic."
      ]
    },
    {
      "cell_type": "code",
      "metadata": {
        "id": "375hYe2M4H_z",
        "colab_type": "code",
        "colab": {},
        "outputId": "3172766b-4d4e-4894-b069-deb920cf6526"
      },
      "source": [
        "r1 = Rational(1/2)\n",
        "r2 = Rational(1/3)\n",
        "val = (r1 + r2)\n",
        "print(val.evalf())\n"
      ],
      "execution_count": 0,
      "outputs": [
        {
          "output_type": "stream",
          "text": [
            "0.833333333333333\n"
          ],
          "name": "stdout"
        }
      ]
    },
    {
      "cell_type": "markdown",
      "metadata": {
        "id": "8BSx4bWd4H_2",
        "colab_type": "text"
      },
      "source": [
        "\n",
        "# (3) Calculate the expanded form of (x+y)^6."
      ]
    },
    {
      "cell_type": "code",
      "metadata": {
        "id": "AmsxPfkk4H_3",
        "colab_type": "code",
        "colab": {},
        "outputId": "2a7b9eb3-956d-4b8a-bea9-df1d962c2943"
      },
      "source": [
        "from sympy import *\n",
        "x, y= symbols('x y')\n",
        "print(expand((x+y)**6))"
      ],
      "execution_count": 0,
      "outputs": [
        {
          "output_type": "stream",
          "text": [
            "x**6 + 6*x**5*y + 15*x**4*y**2 + 20*x**3*y**3 + 15*x**2*y**4 + 6*x*y**5 + y**6\n"
          ],
          "name": "stdout"
        }
      ]
    },
    {
      "cell_type": "markdown",
      "metadata": {
        "id": "sJJRyjJL4H_7",
        "colab_type": "text"
      },
      "source": [
        "# (4) Simplify the trigonometric expression sin (x)/cos (x)\n"
      ]
    },
    {
      "cell_type": "code",
      "metadata": {
        "id": "cSCkpYo34H_7",
        "colab_type": "code",
        "colab": {},
        "outputId": "67bff3a0-7373-4e9e-a424-8ebfd9723407"
      },
      "source": [
        "from sympy import *\n",
        "x=symbols('x')\n",
        "print(simplify(sin(x)/cos(x)))"
      ],
      "execution_count": 0,
      "outputs": [
        {
          "output_type": "stream",
          "text": [
            "tan(x)\n"
          ],
          "name": "stdout"
        }
      ]
    },
    {
      "cell_type": "markdown",
      "metadata": {
        "id": "zQdRtw1w4H_-",
        "colab_type": "text"
      },
      "source": [
        "# 5 Calculate lim (x→0(sin(x)−x)/x^3)"
      ]
    },
    {
      "cell_type": "code",
      "metadata": {
        "id": "qly-AFO-4H__",
        "colab_type": "code",
        "colab": {},
        "outputId": "fd5c349c-4ab8-4278-de1c-06919fb44d55"
      },
      "source": [
        "from sympy import *\n",
        "a=symbols('x')\n",
        "exp=(sin(a)-a)/a**3\n",
        "l=limit(exp,a,0)\n",
        "print(\"answer =\",l)"
      ],
      "execution_count": 0,
      "outputs": [
        {
          "output_type": "stream",
          "text": [
            "answer = -1/6\n"
          ],
          "name": "stdout"
        }
      ]
    },
    {
      "cell_type": "markdown",
      "metadata": {
        "id": "KpKkZb7w4IAB",
        "colab_type": "text"
      },
      "source": [
        "# 6  Calculate the derivative of log(x), 1/x, sin(x), cos(x) for x."
      ]
    },
    {
      "cell_type": "code",
      "metadata": {
        "id": "_vEbXduP4IAC",
        "colab_type": "code",
        "colab": {},
        "outputId": "35876f15-49d3-4680-a06c-ee2bb58673af"
      },
      "source": [
        "from sympy import *\n",
        "x=symbols('x')\n",
        "print(\"log(x) ->\",diff(log(x)))\n",
        "print(\"1/x    ->\",diff(1/x))\n",
        "print(\"sin(x) ->\",diff(sin(x)))\n",
        "print(\"cos(x) ->\",diff(cos(x)))"
      ],
      "execution_count": 0,
      "outputs": [
        {
          "output_type": "stream",
          "text": [
            "log(x) -> 1/x\n",
            "1/x    -> -1/x**2\n",
            "sin(x) -> cos(x)\n",
            "cos(x) -> -sin(x)\n"
          ],
          "name": "stdout"
        }
      ]
    },
    {
      "cell_type": "markdown",
      "metadata": {
        "id": "NfDxMwJ94IAF",
        "colab_type": "text"
      },
      "source": [
        "# 7 Solve the system of equations x+y=2, 2x+y=0"
      ]
    },
    {
      "cell_type": "code",
      "metadata": {
        "id": "swKHzSRF4IAG",
        "colab_type": "code",
        "colab": {},
        "outputId": "575d1c98-ba19-46b1-cec5-53cf6527c52d"
      },
      "source": [
        "from sympy import *\n",
        "x, y = symbols('x y')\n",
        "a=Eq(x+y-2)\n",
        "b=Eq(2*x+y)\n",
        "print(solve((a,b), (x, y)))\n",
        "print()"
      ],
      "execution_count": 0,
      "outputs": [
        {
          "output_type": "stream",
          "text": [
            "{x: -2, y: 4}\n",
            "\n"
          ],
          "name": "stdout"
        }
      ]
    },
    {
      "cell_type": "markdown",
      "metadata": {
        "id": "jSCuIGEp4IAI",
        "colab_type": "text"
      },
      "source": [
        "# 8 Integrate x^2,sin(x), cos(x) interms of x and y\n"
      ]
    },
    {
      "cell_type": "code",
      "metadata": {
        "id": "h4Y8_uON4IAJ",
        "colab_type": "code",
        "colab": {},
        "outputId": "b9297267-c3bb-43c1-fa15-9a8393f79afe"
      },
      "source": [
        "from sympy import *\n",
        "x,y=symbols('x y')\n",
        "power=x**2\n",
        "sin=sin(x)\n",
        "cos=cos(x)\n",
        "print(\"Interms of X\")\n",
        "print(\"x^2    -> \",integrate(power,x))\n",
        "print(\"sin(x) -> \",integrate(sin,x))\n",
        "print(\"cos(x) -> \",integrate(cos,x))\n",
        "print(\"Interms of Y\")\n",
        "print(\"x^2    -> \",integrate(power,y))\n",
        "print(\"sin(x) -> \",integrate(sin,y))\n",
        "print(\"cos(x) -> \",integrate(cos,y))"
      ],
      "execution_count": 0,
      "outputs": [
        {
          "output_type": "stream",
          "text": [
            "Interms of X\n",
            "x^2    ->  x**3/3\n",
            "sin(x) ->  -cos(x)\n",
            "cos(x) ->  sin(x)\n",
            "Interms of Y\n",
            "x^2    ->  x**2*y\n",
            "sin(x) ->  y*sin(x)\n",
            "cos(x) ->  y*cos(x)\n"
          ],
          "name": "stdout"
        }
      ]
    },
    {
      "cell_type": "markdown",
      "metadata": {
        "id": "ErrNXt714IAL",
        "colab_type": "text"
      },
      "source": [
        "# 9 Solve f\"(x) + 9 f(x) = 1 let f(x)=x**2"
      ]
    },
    {
      "cell_type": "code",
      "metadata": {
        "id": "uc0_2Dh74IAM",
        "colab_type": "code",
        "colab": {},
        "outputId": "0c1218a7-7655-4888-da91-dcc91ad4e0e0"
      },
      "source": [
        "from sympy import *\n",
        "x=symbols('x')\n",
        "d=diff(diff(x**2,x))\n",
        "e=Eq(d+9*(x**2),1)\n",
        "ans=solve(e,x)\n",
        "print(ans)"
      ],
      "execution_count": 0,
      "outputs": [
        {
          "output_type": "stream",
          "text": [
            "[-I/3, I/3]\n"
          ],
          "name": "stdout"
        }
      ]
    },
    {
      "cell_type": "markdown",
      "metadata": {
        "id": "P8j-2q3L4IAP",
        "colab_type": "text"
      },
      "source": [
        "# 10. Using matrices solve the linear equations 3x+7y=12 4x-2y=5"
      ]
    },
    {
      "cell_type": "code",
      "metadata": {
        "id": "qWIEulYT4IAP",
        "colab_type": "code",
        "colab": {},
        "outputId": "fa4c74af-b52d-40fb-b3db-f529681dab94"
      },
      "source": [
        "from sympy import *\n",
        "x,y=symbols('x y')\n",
        "a=Matrix([[3,7],[4,-2]])\n",
        "b=Matrix([[12],[5]])\n",
        "c=(a**-1)*b\n",
        "x=c.row(0).col(0)\n",
        "y=c.row(1).col(0)\n",
        "print('x =',x)\n",
        "print('\\ny =',y)"
      ],
      "execution_count": 0,
      "outputs": [
        {
          "output_type": "stream",
          "text": [
            "x = Matrix([[59/34]])\n",
            "\n",
            "y = Matrix([[33/34]])\n"
          ],
          "name": "stdout"
        }
      ]
    },
    {
      "cell_type": "code",
      "metadata": {
        "id": "EEGDCDn14IAT",
        "colab_type": "code",
        "colab": {}
      },
      "source": [
        ""
      ],
      "execution_count": 0,
      "outputs": []
    }
  ]
}