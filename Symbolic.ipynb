{
  "nbformat": 4,
  "nbformat_minor": 0,
  "metadata": {
    "kernelspec": {
      "display_name": "Python 3",
      "language": "python",
      "name": "python3"
    },
    "language_info": {
      "codemirror_mode": {
        "name": "ipython",
        "version": 3
      },
      "file_extension": ".py",
      "mimetype": "text/x-python",
      "name": "python",
      "nbconvert_exporter": "python",
      "pygments_lexer": "ipython3",
      "version": "3.7.4"
    },
    "colab": {
      "name": "Symbolic.ipynb",
      "provenance": [],
      "include_colab_link": true
    }
  },
  "cells": [
    {
      "cell_type": "markdown",
      "metadata": {
        "id": "view-in-github",
        "colab_type": "text"
      },
      "source": [
        "<a href=\"https://colab.research.google.com/github/ReanSchwarzer1/Notebooks/blob/master/Symbolic.ipynb\" target=\"_parent\"><img src=\"https://colab.research.google.com/assets/colab-badge.svg\" alt=\"Open In Colab\"/></a>"
      ]
    },
    {
      "cell_type": "markdown",
      "metadata": {
        "id": "tDT0ejt441MK",
        "colab_type": "text"
      },
      "source": [
        "# Symbolic Paradigm:"
      ]
    },
    {
      "cell_type": "markdown",
      "metadata": {
        "id": "i3DeCQ7v41ML",
        "colab_type": "text"
      },
      "source": [
        "# (1) Calculate √2  with 100 decimals."
      ]
    },
    {
      "cell_type": "code",
      "metadata": {
        "id": "s3cmiRSp41MM",
        "colab_type": "code",
        "colab": {},
        "outputId": "d12f83a6-e419-4a54-ccc4-e3967fa68ac4"
      },
      "source": [
        "from sympy import *\n",
        "print(N(sqrt(2), 100))"
      ],
      "execution_count": 0,
      "outputs": [
        {
          "output_type": "stream",
          "text": [
            "1.414213562373095048801688724209698078569671875376948073176679737990732478462107038850387534327641573\n"
          ],
          "name": "stdout"
        }
      ]
    },
    {
      "cell_type": "markdown",
      "metadata": {
        "id": "dOZS5jgL41MT",
        "colab_type": "text"
      },
      "source": [
        "# (2) Calculate 1/2 + 1/3 in rational arithmetic."
      ]
    },
    {
      "cell_type": "code",
      "metadata": {
        "id": "HTxhhhsP41MU",
        "colab_type": "code",
        "colab": {},
        "outputId": "c64d4b3d-1032-4f79-a6b2-c9958abfff01"
      },
      "source": [
        "r1 = Rational(1/2)\n",
        "r2 = Rational(1/3)\n",
        "val = (r1 + r2)\n",
        "print(val.evalf())\n"
      ],
      "execution_count": 0,
      "outputs": [
        {
          "output_type": "stream",
          "text": [
            "0.833333333333333\n"
          ],
          "name": "stdout"
        }
      ]
    },
    {
      "cell_type": "markdown",
      "metadata": {
        "id": "3BWs0qgb41MX",
        "colab_type": "text"
      },
      "source": [
        "\n",
        "# (3) Calculate the expanded form of (x+y)^6."
      ]
    },
    {
      "cell_type": "code",
      "metadata": {
        "id": "50-UevHg41MX",
        "colab_type": "code",
        "colab": {},
        "outputId": "c84113ab-4c3c-4999-f0ab-476f9850e6e6"
      },
      "source": [
        "from sympy import *\n",
        "x, y= symbols('x y')\n",
        "print(expand((x+y)**6))"
      ],
      "execution_count": 0,
      "outputs": [
        {
          "output_type": "stream",
          "text": [
            "x**6 + 6*x**5*y + 15*x**4*y**2 + 20*x**3*y**3 + 15*x**2*y**4 + 6*x*y**5 + y**6\n"
          ],
          "name": "stdout"
        }
      ]
    },
    {
      "cell_type": "markdown",
      "metadata": {
        "id": "XNhdQ7dX41Ma",
        "colab_type": "text"
      },
      "source": [
        "# (4) Simplify the trigonometric expression sin (x)/cos (x)\n"
      ]
    },
    {
      "cell_type": "code",
      "metadata": {
        "id": "aZt_FqVX41Ma",
        "colab_type": "code",
        "colab": {},
        "outputId": "b420977d-2a13-44ac-9f16-3d6cc9bc141d"
      },
      "source": [
        "from sympy import *\n",
        "x=symbols('x')\n",
        "print(simplify(sin(x)/cos(x)))"
      ],
      "execution_count": 0,
      "outputs": [
        {
          "output_type": "stream",
          "text": [
            "tan(x)\n"
          ],
          "name": "stdout"
        }
      ]
    },
    {
      "cell_type": "markdown",
      "metadata": {
        "id": "k_9FW8ch41Md",
        "colab_type": "text"
      },
      "source": [
        "# 5 Calculate lim (x→0(sin(x)−x)/x^3)"
      ]
    },
    {
      "cell_type": "code",
      "metadata": {
        "id": "RNvukVM841Me",
        "colab_type": "code",
        "colab": {},
        "outputId": "be3e8800-133b-417d-c1ee-392edcac9c3a"
      },
      "source": [
        "from sympy import *\n",
        "a=symbols('x')\n",
        "exp=(sin(a)-a)/a**3\n",
        "l=limit(exp,a,0)\n",
        "print(\"answer =\",l)"
      ],
      "execution_count": 0,
      "outputs": [
        {
          "output_type": "stream",
          "text": [
            "answer = -1/6\n"
          ],
          "name": "stdout"
        }
      ]
    },
    {
      "cell_type": "markdown",
      "metadata": {
        "id": "fAgWNEJM41Mg",
        "colab_type": "text"
      },
      "source": [
        "# 6  Calculate the derivative of log(x), 1/x, sin(x), cos(x) for x."
      ]
    },
    {
      "cell_type": "code",
      "metadata": {
        "id": "3NjT17iP41Mh",
        "colab_type": "code",
        "colab": {},
        "outputId": "0fd7af02-cf64-466b-8c26-e2cf35928516"
      },
      "source": [
        "from sympy import *\n",
        "x=symbols('x')\n",
        "print(\"log(x) ->\",diff(log(x)))\n",
        "print(\"1/x    ->\",diff(1/x))\n",
        "print(\"sin(x) ->\",diff(sin(x)))\n",
        "print(\"cos(x) ->\",diff(cos(x)))"
      ],
      "execution_count": 0,
      "outputs": [
        {
          "output_type": "stream",
          "text": [
            "log(x) -> 1/x\n",
            "1/x    -> -1/x**2\n",
            "sin(x) -> cos(x)\n",
            "cos(x) -> -sin(x)\n"
          ],
          "name": "stdout"
        }
      ]
    },
    {
      "cell_type": "markdown",
      "metadata": {
        "id": "uJDeUF5_41Mk",
        "colab_type": "text"
      },
      "source": [
        "# 7 Solve the system of equations x+y=2, 2x+y=0"
      ]
    },
    {
      "cell_type": "code",
      "metadata": {
        "id": "gqk-fdOB41Ml",
        "colab_type": "code",
        "colab": {},
        "outputId": "ed47dc87-10ae-4d6f-ea22-15f3edb808b0"
      },
      "source": [
        "from sympy import *\n",
        "x, y = symbols('x y')\n",
        "a=Eq(x+y-2)\n",
        "b=Eq(2*x+y)\n",
        "print(solve((a,b), (x, y)))\n",
        "print()"
      ],
      "execution_count": 0,
      "outputs": [
        {
          "output_type": "stream",
          "text": [
            "{x: -2, y: 4}\n",
            "\n"
          ],
          "name": "stdout"
        }
      ]
    },
    {
      "cell_type": "markdown",
      "metadata": {
        "id": "KioriLz341Mn",
        "colab_type": "text"
      },
      "source": [
        "# 8 Integrate x^2,sin(x), cos(x) interms of x and y\n"
      ]
    },
    {
      "cell_type": "code",
      "metadata": {
        "id": "XgiaaosA41Mo",
        "colab_type": "code",
        "colab": {},
        "outputId": "535e676e-4f99-449d-b4c0-ef1570faefd3"
      },
      "source": [
        "from sympy import *\n",
        "x,y=symbols('x y')\n",
        "power=x**2\n",
        "sin=sin(x)\n",
        "cos=cos(x)\n",
        "print(\"Interms of X\")\n",
        "print(\"x^2    -> \",integrate(power,x))\n",
        "print(\"sin(x) -> \",integrate(sin,x))\n",
        "print(\"cos(x) -> \",integrate(cos,x))\n",
        "print(\"Interms of Y\")\n",
        "print(\"x^2    -> \",integrate(power,y))\n",
        "print(\"sin(x) -> \",integrate(sin,y))\n",
        "print(\"cos(x) -> \",integrate(cos,y))"
      ],
      "execution_count": 0,
      "outputs": [
        {
          "output_type": "stream",
          "text": [
            "Interms of X\n",
            "x^2    ->  x**3/3\n",
            "sin(x) ->  -cos(x)\n",
            "cos(x) ->  sin(x)\n",
            "Interms of Y\n",
            "x^2    ->  x**2*y\n",
            "sin(x) ->  y*sin(x)\n",
            "cos(x) ->  y*cos(x)\n"
          ],
          "name": "stdout"
        }
      ]
    },
    {
      "cell_type": "markdown",
      "metadata": {
        "id": "akN6lao341Mq",
        "colab_type": "text"
      },
      "source": [
        "# 9 Solve f\"(x) + 9 f(x) = 1 let f(x)=x**2"
      ]
    },
    {
      "cell_type": "code",
      "metadata": {
        "id": "RAvyunTd41Mr",
        "colab_type": "code",
        "colab": {},
        "outputId": "170ff49c-a610-4f53-cdd5-9ea6a8e0696d"
      },
      "source": [
        "from sympy import *\n",
        "x=symbols('x')\n",
        "d=diff(diff(x**2,x))\n",
        "e=Eq(d+9*(x**2),1)\n",
        "ans=solve(e,x)\n",
        "print(ans)"
      ],
      "execution_count": 0,
      "outputs": [
        {
          "output_type": "stream",
          "text": [
            "[-I/3, I/3]\n"
          ],
          "name": "stdout"
        }
      ]
    },
    {
      "cell_type": "markdown",
      "metadata": {
        "id": "kJvGGHLk41Mt",
        "colab_type": "text"
      },
      "source": [
        "# 10. Using matrices solve the linear equations 3x+7y=12 4x-2y=5"
      ]
    },
    {
      "cell_type": "code",
      "metadata": {
        "id": "joE9naGu41Mu",
        "colab_type": "code",
        "colab": {},
        "outputId": "eeee8be4-1324-4561-a120-136d60cddac0"
      },
      "source": [
        "from sympy import *\n",
        "x,y=symbols('x y')\n",
        "a=Matrix([[3,7],[4,-2]])\n",
        "b=Matrix([[12],[5]])\n",
        "c=(a**-1)*b\n",
        "x=c.row(0).col(0)\n",
        "y=c.row(1).col(0)\n",
        "print('x =',x)\n",
        "print('\\ny =',y)"
      ],
      "execution_count": 0,
      "outputs": [
        {
          "output_type": "stream",
          "text": [
            "x = Matrix([[59/34]])\n",
            "\n",
            "y = Matrix([[33/34]])\n"
          ],
          "name": "stdout"
        }
      ]
    },
    {
      "cell_type": "code",
      "metadata": {
        "id": "nVJLnORe41Mx",
        "colab_type": "code",
        "colab": {}
      },
      "source": [
        ""
      ],
      "execution_count": 0,
      "outputs": []
    }
  ]
}