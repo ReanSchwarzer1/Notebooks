{
  "nbformat": 4,
  "nbformat_minor": 0,
  "metadata": {
    "anaconda-cloud": {},
    "kernelspec": {
      "display_name": "Python 3",
      "language": "python",
      "name": "python3"
    },
    "language_info": {
      "codemirror_mode": {
        "name": "ipython",
        "version": 3
      },
      "file_extension": ".py",
      "mimetype": "text/x-python",
      "name": "python",
      "nbconvert_exporter": "python",
      "pygments_lexer": "ipython3",
      "version": "3.7.6"
    },
    "colab": {
      "name": "Pandas Basics and Intermediate.ipynb",
      "provenance": [],
      "include_colab_link": true
    }
  },
  "cells": [
    {
      "cell_type": "markdown",
      "metadata": {
        "id": "view-in-github",
        "colab_type": "text"
      },
      "source": [
        "<a href=\"https://colab.research.google.com/github/ReanSchwarzer1/Notebooks/blob/master/Pandas_Basics_and_Intermediate.ipynb\" target=\"_parent\"><img src=\"https://colab.research.google.com/assets/colab-badge.svg\" alt=\"Open In Colab\"/></a>"
      ]
    },
    {
      "cell_type": "markdown",
      "metadata": {
        "id": "zwWDdDj2maqg",
        "colab_type": "text"
      },
      "source": [
        "# World Food Facts\n"
      ]
    },
    {
      "cell_type": "markdown",
      "metadata": {
        "id": "lhLmOqz2maqh",
        "colab_type": "text"
      },
      "source": [
        "# Ex3 - Getting and Knowing your Data\n",
        "\n",
        "Check out [Occupation Exercises Video Tutorial](https://www.youtube.com/watch?v=W8AB5s-L3Rw&list=PLgJhDSE2ZLxaY_DigHeiIDC1cD09rXgJv&index=4) to watch a data scientist go through the exercises"
      ]
    },
    {
      "cell_type": "markdown",
      "metadata": {
        "id": "tbF3_Q6Vmaqi",
        "colab_type": "text"
      },
      "source": [
        "This time we are going to pull data directly from the internet.\n",
        "Special thanks to: https://github.com/justmarkham for sharing the dataset and materials.\n",
        "\n",
        "### Step 1. Import the necessary libraries"
      ]
    },
    {
      "cell_type": "code",
      "metadata": {
        "id": "KbwGYnyCmaqi",
        "colab_type": "code",
        "colab": {}
      },
      "source": [
        "import pandas as pd"
      ],
      "execution_count": 0,
      "outputs": []
    },
    {
      "cell_type": "markdown",
      "metadata": {
        "id": "-jWMhwk2maqm",
        "colab_type": "text"
      },
      "source": [
        "### Step 2. Import the dataset from this [address](https://raw.githubusercontent.com/justmarkham/DAT8/master/data/u.user). "
      ]
    },
    {
      "cell_type": "markdown",
      "metadata": {
        "id": "WC3qWYB6maqn",
        "colab_type": "text"
      },
      "source": [
        "### Step 3. Assign it to a variable called users and use the 'user_id' as index"
      ]
    },
    {
      "cell_type": "code",
      "metadata": {
        "id": "Vmk-ChLmmaqn",
        "colab_type": "code",
        "colab": {}
      },
      "source": [
        "users = pd.read_csv('https://raw.githubusercontent.com/justmarkham/DAT8/master/data/u.user', \n",
        "                      sep='|', index_col='user_id')"
      ],
      "execution_count": 0,
      "outputs": []
    },
    {
      "cell_type": "markdown",
      "metadata": {
        "id": "Yp2Aeq0Emaqq",
        "colab_type": "text"
      },
      "source": [
        "### Step 4. See the first 25 entries"
      ]
    },
    {
      "cell_type": "code",
      "metadata": {
        "scrolled": true,
        "id": "wQHNNx7fmaqr",
        "colab_type": "code",
        "colab": {},
        "outputId": "1e599cfd-4615-4309-dd60-0a2bab5dc15a"
      },
      "source": [
        "users.head(25)"
      ],
      "execution_count": 0,
      "outputs": [
        {
          "output_type": "execute_result",
          "data": {
            "text/html": [
              "<div>\n",
              "<style scoped>\n",
              "    .dataframe tbody tr th:only-of-type {\n",
              "        vertical-align: middle;\n",
              "    }\n",
              "\n",
              "    .dataframe tbody tr th {\n",
              "        vertical-align: top;\n",
              "    }\n",
              "\n",
              "    .dataframe thead th {\n",
              "        text-align: right;\n",
              "    }\n",
              "</style>\n",
              "<table border=\"1\" class=\"dataframe\">\n",
              "  <thead>\n",
              "    <tr style=\"text-align: right;\">\n",
              "      <th></th>\n",
              "      <th>age</th>\n",
              "      <th>gender</th>\n",
              "      <th>occupation</th>\n",
              "      <th>zip_code</th>\n",
              "    </tr>\n",
              "    <tr>\n",
              "      <th>user_id</th>\n",
              "      <th></th>\n",
              "      <th></th>\n",
              "      <th></th>\n",
              "      <th></th>\n",
              "    </tr>\n",
              "  </thead>\n",
              "  <tbody>\n",
              "    <tr>\n",
              "      <th>1</th>\n",
              "      <td>24</td>\n",
              "      <td>M</td>\n",
              "      <td>technician</td>\n",
              "      <td>85711</td>\n",
              "    </tr>\n",
              "    <tr>\n",
              "      <th>2</th>\n",
              "      <td>53</td>\n",
              "      <td>F</td>\n",
              "      <td>other</td>\n",
              "      <td>94043</td>\n",
              "    </tr>\n",
              "    <tr>\n",
              "      <th>3</th>\n",
              "      <td>23</td>\n",
              "      <td>M</td>\n",
              "      <td>writer</td>\n",
              "      <td>32067</td>\n",
              "    </tr>\n",
              "    <tr>\n",
              "      <th>4</th>\n",
              "      <td>24</td>\n",
              "      <td>M</td>\n",
              "      <td>technician</td>\n",
              "      <td>43537</td>\n",
              "    </tr>\n",
              "    <tr>\n",
              "      <th>5</th>\n",
              "      <td>33</td>\n",
              "      <td>F</td>\n",
              "      <td>other</td>\n",
              "      <td>15213</td>\n",
              "    </tr>\n",
              "    <tr>\n",
              "      <th>6</th>\n",
              "      <td>42</td>\n",
              "      <td>M</td>\n",
              "      <td>executive</td>\n",
              "      <td>98101</td>\n",
              "    </tr>\n",
              "    <tr>\n",
              "      <th>7</th>\n",
              "      <td>57</td>\n",
              "      <td>M</td>\n",
              "      <td>administrator</td>\n",
              "      <td>91344</td>\n",
              "    </tr>\n",
              "    <tr>\n",
              "      <th>8</th>\n",
              "      <td>36</td>\n",
              "      <td>M</td>\n",
              "      <td>administrator</td>\n",
              "      <td>05201</td>\n",
              "    </tr>\n",
              "    <tr>\n",
              "      <th>9</th>\n",
              "      <td>29</td>\n",
              "      <td>M</td>\n",
              "      <td>student</td>\n",
              "      <td>01002</td>\n",
              "    </tr>\n",
              "    <tr>\n",
              "      <th>10</th>\n",
              "      <td>53</td>\n",
              "      <td>M</td>\n",
              "      <td>lawyer</td>\n",
              "      <td>90703</td>\n",
              "    </tr>\n",
              "    <tr>\n",
              "      <th>11</th>\n",
              "      <td>39</td>\n",
              "      <td>F</td>\n",
              "      <td>other</td>\n",
              "      <td>30329</td>\n",
              "    </tr>\n",
              "    <tr>\n",
              "      <th>12</th>\n",
              "      <td>28</td>\n",
              "      <td>F</td>\n",
              "      <td>other</td>\n",
              "      <td>06405</td>\n",
              "    </tr>\n",
              "    <tr>\n",
              "      <th>13</th>\n",
              "      <td>47</td>\n",
              "      <td>M</td>\n",
              "      <td>educator</td>\n",
              "      <td>29206</td>\n",
              "    </tr>\n",
              "    <tr>\n",
              "      <th>14</th>\n",
              "      <td>45</td>\n",
              "      <td>M</td>\n",
              "      <td>scientist</td>\n",
              "      <td>55106</td>\n",
              "    </tr>\n",
              "    <tr>\n",
              "      <th>15</th>\n",
              "      <td>49</td>\n",
              "      <td>F</td>\n",
              "      <td>educator</td>\n",
              "      <td>97301</td>\n",
              "    </tr>\n",
              "    <tr>\n",
              "      <th>16</th>\n",
              "      <td>21</td>\n",
              "      <td>M</td>\n",
              "      <td>entertainment</td>\n",
              "      <td>10309</td>\n",
              "    </tr>\n",
              "    <tr>\n",
              "      <th>17</th>\n",
              "      <td>30</td>\n",
              "      <td>M</td>\n",
              "      <td>programmer</td>\n",
              "      <td>06355</td>\n",
              "    </tr>\n",
              "    <tr>\n",
              "      <th>18</th>\n",
              "      <td>35</td>\n",
              "      <td>F</td>\n",
              "      <td>other</td>\n",
              "      <td>37212</td>\n",
              "    </tr>\n",
              "    <tr>\n",
              "      <th>19</th>\n",
              "      <td>40</td>\n",
              "      <td>M</td>\n",
              "      <td>librarian</td>\n",
              "      <td>02138</td>\n",
              "    </tr>\n",
              "    <tr>\n",
              "      <th>20</th>\n",
              "      <td>42</td>\n",
              "      <td>F</td>\n",
              "      <td>homemaker</td>\n",
              "      <td>95660</td>\n",
              "    </tr>\n",
              "    <tr>\n",
              "      <th>21</th>\n",
              "      <td>26</td>\n",
              "      <td>M</td>\n",
              "      <td>writer</td>\n",
              "      <td>30068</td>\n",
              "    </tr>\n",
              "    <tr>\n",
              "      <th>22</th>\n",
              "      <td>25</td>\n",
              "      <td>M</td>\n",
              "      <td>writer</td>\n",
              "      <td>40206</td>\n",
              "    </tr>\n",
              "    <tr>\n",
              "      <th>23</th>\n",
              "      <td>30</td>\n",
              "      <td>F</td>\n",
              "      <td>artist</td>\n",
              "      <td>48197</td>\n",
              "    </tr>\n",
              "    <tr>\n",
              "      <th>24</th>\n",
              "      <td>21</td>\n",
              "      <td>F</td>\n",
              "      <td>artist</td>\n",
              "      <td>94533</td>\n",
              "    </tr>\n",
              "    <tr>\n",
              "      <th>25</th>\n",
              "      <td>39</td>\n",
              "      <td>M</td>\n",
              "      <td>engineer</td>\n",
              "      <td>55107</td>\n",
              "    </tr>\n",
              "  </tbody>\n",
              "</table>\n",
              "</div>"
            ],
            "text/plain": [
              "         age gender     occupation zip_code\n",
              "user_id                                    \n",
              "1         24      M     technician    85711\n",
              "2         53      F          other    94043\n",
              "3         23      M         writer    32067\n",
              "4         24      M     technician    43537\n",
              "5         33      F          other    15213\n",
              "6         42      M      executive    98101\n",
              "7         57      M  administrator    91344\n",
              "8         36      M  administrator    05201\n",
              "9         29      M        student    01002\n",
              "10        53      M         lawyer    90703\n",
              "11        39      F          other    30329\n",
              "12        28      F          other    06405\n",
              "13        47      M       educator    29206\n",
              "14        45      M      scientist    55106\n",
              "15        49      F       educator    97301\n",
              "16        21      M  entertainment    10309\n",
              "17        30      M     programmer    06355\n",
              "18        35      F          other    37212\n",
              "19        40      M      librarian    02138\n",
              "20        42      F      homemaker    95660\n",
              "21        26      M         writer    30068\n",
              "22        25      M         writer    40206\n",
              "23        30      F         artist    48197\n",
              "24        21      F         artist    94533\n",
              "25        39      M       engineer    55107"
            ]
          },
          "metadata": {
            "tags": []
          },
          "execution_count": 41
        }
      ]
    },
    {
      "cell_type": "markdown",
      "metadata": {
        "id": "3RhuZFsLmaqw",
        "colab_type": "text"
      },
      "source": [
        "### Step 5. See the last 10 entries"
      ]
    },
    {
      "cell_type": "code",
      "metadata": {
        "scrolled": true,
        "id": "djjJB7glmaqx",
        "colab_type": "code",
        "colab": {},
        "outputId": "c6945838-6cb0-452f-a5d6-821137a78313"
      },
      "source": [
        "users.tail(10)"
      ],
      "execution_count": 0,
      "outputs": [
        {
          "output_type": "execute_result",
          "data": {
            "text/html": [
              "<div>\n",
              "<style scoped>\n",
              "    .dataframe tbody tr th:only-of-type {\n",
              "        vertical-align: middle;\n",
              "    }\n",
              "\n",
              "    .dataframe tbody tr th {\n",
              "        vertical-align: top;\n",
              "    }\n",
              "\n",
              "    .dataframe thead th {\n",
              "        text-align: right;\n",
              "    }\n",
              "</style>\n",
              "<table border=\"1\" class=\"dataframe\">\n",
              "  <thead>\n",
              "    <tr style=\"text-align: right;\">\n",
              "      <th></th>\n",
              "      <th>age</th>\n",
              "      <th>gender</th>\n",
              "      <th>occupation</th>\n",
              "      <th>zip_code</th>\n",
              "    </tr>\n",
              "    <tr>\n",
              "      <th>user_id</th>\n",
              "      <th></th>\n",
              "      <th></th>\n",
              "      <th></th>\n",
              "      <th></th>\n",
              "    </tr>\n",
              "  </thead>\n",
              "  <tbody>\n",
              "    <tr>\n",
              "      <th>934</th>\n",
              "      <td>61</td>\n",
              "      <td>M</td>\n",
              "      <td>engineer</td>\n",
              "      <td>22902</td>\n",
              "    </tr>\n",
              "    <tr>\n",
              "      <th>935</th>\n",
              "      <td>42</td>\n",
              "      <td>M</td>\n",
              "      <td>doctor</td>\n",
              "      <td>66221</td>\n",
              "    </tr>\n",
              "    <tr>\n",
              "      <th>936</th>\n",
              "      <td>24</td>\n",
              "      <td>M</td>\n",
              "      <td>other</td>\n",
              "      <td>32789</td>\n",
              "    </tr>\n",
              "    <tr>\n",
              "      <th>937</th>\n",
              "      <td>48</td>\n",
              "      <td>M</td>\n",
              "      <td>educator</td>\n",
              "      <td>98072</td>\n",
              "    </tr>\n",
              "    <tr>\n",
              "      <th>938</th>\n",
              "      <td>38</td>\n",
              "      <td>F</td>\n",
              "      <td>technician</td>\n",
              "      <td>55038</td>\n",
              "    </tr>\n",
              "    <tr>\n",
              "      <th>939</th>\n",
              "      <td>26</td>\n",
              "      <td>F</td>\n",
              "      <td>student</td>\n",
              "      <td>33319</td>\n",
              "    </tr>\n",
              "    <tr>\n",
              "      <th>940</th>\n",
              "      <td>32</td>\n",
              "      <td>M</td>\n",
              "      <td>administrator</td>\n",
              "      <td>02215</td>\n",
              "    </tr>\n",
              "    <tr>\n",
              "      <th>941</th>\n",
              "      <td>20</td>\n",
              "      <td>M</td>\n",
              "      <td>student</td>\n",
              "      <td>97229</td>\n",
              "    </tr>\n",
              "    <tr>\n",
              "      <th>942</th>\n",
              "      <td>48</td>\n",
              "      <td>F</td>\n",
              "      <td>librarian</td>\n",
              "      <td>78209</td>\n",
              "    </tr>\n",
              "    <tr>\n",
              "      <th>943</th>\n",
              "      <td>22</td>\n",
              "      <td>M</td>\n",
              "      <td>student</td>\n",
              "      <td>77841</td>\n",
              "    </tr>\n",
              "  </tbody>\n",
              "</table>\n",
              "</div>"
            ],
            "text/plain": [
              "         age gender     occupation zip_code\n",
              "user_id                                    \n",
              "934       61      M       engineer    22902\n",
              "935       42      M         doctor    66221\n",
              "936       24      M          other    32789\n",
              "937       48      M       educator    98072\n",
              "938       38      F     technician    55038\n",
              "939       26      F        student    33319\n",
              "940       32      M  administrator    02215\n",
              "941       20      M        student    97229\n",
              "942       48      F      librarian    78209\n",
              "943       22      M        student    77841"
            ]
          },
          "metadata": {
            "tags": []
          },
          "execution_count": 42
        }
      ]
    },
    {
      "cell_type": "markdown",
      "metadata": {
        "id": "z4eEhZ5Gmaq0",
        "colab_type": "text"
      },
      "source": [
        "### Step 6. What is the number of observations in the dataset?"
      ]
    },
    {
      "cell_type": "code",
      "metadata": {
        "id": "fXDYBXdJmaq0",
        "colab_type": "code",
        "colab": {},
        "outputId": "86f1c567-56af-42a6-90b4-641df3b82bc9"
      },
      "source": [
        "users.shape[0]"
      ],
      "execution_count": 0,
      "outputs": [
        {
          "output_type": "execute_result",
          "data": {
            "text/plain": [
              "943"
            ]
          },
          "metadata": {
            "tags": []
          },
          "execution_count": 43
        }
      ]
    },
    {
      "cell_type": "markdown",
      "metadata": {
        "id": "fvekKoFTmaq3",
        "colab_type": "text"
      },
      "source": [
        "### Step 7. What is the number of columns in the dataset?"
      ]
    },
    {
      "cell_type": "code",
      "metadata": {
        "id": "YHAwqQY_maq4",
        "colab_type": "code",
        "colab": {},
        "outputId": "fb6d84ee-4c61-4d0f-bdee-63fa93061242"
      },
      "source": [
        "users.shape[1]"
      ],
      "execution_count": 0,
      "outputs": [
        {
          "output_type": "execute_result",
          "data": {
            "text/plain": [
              "4"
            ]
          },
          "metadata": {
            "tags": []
          },
          "execution_count": 44
        }
      ]
    },
    {
      "cell_type": "markdown",
      "metadata": {
        "id": "HqC3tPRWmaq7",
        "colab_type": "text"
      },
      "source": [
        "### Step 8. Print the name of all the columns."
      ]
    },
    {
      "cell_type": "code",
      "metadata": {
        "id": "ke8J2F6qmaq7",
        "colab_type": "code",
        "colab": {},
        "outputId": "99dd1cc5-21b1-43fd-d357-ba3b3feee7b3"
      },
      "source": [
        "users.columns"
      ],
      "execution_count": 0,
      "outputs": [
        {
          "output_type": "execute_result",
          "data": {
            "text/plain": [
              "Index(['age', 'gender', 'occupation', 'zip_code'], dtype='object')"
            ]
          },
          "metadata": {
            "tags": []
          },
          "execution_count": 45
        }
      ]
    },
    {
      "cell_type": "markdown",
      "metadata": {
        "id": "2nezchxpmaq-",
        "colab_type": "text"
      },
      "source": [
        "### Step 9. How is the dataset indexed?"
      ]
    },
    {
      "cell_type": "code",
      "metadata": {
        "id": "_9UfU5dZmaq-",
        "colab_type": "code",
        "colab": {},
        "outputId": "94f8aa27-d3a7-44e9-9f0a-c1b481b5b5ba"
      },
      "source": [
        "# \"the index\" (aka \"the labels\")\n",
        "users.index"
      ],
      "execution_count": 0,
      "outputs": [
        {
          "output_type": "execute_result",
          "data": {
            "text/plain": [
              "Int64Index([  1,   2,   3,   4,   5,   6,   7,   8,   9,  10,\n",
              "            ...\n",
              "            934, 935, 936, 937, 938, 939, 940, 941, 942, 943],\n",
              "           dtype='int64', name='user_id', length=943)"
            ]
          },
          "metadata": {
            "tags": []
          },
          "execution_count": 46
        }
      ]
    },
    {
      "cell_type": "markdown",
      "metadata": {
        "id": "C6Cq2W-3marB",
        "colab_type": "text"
      },
      "source": [
        "### Step 10. What is the data type of each column?"
      ]
    },
    {
      "cell_type": "code",
      "metadata": {
        "id": "IwSoNz_KmarB",
        "colab_type": "code",
        "colab": {},
        "outputId": "06ae4804-3505-40b7-e0a7-6be298d377f9"
      },
      "source": [
        "users.dtypes"
      ],
      "execution_count": 0,
      "outputs": [
        {
          "output_type": "execute_result",
          "data": {
            "text/plain": [
              "age            int64\n",
              "gender        object\n",
              "occupation    object\n",
              "zip_code      object\n",
              "dtype: object"
            ]
          },
          "metadata": {
            "tags": []
          },
          "execution_count": 47
        }
      ]
    },
    {
      "cell_type": "markdown",
      "metadata": {
        "id": "N9_odo6emarG",
        "colab_type": "text"
      },
      "source": [
        "### Step 11. Print only the occupation column"
      ]
    },
    {
      "cell_type": "code",
      "metadata": {
        "id": "70QEmu4OmarG",
        "colab_type": "code",
        "colab": {},
        "outputId": "87094a9f-f31e-4581-f439-37570cd4c512"
      },
      "source": [
        "users.occupation\n",
        "\n",
        "#or\n",
        "\n",
        "users['occupation']"
      ],
      "execution_count": 0,
      "outputs": [
        {
          "output_type": "execute_result",
          "data": {
            "text/plain": [
              "user_id\n",
              "1         technician\n",
              "2              other\n",
              "3             writer\n",
              "4         technician\n",
              "5              other\n",
              "6          executive\n",
              "7      administrator\n",
              "8      administrator\n",
              "9            student\n",
              "10            lawyer\n",
              "11             other\n",
              "12             other\n",
              "13          educator\n",
              "14         scientist\n",
              "15          educator\n",
              "16     entertainment\n",
              "17        programmer\n",
              "18             other\n",
              "19         librarian\n",
              "20         homemaker\n",
              "21            writer\n",
              "22            writer\n",
              "23            artist\n",
              "24            artist\n",
              "25          engineer\n",
              "26          engineer\n",
              "27         librarian\n",
              "28            writer\n",
              "29        programmer\n",
              "30           student\n",
              "           ...      \n",
              "914            other\n",
              "915    entertainment\n",
              "916         engineer\n",
              "917          student\n",
              "918        scientist\n",
              "919            other\n",
              "920           artist\n",
              "921          student\n",
              "922    administrator\n",
              "923          student\n",
              "924            other\n",
              "925         salesman\n",
              "926    entertainment\n",
              "927       programmer\n",
              "928          student\n",
              "929        scientist\n",
              "930        scientist\n",
              "931         educator\n",
              "932         educator\n",
              "933          student\n",
              "934         engineer\n",
              "935           doctor\n",
              "936            other\n",
              "937         educator\n",
              "938       technician\n",
              "939          student\n",
              "940    administrator\n",
              "941          student\n",
              "942        librarian\n",
              "943          student\n",
              "Name: occupation, Length: 943, dtype: object"
            ]
          },
          "metadata": {
            "tags": []
          },
          "execution_count": 48
        }
      ]
    },
    {
      "cell_type": "markdown",
      "metadata": {
        "id": "n-B2cuXcmarJ",
        "colab_type": "text"
      },
      "source": [
        "### Step 12. How many different occupations are in this dataset?"
      ]
    },
    {
      "cell_type": "code",
      "metadata": {
        "id": "rbpMKdu_marJ",
        "colab_type": "code",
        "colab": {},
        "outputId": "8506808a-d318-42f8-a0a4-c74de6367586"
      },
      "source": [
        "users.occupation.nunique()\n",
        "#or by using value_counts() which returns the count of unique elements\n",
        "#users.occupation.value_counts().count()"
      ],
      "execution_count": 0,
      "outputs": [
        {
          "output_type": "execute_result",
          "data": {
            "text/plain": [
              "21"
            ]
          },
          "metadata": {
            "tags": []
          },
          "execution_count": 49
        }
      ]
    },
    {
      "cell_type": "markdown",
      "metadata": {
        "id": "yOtpRVnbmarM",
        "colab_type": "text"
      },
      "source": [
        "### Step 13. What is the most frequent occupation?"
      ]
    },
    {
      "cell_type": "code",
      "metadata": {
        "id": "3G9SQevCmarM",
        "colab_type": "code",
        "colab": {},
        "outputId": "67197364-9889-4a05-be31-cf69ea0e3669"
      },
      "source": [
        "#Because \"most\" is asked\n",
        "users.occupation.value_counts().head(1).index[0]\n",
        "\n",
        "#or\n",
        "#to have the top 5\n",
        "\n",
        "# users.occupation.value_counts().head()"
      ],
      "execution_count": 0,
      "outputs": [
        {
          "output_type": "execute_result",
          "data": {
            "text/plain": [
              "'student'"
            ]
          },
          "metadata": {
            "tags": []
          },
          "execution_count": 50
        }
      ]
    },
    {
      "cell_type": "markdown",
      "metadata": {
        "id": "X3oHVEbAmarP",
        "colab_type": "text"
      },
      "source": [
        "### Step 14. Summarize the DataFrame."
      ]
    },
    {
      "cell_type": "code",
      "metadata": {
        "id": "M0mZRjZjmarP",
        "colab_type": "code",
        "colab": {},
        "outputId": "a2c6ef0c-2c19-48c5-fff7-f16318e89e8a"
      },
      "source": [
        "users.describe() #Notice: by default, only the numeric columns are returned. "
      ],
      "execution_count": 0,
      "outputs": [
        {
          "output_type": "execute_result",
          "data": {
            "text/html": [
              "<div>\n",
              "<style scoped>\n",
              "    .dataframe tbody tr th:only-of-type {\n",
              "        vertical-align: middle;\n",
              "    }\n",
              "\n",
              "    .dataframe tbody tr th {\n",
              "        vertical-align: top;\n",
              "    }\n",
              "\n",
              "    .dataframe thead th {\n",
              "        text-align: right;\n",
              "    }\n",
              "</style>\n",
              "<table border=\"1\" class=\"dataframe\">\n",
              "  <thead>\n",
              "    <tr style=\"text-align: right;\">\n",
              "      <th></th>\n",
              "      <th>age</th>\n",
              "    </tr>\n",
              "  </thead>\n",
              "  <tbody>\n",
              "    <tr>\n",
              "      <th>count</th>\n",
              "      <td>943.000000</td>\n",
              "    </tr>\n",
              "    <tr>\n",
              "      <th>mean</th>\n",
              "      <td>34.051962</td>\n",
              "    </tr>\n",
              "    <tr>\n",
              "      <th>std</th>\n",
              "      <td>12.192740</td>\n",
              "    </tr>\n",
              "    <tr>\n",
              "      <th>min</th>\n",
              "      <td>7.000000</td>\n",
              "    </tr>\n",
              "    <tr>\n",
              "      <th>25%</th>\n",
              "      <td>25.000000</td>\n",
              "    </tr>\n",
              "    <tr>\n",
              "      <th>50%</th>\n",
              "      <td>31.000000</td>\n",
              "    </tr>\n",
              "    <tr>\n",
              "      <th>75%</th>\n",
              "      <td>43.000000</td>\n",
              "    </tr>\n",
              "    <tr>\n",
              "      <th>max</th>\n",
              "      <td>73.000000</td>\n",
              "    </tr>\n",
              "  </tbody>\n",
              "</table>\n",
              "</div>"
            ],
            "text/plain": [
              "              age\n",
              "count  943.000000\n",
              "mean    34.051962\n",
              "std     12.192740\n",
              "min      7.000000\n",
              "25%     25.000000\n",
              "50%     31.000000\n",
              "75%     43.000000\n",
              "max     73.000000"
            ]
          },
          "metadata": {
            "tags": []
          },
          "execution_count": 51
        }
      ]
    },
    {
      "cell_type": "markdown",
      "metadata": {
        "id": "UM6cuNqSmarS",
        "colab_type": "text"
      },
      "source": [
        "### Step 15. Summarize all the columns"
      ]
    },
    {
      "cell_type": "code",
      "metadata": {
        "scrolled": true,
        "id": "uIonhT2MmarV",
        "colab_type": "code",
        "colab": {},
        "outputId": "000e7dfe-f14c-4143-85db-b7c3e957673f"
      },
      "source": [
        "users.describe(include = \"all\") #Notice: By default, only the numeric columns are returned."
      ],
      "execution_count": 0,
      "outputs": [
        {
          "output_type": "execute_result",
          "data": {
            "text/html": [
              "<div>\n",
              "<style scoped>\n",
              "    .dataframe tbody tr th:only-of-type {\n",
              "        vertical-align: middle;\n",
              "    }\n",
              "\n",
              "    .dataframe tbody tr th {\n",
              "        vertical-align: top;\n",
              "    }\n",
              "\n",
              "    .dataframe thead th {\n",
              "        text-align: right;\n",
              "    }\n",
              "</style>\n",
              "<table border=\"1\" class=\"dataframe\">\n",
              "  <thead>\n",
              "    <tr style=\"text-align: right;\">\n",
              "      <th></th>\n",
              "      <th>age</th>\n",
              "      <th>gender</th>\n",
              "      <th>occupation</th>\n",
              "      <th>zip_code</th>\n",
              "    </tr>\n",
              "  </thead>\n",
              "  <tbody>\n",
              "    <tr>\n",
              "      <th>count</th>\n",
              "      <td>943.000000</td>\n",
              "      <td>943</td>\n",
              "      <td>943</td>\n",
              "      <td>943</td>\n",
              "    </tr>\n",
              "    <tr>\n",
              "      <th>unique</th>\n",
              "      <td>NaN</td>\n",
              "      <td>2</td>\n",
              "      <td>21</td>\n",
              "      <td>795</td>\n",
              "    </tr>\n",
              "    <tr>\n",
              "      <th>top</th>\n",
              "      <td>NaN</td>\n",
              "      <td>M</td>\n",
              "      <td>student</td>\n",
              "      <td>55414</td>\n",
              "    </tr>\n",
              "    <tr>\n",
              "      <th>freq</th>\n",
              "      <td>NaN</td>\n",
              "      <td>670</td>\n",
              "      <td>196</td>\n",
              "      <td>9</td>\n",
              "    </tr>\n",
              "    <tr>\n",
              "      <th>mean</th>\n",
              "      <td>34.051962</td>\n",
              "      <td>NaN</td>\n",
              "      <td>NaN</td>\n",
              "      <td>NaN</td>\n",
              "    </tr>\n",
              "    <tr>\n",
              "      <th>std</th>\n",
              "      <td>12.192740</td>\n",
              "      <td>NaN</td>\n",
              "      <td>NaN</td>\n",
              "      <td>NaN</td>\n",
              "    </tr>\n",
              "    <tr>\n",
              "      <th>min</th>\n",
              "      <td>7.000000</td>\n",
              "      <td>NaN</td>\n",
              "      <td>NaN</td>\n",
              "      <td>NaN</td>\n",
              "    </tr>\n",
              "    <tr>\n",
              "      <th>25%</th>\n",
              "      <td>25.000000</td>\n",
              "      <td>NaN</td>\n",
              "      <td>NaN</td>\n",
              "      <td>NaN</td>\n",
              "    </tr>\n",
              "    <tr>\n",
              "      <th>50%</th>\n",
              "      <td>31.000000</td>\n",
              "      <td>NaN</td>\n",
              "      <td>NaN</td>\n",
              "      <td>NaN</td>\n",
              "    </tr>\n",
              "    <tr>\n",
              "      <th>75%</th>\n",
              "      <td>43.000000</td>\n",
              "      <td>NaN</td>\n",
              "      <td>NaN</td>\n",
              "      <td>NaN</td>\n",
              "    </tr>\n",
              "    <tr>\n",
              "      <th>max</th>\n",
              "      <td>73.000000</td>\n",
              "      <td>NaN</td>\n",
              "      <td>NaN</td>\n",
              "      <td>NaN</td>\n",
              "    </tr>\n",
              "  </tbody>\n",
              "</table>\n",
              "</div>"
            ],
            "text/plain": [
              "               age gender occupation zip_code\n",
              "count   943.000000    943        943      943\n",
              "unique         NaN      2         21      795\n",
              "top            NaN      M    student    55414\n",
              "freq           NaN    670        196        9\n",
              "mean     34.051962    NaN        NaN      NaN\n",
              "std      12.192740    NaN        NaN      NaN\n",
              "min       7.000000    NaN        NaN      NaN\n",
              "25%      25.000000    NaN        NaN      NaN\n",
              "50%      31.000000    NaN        NaN      NaN\n",
              "75%      43.000000    NaN        NaN      NaN\n",
              "max      73.000000    NaN        NaN      NaN"
            ]
          },
          "metadata": {
            "tags": []
          },
          "execution_count": 52
        }
      ]
    },
    {
      "cell_type": "markdown",
      "metadata": {
        "id": "ZnKM52himarZ",
        "colab_type": "text"
      },
      "source": [
        "### Step 16. Summarize only the occupation column"
      ]
    },
    {
      "cell_type": "code",
      "metadata": {
        "id": "kkJsMfKWmarZ",
        "colab_type": "code",
        "colab": {},
        "outputId": "a49941db-a59e-4b15-e807-429417830054"
      },
      "source": [
        "users.occupation.describe()"
      ],
      "execution_count": 0,
      "outputs": [
        {
          "output_type": "execute_result",
          "data": {
            "text/plain": [
              "count         943\n",
              "unique         21\n",
              "top       student\n",
              "freq          196\n",
              "Name: occupation, dtype: object"
            ]
          },
          "metadata": {
            "tags": []
          },
          "execution_count": 53
        }
      ]
    },
    {
      "cell_type": "markdown",
      "metadata": {
        "id": "mm6ntra7marb",
        "colab_type": "text"
      },
      "source": [
        "### Step 17. What is the mean age of users?"
      ]
    },
    {
      "cell_type": "code",
      "metadata": {
        "id": "5fUSttSNmarc",
        "colab_type": "code",
        "colab": {},
        "outputId": "3e27eb9a-1463-4e06-cd4c-5abfe9fa95ae"
      },
      "source": [
        "round(users.age.mean())"
      ],
      "execution_count": 0,
      "outputs": [
        {
          "output_type": "execute_result",
          "data": {
            "text/plain": [
              "34"
            ]
          },
          "metadata": {
            "tags": []
          },
          "execution_count": 54
        }
      ]
    },
    {
      "cell_type": "markdown",
      "metadata": {
        "id": "p8lOrJ5Cmare",
        "colab_type": "text"
      },
      "source": [
        "### Step 18. What is the age with least occurrence?"
      ]
    },
    {
      "cell_type": "code",
      "metadata": {
        "id": "YVU4p2cpmarf",
        "colab_type": "code",
        "colab": {},
        "outputId": "bd7c7b71-1683-4a0b-d53e-c6df1580504e"
      },
      "source": [
        "users.age.value_counts().tail() #7, 10, 11, 66 and 73 years -> only 1 occurrence"
      ],
      "execution_count": 0,
      "outputs": [
        {
          "output_type": "execute_result",
          "data": {
            "text/plain": [
              "11    1\n",
              "10    1\n",
              "73    1\n",
              "66    1\n",
              "7     1\n",
              "Name: age, dtype: int64"
            ]
          },
          "metadata": {
            "tags": []
          },
          "execution_count": 57
        }
      ]
    },
    {
      "cell_type": "markdown",
      "metadata": {
        "id": "1-bTCCIWmarh",
        "colab_type": "text"
      },
      "source": [
        "# Fictional Army - Filtering and Sorting"
      ]
    },
    {
      "cell_type": "markdown",
      "metadata": {
        "id": "c4cmSAwRmarh",
        "colab_type": "text"
      },
      "source": [
        "### Introduction:\n",
        "\n",
        "This exercise was inspired by this [page](http://chrisalbon.com/python/)\n",
        "\n",
        "Special thanks to: https://github.com/chrisalbon for sharing the dataset and materials.\n",
        "\n",
        "### Step 1. Import the necessary libraries"
      ]
    },
    {
      "cell_type": "code",
      "metadata": {
        "id": "s3CJomjamarh",
        "colab_type": "code",
        "colab": {}
      },
      "source": [
        "import pandas as pd"
      ],
      "execution_count": 0,
      "outputs": []
    },
    {
      "cell_type": "markdown",
      "metadata": {
        "id": "Btv_-Ycjmark",
        "colab_type": "text"
      },
      "source": [
        "### Step 2. This is the data given as a dictionary"
      ]
    },
    {
      "cell_type": "code",
      "metadata": {
        "id": "6ZYoPILrmark",
        "colab_type": "code",
        "colab": {}
      },
      "source": [
        "# Create an example dataframe about a fictional army\n",
        "raw_data = {'regiment': ['Nighthawks', 'Nighthawks', 'Nighthawks', 'Nighthawks', 'Dragoons', 'Dragoons', 'Dragoons', 'Dragoons', 'Scouts', 'Scouts', 'Scouts', 'Scouts'],\n",
        "            'company': ['1st', '1st', '2nd', '2nd', '1st', '1st', '2nd', '2nd','1st', '1st', '2nd', '2nd'],\n",
        "            'deaths': [523, 52, 25, 616, 43, 234, 523, 62, 62, 73, 37, 35],\n",
        "            'battles': [5, 42, 2, 2, 4, 7, 8, 3, 4, 7, 8, 9],\n",
        "            'size': [1045, 957, 1099, 1400, 1592, 1006, 987, 849, 973, 1005, 1099, 1523],\n",
        "            'veterans': [1, 5, 62, 26, 73, 37, 949, 48, 48, 435, 63, 345],\n",
        "            'readiness': [1, 2, 3, 3, 2, 1, 2, 3, 2, 1, 2, 3],\n",
        "            'armored': [1, 0, 1, 1, 0, 1, 0, 1, 0, 0, 1, 1],\n",
        "            'deserters': [4, 24, 31, 2, 3, 4, 24, 31, 2, 3, 2, 3],\n",
        "            'origin': ['Arizona', 'California', 'Texas', 'Florida', 'Maine', 'Iowa', 'Alaska', 'Washington', 'Oregon', 'Wyoming', 'Louisana', 'Georgia']}"
      ],
      "execution_count": 0,
      "outputs": []
    },
    {
      "cell_type": "markdown",
      "metadata": {
        "id": "g-4MvRGymarm",
        "colab_type": "text"
      },
      "source": [
        "### Step 3. Create a dataframe and assign it to a variable called army. \n",
        "\n",
        "#### Don't forget to include the columns names in the order presented in the dictionary ('regiment', 'company', 'deaths'...) so that the column index order is consistent with the solutions. If omitted, pandas will order the columns alphabetically."
      ]
    },
    {
      "cell_type": "code",
      "metadata": {
        "id": "a0gR9gTmmarn",
        "colab_type": "code",
        "colab": {},
        "outputId": "21f677cf-01c5-41be-e29c-46c1861e1485"
      },
      "source": [
        "army = pd.DataFrame(data=raw_data)\n",
        "army"
      ],
      "execution_count": 0,
      "outputs": [
        {
          "output_type": "execute_result",
          "data": {
            "text/html": [
              "<div>\n",
              "<style scoped>\n",
              "    .dataframe tbody tr th:only-of-type {\n",
              "        vertical-align: middle;\n",
              "    }\n",
              "\n",
              "    .dataframe tbody tr th {\n",
              "        vertical-align: top;\n",
              "    }\n",
              "\n",
              "    .dataframe thead th {\n",
              "        text-align: right;\n",
              "    }\n",
              "</style>\n",
              "<table border=\"1\" class=\"dataframe\">\n",
              "  <thead>\n",
              "    <tr style=\"text-align: right;\">\n",
              "      <th></th>\n",
              "      <th>regiment</th>\n",
              "      <th>company</th>\n",
              "      <th>deaths</th>\n",
              "      <th>battles</th>\n",
              "      <th>size</th>\n",
              "      <th>veterans</th>\n",
              "      <th>readiness</th>\n",
              "      <th>armored</th>\n",
              "      <th>deserters</th>\n",
              "      <th>origin</th>\n",
              "    </tr>\n",
              "  </thead>\n",
              "  <tbody>\n",
              "    <tr>\n",
              "      <th>0</th>\n",
              "      <td>Nighthawks</td>\n",
              "      <td>1st</td>\n",
              "      <td>523</td>\n",
              "      <td>5</td>\n",
              "      <td>1045</td>\n",
              "      <td>1</td>\n",
              "      <td>1</td>\n",
              "      <td>1</td>\n",
              "      <td>4</td>\n",
              "      <td>Arizona</td>\n",
              "    </tr>\n",
              "    <tr>\n",
              "      <th>1</th>\n",
              "      <td>Nighthawks</td>\n",
              "      <td>1st</td>\n",
              "      <td>52</td>\n",
              "      <td>42</td>\n",
              "      <td>957</td>\n",
              "      <td>5</td>\n",
              "      <td>2</td>\n",
              "      <td>0</td>\n",
              "      <td>24</td>\n",
              "      <td>California</td>\n",
              "    </tr>\n",
              "    <tr>\n",
              "      <th>2</th>\n",
              "      <td>Nighthawks</td>\n",
              "      <td>2nd</td>\n",
              "      <td>25</td>\n",
              "      <td>2</td>\n",
              "      <td>1099</td>\n",
              "      <td>62</td>\n",
              "      <td>3</td>\n",
              "      <td>1</td>\n",
              "      <td>31</td>\n",
              "      <td>Texas</td>\n",
              "    </tr>\n",
              "    <tr>\n",
              "      <th>3</th>\n",
              "      <td>Nighthawks</td>\n",
              "      <td>2nd</td>\n",
              "      <td>616</td>\n",
              "      <td>2</td>\n",
              "      <td>1400</td>\n",
              "      <td>26</td>\n",
              "      <td>3</td>\n",
              "      <td>1</td>\n",
              "      <td>2</td>\n",
              "      <td>Florida</td>\n",
              "    </tr>\n",
              "    <tr>\n",
              "      <th>4</th>\n",
              "      <td>Dragoons</td>\n",
              "      <td>1st</td>\n",
              "      <td>43</td>\n",
              "      <td>4</td>\n",
              "      <td>1592</td>\n",
              "      <td>73</td>\n",
              "      <td>2</td>\n",
              "      <td>0</td>\n",
              "      <td>3</td>\n",
              "      <td>Maine</td>\n",
              "    </tr>\n",
              "    <tr>\n",
              "      <th>5</th>\n",
              "      <td>Dragoons</td>\n",
              "      <td>1st</td>\n",
              "      <td>234</td>\n",
              "      <td>7</td>\n",
              "      <td>1006</td>\n",
              "      <td>37</td>\n",
              "      <td>1</td>\n",
              "      <td>1</td>\n",
              "      <td>4</td>\n",
              "      <td>Iowa</td>\n",
              "    </tr>\n",
              "    <tr>\n",
              "      <th>6</th>\n",
              "      <td>Dragoons</td>\n",
              "      <td>2nd</td>\n",
              "      <td>523</td>\n",
              "      <td>8</td>\n",
              "      <td>987</td>\n",
              "      <td>949</td>\n",
              "      <td>2</td>\n",
              "      <td>0</td>\n",
              "      <td>24</td>\n",
              "      <td>Alaska</td>\n",
              "    </tr>\n",
              "    <tr>\n",
              "      <th>7</th>\n",
              "      <td>Dragoons</td>\n",
              "      <td>2nd</td>\n",
              "      <td>62</td>\n",
              "      <td>3</td>\n",
              "      <td>849</td>\n",
              "      <td>48</td>\n",
              "      <td>3</td>\n",
              "      <td>1</td>\n",
              "      <td>31</td>\n",
              "      <td>Washington</td>\n",
              "    </tr>\n",
              "    <tr>\n",
              "      <th>8</th>\n",
              "      <td>Scouts</td>\n",
              "      <td>1st</td>\n",
              "      <td>62</td>\n",
              "      <td>4</td>\n",
              "      <td>973</td>\n",
              "      <td>48</td>\n",
              "      <td>2</td>\n",
              "      <td>0</td>\n",
              "      <td>2</td>\n",
              "      <td>Oregon</td>\n",
              "    </tr>\n",
              "    <tr>\n",
              "      <th>9</th>\n",
              "      <td>Scouts</td>\n",
              "      <td>1st</td>\n",
              "      <td>73</td>\n",
              "      <td>7</td>\n",
              "      <td>1005</td>\n",
              "      <td>435</td>\n",
              "      <td>1</td>\n",
              "      <td>0</td>\n",
              "      <td>3</td>\n",
              "      <td>Wyoming</td>\n",
              "    </tr>\n",
              "    <tr>\n",
              "      <th>10</th>\n",
              "      <td>Scouts</td>\n",
              "      <td>2nd</td>\n",
              "      <td>37</td>\n",
              "      <td>8</td>\n",
              "      <td>1099</td>\n",
              "      <td>63</td>\n",
              "      <td>2</td>\n",
              "      <td>1</td>\n",
              "      <td>2</td>\n",
              "      <td>Louisana</td>\n",
              "    </tr>\n",
              "    <tr>\n",
              "      <th>11</th>\n",
              "      <td>Scouts</td>\n",
              "      <td>2nd</td>\n",
              "      <td>35</td>\n",
              "      <td>9</td>\n",
              "      <td>1523</td>\n",
              "      <td>345</td>\n",
              "      <td>3</td>\n",
              "      <td>1</td>\n",
              "      <td>3</td>\n",
              "      <td>Georgia</td>\n",
              "    </tr>\n",
              "  </tbody>\n",
              "</table>\n",
              "</div>"
            ],
            "text/plain": [
              "      regiment company  deaths  battles  size  veterans  readiness  armored  \\\n",
              "0   Nighthawks     1st     523        5  1045         1          1        1   \n",
              "1   Nighthawks     1st      52       42   957         5          2        0   \n",
              "2   Nighthawks     2nd      25        2  1099        62          3        1   \n",
              "3   Nighthawks     2nd     616        2  1400        26          3        1   \n",
              "4     Dragoons     1st      43        4  1592        73          2        0   \n",
              "5     Dragoons     1st     234        7  1006        37          1        1   \n",
              "6     Dragoons     2nd     523        8   987       949          2        0   \n",
              "7     Dragoons     2nd      62        3   849        48          3        1   \n",
              "8       Scouts     1st      62        4   973        48          2        0   \n",
              "9       Scouts     1st      73        7  1005       435          1        0   \n",
              "10      Scouts     2nd      37        8  1099        63          2        1   \n",
              "11      Scouts     2nd      35        9  1523       345          3        1   \n",
              "\n",
              "    deserters      origin  \n",
              "0           4     Arizona  \n",
              "1          24  California  \n",
              "2          31       Texas  \n",
              "3           2     Florida  \n",
              "4           3       Maine  \n",
              "5           4        Iowa  \n",
              "6          24      Alaska  \n",
              "7          31  Washington  \n",
              "8           2      Oregon  \n",
              "9           3     Wyoming  \n",
              "10          2    Louisana  \n",
              "11          3     Georgia  "
            ]
          },
          "metadata": {
            "tags": []
          },
          "execution_count": 3
        }
      ]
    },
    {
      "cell_type": "markdown",
      "metadata": {
        "id": "VcjsNVQNmarp",
        "colab_type": "text"
      },
      "source": [
        "### Step 4. Set the 'origin' colum as the index of the dataframe"
      ]
    },
    {
      "cell_type": "code",
      "metadata": {
        "id": "_6Jdl5Hqmarp",
        "colab_type": "code",
        "colab": {}
      },
      "source": [
        "army.set_index('origin', inplace=True)"
      ],
      "execution_count": 0,
      "outputs": []
    },
    {
      "cell_type": "markdown",
      "metadata": {
        "id": "eyz9I7wFmars",
        "colab_type": "text"
      },
      "source": [
        "### Step 5. Print only the column veterans"
      ]
    },
    {
      "cell_type": "code",
      "metadata": {
        "id": "7sWNH5komars",
        "colab_type": "code",
        "colab": {},
        "outputId": "86675bcc-07b5-42b4-e9e6-5dfe1f28a893"
      },
      "source": [
        "army.veterans"
      ],
      "execution_count": 0,
      "outputs": [
        {
          "output_type": "execute_result",
          "data": {
            "text/plain": [
              "origin\n",
              "Arizona         1\n",
              "California      5\n",
              "Texas          62\n",
              "Florida        26\n",
              "Maine          73\n",
              "Iowa           37\n",
              "Alaska        949\n",
              "Washington     48\n",
              "Oregon         48\n",
              "Wyoming       435\n",
              "Louisana       63\n",
              "Georgia       345\n",
              "Name: veterans, dtype: int64"
            ]
          },
          "metadata": {
            "tags": []
          },
          "execution_count": 5
        }
      ]
    },
    {
      "cell_type": "markdown",
      "metadata": {
        "id": "bM50WK_lmaru",
        "colab_type": "text"
      },
      "source": [
        "### Step 6. Print the columns 'veterans' and 'deaths'"
      ]
    },
    {
      "cell_type": "code",
      "metadata": {
        "id": "ArNjwPSmmarv",
        "colab_type": "code",
        "colab": {},
        "outputId": "f36c44f7-2098-49ee-96f4-07ac13fee141"
      },
      "source": [
        "army[[\"veterans\", \"deaths\"]]"
      ],
      "execution_count": 0,
      "outputs": [
        {
          "output_type": "execute_result",
          "data": {
            "text/html": [
              "<div>\n",
              "<style scoped>\n",
              "    .dataframe tbody tr th:only-of-type {\n",
              "        vertical-align: middle;\n",
              "    }\n",
              "\n",
              "    .dataframe tbody tr th {\n",
              "        vertical-align: top;\n",
              "    }\n",
              "\n",
              "    .dataframe thead th {\n",
              "        text-align: right;\n",
              "    }\n",
              "</style>\n",
              "<table border=\"1\" class=\"dataframe\">\n",
              "  <thead>\n",
              "    <tr style=\"text-align: right;\">\n",
              "      <th></th>\n",
              "      <th>veterans</th>\n",
              "      <th>deaths</th>\n",
              "    </tr>\n",
              "    <tr>\n",
              "      <th>origin</th>\n",
              "      <th></th>\n",
              "      <th></th>\n",
              "    </tr>\n",
              "  </thead>\n",
              "  <tbody>\n",
              "    <tr>\n",
              "      <th>Arizona</th>\n",
              "      <td>1</td>\n",
              "      <td>523</td>\n",
              "    </tr>\n",
              "    <tr>\n",
              "      <th>California</th>\n",
              "      <td>5</td>\n",
              "      <td>52</td>\n",
              "    </tr>\n",
              "    <tr>\n",
              "      <th>Texas</th>\n",
              "      <td>62</td>\n",
              "      <td>25</td>\n",
              "    </tr>\n",
              "    <tr>\n",
              "      <th>Florida</th>\n",
              "      <td>26</td>\n",
              "      <td>616</td>\n",
              "    </tr>\n",
              "    <tr>\n",
              "      <th>Maine</th>\n",
              "      <td>73</td>\n",
              "      <td>43</td>\n",
              "    </tr>\n",
              "    <tr>\n",
              "      <th>Iowa</th>\n",
              "      <td>37</td>\n",
              "      <td>234</td>\n",
              "    </tr>\n",
              "    <tr>\n",
              "      <th>Alaska</th>\n",
              "      <td>949</td>\n",
              "      <td>523</td>\n",
              "    </tr>\n",
              "    <tr>\n",
              "      <th>Washington</th>\n",
              "      <td>48</td>\n",
              "      <td>62</td>\n",
              "    </tr>\n",
              "    <tr>\n",
              "      <th>Oregon</th>\n",
              "      <td>48</td>\n",
              "      <td>62</td>\n",
              "    </tr>\n",
              "    <tr>\n",
              "      <th>Wyoming</th>\n",
              "      <td>435</td>\n",
              "      <td>73</td>\n",
              "    </tr>\n",
              "    <tr>\n",
              "      <th>Louisana</th>\n",
              "      <td>63</td>\n",
              "      <td>37</td>\n",
              "    </tr>\n",
              "    <tr>\n",
              "      <th>Georgia</th>\n",
              "      <td>345</td>\n",
              "      <td>35</td>\n",
              "    </tr>\n",
              "  </tbody>\n",
              "</table>\n",
              "</div>"
            ],
            "text/plain": [
              "            veterans  deaths\n",
              "origin                      \n",
              "Arizona            1     523\n",
              "California         5      52\n",
              "Texas             62      25\n",
              "Florida           26     616\n",
              "Maine             73      43\n",
              "Iowa              37     234\n",
              "Alaska           949     523\n",
              "Washington        48      62\n",
              "Oregon            48      62\n",
              "Wyoming          435      73\n",
              "Louisana          63      37\n",
              "Georgia          345      35"
            ]
          },
          "metadata": {
            "tags": []
          },
          "execution_count": 6
        }
      ]
    },
    {
      "cell_type": "markdown",
      "metadata": {
        "id": "TLYfvzYGmarx",
        "colab_type": "text"
      },
      "source": [
        "### Step 7. Print the name of all the columns."
      ]
    },
    {
      "cell_type": "code",
      "metadata": {
        "id": "XaKn29RPmarx",
        "colab_type": "code",
        "colab": {},
        "outputId": "6f40de27-5d41-4ef1-c4e5-a0e895ebb84b"
      },
      "source": [
        "army.columns"
      ],
      "execution_count": 0,
      "outputs": [
        {
          "output_type": "execute_result",
          "data": {
            "text/plain": [
              "Index(['regiment', 'company', 'deaths', 'battles', 'size', 'veterans',\n",
              "       'readiness', 'armored', 'deserters'],\n",
              "      dtype='object')"
            ]
          },
          "metadata": {
            "tags": []
          },
          "execution_count": 7
        }
      ]
    },
    {
      "cell_type": "markdown",
      "metadata": {
        "id": "26_oEE2fmarz",
        "colab_type": "text"
      },
      "source": [
        "### Step 8. Select the 'deaths', 'size' and 'deserters' columns from Maine and Alaska"
      ]
    },
    {
      "cell_type": "code",
      "metadata": {
        "id": "zhVDWcnNmar0",
        "colab_type": "code",
        "colab": {},
        "outputId": "dd33b04b-b92b-4820-d6d8-43c6096e0ea0"
      },
      "source": [
        "army.loc[[\"Maine\", \"Alaska\"], [\"deaths\", \"size\", \"deserters\"]]"
      ],
      "execution_count": 0,
      "outputs": [
        {
          "output_type": "execute_result",
          "data": {
            "text/html": [
              "<div>\n",
              "<style scoped>\n",
              "    .dataframe tbody tr th:only-of-type {\n",
              "        vertical-align: middle;\n",
              "    }\n",
              "\n",
              "    .dataframe tbody tr th {\n",
              "        vertical-align: top;\n",
              "    }\n",
              "\n",
              "    .dataframe thead th {\n",
              "        text-align: right;\n",
              "    }\n",
              "</style>\n",
              "<table border=\"1\" class=\"dataframe\">\n",
              "  <thead>\n",
              "    <tr style=\"text-align: right;\">\n",
              "      <th></th>\n",
              "      <th>deaths</th>\n",
              "      <th>size</th>\n",
              "      <th>deserters</th>\n",
              "    </tr>\n",
              "    <tr>\n",
              "      <th>origin</th>\n",
              "      <th></th>\n",
              "      <th></th>\n",
              "      <th></th>\n",
              "    </tr>\n",
              "  </thead>\n",
              "  <tbody>\n",
              "    <tr>\n",
              "      <th>Maine</th>\n",
              "      <td>43</td>\n",
              "      <td>1592</td>\n",
              "      <td>3</td>\n",
              "    </tr>\n",
              "    <tr>\n",
              "      <th>Alaska</th>\n",
              "      <td>523</td>\n",
              "      <td>987</td>\n",
              "      <td>24</td>\n",
              "    </tr>\n",
              "  </tbody>\n",
              "</table>\n",
              "</div>"
            ],
            "text/plain": [
              "        deaths  size  deserters\n",
              "origin                         \n",
              "Maine       43  1592          3\n",
              "Alaska     523   987         24"
            ]
          },
          "metadata": {
            "tags": []
          },
          "execution_count": 8
        }
      ]
    },
    {
      "cell_type": "markdown",
      "metadata": {
        "id": "NHWnuhhYmar3",
        "colab_type": "text"
      },
      "source": [
        "### Step 9. Select the rows 3 to 7 and the columns 3 to 6"
      ]
    },
    {
      "cell_type": "code",
      "metadata": {
        "id": "q1E8wsKJmar4",
        "colab_type": "code",
        "colab": {},
        "outputId": "401797b6-6925-4156-cea3-0c9ef0686bac"
      },
      "source": [
        "army.iloc[2:7, 2:6]"
      ],
      "execution_count": 0,
      "outputs": [
        {
          "output_type": "execute_result",
          "data": {
            "text/html": [
              "<div>\n",
              "<style scoped>\n",
              "    .dataframe tbody tr th:only-of-type {\n",
              "        vertical-align: middle;\n",
              "    }\n",
              "\n",
              "    .dataframe tbody tr th {\n",
              "        vertical-align: top;\n",
              "    }\n",
              "\n",
              "    .dataframe thead th {\n",
              "        text-align: right;\n",
              "    }\n",
              "</style>\n",
              "<table border=\"1\" class=\"dataframe\">\n",
              "  <thead>\n",
              "    <tr style=\"text-align: right;\">\n",
              "      <th></th>\n",
              "      <th>deaths</th>\n",
              "      <th>battles</th>\n",
              "      <th>size</th>\n",
              "      <th>veterans</th>\n",
              "    </tr>\n",
              "    <tr>\n",
              "      <th>origin</th>\n",
              "      <th></th>\n",
              "      <th></th>\n",
              "      <th></th>\n",
              "      <th></th>\n",
              "    </tr>\n",
              "  </thead>\n",
              "  <tbody>\n",
              "    <tr>\n",
              "      <th>Texas</th>\n",
              "      <td>25</td>\n",
              "      <td>2</td>\n",
              "      <td>1099</td>\n",
              "      <td>62</td>\n",
              "    </tr>\n",
              "    <tr>\n",
              "      <th>Florida</th>\n",
              "      <td>616</td>\n",
              "      <td>2</td>\n",
              "      <td>1400</td>\n",
              "      <td>26</td>\n",
              "    </tr>\n",
              "    <tr>\n",
              "      <th>Maine</th>\n",
              "      <td>43</td>\n",
              "      <td>4</td>\n",
              "      <td>1592</td>\n",
              "      <td>73</td>\n",
              "    </tr>\n",
              "    <tr>\n",
              "      <th>Iowa</th>\n",
              "      <td>234</td>\n",
              "      <td>7</td>\n",
              "      <td>1006</td>\n",
              "      <td>37</td>\n",
              "    </tr>\n",
              "    <tr>\n",
              "      <th>Alaska</th>\n",
              "      <td>523</td>\n",
              "      <td>8</td>\n",
              "      <td>987</td>\n",
              "      <td>949</td>\n",
              "    </tr>\n",
              "  </tbody>\n",
              "</table>\n",
              "</div>"
            ],
            "text/plain": [
              "         deaths  battles  size  veterans\n",
              "origin                                  \n",
              "Texas        25        2  1099        62\n",
              "Florida     616        2  1400        26\n",
              "Maine        43        4  1592        73\n",
              "Iowa        234        7  1006        37\n",
              "Alaska      523        8   987       949"
            ]
          },
          "metadata": {
            "tags": []
          },
          "execution_count": 9
        }
      ]
    },
    {
      "cell_type": "markdown",
      "metadata": {
        "id": "TksWPCXNmar6",
        "colab_type": "text"
      },
      "source": [
        "### Step 10. Select every row after the fourth row and all columns"
      ]
    },
    {
      "cell_type": "code",
      "metadata": {
        "id": "DiaCy9_Hmar6",
        "colab_type": "code",
        "colab": {},
        "outputId": "c4fbd1b0-55ae-41c9-8460-806668c6f18e"
      },
      "source": [
        "army.iloc[4:, :]"
      ],
      "execution_count": 0,
      "outputs": [
        {
          "output_type": "execute_result",
          "data": {
            "text/html": [
              "<div>\n",
              "<style scoped>\n",
              "    .dataframe tbody tr th:only-of-type {\n",
              "        vertical-align: middle;\n",
              "    }\n",
              "\n",
              "    .dataframe tbody tr th {\n",
              "        vertical-align: top;\n",
              "    }\n",
              "\n",
              "    .dataframe thead th {\n",
              "        text-align: right;\n",
              "    }\n",
              "</style>\n",
              "<table border=\"1\" class=\"dataframe\">\n",
              "  <thead>\n",
              "    <tr style=\"text-align: right;\">\n",
              "      <th></th>\n",
              "      <th>regiment</th>\n",
              "      <th>company</th>\n",
              "      <th>deaths</th>\n",
              "      <th>battles</th>\n",
              "      <th>size</th>\n",
              "      <th>veterans</th>\n",
              "      <th>readiness</th>\n",
              "      <th>armored</th>\n",
              "      <th>deserters</th>\n",
              "    </tr>\n",
              "    <tr>\n",
              "      <th>origin</th>\n",
              "      <th></th>\n",
              "      <th></th>\n",
              "      <th></th>\n",
              "      <th></th>\n",
              "      <th></th>\n",
              "      <th></th>\n",
              "      <th></th>\n",
              "      <th></th>\n",
              "      <th></th>\n",
              "    </tr>\n",
              "  </thead>\n",
              "  <tbody>\n",
              "    <tr>\n",
              "      <th>Maine</th>\n",
              "      <td>Dragoons</td>\n",
              "      <td>1st</td>\n",
              "      <td>43</td>\n",
              "      <td>4</td>\n",
              "      <td>1592</td>\n",
              "      <td>73</td>\n",
              "      <td>2</td>\n",
              "      <td>0</td>\n",
              "      <td>3</td>\n",
              "    </tr>\n",
              "    <tr>\n",
              "      <th>Iowa</th>\n",
              "      <td>Dragoons</td>\n",
              "      <td>1st</td>\n",
              "      <td>234</td>\n",
              "      <td>7</td>\n",
              "      <td>1006</td>\n",
              "      <td>37</td>\n",
              "      <td>1</td>\n",
              "      <td>1</td>\n",
              "      <td>4</td>\n",
              "    </tr>\n",
              "    <tr>\n",
              "      <th>Alaska</th>\n",
              "      <td>Dragoons</td>\n",
              "      <td>2nd</td>\n",
              "      <td>523</td>\n",
              "      <td>8</td>\n",
              "      <td>987</td>\n",
              "      <td>949</td>\n",
              "      <td>2</td>\n",
              "      <td>0</td>\n",
              "      <td>24</td>\n",
              "    </tr>\n",
              "    <tr>\n",
              "      <th>Washington</th>\n",
              "      <td>Dragoons</td>\n",
              "      <td>2nd</td>\n",
              "      <td>62</td>\n",
              "      <td>3</td>\n",
              "      <td>849</td>\n",
              "      <td>48</td>\n",
              "      <td>3</td>\n",
              "      <td>1</td>\n",
              "      <td>31</td>\n",
              "    </tr>\n",
              "    <tr>\n",
              "      <th>Oregon</th>\n",
              "      <td>Scouts</td>\n",
              "      <td>1st</td>\n",
              "      <td>62</td>\n",
              "      <td>4</td>\n",
              "      <td>973</td>\n",
              "      <td>48</td>\n",
              "      <td>2</td>\n",
              "      <td>0</td>\n",
              "      <td>2</td>\n",
              "    </tr>\n",
              "    <tr>\n",
              "      <th>Wyoming</th>\n",
              "      <td>Scouts</td>\n",
              "      <td>1st</td>\n",
              "      <td>73</td>\n",
              "      <td>7</td>\n",
              "      <td>1005</td>\n",
              "      <td>435</td>\n",
              "      <td>1</td>\n",
              "      <td>0</td>\n",
              "      <td>3</td>\n",
              "    </tr>\n",
              "    <tr>\n",
              "      <th>Louisana</th>\n",
              "      <td>Scouts</td>\n",
              "      <td>2nd</td>\n",
              "      <td>37</td>\n",
              "      <td>8</td>\n",
              "      <td>1099</td>\n",
              "      <td>63</td>\n",
              "      <td>2</td>\n",
              "      <td>1</td>\n",
              "      <td>2</td>\n",
              "    </tr>\n",
              "    <tr>\n",
              "      <th>Georgia</th>\n",
              "      <td>Scouts</td>\n",
              "      <td>2nd</td>\n",
              "      <td>35</td>\n",
              "      <td>9</td>\n",
              "      <td>1523</td>\n",
              "      <td>345</td>\n",
              "      <td>3</td>\n",
              "      <td>1</td>\n",
              "      <td>3</td>\n",
              "    </tr>\n",
              "  </tbody>\n",
              "</table>\n",
              "</div>"
            ],
            "text/plain": [
              "            regiment company  deaths  battles  size  veterans  readiness  \\\n",
              "origin                                                                     \n",
              "Maine       Dragoons     1st      43        4  1592        73          2   \n",
              "Iowa        Dragoons     1st     234        7  1006        37          1   \n",
              "Alaska      Dragoons     2nd     523        8   987       949          2   \n",
              "Washington  Dragoons     2nd      62        3   849        48          3   \n",
              "Oregon        Scouts     1st      62        4   973        48          2   \n",
              "Wyoming       Scouts     1st      73        7  1005       435          1   \n",
              "Louisana      Scouts     2nd      37        8  1099        63          2   \n",
              "Georgia       Scouts     2nd      35        9  1523       345          3   \n",
              "\n",
              "            armored  deserters  \n",
              "origin                          \n",
              "Maine             0          3  \n",
              "Iowa              1          4  \n",
              "Alaska            0         24  \n",
              "Washington        1         31  \n",
              "Oregon            0          2  \n",
              "Wyoming           0          3  \n",
              "Louisana          1          2  \n",
              "Georgia           1          3  "
            ]
          },
          "metadata": {
            "tags": []
          },
          "execution_count": 10
        }
      ]
    },
    {
      "cell_type": "markdown",
      "metadata": {
        "id": "QLmfh5yNmar8",
        "colab_type": "text"
      },
      "source": [
        "### Step 11. Select every row up to the 4th row and all columns"
      ]
    },
    {
      "cell_type": "code",
      "metadata": {
        "id": "D66tcK8rmar8",
        "colab_type": "code",
        "colab": {},
        "outputId": "02a10c9f-74f7-40ba-c6d3-c28b6a1fed87"
      },
      "source": [
        "army.iloc[:4, :]"
      ],
      "execution_count": 0,
      "outputs": [
        {
          "output_type": "execute_result",
          "data": {
            "text/html": [
              "<div>\n",
              "<style scoped>\n",
              "    .dataframe tbody tr th:only-of-type {\n",
              "        vertical-align: middle;\n",
              "    }\n",
              "\n",
              "    .dataframe tbody tr th {\n",
              "        vertical-align: top;\n",
              "    }\n",
              "\n",
              "    .dataframe thead th {\n",
              "        text-align: right;\n",
              "    }\n",
              "</style>\n",
              "<table border=\"1\" class=\"dataframe\">\n",
              "  <thead>\n",
              "    <tr style=\"text-align: right;\">\n",
              "      <th></th>\n",
              "      <th>regiment</th>\n",
              "      <th>company</th>\n",
              "      <th>deaths</th>\n",
              "      <th>battles</th>\n",
              "      <th>size</th>\n",
              "      <th>veterans</th>\n",
              "      <th>readiness</th>\n",
              "      <th>armored</th>\n",
              "      <th>deserters</th>\n",
              "    </tr>\n",
              "    <tr>\n",
              "      <th>origin</th>\n",
              "      <th></th>\n",
              "      <th></th>\n",
              "      <th></th>\n",
              "      <th></th>\n",
              "      <th></th>\n",
              "      <th></th>\n",
              "      <th></th>\n",
              "      <th></th>\n",
              "      <th></th>\n",
              "    </tr>\n",
              "  </thead>\n",
              "  <tbody>\n",
              "    <tr>\n",
              "      <th>Arizona</th>\n",
              "      <td>Nighthawks</td>\n",
              "      <td>1st</td>\n",
              "      <td>523</td>\n",
              "      <td>5</td>\n",
              "      <td>1045</td>\n",
              "      <td>1</td>\n",
              "      <td>1</td>\n",
              "      <td>1</td>\n",
              "      <td>4</td>\n",
              "    </tr>\n",
              "    <tr>\n",
              "      <th>California</th>\n",
              "      <td>Nighthawks</td>\n",
              "      <td>1st</td>\n",
              "      <td>52</td>\n",
              "      <td>42</td>\n",
              "      <td>957</td>\n",
              "      <td>5</td>\n",
              "      <td>2</td>\n",
              "      <td>0</td>\n",
              "      <td>24</td>\n",
              "    </tr>\n",
              "    <tr>\n",
              "      <th>Texas</th>\n",
              "      <td>Nighthawks</td>\n",
              "      <td>2nd</td>\n",
              "      <td>25</td>\n",
              "      <td>2</td>\n",
              "      <td>1099</td>\n",
              "      <td>62</td>\n",
              "      <td>3</td>\n",
              "      <td>1</td>\n",
              "      <td>31</td>\n",
              "    </tr>\n",
              "    <tr>\n",
              "      <th>Florida</th>\n",
              "      <td>Nighthawks</td>\n",
              "      <td>2nd</td>\n",
              "      <td>616</td>\n",
              "      <td>2</td>\n",
              "      <td>1400</td>\n",
              "      <td>26</td>\n",
              "      <td>3</td>\n",
              "      <td>1</td>\n",
              "      <td>2</td>\n",
              "    </tr>\n",
              "  </tbody>\n",
              "</table>\n",
              "</div>"
            ],
            "text/plain": [
              "              regiment company  deaths  battles  size  veterans  readiness  \\\n",
              "origin                                                                       \n",
              "Arizona     Nighthawks     1st     523        5  1045         1          1   \n",
              "California  Nighthawks     1st      52       42   957         5          2   \n",
              "Texas       Nighthawks     2nd      25        2  1099        62          3   \n",
              "Florida     Nighthawks     2nd     616        2  1400        26          3   \n",
              "\n",
              "            armored  deserters  \n",
              "origin                          \n",
              "Arizona           1          4  \n",
              "California        0         24  \n",
              "Texas             1         31  \n",
              "Florida           1          2  "
            ]
          },
          "metadata": {
            "tags": []
          },
          "execution_count": 11
        }
      ]
    },
    {
      "cell_type": "markdown",
      "metadata": {
        "id": "KiFPkB5_mar-",
        "colab_type": "text"
      },
      "source": [
        "### Step 12. Select the 3rd column up to the 7th column"
      ]
    },
    {
      "cell_type": "code",
      "metadata": {
        "id": "L2zLD1Mjmar_",
        "colab_type": "code",
        "colab": {},
        "outputId": "64dd26a3-1f68-402c-e1d4-ae3ab225a216"
      },
      "source": [
        "army.iloc[:, 2:7]"
      ],
      "execution_count": 0,
      "outputs": [
        {
          "output_type": "execute_result",
          "data": {
            "text/html": [
              "<div>\n",
              "<style scoped>\n",
              "    .dataframe tbody tr th:only-of-type {\n",
              "        vertical-align: middle;\n",
              "    }\n",
              "\n",
              "    .dataframe tbody tr th {\n",
              "        vertical-align: top;\n",
              "    }\n",
              "\n",
              "    .dataframe thead th {\n",
              "        text-align: right;\n",
              "    }\n",
              "</style>\n",
              "<table border=\"1\" class=\"dataframe\">\n",
              "  <thead>\n",
              "    <tr style=\"text-align: right;\">\n",
              "      <th></th>\n",
              "      <th>deaths</th>\n",
              "      <th>battles</th>\n",
              "      <th>size</th>\n",
              "      <th>veterans</th>\n",
              "      <th>readiness</th>\n",
              "    </tr>\n",
              "    <tr>\n",
              "      <th>origin</th>\n",
              "      <th></th>\n",
              "      <th></th>\n",
              "      <th></th>\n",
              "      <th></th>\n",
              "      <th></th>\n",
              "    </tr>\n",
              "  </thead>\n",
              "  <tbody>\n",
              "    <tr>\n",
              "      <th>Arizona</th>\n",
              "      <td>523</td>\n",
              "      <td>5</td>\n",
              "      <td>1045</td>\n",
              "      <td>1</td>\n",
              "      <td>1</td>\n",
              "    </tr>\n",
              "    <tr>\n",
              "      <th>California</th>\n",
              "      <td>52</td>\n",
              "      <td>42</td>\n",
              "      <td>957</td>\n",
              "      <td>5</td>\n",
              "      <td>2</td>\n",
              "    </tr>\n",
              "    <tr>\n",
              "      <th>Texas</th>\n",
              "      <td>25</td>\n",
              "      <td>2</td>\n",
              "      <td>1099</td>\n",
              "      <td>62</td>\n",
              "      <td>3</td>\n",
              "    </tr>\n",
              "    <tr>\n",
              "      <th>Florida</th>\n",
              "      <td>616</td>\n",
              "      <td>2</td>\n",
              "      <td>1400</td>\n",
              "      <td>26</td>\n",
              "      <td>3</td>\n",
              "    </tr>\n",
              "    <tr>\n",
              "      <th>Maine</th>\n",
              "      <td>43</td>\n",
              "      <td>4</td>\n",
              "      <td>1592</td>\n",
              "      <td>73</td>\n",
              "      <td>2</td>\n",
              "    </tr>\n",
              "    <tr>\n",
              "      <th>Iowa</th>\n",
              "      <td>234</td>\n",
              "      <td>7</td>\n",
              "      <td>1006</td>\n",
              "      <td>37</td>\n",
              "      <td>1</td>\n",
              "    </tr>\n",
              "    <tr>\n",
              "      <th>Alaska</th>\n",
              "      <td>523</td>\n",
              "      <td>8</td>\n",
              "      <td>987</td>\n",
              "      <td>949</td>\n",
              "      <td>2</td>\n",
              "    </tr>\n",
              "    <tr>\n",
              "      <th>Washington</th>\n",
              "      <td>62</td>\n",
              "      <td>3</td>\n",
              "      <td>849</td>\n",
              "      <td>48</td>\n",
              "      <td>3</td>\n",
              "    </tr>\n",
              "    <tr>\n",
              "      <th>Oregon</th>\n",
              "      <td>62</td>\n",
              "      <td>4</td>\n",
              "      <td>973</td>\n",
              "      <td>48</td>\n",
              "      <td>2</td>\n",
              "    </tr>\n",
              "    <tr>\n",
              "      <th>Wyoming</th>\n",
              "      <td>73</td>\n",
              "      <td>7</td>\n",
              "      <td>1005</td>\n",
              "      <td>435</td>\n",
              "      <td>1</td>\n",
              "    </tr>\n",
              "    <tr>\n",
              "      <th>Louisana</th>\n",
              "      <td>37</td>\n",
              "      <td>8</td>\n",
              "      <td>1099</td>\n",
              "      <td>63</td>\n",
              "      <td>2</td>\n",
              "    </tr>\n",
              "    <tr>\n",
              "      <th>Georgia</th>\n",
              "      <td>35</td>\n",
              "      <td>9</td>\n",
              "      <td>1523</td>\n",
              "      <td>345</td>\n",
              "      <td>3</td>\n",
              "    </tr>\n",
              "  </tbody>\n",
              "</table>\n",
              "</div>"
            ],
            "text/plain": [
              "            deaths  battles  size  veterans  readiness\n",
              "origin                                                \n",
              "Arizona        523        5  1045         1          1\n",
              "California      52       42   957         5          2\n",
              "Texas           25        2  1099        62          3\n",
              "Florida        616        2  1400        26          3\n",
              "Maine           43        4  1592        73          2\n",
              "Iowa           234        7  1006        37          1\n",
              "Alaska         523        8   987       949          2\n",
              "Washington      62        3   849        48          3\n",
              "Oregon          62        4   973        48          2\n",
              "Wyoming         73        7  1005       435          1\n",
              "Louisana        37        8  1099        63          2\n",
              "Georgia         35        9  1523       345          3"
            ]
          },
          "metadata": {
            "tags": []
          },
          "execution_count": 12
        }
      ]
    },
    {
      "cell_type": "markdown",
      "metadata": {
        "id": "hvaWth6SmasB",
        "colab_type": "text"
      },
      "source": [
        "### Step 13. Select rows where df.deaths is greater than 50"
      ]
    },
    {
      "cell_type": "code",
      "metadata": {
        "id": "YxQiTNesmasB",
        "colab_type": "code",
        "colab": {},
        "outputId": "6276f4c1-effd-433f-a4f4-fe96d6ad84c3"
      },
      "source": [
        "army[army[\"deaths\"] > 50]"
      ],
      "execution_count": 0,
      "outputs": [
        {
          "output_type": "execute_result",
          "data": {
            "text/html": [
              "<div>\n",
              "<style scoped>\n",
              "    .dataframe tbody tr th:only-of-type {\n",
              "        vertical-align: middle;\n",
              "    }\n",
              "\n",
              "    .dataframe tbody tr th {\n",
              "        vertical-align: top;\n",
              "    }\n",
              "\n",
              "    .dataframe thead th {\n",
              "        text-align: right;\n",
              "    }\n",
              "</style>\n",
              "<table border=\"1\" class=\"dataframe\">\n",
              "  <thead>\n",
              "    <tr style=\"text-align: right;\">\n",
              "      <th></th>\n",
              "      <th>regiment</th>\n",
              "      <th>company</th>\n",
              "      <th>deaths</th>\n",
              "      <th>battles</th>\n",
              "      <th>size</th>\n",
              "      <th>veterans</th>\n",
              "      <th>readiness</th>\n",
              "      <th>armored</th>\n",
              "      <th>deserters</th>\n",
              "    </tr>\n",
              "    <tr>\n",
              "      <th>origin</th>\n",
              "      <th></th>\n",
              "      <th></th>\n",
              "      <th></th>\n",
              "      <th></th>\n",
              "      <th></th>\n",
              "      <th></th>\n",
              "      <th></th>\n",
              "      <th></th>\n",
              "      <th></th>\n",
              "    </tr>\n",
              "  </thead>\n",
              "  <tbody>\n",
              "    <tr>\n",
              "      <th>Arizona</th>\n",
              "      <td>Nighthawks</td>\n",
              "      <td>1st</td>\n",
              "      <td>523</td>\n",
              "      <td>5</td>\n",
              "      <td>1045</td>\n",
              "      <td>1</td>\n",
              "      <td>1</td>\n",
              "      <td>1</td>\n",
              "      <td>4</td>\n",
              "    </tr>\n",
              "    <tr>\n",
              "      <th>California</th>\n",
              "      <td>Nighthawks</td>\n",
              "      <td>1st</td>\n",
              "      <td>52</td>\n",
              "      <td>42</td>\n",
              "      <td>957</td>\n",
              "      <td>5</td>\n",
              "      <td>2</td>\n",
              "      <td>0</td>\n",
              "      <td>24</td>\n",
              "    </tr>\n",
              "    <tr>\n",
              "      <th>Florida</th>\n",
              "      <td>Nighthawks</td>\n",
              "      <td>2nd</td>\n",
              "      <td>616</td>\n",
              "      <td>2</td>\n",
              "      <td>1400</td>\n",
              "      <td>26</td>\n",
              "      <td>3</td>\n",
              "      <td>1</td>\n",
              "      <td>2</td>\n",
              "    </tr>\n",
              "    <tr>\n",
              "      <th>Iowa</th>\n",
              "      <td>Dragoons</td>\n",
              "      <td>1st</td>\n",
              "      <td>234</td>\n",
              "      <td>7</td>\n",
              "      <td>1006</td>\n",
              "      <td>37</td>\n",
              "      <td>1</td>\n",
              "      <td>1</td>\n",
              "      <td>4</td>\n",
              "    </tr>\n",
              "    <tr>\n",
              "      <th>Alaska</th>\n",
              "      <td>Dragoons</td>\n",
              "      <td>2nd</td>\n",
              "      <td>523</td>\n",
              "      <td>8</td>\n",
              "      <td>987</td>\n",
              "      <td>949</td>\n",
              "      <td>2</td>\n",
              "      <td>0</td>\n",
              "      <td>24</td>\n",
              "    </tr>\n",
              "    <tr>\n",
              "      <th>Washington</th>\n",
              "      <td>Dragoons</td>\n",
              "      <td>2nd</td>\n",
              "      <td>62</td>\n",
              "      <td>3</td>\n",
              "      <td>849</td>\n",
              "      <td>48</td>\n",
              "      <td>3</td>\n",
              "      <td>1</td>\n",
              "      <td>31</td>\n",
              "    </tr>\n",
              "    <tr>\n",
              "      <th>Oregon</th>\n",
              "      <td>Scouts</td>\n",
              "      <td>1st</td>\n",
              "      <td>62</td>\n",
              "      <td>4</td>\n",
              "      <td>973</td>\n",
              "      <td>48</td>\n",
              "      <td>2</td>\n",
              "      <td>0</td>\n",
              "      <td>2</td>\n",
              "    </tr>\n",
              "    <tr>\n",
              "      <th>Wyoming</th>\n",
              "      <td>Scouts</td>\n",
              "      <td>1st</td>\n",
              "      <td>73</td>\n",
              "      <td>7</td>\n",
              "      <td>1005</td>\n",
              "      <td>435</td>\n",
              "      <td>1</td>\n",
              "      <td>0</td>\n",
              "      <td>3</td>\n",
              "    </tr>\n",
              "  </tbody>\n",
              "</table>\n",
              "</div>"
            ],
            "text/plain": [
              "              regiment company  deaths  battles  size  veterans  readiness  \\\n",
              "origin                                                                       \n",
              "Arizona     Nighthawks     1st     523        5  1045         1          1   \n",
              "California  Nighthawks     1st      52       42   957         5          2   \n",
              "Florida     Nighthawks     2nd     616        2  1400        26          3   \n",
              "Iowa          Dragoons     1st     234        7  1006        37          1   \n",
              "Alaska        Dragoons     2nd     523        8   987       949          2   \n",
              "Washington    Dragoons     2nd      62        3   849        48          3   \n",
              "Oregon          Scouts     1st      62        4   973        48          2   \n",
              "Wyoming         Scouts     1st      73        7  1005       435          1   \n",
              "\n",
              "            armored  deserters  \n",
              "origin                          \n",
              "Arizona           1          4  \n",
              "California        0         24  \n",
              "Florida           1          2  \n",
              "Iowa              1          4  \n",
              "Alaska            0         24  \n",
              "Washington        1         31  \n",
              "Oregon            0          2  \n",
              "Wyoming           0          3  "
            ]
          },
          "metadata": {
            "tags": []
          },
          "execution_count": 13
        }
      ]
    },
    {
      "cell_type": "markdown",
      "metadata": {
        "id": "LwNMzVM8masE",
        "colab_type": "text"
      },
      "source": [
        "### Step 14. Select rows where df.deaths is greater than 500 or less than 50"
      ]
    },
    {
      "cell_type": "code",
      "metadata": {
        "id": "OjcYCAwemasE",
        "colab_type": "code",
        "colab": {},
        "outputId": "5c7eae9e-6be4-4a45-8432-d2a2da9adf5d"
      },
      "source": [
        "army[(army[\"deaths\"] > 500) | (army[\"deaths\"] < 50)]"
      ],
      "execution_count": 0,
      "outputs": [
        {
          "output_type": "execute_result",
          "data": {
            "text/html": [
              "<div>\n",
              "<style scoped>\n",
              "    .dataframe tbody tr th:only-of-type {\n",
              "        vertical-align: middle;\n",
              "    }\n",
              "\n",
              "    .dataframe tbody tr th {\n",
              "        vertical-align: top;\n",
              "    }\n",
              "\n",
              "    .dataframe thead th {\n",
              "        text-align: right;\n",
              "    }\n",
              "</style>\n",
              "<table border=\"1\" class=\"dataframe\">\n",
              "  <thead>\n",
              "    <tr style=\"text-align: right;\">\n",
              "      <th></th>\n",
              "      <th>regiment</th>\n",
              "      <th>company</th>\n",
              "      <th>deaths</th>\n",
              "      <th>battles</th>\n",
              "      <th>size</th>\n",
              "      <th>veterans</th>\n",
              "      <th>readiness</th>\n",
              "      <th>armored</th>\n",
              "      <th>deserters</th>\n",
              "    </tr>\n",
              "    <tr>\n",
              "      <th>origin</th>\n",
              "      <th></th>\n",
              "      <th></th>\n",
              "      <th></th>\n",
              "      <th></th>\n",
              "      <th></th>\n",
              "      <th></th>\n",
              "      <th></th>\n",
              "      <th></th>\n",
              "      <th></th>\n",
              "    </tr>\n",
              "  </thead>\n",
              "  <tbody>\n",
              "    <tr>\n",
              "      <th>Arizona</th>\n",
              "      <td>Nighthawks</td>\n",
              "      <td>1st</td>\n",
              "      <td>523</td>\n",
              "      <td>5</td>\n",
              "      <td>1045</td>\n",
              "      <td>1</td>\n",
              "      <td>1</td>\n",
              "      <td>1</td>\n",
              "      <td>4</td>\n",
              "    </tr>\n",
              "    <tr>\n",
              "      <th>Texas</th>\n",
              "      <td>Nighthawks</td>\n",
              "      <td>2nd</td>\n",
              "      <td>25</td>\n",
              "      <td>2</td>\n",
              "      <td>1099</td>\n",
              "      <td>62</td>\n",
              "      <td>3</td>\n",
              "      <td>1</td>\n",
              "      <td>31</td>\n",
              "    </tr>\n",
              "    <tr>\n",
              "      <th>Florida</th>\n",
              "      <td>Nighthawks</td>\n",
              "      <td>2nd</td>\n",
              "      <td>616</td>\n",
              "      <td>2</td>\n",
              "      <td>1400</td>\n",
              "      <td>26</td>\n",
              "      <td>3</td>\n",
              "      <td>1</td>\n",
              "      <td>2</td>\n",
              "    </tr>\n",
              "    <tr>\n",
              "      <th>Maine</th>\n",
              "      <td>Dragoons</td>\n",
              "      <td>1st</td>\n",
              "      <td>43</td>\n",
              "      <td>4</td>\n",
              "      <td>1592</td>\n",
              "      <td>73</td>\n",
              "      <td>2</td>\n",
              "      <td>0</td>\n",
              "      <td>3</td>\n",
              "    </tr>\n",
              "    <tr>\n",
              "      <th>Alaska</th>\n",
              "      <td>Dragoons</td>\n",
              "      <td>2nd</td>\n",
              "      <td>523</td>\n",
              "      <td>8</td>\n",
              "      <td>987</td>\n",
              "      <td>949</td>\n",
              "      <td>2</td>\n",
              "      <td>0</td>\n",
              "      <td>24</td>\n",
              "    </tr>\n",
              "    <tr>\n",
              "      <th>Louisana</th>\n",
              "      <td>Scouts</td>\n",
              "      <td>2nd</td>\n",
              "      <td>37</td>\n",
              "      <td>8</td>\n",
              "      <td>1099</td>\n",
              "      <td>63</td>\n",
              "      <td>2</td>\n",
              "      <td>1</td>\n",
              "      <td>2</td>\n",
              "    </tr>\n",
              "    <tr>\n",
              "      <th>Georgia</th>\n",
              "      <td>Scouts</td>\n",
              "      <td>2nd</td>\n",
              "      <td>35</td>\n",
              "      <td>9</td>\n",
              "      <td>1523</td>\n",
              "      <td>345</td>\n",
              "      <td>3</td>\n",
              "      <td>1</td>\n",
              "      <td>3</td>\n",
              "    </tr>\n",
              "  </tbody>\n",
              "</table>\n",
              "</div>"
            ],
            "text/plain": [
              "            regiment company  deaths  battles  size  veterans  readiness  \\\n",
              "origin                                                                     \n",
              "Arizona   Nighthawks     1st     523        5  1045         1          1   \n",
              "Texas     Nighthawks     2nd      25        2  1099        62          3   \n",
              "Florida   Nighthawks     2nd     616        2  1400        26          3   \n",
              "Maine       Dragoons     1st      43        4  1592        73          2   \n",
              "Alaska      Dragoons     2nd     523        8   987       949          2   \n",
              "Louisana      Scouts     2nd      37        8  1099        63          2   \n",
              "Georgia       Scouts     2nd      35        9  1523       345          3   \n",
              "\n",
              "          armored  deserters  \n",
              "origin                        \n",
              "Arizona         1          4  \n",
              "Texas           1         31  \n",
              "Florida         1          2  \n",
              "Maine           0          3  \n",
              "Alaska          0         24  \n",
              "Louisana        1          2  \n",
              "Georgia         1          3  "
            ]
          },
          "metadata": {
            "tags": []
          },
          "execution_count": 14
        }
      ]
    },
    {
      "cell_type": "markdown",
      "metadata": {
        "id": "0xXhDDiymasI",
        "colab_type": "text"
      },
      "source": [
        "### Step 15. Select all the regiments not named \"Dragoons\""
      ]
    },
    {
      "cell_type": "code",
      "metadata": {
        "id": "lJx21sMomasI",
        "colab_type": "code",
        "colab": {},
        "outputId": "05723366-d379-4536-a35b-0b03fd1f6cab"
      },
      "source": [
        "army[army[\"regiment\"] != \"Dragoons\"]"
      ],
      "execution_count": 0,
      "outputs": [
        {
          "output_type": "execute_result",
          "data": {
            "text/html": [
              "<div>\n",
              "<style scoped>\n",
              "    .dataframe tbody tr th:only-of-type {\n",
              "        vertical-align: middle;\n",
              "    }\n",
              "\n",
              "    .dataframe tbody tr th {\n",
              "        vertical-align: top;\n",
              "    }\n",
              "\n",
              "    .dataframe thead th {\n",
              "        text-align: right;\n",
              "    }\n",
              "</style>\n",
              "<table border=\"1\" class=\"dataframe\">\n",
              "  <thead>\n",
              "    <tr style=\"text-align: right;\">\n",
              "      <th></th>\n",
              "      <th>regiment</th>\n",
              "      <th>company</th>\n",
              "      <th>deaths</th>\n",
              "      <th>battles</th>\n",
              "      <th>size</th>\n",
              "      <th>veterans</th>\n",
              "      <th>readiness</th>\n",
              "      <th>armored</th>\n",
              "      <th>deserters</th>\n",
              "    </tr>\n",
              "    <tr>\n",
              "      <th>origin</th>\n",
              "      <th></th>\n",
              "      <th></th>\n",
              "      <th></th>\n",
              "      <th></th>\n",
              "      <th></th>\n",
              "      <th></th>\n",
              "      <th></th>\n",
              "      <th></th>\n",
              "      <th></th>\n",
              "    </tr>\n",
              "  </thead>\n",
              "  <tbody>\n",
              "    <tr>\n",
              "      <th>Arizona</th>\n",
              "      <td>Nighthawks</td>\n",
              "      <td>1st</td>\n",
              "      <td>523</td>\n",
              "      <td>5</td>\n",
              "      <td>1045</td>\n",
              "      <td>1</td>\n",
              "      <td>1</td>\n",
              "      <td>1</td>\n",
              "      <td>4</td>\n",
              "    </tr>\n",
              "    <tr>\n",
              "      <th>California</th>\n",
              "      <td>Nighthawks</td>\n",
              "      <td>1st</td>\n",
              "      <td>52</td>\n",
              "      <td>42</td>\n",
              "      <td>957</td>\n",
              "      <td>5</td>\n",
              "      <td>2</td>\n",
              "      <td>0</td>\n",
              "      <td>24</td>\n",
              "    </tr>\n",
              "    <tr>\n",
              "      <th>Texas</th>\n",
              "      <td>Nighthawks</td>\n",
              "      <td>2nd</td>\n",
              "      <td>25</td>\n",
              "      <td>2</td>\n",
              "      <td>1099</td>\n",
              "      <td>62</td>\n",
              "      <td>3</td>\n",
              "      <td>1</td>\n",
              "      <td>31</td>\n",
              "    </tr>\n",
              "    <tr>\n",
              "      <th>Florida</th>\n",
              "      <td>Nighthawks</td>\n",
              "      <td>2nd</td>\n",
              "      <td>616</td>\n",
              "      <td>2</td>\n",
              "      <td>1400</td>\n",
              "      <td>26</td>\n",
              "      <td>3</td>\n",
              "      <td>1</td>\n",
              "      <td>2</td>\n",
              "    </tr>\n",
              "    <tr>\n",
              "      <th>Oregon</th>\n",
              "      <td>Scouts</td>\n",
              "      <td>1st</td>\n",
              "      <td>62</td>\n",
              "      <td>4</td>\n",
              "      <td>973</td>\n",
              "      <td>48</td>\n",
              "      <td>2</td>\n",
              "      <td>0</td>\n",
              "      <td>2</td>\n",
              "    </tr>\n",
              "    <tr>\n",
              "      <th>Wyoming</th>\n",
              "      <td>Scouts</td>\n",
              "      <td>1st</td>\n",
              "      <td>73</td>\n",
              "      <td>7</td>\n",
              "      <td>1005</td>\n",
              "      <td>435</td>\n",
              "      <td>1</td>\n",
              "      <td>0</td>\n",
              "      <td>3</td>\n",
              "    </tr>\n",
              "    <tr>\n",
              "      <th>Louisana</th>\n",
              "      <td>Scouts</td>\n",
              "      <td>2nd</td>\n",
              "      <td>37</td>\n",
              "      <td>8</td>\n",
              "      <td>1099</td>\n",
              "      <td>63</td>\n",
              "      <td>2</td>\n",
              "      <td>1</td>\n",
              "      <td>2</td>\n",
              "    </tr>\n",
              "    <tr>\n",
              "      <th>Georgia</th>\n",
              "      <td>Scouts</td>\n",
              "      <td>2nd</td>\n",
              "      <td>35</td>\n",
              "      <td>9</td>\n",
              "      <td>1523</td>\n",
              "      <td>345</td>\n",
              "      <td>3</td>\n",
              "      <td>1</td>\n",
              "      <td>3</td>\n",
              "    </tr>\n",
              "  </tbody>\n",
              "</table>\n",
              "</div>"
            ],
            "text/plain": [
              "              regiment company  deaths  battles  size  veterans  readiness  \\\n",
              "origin                                                                       \n",
              "Arizona     Nighthawks     1st     523        5  1045         1          1   \n",
              "California  Nighthawks     1st      52       42   957         5          2   \n",
              "Texas       Nighthawks     2nd      25        2  1099        62          3   \n",
              "Florida     Nighthawks     2nd     616        2  1400        26          3   \n",
              "Oregon          Scouts     1st      62        4   973        48          2   \n",
              "Wyoming         Scouts     1st      73        7  1005       435          1   \n",
              "Louisana        Scouts     2nd      37        8  1099        63          2   \n",
              "Georgia         Scouts     2nd      35        9  1523       345          3   \n",
              "\n",
              "            armored  deserters  \n",
              "origin                          \n",
              "Arizona           1          4  \n",
              "California        0         24  \n",
              "Texas             1         31  \n",
              "Florida           1          2  \n",
              "Oregon            0          2  \n",
              "Wyoming           0          3  \n",
              "Louisana          1          2  \n",
              "Georgia           1          3  "
            ]
          },
          "metadata": {
            "tags": []
          },
          "execution_count": 15
        }
      ]
    },
    {
      "cell_type": "markdown",
      "metadata": {
        "id": "iXDAaog3masK",
        "colab_type": "text"
      },
      "source": [
        "### Step 16. Select the rows called Texas and Arizona"
      ]
    },
    {
      "cell_type": "code",
      "metadata": {
        "id": "jMkaFF5NmasL",
        "colab_type": "code",
        "colab": {},
        "outputId": "ff8f1776-bde5-4666-9d33-7411d413a7fe"
      },
      "source": [
        "army.loc[[\"Texas\", \"Arizona\"], :]"
      ],
      "execution_count": 0,
      "outputs": [
        {
          "output_type": "execute_result",
          "data": {
            "text/html": [
              "<div>\n",
              "<style scoped>\n",
              "    .dataframe tbody tr th:only-of-type {\n",
              "        vertical-align: middle;\n",
              "    }\n",
              "\n",
              "    .dataframe tbody tr th {\n",
              "        vertical-align: top;\n",
              "    }\n",
              "\n",
              "    .dataframe thead th {\n",
              "        text-align: right;\n",
              "    }\n",
              "</style>\n",
              "<table border=\"1\" class=\"dataframe\">\n",
              "  <thead>\n",
              "    <tr style=\"text-align: right;\">\n",
              "      <th></th>\n",
              "      <th>regiment</th>\n",
              "      <th>company</th>\n",
              "      <th>deaths</th>\n",
              "      <th>battles</th>\n",
              "      <th>size</th>\n",
              "      <th>veterans</th>\n",
              "      <th>readiness</th>\n",
              "      <th>armored</th>\n",
              "      <th>deserters</th>\n",
              "    </tr>\n",
              "    <tr>\n",
              "      <th>origin</th>\n",
              "      <th></th>\n",
              "      <th></th>\n",
              "      <th></th>\n",
              "      <th></th>\n",
              "      <th></th>\n",
              "      <th></th>\n",
              "      <th></th>\n",
              "      <th></th>\n",
              "      <th></th>\n",
              "    </tr>\n",
              "  </thead>\n",
              "  <tbody>\n",
              "    <tr>\n",
              "      <th>Texas</th>\n",
              "      <td>Nighthawks</td>\n",
              "      <td>2nd</td>\n",
              "      <td>25</td>\n",
              "      <td>2</td>\n",
              "      <td>1099</td>\n",
              "      <td>62</td>\n",
              "      <td>3</td>\n",
              "      <td>1</td>\n",
              "      <td>31</td>\n",
              "    </tr>\n",
              "    <tr>\n",
              "      <th>Arizona</th>\n",
              "      <td>Nighthawks</td>\n",
              "      <td>1st</td>\n",
              "      <td>523</td>\n",
              "      <td>5</td>\n",
              "      <td>1045</td>\n",
              "      <td>1</td>\n",
              "      <td>1</td>\n",
              "      <td>1</td>\n",
              "      <td>4</td>\n",
              "    </tr>\n",
              "  </tbody>\n",
              "</table>\n",
              "</div>"
            ],
            "text/plain": [
              "           regiment company  deaths  battles  size  veterans  readiness  \\\n",
              "origin                                                                    \n",
              "Texas    Nighthawks     2nd      25        2  1099        62          3   \n",
              "Arizona  Nighthawks     1st     523        5  1045         1          1   \n",
              "\n",
              "         armored  deserters  \n",
              "origin                       \n",
              "Texas          1         31  \n",
              "Arizona        1          4  "
            ]
          },
          "metadata": {
            "tags": []
          },
          "execution_count": 16
        }
      ]
    },
    {
      "cell_type": "markdown",
      "metadata": {
        "id": "G5VkueNNmasN",
        "colab_type": "text"
      },
      "source": [
        "### Step 17. Select the third cell in the row named Arizona"
      ]
    },
    {
      "cell_type": "code",
      "metadata": {
        "id": "qtOZ0VDAmasO",
        "colab_type": "code",
        "colab": {},
        "outputId": "c433ff7f-a4d2-4529-bbce-4b1c0416a668"
      },
      "source": [
        "army.loc[[\"Arizona\"]].iloc[:, 2]"
      ],
      "execution_count": 0,
      "outputs": [
        {
          "output_type": "execute_result",
          "data": {
            "text/plain": [
              "origin\n",
              "Arizona    523\n",
              "Name: deaths, dtype: int64"
            ]
          },
          "metadata": {
            "tags": []
          },
          "execution_count": 17
        }
      ]
    },
    {
      "cell_type": "markdown",
      "metadata": {
        "id": "enPRUVUNmasU",
        "colab_type": "text"
      },
      "source": [
        "### Step 18. Select the third cell down in the column named deaths"
      ]
    },
    {
      "cell_type": "code",
      "metadata": {
        "id": "JFzF-8pNmasU",
        "colab_type": "code",
        "colab": {},
        "outputId": "a7ed7731-fa4f-449a-e773-518a3cbd4319"
      },
      "source": [
        "army.loc[:, [\"deaths\"]].iloc[2]"
      ],
      "execution_count": 0,
      "outputs": [
        {
          "output_type": "execute_result",
          "data": {
            "text/plain": [
              "deaths    25\n",
              "Name: Texas, dtype: int64"
            ]
          },
          "metadata": {
            "tags": []
          },
          "execution_count": 18
        }
      ]
    },
    {
      "cell_type": "markdown",
      "metadata": {
        "id": "7ICg2EAMmasa",
        "colab_type": "text"
      },
      "source": [
        "# Ex - GroupBy"
      ]
    },
    {
      "cell_type": "markdown",
      "metadata": {
        "id": "Jh8svAYBmasa",
        "colab_type": "text"
      },
      "source": [
        "### Introduction:\n",
        "\n",
        "GroupBy can be summarized as Split-Apply-Combine.\n",
        "\n",
        "Special thanks to: https://github.com/justmarkham for sharing the dataset and materials.\n",
        "\n",
        "Check out this [Diagram](http://i.imgur.com/yjNkiwL.png)  \n",
        "### Step 1. Import the necessary libraries"
      ]
    },
    {
      "cell_type": "code",
      "metadata": {
        "id": "X83h6Llemasa",
        "colab_type": "code",
        "colab": {}
      },
      "source": [
        "import pandas as pd"
      ],
      "execution_count": 0,
      "outputs": []
    },
    {
      "cell_type": "markdown",
      "metadata": {
        "id": "LiWMy4AFmase",
        "colab_type": "text"
      },
      "source": [
        "### Step 2. Import the dataset from this [address](https://raw.githubusercontent.com/justmarkham/DAT8/master/data/drinks.csv). "
      ]
    },
    {
      "cell_type": "markdown",
      "metadata": {
        "id": "uGyzjgh-mase",
        "colab_type": "text"
      },
      "source": [
        "### Step 3. Assign it to a variable called drinks."
      ]
    },
    {
      "cell_type": "code",
      "metadata": {
        "id": "wmr5JNgEmasf",
        "colab_type": "code",
        "colab": {},
        "outputId": "9bd65644-bfa7-47f6-a7b3-2d975f41fb01"
      },
      "source": [
        "drinks = pd.read_csv('https://raw.githubusercontent.com/justmarkham/DAT8/master/data/drinks.csv')\n",
        "drinks.head()"
      ],
      "execution_count": 0,
      "outputs": [
        {
          "output_type": "execute_result",
          "data": {
            "text/html": [
              "<div>\n",
              "<table border=\"1\" class=\"dataframe\">\n",
              "  <thead>\n",
              "    <tr style=\"text-align: right;\">\n",
              "      <th></th>\n",
              "      <th>country</th>\n",
              "      <th>beer_servings</th>\n",
              "      <th>spirit_servings</th>\n",
              "      <th>wine_servings</th>\n",
              "      <th>total_litres_of_pure_alcohol</th>\n",
              "      <th>continent</th>\n",
              "    </tr>\n",
              "  </thead>\n",
              "  <tbody>\n",
              "    <tr>\n",
              "      <th>0</th>\n",
              "      <td>Afghanistan</td>\n",
              "      <td>0</td>\n",
              "      <td>0</td>\n",
              "      <td>0</td>\n",
              "      <td>0.0</td>\n",
              "      <td>AS</td>\n",
              "    </tr>\n",
              "    <tr>\n",
              "      <th>1</th>\n",
              "      <td>Albania</td>\n",
              "      <td>89</td>\n",
              "      <td>132</td>\n",
              "      <td>54</td>\n",
              "      <td>4.9</td>\n",
              "      <td>EU</td>\n",
              "    </tr>\n",
              "    <tr>\n",
              "      <th>2</th>\n",
              "      <td>Algeria</td>\n",
              "      <td>25</td>\n",
              "      <td>0</td>\n",
              "      <td>14</td>\n",
              "      <td>0.7</td>\n",
              "      <td>AF</td>\n",
              "    </tr>\n",
              "    <tr>\n",
              "      <th>3</th>\n",
              "      <td>Andorra</td>\n",
              "      <td>245</td>\n",
              "      <td>138</td>\n",
              "      <td>312</td>\n",
              "      <td>12.4</td>\n",
              "      <td>EU</td>\n",
              "    </tr>\n",
              "    <tr>\n",
              "      <th>4</th>\n",
              "      <td>Angola</td>\n",
              "      <td>217</td>\n",
              "      <td>57</td>\n",
              "      <td>45</td>\n",
              "      <td>5.9</td>\n",
              "      <td>AF</td>\n",
              "    </tr>\n",
              "  </tbody>\n",
              "</table>\n",
              "</div>"
            ],
            "text/plain": [
              "       country  beer_servings  spirit_servings  wine_servings  \\\n",
              "0  Afghanistan              0                0              0   \n",
              "1      Albania             89              132             54   \n",
              "2      Algeria             25                0             14   \n",
              "3      Andorra            245              138            312   \n",
              "4       Angola            217               57             45   \n",
              "\n",
              "   total_litres_of_pure_alcohol continent  \n",
              "0                           0.0        AS  \n",
              "1                           4.9        EU  \n",
              "2                           0.7        AF  \n",
              "3                          12.4        EU  \n",
              "4                           5.9        AF  "
            ]
          },
          "metadata": {
            "tags": []
          },
          "execution_count": 4
        }
      ]
    },
    {
      "cell_type": "markdown",
      "metadata": {
        "id": "Ack5dW2Kmash",
        "colab_type": "text"
      },
      "source": [
        "### Step 4. Which continent drinks more beer on average?"
      ]
    },
    {
      "cell_type": "code",
      "metadata": {
        "id": "udRv3BImmasi",
        "colab_type": "code",
        "colab": {},
        "outputId": "65e4c6e4-ec30-4ee1-fe11-fca40c1cac7e"
      },
      "source": [
        "drinks.groupby('continent').beer_servings.mean()"
      ],
      "execution_count": 0,
      "outputs": [
        {
          "output_type": "execute_result",
          "data": {
            "text/plain": [
              "continent\n",
              "AF     61.471698\n",
              "AS     37.045455\n",
              "EU    193.777778\n",
              "OC     89.687500\n",
              "SA    175.083333\n",
              "Name: beer_servings, dtype: float64"
            ]
          },
          "metadata": {
            "tags": []
          },
          "execution_count": 6
        }
      ]
    },
    {
      "cell_type": "markdown",
      "metadata": {
        "id": "5qm0dvOsmasl",
        "colab_type": "text"
      },
      "source": [
        "### Step 5. For each continent print the statistics for wine consumption."
      ]
    },
    {
      "cell_type": "code",
      "metadata": {
        "id": "xy_912OAmasl",
        "colab_type": "code",
        "colab": {},
        "outputId": "8ec241e8-94b5-474b-9270-5dc01e3e5ef2"
      },
      "source": [
        "drinks.groupby('continent').wine_servings.describe()"
      ],
      "execution_count": 0,
      "outputs": [
        {
          "output_type": "execute_result",
          "data": {
            "text/plain": [
              "continent       \n",
              "AF         count     53.000000\n",
              "           mean      16.264151\n",
              "           std       38.846419\n",
              "           min        0.000000\n",
              "           25%        1.000000\n",
              "           50%        2.000000\n",
              "           75%       13.000000\n",
              "           max      233.000000\n",
              "AS         count     44.000000\n",
              "           mean       9.068182\n",
              "           std       21.667034\n",
              "           min        0.000000\n",
              "           25%        0.000000\n",
              "           50%        1.000000\n",
              "           75%        8.000000\n",
              "           max      123.000000\n",
              "EU         count     45.000000\n",
              "           mean     142.222222\n",
              "           std       97.421738\n",
              "           min        0.000000\n",
              "           25%       59.000000\n",
              "           50%      128.000000\n",
              "           75%      195.000000\n",
              "           max      370.000000\n",
              "OC         count     16.000000\n",
              "           mean      35.625000\n",
              "           std       64.555790\n",
              "           min        0.000000\n",
              "           25%        1.000000\n",
              "           50%        8.500000\n",
              "           75%       23.250000\n",
              "           max      212.000000\n",
              "SA         count     12.000000\n",
              "           mean      62.416667\n",
              "           std       88.620189\n",
              "           min        1.000000\n",
              "           25%        3.000000\n",
              "           50%       12.000000\n",
              "           75%       98.500000\n",
              "           max      221.000000\n",
              "dtype: float64"
            ]
          },
          "metadata": {
            "tags": []
          },
          "execution_count": 9
        }
      ]
    },
    {
      "cell_type": "markdown",
      "metadata": {
        "id": "T_FLjBJ7masp",
        "colab_type": "text"
      },
      "source": [
        "### Step 6. Print the mean alcohol consumption per continent for every column"
      ]
    },
    {
      "cell_type": "code",
      "metadata": {
        "id": "tpyzY-Hcmasq",
        "colab_type": "code",
        "colab": {},
        "outputId": "d58068d8-f113-4442-d48a-dc918171be48"
      },
      "source": [
        "drinks.groupby('continent').mean()"
      ],
      "execution_count": 0,
      "outputs": [
        {
          "output_type": "execute_result",
          "data": {
            "text/html": [
              "<div>\n",
              "<table border=\"1\" class=\"dataframe\">\n",
              "  <thead>\n",
              "    <tr style=\"text-align: right;\">\n",
              "      <th></th>\n",
              "      <th>beer_servings</th>\n",
              "      <th>spirit_servings</th>\n",
              "      <th>wine_servings</th>\n",
              "      <th>total_litres_of_pure_alcohol</th>\n",
              "    </tr>\n",
              "    <tr>\n",
              "      <th>continent</th>\n",
              "      <th></th>\n",
              "      <th></th>\n",
              "      <th></th>\n",
              "      <th></th>\n",
              "    </tr>\n",
              "  </thead>\n",
              "  <tbody>\n",
              "    <tr>\n",
              "      <th>AF</th>\n",
              "      <td>61.471698</td>\n",
              "      <td>16.339623</td>\n",
              "      <td>16.264151</td>\n",
              "      <td>3.007547</td>\n",
              "    </tr>\n",
              "    <tr>\n",
              "      <th>AS</th>\n",
              "      <td>37.045455</td>\n",
              "      <td>60.840909</td>\n",
              "      <td>9.068182</td>\n",
              "      <td>2.170455</td>\n",
              "    </tr>\n",
              "    <tr>\n",
              "      <th>EU</th>\n",
              "      <td>193.777778</td>\n",
              "      <td>132.555556</td>\n",
              "      <td>142.222222</td>\n",
              "      <td>8.617778</td>\n",
              "    </tr>\n",
              "    <tr>\n",
              "      <th>OC</th>\n",
              "      <td>89.687500</td>\n",
              "      <td>58.437500</td>\n",
              "      <td>35.625000</td>\n",
              "      <td>3.381250</td>\n",
              "    </tr>\n",
              "    <tr>\n",
              "      <th>SA</th>\n",
              "      <td>175.083333</td>\n",
              "      <td>114.750000</td>\n",
              "      <td>62.416667</td>\n",
              "      <td>6.308333</td>\n",
              "    </tr>\n",
              "  </tbody>\n",
              "</table>\n",
              "</div>"
            ],
            "text/plain": [
              "           beer_servings  spirit_servings  wine_servings  \\\n",
              "continent                                                  \n",
              "AF             61.471698        16.339623      16.264151   \n",
              "AS             37.045455        60.840909       9.068182   \n",
              "EU            193.777778       132.555556     142.222222   \n",
              "OC             89.687500        58.437500      35.625000   \n",
              "SA            175.083333       114.750000      62.416667   \n",
              "\n",
              "           total_litres_of_pure_alcohol  \n",
              "continent                                \n",
              "AF                             3.007547  \n",
              "AS                             2.170455  \n",
              "EU                             8.617778  \n",
              "OC                             3.381250  \n",
              "SA                             6.308333  "
            ]
          },
          "metadata": {
            "tags": []
          },
          "execution_count": 10
        }
      ]
    },
    {
      "cell_type": "markdown",
      "metadata": {
        "id": "iDCGvR2emass",
        "colab_type": "text"
      },
      "source": [
        "### Step 7. Print the median alcohol consumption per continent for every column"
      ]
    },
    {
      "cell_type": "code",
      "metadata": {
        "id": "1j6G1Sovmast",
        "colab_type": "code",
        "colab": {},
        "outputId": "4a2f3664-aa99-4a57-e8d6-b1757ab1e4f9"
      },
      "source": [
        "drinks.groupby('continent').median()"
      ],
      "execution_count": 0,
      "outputs": [
        {
          "output_type": "execute_result",
          "data": {
            "text/html": [
              "<div>\n",
              "<table border=\"1\" class=\"dataframe\">\n",
              "  <thead>\n",
              "    <tr style=\"text-align: right;\">\n",
              "      <th></th>\n",
              "      <th>beer_servings</th>\n",
              "      <th>spirit_servings</th>\n",
              "      <th>wine_servings</th>\n",
              "      <th>total_litres_of_pure_alcohol</th>\n",
              "    </tr>\n",
              "    <tr>\n",
              "      <th>continent</th>\n",
              "      <th></th>\n",
              "      <th></th>\n",
              "      <th></th>\n",
              "      <th></th>\n",
              "    </tr>\n",
              "  </thead>\n",
              "  <tbody>\n",
              "    <tr>\n",
              "      <th>AF</th>\n",
              "      <td>32.0</td>\n",
              "      <td>3.0</td>\n",
              "      <td>2.0</td>\n",
              "      <td>2.30</td>\n",
              "    </tr>\n",
              "    <tr>\n",
              "      <th>AS</th>\n",
              "      <td>17.5</td>\n",
              "      <td>16.0</td>\n",
              "      <td>1.0</td>\n",
              "      <td>1.20</td>\n",
              "    </tr>\n",
              "    <tr>\n",
              "      <th>EU</th>\n",
              "      <td>219.0</td>\n",
              "      <td>122.0</td>\n",
              "      <td>128.0</td>\n",
              "      <td>10.00</td>\n",
              "    </tr>\n",
              "    <tr>\n",
              "      <th>OC</th>\n",
              "      <td>52.5</td>\n",
              "      <td>37.0</td>\n",
              "      <td>8.5</td>\n",
              "      <td>1.75</td>\n",
              "    </tr>\n",
              "    <tr>\n",
              "      <th>SA</th>\n",
              "      <td>162.5</td>\n",
              "      <td>108.5</td>\n",
              "      <td>12.0</td>\n",
              "      <td>6.85</td>\n",
              "    </tr>\n",
              "  </tbody>\n",
              "</table>\n",
              "</div>"
            ],
            "text/plain": [
              "           beer_servings  spirit_servings  wine_servings  \\\n",
              "continent                                                  \n",
              "AF                  32.0              3.0            2.0   \n",
              "AS                  17.5             16.0            1.0   \n",
              "EU                 219.0            122.0          128.0   \n",
              "OC                  52.5             37.0            8.5   \n",
              "SA                 162.5            108.5           12.0   \n",
              "\n",
              "           total_litres_of_pure_alcohol  \n",
              "continent                                \n",
              "AF                                 2.30  \n",
              "AS                                 1.20  \n",
              "EU                                10.00  \n",
              "OC                                 1.75  \n",
              "SA                                 6.85  "
            ]
          },
          "metadata": {
            "tags": []
          },
          "execution_count": 14
        }
      ]
    },
    {
      "cell_type": "markdown",
      "metadata": {
        "id": "vSBoKzZtmasx",
        "colab_type": "text"
      },
      "source": [
        "### Step 8. Print the mean, min and max values for spirit consumption.\n",
        "#### This time output a DataFrame"
      ]
    },
    {
      "cell_type": "code",
      "metadata": {
        "id": "Bm2hQyykmasx",
        "colab_type": "code",
        "colab": {},
        "outputId": "ce3f0d8f-c6a3-4777-ab73-abce26d8c3e4"
      },
      "source": [
        "drinks.groupby('continent').spirit_servings.agg(['mean', 'min', 'max'])"
      ],
      "execution_count": 0,
      "outputs": [
        {
          "output_type": "execute_result",
          "data": {
            "text/html": [
              "<div>\n",
              "<table border=\"1\" class=\"dataframe\">\n",
              "  <thead>\n",
              "    <tr style=\"text-align: right;\">\n",
              "      <th></th>\n",
              "      <th>mean</th>\n",
              "      <th>min</th>\n",
              "      <th>max</th>\n",
              "    </tr>\n",
              "    <tr>\n",
              "      <th>continent</th>\n",
              "      <th></th>\n",
              "      <th></th>\n",
              "      <th></th>\n",
              "    </tr>\n",
              "  </thead>\n",
              "  <tbody>\n",
              "    <tr>\n",
              "      <th>AF</th>\n",
              "      <td>16.339623</td>\n",
              "      <td>0</td>\n",
              "      <td>152</td>\n",
              "    </tr>\n",
              "    <tr>\n",
              "      <th>AS</th>\n",
              "      <td>60.840909</td>\n",
              "      <td>0</td>\n",
              "      <td>326</td>\n",
              "    </tr>\n",
              "    <tr>\n",
              "      <th>EU</th>\n",
              "      <td>132.555556</td>\n",
              "      <td>0</td>\n",
              "      <td>373</td>\n",
              "    </tr>\n",
              "    <tr>\n",
              "      <th>OC</th>\n",
              "      <td>58.437500</td>\n",
              "      <td>0</td>\n",
              "      <td>254</td>\n",
              "    </tr>\n",
              "    <tr>\n",
              "      <th>SA</th>\n",
              "      <td>114.750000</td>\n",
              "      <td>25</td>\n",
              "      <td>302</td>\n",
              "    </tr>\n",
              "  </tbody>\n",
              "</table>\n",
              "</div>"
            ],
            "text/plain": [
              "                 mean  min  max\n",
              "continent                      \n",
              "AF          16.339623    0  152\n",
              "AS          60.840909    0  326\n",
              "EU         132.555556    0  373\n",
              "OC          58.437500    0  254\n",
              "SA         114.750000   25  302"
            ]
          },
          "metadata": {
            "tags": []
          },
          "execution_count": 15
        }
      ]
    },
    {
      "cell_type": "markdown",
      "metadata": {
        "id": "5f3ky2RYmas0",
        "colab_type": "text"
      },
      "source": [
        "# United States - Crime Rates - 1960 - 2014"
      ]
    },
    {
      "cell_type": "markdown",
      "metadata": {
        "id": "bkF2KgYZmas1",
        "colab_type": "text"
      },
      "source": [
        "### Introduction:\n",
        "\n",
        "This time you will create a data \n",
        "\n",
        "Special thanks to: https://github.com/justmarkham for sharing the dataset and materials.\n",
        "\n",
        "### Step 1. Import the necessary libraries"
      ]
    },
    {
      "cell_type": "code",
      "metadata": {
        "id": "MsFKvnEwmas1",
        "colab_type": "code",
        "colab": {}
      },
      "source": [
        "import numpy as np\n",
        "import pandas as pd"
      ],
      "execution_count": 0,
      "outputs": []
    },
    {
      "cell_type": "markdown",
      "metadata": {
        "id": "d6HJ0RsDmas5",
        "colab_type": "text"
      },
      "source": [
        "### Step 2. Import the dataset from this [address](https://raw.githubusercontent.com/guipsamora/pandas_exercises/master/04_Apply/US_Crime_Rates/US_Crime_Rates_1960_2014.csv). "
      ]
    },
    {
      "cell_type": "markdown",
      "metadata": {
        "id": "ZLLMcPRLmas5",
        "colab_type": "text"
      },
      "source": [
        "### Step 3. Assign it to a variable called crime."
      ]
    },
    {
      "cell_type": "code",
      "metadata": {
        "id": "9BK9ul5Rmas6",
        "colab_type": "code",
        "colab": {},
        "outputId": "b86dd6be-f3c3-476c-f9c5-a75bf480e517"
      },
      "source": [
        "url = \"https://raw.githubusercontent.com/guipsamora/pandas_exercises/master/04_Apply/US_Crime_Rates/US_Crime_Rates_1960_2014.csv\"\n",
        "crime = pd.read_csv(url)\n",
        "crime.head()"
      ],
      "execution_count": 0,
      "outputs": [
        {
          "output_type": "execute_result",
          "data": {
            "text/html": [
              "<div>\n",
              "<table border=\"1\" class=\"dataframe\">\n",
              "  <thead>\n",
              "    <tr style=\"text-align: right;\">\n",
              "      <th></th>\n",
              "      <th>Year</th>\n",
              "      <th>Population</th>\n",
              "      <th>Total</th>\n",
              "      <th>Violent</th>\n",
              "      <th>Property</th>\n",
              "      <th>Murder</th>\n",
              "      <th>Forcible_Rape</th>\n",
              "      <th>Robbery</th>\n",
              "      <th>Aggravated_assault</th>\n",
              "      <th>Burglary</th>\n",
              "      <th>Larceny_Theft</th>\n",
              "      <th>Vehicle_Theft</th>\n",
              "    </tr>\n",
              "  </thead>\n",
              "  <tbody>\n",
              "    <tr>\n",
              "      <th>0</th>\n",
              "      <td>1960</td>\n",
              "      <td>179323175</td>\n",
              "      <td>3384200</td>\n",
              "      <td>288460</td>\n",
              "      <td>3095700</td>\n",
              "      <td>9110</td>\n",
              "      <td>17190</td>\n",
              "      <td>107840</td>\n",
              "      <td>154320</td>\n",
              "      <td>912100</td>\n",
              "      <td>1855400</td>\n",
              "      <td>328200</td>\n",
              "    </tr>\n",
              "    <tr>\n",
              "      <th>1</th>\n",
              "      <td>1961</td>\n",
              "      <td>182992000</td>\n",
              "      <td>3488000</td>\n",
              "      <td>289390</td>\n",
              "      <td>3198600</td>\n",
              "      <td>8740</td>\n",
              "      <td>17220</td>\n",
              "      <td>106670</td>\n",
              "      <td>156760</td>\n",
              "      <td>949600</td>\n",
              "      <td>1913000</td>\n",
              "      <td>336000</td>\n",
              "    </tr>\n",
              "    <tr>\n",
              "      <th>2</th>\n",
              "      <td>1962</td>\n",
              "      <td>185771000</td>\n",
              "      <td>3752200</td>\n",
              "      <td>301510</td>\n",
              "      <td>3450700</td>\n",
              "      <td>8530</td>\n",
              "      <td>17550</td>\n",
              "      <td>110860</td>\n",
              "      <td>164570</td>\n",
              "      <td>994300</td>\n",
              "      <td>2089600</td>\n",
              "      <td>366800</td>\n",
              "    </tr>\n",
              "    <tr>\n",
              "      <th>3</th>\n",
              "      <td>1963</td>\n",
              "      <td>188483000</td>\n",
              "      <td>4109500</td>\n",
              "      <td>316970</td>\n",
              "      <td>3792500</td>\n",
              "      <td>8640</td>\n",
              "      <td>17650</td>\n",
              "      <td>116470</td>\n",
              "      <td>174210</td>\n",
              "      <td>1086400</td>\n",
              "      <td>2297800</td>\n",
              "      <td>408300</td>\n",
              "    </tr>\n",
              "    <tr>\n",
              "      <th>4</th>\n",
              "      <td>1964</td>\n",
              "      <td>191141000</td>\n",
              "      <td>4564600</td>\n",
              "      <td>364220</td>\n",
              "      <td>4200400</td>\n",
              "      <td>9360</td>\n",
              "      <td>21420</td>\n",
              "      <td>130390</td>\n",
              "      <td>203050</td>\n",
              "      <td>1213200</td>\n",
              "      <td>2514400</td>\n",
              "      <td>472800</td>\n",
              "    </tr>\n",
              "  </tbody>\n",
              "</table>\n",
              "</div>"
            ],
            "text/plain": [
              "   Year  Population    Total  Violent  Property  Murder  Forcible_Rape  \\\n",
              "0  1960   179323175  3384200   288460   3095700    9110          17190   \n",
              "1  1961   182992000  3488000   289390   3198600    8740          17220   \n",
              "2  1962   185771000  3752200   301510   3450700    8530          17550   \n",
              "3  1963   188483000  4109500   316970   3792500    8640          17650   \n",
              "4  1964   191141000  4564600   364220   4200400    9360          21420   \n",
              "\n",
              "   Robbery  Aggravated_assault  Burglary  Larceny_Theft  Vehicle_Theft  \n",
              "0   107840              154320    912100        1855400         328200  \n",
              "1   106670              156760    949600        1913000         336000  \n",
              "2   110860              164570    994300        2089600         366800  \n",
              "3   116470              174210   1086400        2297800         408300  \n",
              "4   130390              203050   1213200        2514400         472800  "
            ]
          },
          "metadata": {
            "tags": []
          },
          "execution_count": 265
        }
      ]
    },
    {
      "cell_type": "markdown",
      "metadata": {
        "id": "H1jChuLGmas8",
        "colab_type": "text"
      },
      "source": [
        "### Step 4. What is the type of the columns?"
      ]
    },
    {
      "cell_type": "code",
      "metadata": {
        "id": "jfCW8sF-mas9",
        "colab_type": "code",
        "colab": {},
        "outputId": "d2992437-848c-40db-fe7c-ea8d5f2734a2"
      },
      "source": [
        "crime.info()"
      ],
      "execution_count": 0,
      "outputs": [
        {
          "output_type": "stream",
          "text": [
            "<class 'pandas.core.frame.DataFrame'>\n",
            "RangeIndex: 55 entries, 0 to 54\n",
            "Data columns (total 12 columns):\n",
            "Year                  55 non-null int64\n",
            "Population            55 non-null int64\n",
            "Total                 55 non-null int64\n",
            "Violent               55 non-null int64\n",
            "Property              55 non-null int64\n",
            "Murder                55 non-null int64\n",
            "Forcible_Rape         55 non-null int64\n",
            "Robbery               55 non-null int64\n",
            "Aggravated_assault    55 non-null int64\n",
            "Burglary              55 non-null int64\n",
            "Larceny_Theft         55 non-null int64\n",
            "Vehicle_Theft         55 non-null int64\n",
            "dtypes: int64(12)\n",
            "memory usage: 5.2 KB\n"
          ],
          "name": "stdout"
        }
      ]
    },
    {
      "cell_type": "markdown",
      "metadata": {
        "id": "IBJ1cSPDmas_",
        "colab_type": "text"
      },
      "source": [
        "##### Have you noticed that the type of Year is int64. But pandas has a different type to work with Time Series. Let's see it now.\n",
        "\n",
        "### Step 5. Convert the type of the column Year to datetime64"
      ]
    },
    {
      "cell_type": "code",
      "metadata": {
        "id": "mXdUHBxxmatD",
        "colab_type": "code",
        "colab": {},
        "outputId": "2118b7c6-ee2a-4c90-b323-a2138cd20c9e"
      },
      "source": [
        "# pd.to_datetime(crime)\n",
        "crime.Year = pd.to_datetime(crime.Year, format='%Y')\n",
        "crime.info()"
      ],
      "execution_count": 0,
      "outputs": [
        {
          "output_type": "stream",
          "text": [
            "<class 'pandas.core.frame.DataFrame'>\n",
            "RangeIndex: 55 entries, 0 to 54\n",
            "Data columns (total 12 columns):\n",
            "Year                  55 non-null datetime64[ns]\n",
            "Population            55 non-null int64\n",
            "Total                 55 non-null int64\n",
            "Violent               55 non-null int64\n",
            "Property              55 non-null int64\n",
            "Murder                55 non-null int64\n",
            "Forcible_Rape         55 non-null int64\n",
            "Robbery               55 non-null int64\n",
            "Aggravated_assault    55 non-null int64\n",
            "Burglary              55 non-null int64\n",
            "Larceny_Theft         55 non-null int64\n",
            "Vehicle_Theft         55 non-null int64\n",
            "dtypes: datetime64[ns](1), int64(11)\n",
            "memory usage: 5.2 KB\n"
          ],
          "name": "stdout"
        }
      ]
    },
    {
      "cell_type": "markdown",
      "metadata": {
        "id": "OCEW-4aBmatF",
        "colab_type": "text"
      },
      "source": [
        "### Step 6. Set the Year column as the index of the dataframe"
      ]
    },
    {
      "cell_type": "code",
      "metadata": {
        "id": "-FoTyfh4matF",
        "colab_type": "code",
        "colab": {},
        "outputId": "610fb745-1cc8-4899-836e-6c169caa1957"
      },
      "source": [
        "crime = crime.set_index('Year', drop = True)\n",
        "crime.head()"
      ],
      "execution_count": 0,
      "outputs": [
        {
          "output_type": "execute_result",
          "data": {
            "text/html": [
              "<div>\n",
              "<table border=\"1\" class=\"dataframe\">\n",
              "  <thead>\n",
              "    <tr style=\"text-align: right;\">\n",
              "      <th></th>\n",
              "      <th>Population</th>\n",
              "      <th>Total</th>\n",
              "      <th>Violent</th>\n",
              "      <th>Property</th>\n",
              "      <th>Murder</th>\n",
              "      <th>Forcible_Rape</th>\n",
              "      <th>Robbery</th>\n",
              "      <th>Aggravated_assault</th>\n",
              "      <th>Burglary</th>\n",
              "      <th>Larceny_Theft</th>\n",
              "      <th>Vehicle_Theft</th>\n",
              "    </tr>\n",
              "    <tr>\n",
              "      <th>Year</th>\n",
              "      <th></th>\n",
              "      <th></th>\n",
              "      <th></th>\n",
              "      <th></th>\n",
              "      <th></th>\n",
              "      <th></th>\n",
              "      <th></th>\n",
              "      <th></th>\n",
              "      <th></th>\n",
              "      <th></th>\n",
              "      <th></th>\n",
              "    </tr>\n",
              "  </thead>\n",
              "  <tbody>\n",
              "    <tr>\n",
              "      <th>1960-01-01</th>\n",
              "      <td>179323175</td>\n",
              "      <td>3384200</td>\n",
              "      <td>288460</td>\n",
              "      <td>3095700</td>\n",
              "      <td>9110</td>\n",
              "      <td>17190</td>\n",
              "      <td>107840</td>\n",
              "      <td>154320</td>\n",
              "      <td>912100</td>\n",
              "      <td>1855400</td>\n",
              "      <td>328200</td>\n",
              "    </tr>\n",
              "    <tr>\n",
              "      <th>1961-01-01</th>\n",
              "      <td>182992000</td>\n",
              "      <td>3488000</td>\n",
              "      <td>289390</td>\n",
              "      <td>3198600</td>\n",
              "      <td>8740</td>\n",
              "      <td>17220</td>\n",
              "      <td>106670</td>\n",
              "      <td>156760</td>\n",
              "      <td>949600</td>\n",
              "      <td>1913000</td>\n",
              "      <td>336000</td>\n",
              "    </tr>\n",
              "    <tr>\n",
              "      <th>1962-01-01</th>\n",
              "      <td>185771000</td>\n",
              "      <td>3752200</td>\n",
              "      <td>301510</td>\n",
              "      <td>3450700</td>\n",
              "      <td>8530</td>\n",
              "      <td>17550</td>\n",
              "      <td>110860</td>\n",
              "      <td>164570</td>\n",
              "      <td>994300</td>\n",
              "      <td>2089600</td>\n",
              "      <td>366800</td>\n",
              "    </tr>\n",
              "    <tr>\n",
              "      <th>1963-01-01</th>\n",
              "      <td>188483000</td>\n",
              "      <td>4109500</td>\n",
              "      <td>316970</td>\n",
              "      <td>3792500</td>\n",
              "      <td>8640</td>\n",
              "      <td>17650</td>\n",
              "      <td>116470</td>\n",
              "      <td>174210</td>\n",
              "      <td>1086400</td>\n",
              "      <td>2297800</td>\n",
              "      <td>408300</td>\n",
              "    </tr>\n",
              "    <tr>\n",
              "      <th>1964-01-01</th>\n",
              "      <td>191141000</td>\n",
              "      <td>4564600</td>\n",
              "      <td>364220</td>\n",
              "      <td>4200400</td>\n",
              "      <td>9360</td>\n",
              "      <td>21420</td>\n",
              "      <td>130390</td>\n",
              "      <td>203050</td>\n",
              "      <td>1213200</td>\n",
              "      <td>2514400</td>\n",
              "      <td>472800</td>\n",
              "    </tr>\n",
              "  </tbody>\n",
              "</table>\n",
              "</div>"
            ],
            "text/plain": [
              "            Population    Total  Violent  Property  Murder  Forcible_Rape  \\\n",
              "Year                                                                        \n",
              "1960-01-01   179323175  3384200   288460   3095700    9110          17190   \n",
              "1961-01-01   182992000  3488000   289390   3198600    8740          17220   \n",
              "1962-01-01   185771000  3752200   301510   3450700    8530          17550   \n",
              "1963-01-01   188483000  4109500   316970   3792500    8640          17650   \n",
              "1964-01-01   191141000  4564600   364220   4200400    9360          21420   \n",
              "\n",
              "            Robbery  Aggravated_assault  Burglary  Larceny_Theft  \\\n",
              "Year                                                               \n",
              "1960-01-01   107840              154320    912100        1855400   \n",
              "1961-01-01   106670              156760    949600        1913000   \n",
              "1962-01-01   110860              164570    994300        2089600   \n",
              "1963-01-01   116470              174210   1086400        2297800   \n",
              "1964-01-01   130390              203050   1213200        2514400   \n",
              "\n",
              "            Vehicle_Theft  \n",
              "Year                       \n",
              "1960-01-01         328200  \n",
              "1961-01-01         336000  \n",
              "1962-01-01         366800  \n",
              "1963-01-01         408300  \n",
              "1964-01-01         472800  "
            ]
          },
          "metadata": {
            "tags": []
          },
          "execution_count": 268
        }
      ]
    },
    {
      "cell_type": "markdown",
      "metadata": {
        "id": "2jptCUJ9matH",
        "colab_type": "text"
      },
      "source": [
        "### Step 7. Delete the Total column"
      ]
    },
    {
      "cell_type": "code",
      "metadata": {
        "id": "CiJep4CYmatH",
        "colab_type": "code",
        "colab": {},
        "outputId": "217514e9-0fbd-4746-ff9d-5cea3192cb1e"
      },
      "source": [
        "del crime['Total']\n",
        "crime.head()"
      ],
      "execution_count": 0,
      "outputs": [
        {
          "output_type": "execute_result",
          "data": {
            "text/html": [
              "<div>\n",
              "<table border=\"1\" class=\"dataframe\">\n",
              "  <thead>\n",
              "    <tr style=\"text-align: right;\">\n",
              "      <th></th>\n",
              "      <th>Population</th>\n",
              "      <th>Violent</th>\n",
              "      <th>Property</th>\n",
              "      <th>Murder</th>\n",
              "      <th>Forcible_Rape</th>\n",
              "      <th>Robbery</th>\n",
              "      <th>Aggravated_assault</th>\n",
              "      <th>Burglary</th>\n",
              "      <th>Larceny_Theft</th>\n",
              "      <th>Vehicle_Theft</th>\n",
              "    </tr>\n",
              "    <tr>\n",
              "      <th>Year</th>\n",
              "      <th></th>\n",
              "      <th></th>\n",
              "      <th></th>\n",
              "      <th></th>\n",
              "      <th></th>\n",
              "      <th></th>\n",
              "      <th></th>\n",
              "      <th></th>\n",
              "      <th></th>\n",
              "      <th></th>\n",
              "    </tr>\n",
              "  </thead>\n",
              "  <tbody>\n",
              "    <tr>\n",
              "      <th>1960-01-01</th>\n",
              "      <td>179323175</td>\n",
              "      <td>288460</td>\n",
              "      <td>3095700</td>\n",
              "      <td>9110</td>\n",
              "      <td>17190</td>\n",
              "      <td>107840</td>\n",
              "      <td>154320</td>\n",
              "      <td>912100</td>\n",
              "      <td>1855400</td>\n",
              "      <td>328200</td>\n",
              "    </tr>\n",
              "    <tr>\n",
              "      <th>1961-01-01</th>\n",
              "      <td>182992000</td>\n",
              "      <td>289390</td>\n",
              "      <td>3198600</td>\n",
              "      <td>8740</td>\n",
              "      <td>17220</td>\n",
              "      <td>106670</td>\n",
              "      <td>156760</td>\n",
              "      <td>949600</td>\n",
              "      <td>1913000</td>\n",
              "      <td>336000</td>\n",
              "    </tr>\n",
              "    <tr>\n",
              "      <th>1962-01-01</th>\n",
              "      <td>185771000</td>\n",
              "      <td>301510</td>\n",
              "      <td>3450700</td>\n",
              "      <td>8530</td>\n",
              "      <td>17550</td>\n",
              "      <td>110860</td>\n",
              "      <td>164570</td>\n",
              "      <td>994300</td>\n",
              "      <td>2089600</td>\n",
              "      <td>366800</td>\n",
              "    </tr>\n",
              "    <tr>\n",
              "      <th>1963-01-01</th>\n",
              "      <td>188483000</td>\n",
              "      <td>316970</td>\n",
              "      <td>3792500</td>\n",
              "      <td>8640</td>\n",
              "      <td>17650</td>\n",
              "      <td>116470</td>\n",
              "      <td>174210</td>\n",
              "      <td>1086400</td>\n",
              "      <td>2297800</td>\n",
              "      <td>408300</td>\n",
              "    </tr>\n",
              "    <tr>\n",
              "      <th>1964-01-01</th>\n",
              "      <td>191141000</td>\n",
              "      <td>364220</td>\n",
              "      <td>4200400</td>\n",
              "      <td>9360</td>\n",
              "      <td>21420</td>\n",
              "      <td>130390</td>\n",
              "      <td>203050</td>\n",
              "      <td>1213200</td>\n",
              "      <td>2514400</td>\n",
              "      <td>472800</td>\n",
              "    </tr>\n",
              "  </tbody>\n",
              "</table>\n",
              "</div>"
            ],
            "text/plain": [
              "            Population  Violent  Property  Murder  Forcible_Rape  Robbery  \\\n",
              "Year                                                                        \n",
              "1960-01-01   179323175   288460   3095700    9110          17190   107840   \n",
              "1961-01-01   182992000   289390   3198600    8740          17220   106670   \n",
              "1962-01-01   185771000   301510   3450700    8530          17550   110860   \n",
              "1963-01-01   188483000   316970   3792500    8640          17650   116470   \n",
              "1964-01-01   191141000   364220   4200400    9360          21420   130390   \n",
              "\n",
              "            Aggravated_assault  Burglary  Larceny_Theft  Vehicle_Theft  \n",
              "Year                                                                    \n",
              "1960-01-01              154320    912100        1855400         328200  \n",
              "1961-01-01              156760    949600        1913000         336000  \n",
              "1962-01-01              164570    994300        2089600         366800  \n",
              "1963-01-01              174210   1086400        2297800         408300  \n",
              "1964-01-01              203050   1213200        2514400         472800  "
            ]
          },
          "metadata": {
            "tags": []
          },
          "execution_count": 269
        }
      ]
    },
    {
      "cell_type": "markdown",
      "metadata": {
        "id": "neOcq7CfmatK",
        "colab_type": "text"
      },
      "source": [
        "### Step 8. Group the year by decades and sum the values\n",
        "\n",
        "#### Pay attention to the Population column number, summing this column is a mistake"
      ]
    },
    {
      "cell_type": "code",
      "metadata": {
        "scrolled": true,
        "id": "xoW_mwOXmatK",
        "colab_type": "code",
        "colab": {},
        "outputId": "56afa498-7673-45ec-b24c-338ed84ba928"
      },
      "source": [
        "# To learn more about .resample (https://pandas.pydata.org/pandas-docs/stable/generated/pandas.DataFrame.resample.html)\n",
        "# To learn more about Offset Aliases (http://pandas.pydata.org/pandas-docs/stable/timeseries.html#offset-aliases)\n",
        "\n",
        "# Uses resample to sum each decade\n",
        "crimes = crime.resample('10AS').sum()\n",
        "\n",
        "# Uses resample to get the max value only for the \"Population\" column\n",
        "population = crime['Population'].resample('10AS').max()\n",
        "\n",
        "# Updating the \"Population\" column\n",
        "crimes['Population'] = population\n",
        "\n",
        "crimes"
      ],
      "execution_count": 0,
      "outputs": [
        {
          "output_type": "execute_result",
          "data": {
            "text/html": [
              "<div>\n",
              "<table border=\"1\" class=\"dataframe\">\n",
              "  <thead>\n",
              "    <tr style=\"text-align: right;\">\n",
              "      <th></th>\n",
              "      <th>Population</th>\n",
              "      <th>Violent</th>\n",
              "      <th>Property</th>\n",
              "      <th>Murder</th>\n",
              "      <th>Forcible_Rape</th>\n",
              "      <th>Robbery</th>\n",
              "      <th>Aggravated_assault</th>\n",
              "      <th>Burglary</th>\n",
              "      <th>Larceny_Theft</th>\n",
              "      <th>Vehicle_Theft</th>\n",
              "    </tr>\n",
              "  </thead>\n",
              "  <tbody>\n",
              "    <tr>\n",
              "      <th>1960</th>\n",
              "      <td>201385000</td>\n",
              "      <td>4134930</td>\n",
              "      <td>45160900</td>\n",
              "      <td>106180</td>\n",
              "      <td>236720</td>\n",
              "      <td>1633510</td>\n",
              "      <td>2158520</td>\n",
              "      <td>13321100</td>\n",
              "      <td>26547700</td>\n",
              "      <td>5292100</td>\n",
              "    </tr>\n",
              "    <tr>\n",
              "      <th>1970</th>\n",
              "      <td>220099000</td>\n",
              "      <td>9607930</td>\n",
              "      <td>91383800</td>\n",
              "      <td>192230</td>\n",
              "      <td>554570</td>\n",
              "      <td>4159020</td>\n",
              "      <td>4702120</td>\n",
              "      <td>28486000</td>\n",
              "      <td>53157800</td>\n",
              "      <td>9739900</td>\n",
              "    </tr>\n",
              "    <tr>\n",
              "      <th>1980</th>\n",
              "      <td>248239000</td>\n",
              "      <td>14074328</td>\n",
              "      <td>117048900</td>\n",
              "      <td>206439</td>\n",
              "      <td>865639</td>\n",
              "      <td>5383109</td>\n",
              "      <td>7619130</td>\n",
              "      <td>33073494</td>\n",
              "      <td>72040253</td>\n",
              "      <td>11935411</td>\n",
              "    </tr>\n",
              "    <tr>\n",
              "      <th>1990</th>\n",
              "      <td>272690813</td>\n",
              "      <td>17527048</td>\n",
              "      <td>119053499</td>\n",
              "      <td>211664</td>\n",
              "      <td>998827</td>\n",
              "      <td>5748930</td>\n",
              "      <td>10568963</td>\n",
              "      <td>26750015</td>\n",
              "      <td>77679366</td>\n",
              "      <td>14624418</td>\n",
              "    </tr>\n",
              "    <tr>\n",
              "      <th>2000</th>\n",
              "      <td>307006550</td>\n",
              "      <td>13968056</td>\n",
              "      <td>100944369</td>\n",
              "      <td>163068</td>\n",
              "      <td>922499</td>\n",
              "      <td>4230366</td>\n",
              "      <td>8652124</td>\n",
              "      <td>21565176</td>\n",
              "      <td>67970291</td>\n",
              "      <td>11412834</td>\n",
              "    </tr>\n",
              "    <tr>\n",
              "      <th>2010</th>\n",
              "      <td>318857056</td>\n",
              "      <td>6072017</td>\n",
              "      <td>44095950</td>\n",
              "      <td>72867</td>\n",
              "      <td>421059</td>\n",
              "      <td>1749809</td>\n",
              "      <td>3764142</td>\n",
              "      <td>10125170</td>\n",
              "      <td>30401698</td>\n",
              "      <td>3569080</td>\n",
              "    </tr>\n",
              "  </tbody>\n",
              "</table>\n",
              "</div>"
            ],
            "text/plain": [
              "      Population   Violent   Property  Murder  Forcible_Rape  Robbery  \\\n",
              "1960   201385000   4134930   45160900  106180         236720  1633510   \n",
              "1970   220099000   9607930   91383800  192230         554570  4159020   \n",
              "1980   248239000  14074328  117048900  206439         865639  5383109   \n",
              "1990   272690813  17527048  119053499  211664         998827  5748930   \n",
              "2000   307006550  13968056  100944369  163068         922499  4230366   \n",
              "2010   318857056   6072017   44095950   72867         421059  1749809   \n",
              "\n",
              "      Aggravated_assault  Burglary  Larceny_Theft  Vehicle_Theft  \n",
              "1960             2158520  13321100       26547700        5292100  \n",
              "1970             4702120  28486000       53157800        9739900  \n",
              "1980             7619130  33073494       72040253       11935411  \n",
              "1990            10568963  26750015       77679366       14624418  \n",
              "2000             8652124  21565176       67970291       11412834  \n",
              "2010             3764142  10125170       30401698        3569080  "
            ]
          },
          "metadata": {
            "tags": []
          },
          "execution_count": 270
        }
      ]
    },
    {
      "cell_type": "markdown",
      "metadata": {
        "id": "pgsoz52BmatM",
        "colab_type": "text"
      },
      "source": [
        "### Step 9. What is the most dangerous decade to live in the US?"
      ]
    },
    {
      "cell_type": "code",
      "metadata": {
        "id": "AAGEyjUYmatM",
        "colab_type": "code",
        "colab": {},
        "outputId": "c228c06a-9df6-4421-c335-4627429125cc"
      },
      "source": [
        "# apparently the 90s was a pretty dangerous time in the US\n",
        "crime.idxmax(0)"
      ],
      "execution_count": 0,
      "outputs": [
        {
          "output_type": "execute_result",
          "data": {
            "text/plain": [
              "Population            2010\n",
              "Violent               1990\n",
              "Property              1990\n",
              "Murder                1990\n",
              "Forcible_Rape         1990\n",
              "Robbery               1990\n",
              "Aggravated_assault    1990\n",
              "Burglary              1980\n",
              "Larceny_Theft         1990\n",
              "Vehicle_Theft         1990\n",
              "dtype: int64"
            ]
          },
          "metadata": {
            "tags": []
          },
          "execution_count": 276
        }
      ]
    },
    {
      "cell_type": "markdown",
      "metadata": {
        "id": "98vmixmKmatO",
        "colab_type": "text"
      },
      "source": [
        "# Fictitious Names"
      ]
    },
    {
      "cell_type": "markdown",
      "metadata": {
        "id": "3qQq70YRmatO",
        "colab_type": "text"
      },
      "source": [
        "### Introduction:\n",
        "\n",
        "This time you will create a data again \n",
        "\n",
        "Special thanks to [Chris Albon](http://chrisalbon.com/) for sharing the dataset and materials.\n",
        "All the credits to this exercise belongs to him.  \n",
        "\n",
        "In order to understand about it go to [here](https://blog.codinghorror.com/a-visual-explanation-of-sql-joins/).\n",
        "\n",
        "### Step 1. Import the necessary libraries"
      ]
    },
    {
      "cell_type": "code",
      "metadata": {
        "id": "PfhEu8djmatO",
        "colab_type": "code",
        "colab": {}
      },
      "source": [
        "import pandas as pd"
      ],
      "execution_count": 0,
      "outputs": []
    },
    {
      "cell_type": "markdown",
      "metadata": {
        "id": "99LUCVk2matQ",
        "colab_type": "text"
      },
      "source": [
        "### Step 2. Create the 3 DataFrames based on the following raw data"
      ]
    },
    {
      "cell_type": "code",
      "metadata": {
        "collapsed": true,
        "id": "qSIptu7RmatR",
        "colab_type": "code",
        "colab": {}
      },
      "source": [
        "raw_data_1 = {\n",
        "        'subject_id': ['1', '2', '3', '4', '5'],\n",
        "        'first_name': ['Alex', 'Amy', 'Allen', 'Alice', 'Ayoung'], \n",
        "        'last_name': ['Anderson', 'Ackerman', 'Ali', 'Aoni', 'Atiches']}\n",
        "\n",
        "raw_data_2 = {\n",
        "        'subject_id': ['4', '5', '6', '7', '8'],\n",
        "        'first_name': ['Billy', 'Brian', 'Bran', 'Bryce', 'Betty'], \n",
        "        'last_name': ['Bonder', 'Black', 'Balwner', 'Brice', 'Btisan']}\n",
        "\n",
        "raw_data_3 = {\n",
        "        'subject_id': ['1', '2', '3', '4', '5', '7', '8', '9', '10', '11'],\n",
        "        'test_id': [51, 15, 15, 61, 16, 14, 15, 1, 61, 16]}"
      ],
      "execution_count": 0,
      "outputs": []
    },
    {
      "cell_type": "markdown",
      "metadata": {
        "id": "741gFFFrmatT",
        "colab_type": "text"
      },
      "source": [
        "### Step 3. Assign each to a variable called data1, data2, data3"
      ]
    },
    {
      "cell_type": "code",
      "metadata": {
        "id": "cd2IRHISmatT",
        "colab_type": "code",
        "colab": {},
        "outputId": "7235c2a2-3c45-4c44-ff9d-9357de4df791"
      },
      "source": [
        "data1 = pd.DataFrame(raw_data_1, columns = ['subject_id', 'first_name', 'last_name'])\n",
        "data2 = pd.DataFrame(raw_data_2, columns = ['subject_id', 'first_name', 'last_name'])\n",
        "data3 = pd.DataFrame(raw_data_3, columns = ['subject_id','test_id'])\n",
        "\n",
        "data3"
      ],
      "execution_count": 0,
      "outputs": [
        {
          "output_type": "execute_result",
          "data": {
            "text/html": [
              "<div>\n",
              "<table border=\"1\" class=\"dataframe\">\n",
              "  <thead>\n",
              "    <tr style=\"text-align: right;\">\n",
              "      <th></th>\n",
              "      <th>subject_id</th>\n",
              "      <th>test_id</th>\n",
              "    </tr>\n",
              "  </thead>\n",
              "  <tbody>\n",
              "    <tr>\n",
              "      <th>0</th>\n",
              "      <td>1</td>\n",
              "      <td>51</td>\n",
              "    </tr>\n",
              "    <tr>\n",
              "      <th>1</th>\n",
              "      <td>2</td>\n",
              "      <td>15</td>\n",
              "    </tr>\n",
              "    <tr>\n",
              "      <th>2</th>\n",
              "      <td>3</td>\n",
              "      <td>15</td>\n",
              "    </tr>\n",
              "    <tr>\n",
              "      <th>3</th>\n",
              "      <td>4</td>\n",
              "      <td>61</td>\n",
              "    </tr>\n",
              "    <tr>\n",
              "      <th>4</th>\n",
              "      <td>5</td>\n",
              "      <td>16</td>\n",
              "    </tr>\n",
              "    <tr>\n",
              "      <th>5</th>\n",
              "      <td>7</td>\n",
              "      <td>14</td>\n",
              "    </tr>\n",
              "    <tr>\n",
              "      <th>6</th>\n",
              "      <td>8</td>\n",
              "      <td>15</td>\n",
              "    </tr>\n",
              "    <tr>\n",
              "      <th>7</th>\n",
              "      <td>9</td>\n",
              "      <td>1</td>\n",
              "    </tr>\n",
              "    <tr>\n",
              "      <th>8</th>\n",
              "      <td>10</td>\n",
              "      <td>61</td>\n",
              "    </tr>\n",
              "    <tr>\n",
              "      <th>9</th>\n",
              "      <td>11</td>\n",
              "      <td>16</td>\n",
              "    </tr>\n",
              "  </tbody>\n",
              "</table>\n",
              "</div>"
            ],
            "text/plain": [
              "  subject_id  test_id\n",
              "0          1       51\n",
              "1          2       15\n",
              "2          3       15\n",
              "3          4       61\n",
              "4          5       16\n",
              "5          7       14\n",
              "6          8       15\n",
              "7          9        1\n",
              "8         10       61\n",
              "9         11       16"
            ]
          },
          "metadata": {
            "tags": []
          },
          "execution_count": 12
        }
      ]
    },
    {
      "cell_type": "markdown",
      "metadata": {
        "id": "BL7-l8tsmatU",
        "colab_type": "text"
      },
      "source": [
        "### Step 4. Join the two dataframes along rows and assign all_data"
      ]
    },
    {
      "cell_type": "code",
      "metadata": {
        "id": "qZLUgVIgmatV",
        "colab_type": "code",
        "colab": {},
        "outputId": "406fbdd8-9856-4a01-bbdd-528f6513bbef"
      },
      "source": [
        "all_data = pd.concat([data1, data2])\n",
        "all_data"
      ],
      "execution_count": 0,
      "outputs": [
        {
          "output_type": "execute_result",
          "data": {
            "text/html": [
              "<div>\n",
              "<table border=\"1\" class=\"dataframe\">\n",
              "  <thead>\n",
              "    <tr style=\"text-align: right;\">\n",
              "      <th></th>\n",
              "      <th>subject_id</th>\n",
              "      <th>first_name</th>\n",
              "      <th>last_name</th>\n",
              "    </tr>\n",
              "  </thead>\n",
              "  <tbody>\n",
              "    <tr>\n",
              "      <th>0</th>\n",
              "      <td>1</td>\n",
              "      <td>Alex</td>\n",
              "      <td>Anderson</td>\n",
              "    </tr>\n",
              "    <tr>\n",
              "      <th>1</th>\n",
              "      <td>2</td>\n",
              "      <td>Amy</td>\n",
              "      <td>Ackerman</td>\n",
              "    </tr>\n",
              "    <tr>\n",
              "      <th>2</th>\n",
              "      <td>3</td>\n",
              "      <td>Allen</td>\n",
              "      <td>Ali</td>\n",
              "    </tr>\n",
              "    <tr>\n",
              "      <th>3</th>\n",
              "      <td>4</td>\n",
              "      <td>Alice</td>\n",
              "      <td>Aoni</td>\n",
              "    </tr>\n",
              "    <tr>\n",
              "      <th>4</th>\n",
              "      <td>5</td>\n",
              "      <td>Ayoung</td>\n",
              "      <td>Atiches</td>\n",
              "    </tr>\n",
              "    <tr>\n",
              "      <th>0</th>\n",
              "      <td>4</td>\n",
              "      <td>Billy</td>\n",
              "      <td>Bonder</td>\n",
              "    </tr>\n",
              "    <tr>\n",
              "      <th>1</th>\n",
              "      <td>5</td>\n",
              "      <td>Brian</td>\n",
              "      <td>Black</td>\n",
              "    </tr>\n",
              "    <tr>\n",
              "      <th>2</th>\n",
              "      <td>6</td>\n",
              "      <td>Bran</td>\n",
              "      <td>Balwner</td>\n",
              "    </tr>\n",
              "    <tr>\n",
              "      <th>3</th>\n",
              "      <td>7</td>\n",
              "      <td>Bryce</td>\n",
              "      <td>Brice</td>\n",
              "    </tr>\n",
              "    <tr>\n",
              "      <th>4</th>\n",
              "      <td>8</td>\n",
              "      <td>Betty</td>\n",
              "      <td>Btisan</td>\n",
              "    </tr>\n",
              "  </tbody>\n",
              "</table>\n",
              "</div>"
            ],
            "text/plain": [
              "  subject_id first_name last_name\n",
              "0          1       Alex  Anderson\n",
              "1          2        Amy  Ackerman\n",
              "2          3      Allen       Ali\n",
              "3          4      Alice      Aoni\n",
              "4          5     Ayoung   Atiches\n",
              "0          4      Billy    Bonder\n",
              "1          5      Brian     Black\n",
              "2          6       Bran   Balwner\n",
              "3          7      Bryce     Brice\n",
              "4          8      Betty    Btisan"
            ]
          },
          "metadata": {
            "tags": []
          },
          "execution_count": 9
        }
      ]
    },
    {
      "cell_type": "markdown",
      "metadata": {
        "id": "8AjbN-b9matW",
        "colab_type": "text"
      },
      "source": [
        "### Step 5. Join the two dataframes along columns and assing to all_data_col"
      ]
    },
    {
      "cell_type": "code",
      "metadata": {
        "id": "sQmneVvhmatX",
        "colab_type": "code",
        "colab": {},
        "outputId": "2bdb33b6-9d29-466a-dfde-916daa850b5c"
      },
      "source": [
        "all_data_col = pd.concat([data1, data2], axis = 1)\n",
        "all_data_col"
      ],
      "execution_count": 0,
      "outputs": [
        {
          "output_type": "execute_result",
          "data": {
            "text/html": [
              "<div>\n",
              "<table border=\"1\" class=\"dataframe\">\n",
              "  <thead>\n",
              "    <tr style=\"text-align: right;\">\n",
              "      <th></th>\n",
              "      <th>subject_id</th>\n",
              "      <th>first_name</th>\n",
              "      <th>last_name</th>\n",
              "      <th>subject_id</th>\n",
              "      <th>first_name</th>\n",
              "      <th>last_name</th>\n",
              "    </tr>\n",
              "  </thead>\n",
              "  <tbody>\n",
              "    <tr>\n",
              "      <th>0</th>\n",
              "      <td>1</td>\n",
              "      <td>Alex</td>\n",
              "      <td>Anderson</td>\n",
              "      <td>4</td>\n",
              "      <td>Billy</td>\n",
              "      <td>Bonder</td>\n",
              "    </tr>\n",
              "    <tr>\n",
              "      <th>1</th>\n",
              "      <td>2</td>\n",
              "      <td>Amy</td>\n",
              "      <td>Ackerman</td>\n",
              "      <td>5</td>\n",
              "      <td>Brian</td>\n",
              "      <td>Black</td>\n",
              "    </tr>\n",
              "    <tr>\n",
              "      <th>2</th>\n",
              "      <td>3</td>\n",
              "      <td>Allen</td>\n",
              "      <td>Ali</td>\n",
              "      <td>6</td>\n",
              "      <td>Bran</td>\n",
              "      <td>Balwner</td>\n",
              "    </tr>\n",
              "    <tr>\n",
              "      <th>3</th>\n",
              "      <td>4</td>\n",
              "      <td>Alice</td>\n",
              "      <td>Aoni</td>\n",
              "      <td>7</td>\n",
              "      <td>Bryce</td>\n",
              "      <td>Brice</td>\n",
              "    </tr>\n",
              "    <tr>\n",
              "      <th>4</th>\n",
              "      <td>5</td>\n",
              "      <td>Ayoung</td>\n",
              "      <td>Atiches</td>\n",
              "      <td>8</td>\n",
              "      <td>Betty</td>\n",
              "      <td>Btisan</td>\n",
              "    </tr>\n",
              "  </tbody>\n",
              "</table>\n",
              "</div>"
            ],
            "text/plain": [
              "  subject_id first_name last_name subject_id first_name last_name\n",
              "0          1       Alex  Anderson          4      Billy    Bonder\n",
              "1          2        Amy  Ackerman          5      Brian     Black\n",
              "2          3      Allen       Ali          6       Bran   Balwner\n",
              "3          4      Alice      Aoni          7      Bryce     Brice\n",
              "4          5     Ayoung   Atiches          8      Betty    Btisan"
            ]
          },
          "metadata": {
            "tags": []
          },
          "execution_count": 10
        }
      ]
    },
    {
      "cell_type": "markdown",
      "metadata": {
        "id": "5ChvlOzHmatY",
        "colab_type": "text"
      },
      "source": [
        "### Step 6. Print data3"
      ]
    },
    {
      "cell_type": "code",
      "metadata": {
        "id": "2IqsobHEmatZ",
        "colab_type": "code",
        "colab": {},
        "outputId": "626ed70e-0754-4963-86f6-de5c3222e0a9"
      },
      "source": [
        "data3"
      ],
      "execution_count": 0,
      "outputs": [
        {
          "output_type": "execute_result",
          "data": {
            "text/html": [
              "<div>\n",
              "<table border=\"1\" class=\"dataframe\">\n",
              "  <thead>\n",
              "    <tr style=\"text-align: right;\">\n",
              "      <th></th>\n",
              "      <th>subject_id</th>\n",
              "      <th>test_id</th>\n",
              "    </tr>\n",
              "  </thead>\n",
              "  <tbody>\n",
              "    <tr>\n",
              "      <th>0</th>\n",
              "      <td>1</td>\n",
              "      <td>51</td>\n",
              "    </tr>\n",
              "    <tr>\n",
              "      <th>1</th>\n",
              "      <td>2</td>\n",
              "      <td>15</td>\n",
              "    </tr>\n",
              "    <tr>\n",
              "      <th>2</th>\n",
              "      <td>3</td>\n",
              "      <td>15</td>\n",
              "    </tr>\n",
              "    <tr>\n",
              "      <th>3</th>\n",
              "      <td>4</td>\n",
              "      <td>61</td>\n",
              "    </tr>\n",
              "    <tr>\n",
              "      <th>4</th>\n",
              "      <td>5</td>\n",
              "      <td>16</td>\n",
              "    </tr>\n",
              "    <tr>\n",
              "      <th>5</th>\n",
              "      <td>7</td>\n",
              "      <td>14</td>\n",
              "    </tr>\n",
              "    <tr>\n",
              "      <th>6</th>\n",
              "      <td>8</td>\n",
              "      <td>15</td>\n",
              "    </tr>\n",
              "    <tr>\n",
              "      <th>7</th>\n",
              "      <td>9</td>\n",
              "      <td>1</td>\n",
              "    </tr>\n",
              "    <tr>\n",
              "      <th>8</th>\n",
              "      <td>10</td>\n",
              "      <td>61</td>\n",
              "    </tr>\n",
              "    <tr>\n",
              "      <th>9</th>\n",
              "      <td>11</td>\n",
              "      <td>16</td>\n",
              "    </tr>\n",
              "  </tbody>\n",
              "</table>\n",
              "</div>"
            ],
            "text/plain": [
              "  subject_id  test_id\n",
              "0          1       51\n",
              "1          2       15\n",
              "2          3       15\n",
              "3          4       61\n",
              "4          5       16\n",
              "5          7       14\n",
              "6          8       15\n",
              "7          9        1\n",
              "8         10       61\n",
              "9         11       16"
            ]
          },
          "metadata": {
            "tags": []
          },
          "execution_count": 13
        }
      ]
    },
    {
      "cell_type": "markdown",
      "metadata": {
        "id": "zwiktdygmatc",
        "colab_type": "text"
      },
      "source": [
        "### Step 7. Merge all_data and data3 along the subject_id value"
      ]
    },
    {
      "cell_type": "code",
      "metadata": {
        "id": "-2RYRQ3Jmatc",
        "colab_type": "code",
        "colab": {},
        "outputId": "b42bed80-c482-442a-96ee-90bd84259ab0"
      },
      "source": [
        "pd.merge(all_data, data3, on='subject_id')"
      ],
      "execution_count": 0,
      "outputs": [
        {
          "output_type": "execute_result",
          "data": {
            "text/html": [
              "<div>\n",
              "<table border=\"1\" class=\"dataframe\">\n",
              "  <thead>\n",
              "    <tr style=\"text-align: right;\">\n",
              "      <th></th>\n",
              "      <th>subject_id</th>\n",
              "      <th>first_name</th>\n",
              "      <th>last_name</th>\n",
              "      <th>test_id</th>\n",
              "    </tr>\n",
              "  </thead>\n",
              "  <tbody>\n",
              "    <tr>\n",
              "      <th>0</th>\n",
              "      <td>1</td>\n",
              "      <td>Alex</td>\n",
              "      <td>Anderson</td>\n",
              "      <td>51</td>\n",
              "    </tr>\n",
              "    <tr>\n",
              "      <th>1</th>\n",
              "      <td>2</td>\n",
              "      <td>Amy</td>\n",
              "      <td>Ackerman</td>\n",
              "      <td>15</td>\n",
              "    </tr>\n",
              "    <tr>\n",
              "      <th>2</th>\n",
              "      <td>3</td>\n",
              "      <td>Allen</td>\n",
              "      <td>Ali</td>\n",
              "      <td>15</td>\n",
              "    </tr>\n",
              "    <tr>\n",
              "      <th>3</th>\n",
              "      <td>4</td>\n",
              "      <td>Alice</td>\n",
              "      <td>Aoni</td>\n",
              "      <td>61</td>\n",
              "    </tr>\n",
              "    <tr>\n",
              "      <th>4</th>\n",
              "      <td>4</td>\n",
              "      <td>Billy</td>\n",
              "      <td>Bonder</td>\n",
              "      <td>61</td>\n",
              "    </tr>\n",
              "    <tr>\n",
              "      <th>5</th>\n",
              "      <td>5</td>\n",
              "      <td>Ayoung</td>\n",
              "      <td>Atiches</td>\n",
              "      <td>16</td>\n",
              "    </tr>\n",
              "    <tr>\n",
              "      <th>6</th>\n",
              "      <td>5</td>\n",
              "      <td>Brian</td>\n",
              "      <td>Black</td>\n",
              "      <td>16</td>\n",
              "    </tr>\n",
              "    <tr>\n",
              "      <th>7</th>\n",
              "      <td>7</td>\n",
              "      <td>Bryce</td>\n",
              "      <td>Brice</td>\n",
              "      <td>14</td>\n",
              "    </tr>\n",
              "    <tr>\n",
              "      <th>8</th>\n",
              "      <td>8</td>\n",
              "      <td>Betty</td>\n",
              "      <td>Btisan</td>\n",
              "      <td>15</td>\n",
              "    </tr>\n",
              "  </tbody>\n",
              "</table>\n",
              "</div>"
            ],
            "text/plain": [
              "  subject_id first_name last_name  test_id\n",
              "0          1       Alex  Anderson       51\n",
              "1          2        Amy  Ackerman       15\n",
              "2          3      Allen       Ali       15\n",
              "3          4      Alice      Aoni       61\n",
              "4          4      Billy    Bonder       61\n",
              "5          5     Ayoung   Atiches       16\n",
              "6          5      Brian     Black       16\n",
              "7          7      Bryce     Brice       14\n",
              "8          8      Betty    Btisan       15"
            ]
          },
          "metadata": {
            "tags": []
          },
          "execution_count": 15
        }
      ]
    },
    {
      "cell_type": "markdown",
      "metadata": {
        "id": "3lZH6jphmate",
        "colab_type": "text"
      },
      "source": [
        "### Step 8. Merge only the data that has the same 'subject_id' on both data1 and data2"
      ]
    },
    {
      "cell_type": "code",
      "metadata": {
        "id": "-AZHVQFamate",
        "colab_type": "code",
        "colab": {},
        "outputId": "afd4dc56-7c0c-4728-fff0-03814687c22d"
      },
      "source": [
        "pd.merge(data1, data2, on='subject_id', how='inner')"
      ],
      "execution_count": 0,
      "outputs": [
        {
          "output_type": "execute_result",
          "data": {
            "text/html": [
              "<div>\n",
              "<table border=\"1\" class=\"dataframe\">\n",
              "  <thead>\n",
              "    <tr style=\"text-align: right;\">\n",
              "      <th></th>\n",
              "      <th>subject_id</th>\n",
              "      <th>first_name_x</th>\n",
              "      <th>last_name_x</th>\n",
              "      <th>first_name_y</th>\n",
              "      <th>last_name_y</th>\n",
              "    </tr>\n",
              "  </thead>\n",
              "  <tbody>\n",
              "    <tr>\n",
              "      <th>0</th>\n",
              "      <td>4</td>\n",
              "      <td>Alice</td>\n",
              "      <td>Aoni</td>\n",
              "      <td>Billy</td>\n",
              "      <td>Bonder</td>\n",
              "    </tr>\n",
              "    <tr>\n",
              "      <th>1</th>\n",
              "      <td>5</td>\n",
              "      <td>Ayoung</td>\n",
              "      <td>Atiches</td>\n",
              "      <td>Brian</td>\n",
              "      <td>Black</td>\n",
              "    </tr>\n",
              "  </tbody>\n",
              "</table>\n",
              "</div>"
            ],
            "text/plain": [
              "  subject_id first_name_x last_name_x first_name_y last_name_y\n",
              "0          4        Alice        Aoni        Billy      Bonder\n",
              "1          5       Ayoung     Atiches        Brian       Black"
            ]
          },
          "metadata": {
            "tags": []
          },
          "execution_count": 16
        }
      ]
    },
    {
      "cell_type": "markdown",
      "metadata": {
        "id": "OiN5Msclmatf",
        "colab_type": "text"
      },
      "source": [
        "### Step 9. Merge all values in data1 and data2, with matching records from both sides where available."
      ]
    },
    {
      "cell_type": "code",
      "metadata": {
        "id": "SDBicDVTmatg",
        "colab_type": "code",
        "colab": {},
        "outputId": "7e55dbc0-53d8-47d3-f7ad-8b4744fbc87e"
      },
      "source": [
        "pd.merge(data1, data2, on='subject_id', how='outer')"
      ],
      "execution_count": 0,
      "outputs": [
        {
          "output_type": "execute_result",
          "data": {
            "text/html": [
              "<div>\n",
              "<table border=\"1\" class=\"dataframe\">\n",
              "  <thead>\n",
              "    <tr style=\"text-align: right;\">\n",
              "      <th></th>\n",
              "      <th>subject_id</th>\n",
              "      <th>first_name_x</th>\n",
              "      <th>last_name_x</th>\n",
              "      <th>first_name_y</th>\n",
              "      <th>last_name_y</th>\n",
              "    </tr>\n",
              "  </thead>\n",
              "  <tbody>\n",
              "    <tr>\n",
              "      <th>0</th>\n",
              "      <td>1</td>\n",
              "      <td>Alex</td>\n",
              "      <td>Anderson</td>\n",
              "      <td>NaN</td>\n",
              "      <td>NaN</td>\n",
              "    </tr>\n",
              "    <tr>\n",
              "      <th>1</th>\n",
              "      <td>2</td>\n",
              "      <td>Amy</td>\n",
              "      <td>Ackerman</td>\n",
              "      <td>NaN</td>\n",
              "      <td>NaN</td>\n",
              "    </tr>\n",
              "    <tr>\n",
              "      <th>2</th>\n",
              "      <td>3</td>\n",
              "      <td>Allen</td>\n",
              "      <td>Ali</td>\n",
              "      <td>NaN</td>\n",
              "      <td>NaN</td>\n",
              "    </tr>\n",
              "    <tr>\n",
              "      <th>3</th>\n",
              "      <td>4</td>\n",
              "      <td>Alice</td>\n",
              "      <td>Aoni</td>\n",
              "      <td>Billy</td>\n",
              "      <td>Bonder</td>\n",
              "    </tr>\n",
              "    <tr>\n",
              "      <th>4</th>\n",
              "      <td>5</td>\n",
              "      <td>Ayoung</td>\n",
              "      <td>Atiches</td>\n",
              "      <td>Brian</td>\n",
              "      <td>Black</td>\n",
              "    </tr>\n",
              "    <tr>\n",
              "      <th>5</th>\n",
              "      <td>6</td>\n",
              "      <td>NaN</td>\n",
              "      <td>NaN</td>\n",
              "      <td>Bran</td>\n",
              "      <td>Balwner</td>\n",
              "    </tr>\n",
              "    <tr>\n",
              "      <th>6</th>\n",
              "      <td>7</td>\n",
              "      <td>NaN</td>\n",
              "      <td>NaN</td>\n",
              "      <td>Bryce</td>\n",
              "      <td>Brice</td>\n",
              "    </tr>\n",
              "    <tr>\n",
              "      <th>7</th>\n",
              "      <td>8</td>\n",
              "      <td>NaN</td>\n",
              "      <td>NaN</td>\n",
              "      <td>Betty</td>\n",
              "      <td>Btisan</td>\n",
              "    </tr>\n",
              "  </tbody>\n",
              "</table>\n",
              "</div>"
            ],
            "text/plain": [
              "  subject_id first_name_x last_name_x first_name_y last_name_y\n",
              "0          1         Alex    Anderson          NaN         NaN\n",
              "1          2          Amy    Ackerman          NaN         NaN\n",
              "2          3        Allen         Ali          NaN         NaN\n",
              "3          4        Alice        Aoni        Billy      Bonder\n",
              "4          5       Ayoung     Atiches        Brian       Black\n",
              "5          6          NaN         NaN         Bran     Balwner\n",
              "6          7          NaN         NaN        Bryce       Brice\n",
              "7          8          NaN         NaN        Betty      Btisan"
            ]
          },
          "metadata": {
            "tags": []
          },
          "execution_count": 17
        }
      ]
    },
    {
      "cell_type": "markdown",
      "metadata": {
        "id": "APQLl-nzmatk",
        "colab_type": "text"
      },
      "source": [
        "# US - Baby Names"
      ]
    },
    {
      "cell_type": "markdown",
      "metadata": {
        "id": "y1OVs7w0matk",
        "colab_type": "text"
      },
      "source": [
        "### Introduction:\n",
        "\n",
        "We are going to use a subset of [US Baby Names](https://www.kaggle.com/kaggle/us-baby-names) from Kaggle.  \n",
        "In the file it will be names from 2004 until 2014\n",
        "\n",
        "\n",
        "### Step 1. Import the necessary libraries"
      ]
    },
    {
      "cell_type": "code",
      "metadata": {
        "id": "tZdLyggJmatk",
        "colab_type": "code",
        "colab": {}
      },
      "source": [
        "import pandas as pd"
      ],
      "execution_count": 0,
      "outputs": []
    },
    {
      "cell_type": "markdown",
      "metadata": {
        "id": "rdTvPhW0matm",
        "colab_type": "text"
      },
      "source": [
        "### Step 2. Import the dataset from this [address](https://raw.githubusercontent.com/guipsamora/pandas_exercises/master/06_Stats/US_Baby_Names/US_Baby_Names_right.csv). "
      ]
    },
    {
      "cell_type": "markdown",
      "metadata": {
        "id": "VSqJ1ypHmatm",
        "colab_type": "text"
      },
      "source": [
        "### Step 3. Assign it to a variable called baby_names."
      ]
    },
    {
      "cell_type": "code",
      "metadata": {
        "id": "2HumfMeymatm",
        "colab_type": "code",
        "colab": {},
        "outputId": "b4177fb2-621b-48d2-e2e1-a6b9f627ba73"
      },
      "source": [
        "baby_names = pd.read_csv('https://raw.githubusercontent.com/guipsamora/pandas_exercises/master/06_Stats/US_Baby_Names/US_Baby_Names_right.csv')\n",
        "baby_names.info()"
      ],
      "execution_count": 0,
      "outputs": [
        {
          "output_type": "stream",
          "text": [
            "<class 'pandas.core.frame.DataFrame'>\n",
            "RangeIndex: 1016395 entries, 0 to 1016394\n",
            "Data columns (total 7 columns):\n",
            "Unnamed: 0    1016395 non-null int64\n",
            "Id            1016395 non-null int64\n",
            "Name          1016395 non-null object\n",
            "Year          1016395 non-null int64\n",
            "Gender        1016395 non-null object\n",
            "State         1016395 non-null object\n",
            "Count         1016395 non-null int64\n",
            "dtypes: int64(4), object(3)\n",
            "memory usage: 54.3+ MB\n"
          ],
          "name": "stdout"
        }
      ]
    },
    {
      "cell_type": "markdown",
      "metadata": {
        "id": "Rr59P5Eimatn",
        "colab_type": "text"
      },
      "source": [
        "### Step 4. See the first 10 entries"
      ]
    },
    {
      "cell_type": "code",
      "metadata": {
        "id": "kYNd7iEpmato",
        "colab_type": "code",
        "colab": {},
        "outputId": "92407c0e-c339-4837-f3c0-4577d6251070"
      },
      "source": [
        "baby_names.head(10)"
      ],
      "execution_count": 0,
      "outputs": [
        {
          "output_type": "execute_result",
          "data": {
            "text/html": [
              "<div>\n",
              "<table border=\"1\" class=\"dataframe\">\n",
              "  <thead>\n",
              "    <tr style=\"text-align: right;\">\n",
              "      <th></th>\n",
              "      <th>Unnamed: 0</th>\n",
              "      <th>Id</th>\n",
              "      <th>Name</th>\n",
              "      <th>Year</th>\n",
              "      <th>Gender</th>\n",
              "      <th>State</th>\n",
              "      <th>Count</th>\n",
              "    </tr>\n",
              "  </thead>\n",
              "  <tbody>\n",
              "    <tr>\n",
              "      <th>0</th>\n",
              "      <td>11349</td>\n",
              "      <td>11350</td>\n",
              "      <td>Emma</td>\n",
              "      <td>2004</td>\n",
              "      <td>F</td>\n",
              "      <td>AK</td>\n",
              "      <td>62</td>\n",
              "    </tr>\n",
              "    <tr>\n",
              "      <th>1</th>\n",
              "      <td>11350</td>\n",
              "      <td>11351</td>\n",
              "      <td>Madison</td>\n",
              "      <td>2004</td>\n",
              "      <td>F</td>\n",
              "      <td>AK</td>\n",
              "      <td>48</td>\n",
              "    </tr>\n",
              "    <tr>\n",
              "      <th>2</th>\n",
              "      <td>11351</td>\n",
              "      <td>11352</td>\n",
              "      <td>Hannah</td>\n",
              "      <td>2004</td>\n",
              "      <td>F</td>\n",
              "      <td>AK</td>\n",
              "      <td>46</td>\n",
              "    </tr>\n",
              "    <tr>\n",
              "      <th>3</th>\n",
              "      <td>11352</td>\n",
              "      <td>11353</td>\n",
              "      <td>Grace</td>\n",
              "      <td>2004</td>\n",
              "      <td>F</td>\n",
              "      <td>AK</td>\n",
              "      <td>44</td>\n",
              "    </tr>\n",
              "    <tr>\n",
              "      <th>4</th>\n",
              "      <td>11353</td>\n",
              "      <td>11354</td>\n",
              "      <td>Emily</td>\n",
              "      <td>2004</td>\n",
              "      <td>F</td>\n",
              "      <td>AK</td>\n",
              "      <td>41</td>\n",
              "    </tr>\n",
              "    <tr>\n",
              "      <th>5</th>\n",
              "      <td>11354</td>\n",
              "      <td>11355</td>\n",
              "      <td>Abigail</td>\n",
              "      <td>2004</td>\n",
              "      <td>F</td>\n",
              "      <td>AK</td>\n",
              "      <td>37</td>\n",
              "    </tr>\n",
              "    <tr>\n",
              "      <th>6</th>\n",
              "      <td>11355</td>\n",
              "      <td>11356</td>\n",
              "      <td>Olivia</td>\n",
              "      <td>2004</td>\n",
              "      <td>F</td>\n",
              "      <td>AK</td>\n",
              "      <td>33</td>\n",
              "    </tr>\n",
              "    <tr>\n",
              "      <th>7</th>\n",
              "      <td>11356</td>\n",
              "      <td>11357</td>\n",
              "      <td>Isabella</td>\n",
              "      <td>2004</td>\n",
              "      <td>F</td>\n",
              "      <td>AK</td>\n",
              "      <td>30</td>\n",
              "    </tr>\n",
              "    <tr>\n",
              "      <th>8</th>\n",
              "      <td>11357</td>\n",
              "      <td>11358</td>\n",
              "      <td>Alyssa</td>\n",
              "      <td>2004</td>\n",
              "      <td>F</td>\n",
              "      <td>AK</td>\n",
              "      <td>29</td>\n",
              "    </tr>\n",
              "    <tr>\n",
              "      <th>9</th>\n",
              "      <td>11358</td>\n",
              "      <td>11359</td>\n",
              "      <td>Sophia</td>\n",
              "      <td>2004</td>\n",
              "      <td>F</td>\n",
              "      <td>AK</td>\n",
              "      <td>28</td>\n",
              "    </tr>\n",
              "  </tbody>\n",
              "</table>\n",
              "</div>"
            ],
            "text/plain": [
              "   Unnamed: 0     Id      Name  Year Gender State  Count\n",
              "0       11349  11350      Emma  2004      F    AK     62\n",
              "1       11350  11351   Madison  2004      F    AK     48\n",
              "2       11351  11352    Hannah  2004      F    AK     46\n",
              "3       11352  11353     Grace  2004      F    AK     44\n",
              "4       11353  11354     Emily  2004      F    AK     41\n",
              "5       11354  11355   Abigail  2004      F    AK     37\n",
              "6       11355  11356    Olivia  2004      F    AK     33\n",
              "7       11356  11357  Isabella  2004      F    AK     30\n",
              "8       11357  11358    Alyssa  2004      F    AK     29\n",
              "9       11358  11359    Sophia  2004      F    AK     28"
            ]
          },
          "metadata": {
            "tags": []
          },
          "execution_count": 3
        }
      ]
    },
    {
      "cell_type": "markdown",
      "metadata": {
        "id": "v3evPe2bmatp",
        "colab_type": "text"
      },
      "source": [
        "### Step 5. Delete the column 'Unnamed: 0' and 'Id'"
      ]
    },
    {
      "cell_type": "code",
      "metadata": {
        "id": "EbazLtqjmatq",
        "colab_type": "code",
        "colab": {},
        "outputId": "1e3d62c2-5e9a-4a79-bf61-c0c07ec8f93b"
      },
      "source": [
        "# deletes Unnamed: 0\n",
        "del baby_names['Unnamed: 0']\n",
        "\n",
        "# deletes Unnamed: 0\n",
        "del baby_names['Id']\n",
        "\n",
        "baby_names.head()"
      ],
      "execution_count": 0,
      "outputs": [
        {
          "output_type": "execute_result",
          "data": {
            "text/html": [
              "<div>\n",
              "<table border=\"1\" class=\"dataframe\">\n",
              "  <thead>\n",
              "    <tr style=\"text-align: right;\">\n",
              "      <th></th>\n",
              "      <th>Name</th>\n",
              "      <th>Year</th>\n",
              "      <th>Gender</th>\n",
              "      <th>State</th>\n",
              "      <th>Count</th>\n",
              "    </tr>\n",
              "  </thead>\n",
              "  <tbody>\n",
              "    <tr>\n",
              "      <th>0</th>\n",
              "      <td>Emma</td>\n",
              "      <td>2004</td>\n",
              "      <td>F</td>\n",
              "      <td>AK</td>\n",
              "      <td>62</td>\n",
              "    </tr>\n",
              "    <tr>\n",
              "      <th>1</th>\n",
              "      <td>Madison</td>\n",
              "      <td>2004</td>\n",
              "      <td>F</td>\n",
              "      <td>AK</td>\n",
              "      <td>48</td>\n",
              "    </tr>\n",
              "    <tr>\n",
              "      <th>2</th>\n",
              "      <td>Hannah</td>\n",
              "      <td>2004</td>\n",
              "      <td>F</td>\n",
              "      <td>AK</td>\n",
              "      <td>46</td>\n",
              "    </tr>\n",
              "    <tr>\n",
              "      <th>3</th>\n",
              "      <td>Grace</td>\n",
              "      <td>2004</td>\n",
              "      <td>F</td>\n",
              "      <td>AK</td>\n",
              "      <td>44</td>\n",
              "    </tr>\n",
              "    <tr>\n",
              "      <th>4</th>\n",
              "      <td>Emily</td>\n",
              "      <td>2004</td>\n",
              "      <td>F</td>\n",
              "      <td>AK</td>\n",
              "      <td>41</td>\n",
              "    </tr>\n",
              "  </tbody>\n",
              "</table>\n",
              "</div>"
            ],
            "text/plain": [
              "      Name  Year Gender State  Count\n",
              "0     Emma  2004      F    AK     62\n",
              "1  Madison  2004      F    AK     48\n",
              "2   Hannah  2004      F    AK     46\n",
              "3    Grace  2004      F    AK     44\n",
              "4    Emily  2004      F    AK     41"
            ]
          },
          "metadata": {
            "tags": []
          },
          "execution_count": 4
        }
      ]
    },
    {
      "cell_type": "markdown",
      "metadata": {
        "id": "N1gbX6yzmats",
        "colab_type": "text"
      },
      "source": [
        "### Step 6. Are there more male or female names in the dataset?"
      ]
    },
    {
      "cell_type": "code",
      "metadata": {
        "id": "Awuo89BKmats",
        "colab_type": "code",
        "colab": {},
        "outputId": "6c6b3ca4-f75c-41dd-848d-a4eb72fe1b9d"
      },
      "source": [
        "baby_names['Gender'].value_counts()"
      ],
      "execution_count": 0,
      "outputs": [
        {
          "output_type": "execute_result",
          "data": {
            "text/plain": [
              "F    558846\n",
              "M    457549\n",
              "Name: Gender, dtype: int64"
            ]
          },
          "metadata": {
            "tags": []
          },
          "execution_count": 5
        }
      ]
    },
    {
      "cell_type": "markdown",
      "metadata": {
        "id": "0nz8kq0Rmatu",
        "colab_type": "text"
      },
      "source": [
        "### Step 7. Group the dataset by name and assign to names"
      ]
    },
    {
      "cell_type": "code",
      "metadata": {
        "id": "OhibFBAFmatu",
        "colab_type": "code",
        "colab": {},
        "outputId": "611d32e3-f6e2-44d0-94f4-24dfd1b1a9de"
      },
      "source": [
        "# you don't want to sum the Year column, so you delete it\n",
        "del baby_names[\"Year\"]\n",
        "\n",
        "# group the data\n",
        "names = baby_names.groupby(\"Name\").sum()\n",
        "\n",
        "# print the first 5 observations\n",
        "names.head()\n",
        "\n",
        "# print the size of the dataset\n",
        "print(names.shape)\n",
        "\n",
        "# sort it from the biggest value to the smallest one\n",
        "names.sort_values(\"Count\", ascending = 0).head()"
      ],
      "execution_count": 0,
      "outputs": [
        {
          "output_type": "stream",
          "text": [
            "(17632, 1)\n"
          ],
          "name": "stdout"
        },
        {
          "output_type": "execute_result",
          "data": {
            "text/html": [
              "<div>\n",
              "<table border=\"1\" class=\"dataframe\">\n",
              "  <thead>\n",
              "    <tr style=\"text-align: right;\">\n",
              "      <th></th>\n",
              "      <th>Count</th>\n",
              "    </tr>\n",
              "    <tr>\n",
              "      <th>Name</th>\n",
              "      <th></th>\n",
              "    </tr>\n",
              "  </thead>\n",
              "  <tbody>\n",
              "    <tr>\n",
              "      <th>Jacob</th>\n",
              "      <td>242874</td>\n",
              "    </tr>\n",
              "    <tr>\n",
              "      <th>Emma</th>\n",
              "      <td>214852</td>\n",
              "    </tr>\n",
              "    <tr>\n",
              "      <th>Michael</th>\n",
              "      <td>214405</td>\n",
              "    </tr>\n",
              "    <tr>\n",
              "      <th>Ethan</th>\n",
              "      <td>209277</td>\n",
              "    </tr>\n",
              "    <tr>\n",
              "      <th>Isabella</th>\n",
              "      <td>204798</td>\n",
              "    </tr>\n",
              "  </tbody>\n",
              "</table>\n",
              "</div>"
            ],
            "text/plain": [
              "           Count\n",
              "Name            \n",
              "Jacob     242874\n",
              "Emma      214852\n",
              "Michael   214405\n",
              "Ethan     209277\n",
              "Isabella  204798"
            ]
          },
          "metadata": {
            "tags": []
          },
          "execution_count": 6
        }
      ]
    },
    {
      "cell_type": "markdown",
      "metadata": {
        "id": "2ntyEticmatv",
        "colab_type": "text"
      },
      "source": [
        "### Step 8. How many different names exist in the dataset?"
      ]
    },
    {
      "cell_type": "code",
      "metadata": {
        "id": "euVbEfqlmatw",
        "colab_type": "code",
        "colab": {},
        "outputId": "f0fc642b-36e9-48e7-be34-248f0ac52727"
      },
      "source": [
        "# as we have already grouped by the name, all the names are unique already. \n",
        "# get the length of names\n",
        "len(names)"
      ],
      "execution_count": 0,
      "outputs": [
        {
          "output_type": "execute_result",
          "data": {
            "text/plain": [
              "17632"
            ]
          },
          "metadata": {
            "tags": []
          },
          "execution_count": 7
        }
      ]
    },
    {
      "cell_type": "markdown",
      "metadata": {
        "id": "pUYmUc5Qmatx",
        "colab_type": "text"
      },
      "source": [
        "### Step 9. What is the name with most occurrences?"
      ]
    },
    {
      "cell_type": "code",
      "metadata": {
        "id": "xiPpu1W_maty",
        "colab_type": "code",
        "colab": {},
        "outputId": "f3e7cf2b-cd14-42a4-c280-1df26bc551be"
      },
      "source": [
        "names.Count.idxmax()\n",
        "\n",
        "# OR\n",
        "\n",
        "# names[names.Count == names.Count.max()]"
      ],
      "execution_count": 0,
      "outputs": [
        {
          "output_type": "execute_result",
          "data": {
            "text/plain": [
              "'Jacob'"
            ]
          },
          "metadata": {
            "tags": []
          },
          "execution_count": 8
        }
      ]
    },
    {
      "cell_type": "markdown",
      "metadata": {
        "id": "6qRJFR4amat2",
        "colab_type": "text"
      },
      "source": [
        "### Step 10. How many different names have the least occurrences?"
      ]
    },
    {
      "cell_type": "code",
      "metadata": {
        "id": "zoOxvSwCmat3",
        "colab_type": "code",
        "colab": {},
        "outputId": "73e92fbc-0d3e-4239-b706-be8f3d4080e5"
      },
      "source": [
        "len(names[names.Count == names.Count.min()])"
      ],
      "execution_count": 0,
      "outputs": [
        {
          "output_type": "execute_result",
          "data": {
            "text/plain": [
              "2578"
            ]
          },
          "metadata": {
            "tags": []
          },
          "execution_count": 9
        }
      ]
    },
    {
      "cell_type": "markdown",
      "metadata": {
        "id": "pkBHQfwTmat4",
        "colab_type": "text"
      },
      "source": [
        "### Step 11. What is the median name occurrence?"
      ]
    },
    {
      "cell_type": "code",
      "metadata": {
        "id": "zx57ONxjmat4",
        "colab_type": "code",
        "colab": {},
        "outputId": "40566787-79ae-4ab1-d6f8-3fc34dc177c3"
      },
      "source": [
        "names[names.Count == names.Count.median()]"
      ],
      "execution_count": 0,
      "outputs": [
        {
          "output_type": "execute_result",
          "data": {
            "text/html": [
              "<div>\n",
              "<table border=\"1\" class=\"dataframe\">\n",
              "  <thead>\n",
              "    <tr style=\"text-align: right;\">\n",
              "      <th></th>\n",
              "      <th>Count</th>\n",
              "    </tr>\n",
              "    <tr>\n",
              "      <th>Name</th>\n",
              "      <th></th>\n",
              "    </tr>\n",
              "  </thead>\n",
              "  <tbody>\n",
              "    <tr>\n",
              "      <th>Aishani</th>\n",
              "      <td>49</td>\n",
              "    </tr>\n",
              "    <tr>\n",
              "      <th>Alara</th>\n",
              "      <td>49</td>\n",
              "    </tr>\n",
              "    <tr>\n",
              "      <th>Alysse</th>\n",
              "      <td>49</td>\n",
              "    </tr>\n",
              "    <tr>\n",
              "      <th>Ameir</th>\n",
              "      <td>49</td>\n",
              "    </tr>\n",
              "    <tr>\n",
              "      <th>Anely</th>\n",
              "      <td>49</td>\n",
              "    </tr>\n",
              "    <tr>\n",
              "      <th>Antonina</th>\n",
              "      <td>49</td>\n",
              "    </tr>\n",
              "    <tr>\n",
              "      <th>Aveline</th>\n",
              "      <td>49</td>\n",
              "    </tr>\n",
              "    <tr>\n",
              "      <th>Aziah</th>\n",
              "      <td>49</td>\n",
              "    </tr>\n",
              "    <tr>\n",
              "      <th>Baily</th>\n",
              "      <td>49</td>\n",
              "    </tr>\n",
              "    <tr>\n",
              "      <th>Caleah</th>\n",
              "      <td>49</td>\n",
              "    </tr>\n",
              "    <tr>\n",
              "      <th>Carlota</th>\n",
              "      <td>49</td>\n",
              "    </tr>\n",
              "    <tr>\n",
              "      <th>Cristine</th>\n",
              "      <td>49</td>\n",
              "    </tr>\n",
              "    <tr>\n",
              "      <th>Dahlila</th>\n",
              "      <td>49</td>\n",
              "    </tr>\n",
              "    <tr>\n",
              "      <th>Darvin</th>\n",
              "      <td>49</td>\n",
              "    </tr>\n",
              "    <tr>\n",
              "      <th>Deante</th>\n",
              "      <td>49</td>\n",
              "    </tr>\n",
              "    <tr>\n",
              "      <th>Deserae</th>\n",
              "      <td>49</td>\n",
              "    </tr>\n",
              "    <tr>\n",
              "      <th>Devean</th>\n",
              "      <td>49</td>\n",
              "    </tr>\n",
              "    <tr>\n",
              "      <th>Elizah</th>\n",
              "      <td>49</td>\n",
              "    </tr>\n",
              "    <tr>\n",
              "      <th>Emmaly</th>\n",
              "      <td>49</td>\n",
              "    </tr>\n",
              "    <tr>\n",
              "      <th>Emmanuela</th>\n",
              "      <td>49</td>\n",
              "    </tr>\n",
              "    <tr>\n",
              "      <th>Envy</th>\n",
              "      <td>49</td>\n",
              "    </tr>\n",
              "    <tr>\n",
              "      <th>Esli</th>\n",
              "      <td>49</td>\n",
              "    </tr>\n",
              "    <tr>\n",
              "      <th>Fay</th>\n",
              "      <td>49</td>\n",
              "    </tr>\n",
              "    <tr>\n",
              "      <th>Gurshaan</th>\n",
              "      <td>49</td>\n",
              "    </tr>\n",
              "    <tr>\n",
              "      <th>Hareem</th>\n",
              "      <td>49</td>\n",
              "    </tr>\n",
              "    <tr>\n",
              "      <th>Iven</th>\n",
              "      <td>49</td>\n",
              "    </tr>\n",
              "    <tr>\n",
              "      <th>Jaice</th>\n",
              "      <td>49</td>\n",
              "    </tr>\n",
              "    <tr>\n",
              "      <th>Jaiyana</th>\n",
              "      <td>49</td>\n",
              "    </tr>\n",
              "    <tr>\n",
              "      <th>Jamiracle</th>\n",
              "      <td>49</td>\n",
              "    </tr>\n",
              "    <tr>\n",
              "      <th>Jelissa</th>\n",
              "      <td>49</td>\n",
              "    </tr>\n",
              "    <tr>\n",
              "      <th>...</th>\n",
              "      <td>...</td>\n",
              "    </tr>\n",
              "    <tr>\n",
              "      <th>Kyndle</th>\n",
              "      <td>49</td>\n",
              "    </tr>\n",
              "    <tr>\n",
              "      <th>Kynsley</th>\n",
              "      <td>49</td>\n",
              "    </tr>\n",
              "    <tr>\n",
              "      <th>Leylanie</th>\n",
              "      <td>49</td>\n",
              "    </tr>\n",
              "    <tr>\n",
              "      <th>Maisha</th>\n",
              "      <td>49</td>\n",
              "    </tr>\n",
              "    <tr>\n",
              "      <th>Malillany</th>\n",
              "      <td>49</td>\n",
              "    </tr>\n",
              "    <tr>\n",
              "      <th>Mariann</th>\n",
              "      <td>49</td>\n",
              "    </tr>\n",
              "    <tr>\n",
              "      <th>Marquell</th>\n",
              "      <td>49</td>\n",
              "    </tr>\n",
              "    <tr>\n",
              "      <th>Maurilio</th>\n",
              "      <td>49</td>\n",
              "    </tr>\n",
              "    <tr>\n",
              "      <th>Mckynzie</th>\n",
              "      <td>49</td>\n",
              "    </tr>\n",
              "    <tr>\n",
              "      <th>Mehdi</th>\n",
              "      <td>49</td>\n",
              "    </tr>\n",
              "    <tr>\n",
              "      <th>Nabeel</th>\n",
              "      <td>49</td>\n",
              "    </tr>\n",
              "    <tr>\n",
              "      <th>Nalleli</th>\n",
              "      <td>49</td>\n",
              "    </tr>\n",
              "    <tr>\n",
              "      <th>Nassir</th>\n",
              "      <td>49</td>\n",
              "    </tr>\n",
              "    <tr>\n",
              "      <th>Nazier</th>\n",
              "      <td>49</td>\n",
              "    </tr>\n",
              "    <tr>\n",
              "      <th>Nishant</th>\n",
              "      <td>49</td>\n",
              "    </tr>\n",
              "    <tr>\n",
              "      <th>Rebecka</th>\n",
              "      <td>49</td>\n",
              "    </tr>\n",
              "    <tr>\n",
              "      <th>Reghan</th>\n",
              "      <td>49</td>\n",
              "    </tr>\n",
              "    <tr>\n",
              "      <th>Ridwan</th>\n",
              "      <td>49</td>\n",
              "    </tr>\n",
              "    <tr>\n",
              "      <th>Riot</th>\n",
              "      <td>49</td>\n",
              "    </tr>\n",
              "    <tr>\n",
              "      <th>Rubin</th>\n",
              "      <td>49</td>\n",
              "    </tr>\n",
              "    <tr>\n",
              "      <th>Ryatt</th>\n",
              "      <td>49</td>\n",
              "    </tr>\n",
              "    <tr>\n",
              "      <th>Sameera</th>\n",
              "      <td>49</td>\n",
              "    </tr>\n",
              "    <tr>\n",
              "      <th>Sanjuanita</th>\n",
              "      <td>49</td>\n",
              "    </tr>\n",
              "    <tr>\n",
              "      <th>Shalyn</th>\n",
              "      <td>49</td>\n",
              "    </tr>\n",
              "    <tr>\n",
              "      <th>Skylie</th>\n",
              "      <td>49</td>\n",
              "    </tr>\n",
              "    <tr>\n",
              "      <th>Sriram</th>\n",
              "      <td>49</td>\n",
              "    </tr>\n",
              "    <tr>\n",
              "      <th>Trinton</th>\n",
              "      <td>49</td>\n",
              "    </tr>\n",
              "    <tr>\n",
              "      <th>Vita</th>\n",
              "      <td>49</td>\n",
              "    </tr>\n",
              "    <tr>\n",
              "      <th>Yoni</th>\n",
              "      <td>49</td>\n",
              "    </tr>\n",
              "    <tr>\n",
              "      <th>Zuleima</th>\n",
              "      <td>49</td>\n",
              "    </tr>\n",
              "  </tbody>\n",
              "</table>\n",
              "<p>66 rows × 1 columns</p>\n",
              "</div>"
            ],
            "text/plain": [
              "            Count\n",
              "Name             \n",
              "Aishani        49\n",
              "Alara          49\n",
              "Alysse         49\n",
              "Ameir          49\n",
              "Anely          49\n",
              "Antonina       49\n",
              "Aveline        49\n",
              "Aziah          49\n",
              "Baily          49\n",
              "Caleah         49\n",
              "Carlota        49\n",
              "Cristine       49\n",
              "Dahlila        49\n",
              "Darvin         49\n",
              "Deante         49\n",
              "Deserae        49\n",
              "Devean         49\n",
              "Elizah         49\n",
              "Emmaly         49\n",
              "Emmanuela      49\n",
              "Envy           49\n",
              "Esli           49\n",
              "Fay            49\n",
              "Gurshaan       49\n",
              "Hareem         49\n",
              "Iven           49\n",
              "Jaice          49\n",
              "Jaiyana        49\n",
              "Jamiracle      49\n",
              "Jelissa        49\n",
              "...           ...\n",
              "Kyndle         49\n",
              "Kynsley        49\n",
              "Leylanie       49\n",
              "Maisha         49\n",
              "Malillany      49\n",
              "Mariann        49\n",
              "Marquell       49\n",
              "Maurilio       49\n",
              "Mckynzie       49\n",
              "Mehdi          49\n",
              "Nabeel         49\n",
              "Nalleli        49\n",
              "Nassir         49\n",
              "Nazier         49\n",
              "Nishant        49\n",
              "Rebecka        49\n",
              "Reghan         49\n",
              "Ridwan         49\n",
              "Riot           49\n",
              "Rubin          49\n",
              "Ryatt          49\n",
              "Sameera        49\n",
              "Sanjuanita     49\n",
              "Shalyn         49\n",
              "Skylie         49\n",
              "Sriram         49\n",
              "Trinton        49\n",
              "Vita           49\n",
              "Yoni           49\n",
              "Zuleima        49\n",
              "\n",
              "[66 rows x 1 columns]"
            ]
          },
          "metadata": {
            "tags": []
          },
          "execution_count": 10
        }
      ]
    },
    {
      "cell_type": "markdown",
      "metadata": {
        "id": "2O8vLIFZmat7",
        "colab_type": "text"
      },
      "source": [
        "### Step 12. What is the standard deviation of names?"
      ]
    },
    {
      "cell_type": "code",
      "metadata": {
        "id": "YAY2qW9Nmat7",
        "colab_type": "code",
        "colab": {},
        "outputId": "4d2201cf-380f-4dcd-ebe2-1dba8428afe1"
      },
      "source": [
        "names.Count.std()"
      ],
      "execution_count": 0,
      "outputs": [
        {
          "output_type": "execute_result",
          "data": {
            "text/plain": [
              "11006.069467891111"
            ]
          },
          "metadata": {
            "tags": []
          },
          "execution_count": 11
        }
      ]
    },
    {
      "cell_type": "markdown",
      "metadata": {
        "id": "aptihDV-mat9",
        "colab_type": "text"
      },
      "source": [
        "### Step 13. Get a summary with the mean, min, max, std and quartiles."
      ]
    },
    {
      "cell_type": "code",
      "metadata": {
        "id": "W6YDfGYbmat9",
        "colab_type": "code",
        "colab": {},
        "outputId": "e28b2761-7119-4ae7-b73a-cc688baa6f7c"
      },
      "source": [
        "names.describe()"
      ],
      "execution_count": 0,
      "outputs": [
        {
          "output_type": "execute_result",
          "data": {
            "text/html": [
              "<div>\n",
              "<table border=\"1\" class=\"dataframe\">\n",
              "  <thead>\n",
              "    <tr style=\"text-align: right;\">\n",
              "      <th></th>\n",
              "      <th>Count</th>\n",
              "    </tr>\n",
              "  </thead>\n",
              "  <tbody>\n",
              "    <tr>\n",
              "      <th>count</th>\n",
              "      <td>17632.000000</td>\n",
              "    </tr>\n",
              "    <tr>\n",
              "      <th>mean</th>\n",
              "      <td>2008.932169</td>\n",
              "    </tr>\n",
              "    <tr>\n",
              "      <th>std</th>\n",
              "      <td>11006.069468</td>\n",
              "    </tr>\n",
              "    <tr>\n",
              "      <th>min</th>\n",
              "      <td>5.000000</td>\n",
              "    </tr>\n",
              "    <tr>\n",
              "      <th>25%</th>\n",
              "      <td>11.000000</td>\n",
              "    </tr>\n",
              "    <tr>\n",
              "      <th>50%</th>\n",
              "      <td>49.000000</td>\n",
              "    </tr>\n",
              "    <tr>\n",
              "      <th>75%</th>\n",
              "      <td>337.000000</td>\n",
              "    </tr>\n",
              "    <tr>\n",
              "      <th>max</th>\n",
              "      <td>242874.000000</td>\n",
              "    </tr>\n",
              "  </tbody>\n",
              "</table>\n",
              "</div>"
            ],
            "text/plain": [
              "               Count\n",
              "count   17632.000000\n",
              "mean     2008.932169\n",
              "std     11006.069468\n",
              "min         5.000000\n",
              "25%        11.000000\n",
              "50%        49.000000\n",
              "75%       337.000000\n",
              "max    242874.000000"
            ]
          },
          "metadata": {
            "tags": []
          },
          "execution_count": 12
        }
      ]
    },
    {
      "cell_type": "markdown",
      "metadata": {
        "id": "yp90AHHbmat_",
        "colab_type": "text"
      },
      "source": [
        "# Online Retails Purchase"
      ]
    },
    {
      "cell_type": "markdown",
      "metadata": {
        "id": "r6rpnAOLmat_",
        "colab_type": "text"
      },
      "source": [
        "### Introduction:\n",
        "\n",
        "\n",
        "\n",
        "### Step 1. Import the necessary libraries"
      ]
    },
    {
      "cell_type": "code",
      "metadata": {
        "collapsed": true,
        "jupyter": {
          "outputs_hidden": true
        },
        "id": "XDy2JHncmat_",
        "colab_type": "code",
        "colab": {}
      },
      "source": [
        "import pandas as pd\n",
        "import numpy as np\n",
        "import matplotlib.pyplot as plt\n",
        "import seaborn as sns\n",
        "\n",
        "# set the graphs to show in the jupyter notebook\n",
        "%matplotlib inline\n",
        "\n",
        "# set seaborn graphs to a better style\n",
        "sns.set(style=\"ticks\")"
      ],
      "execution_count": 0,
      "outputs": []
    },
    {
      "cell_type": "markdown",
      "metadata": {
        "id": "hWZt1P37mauA",
        "colab_type": "text"
      },
      "source": [
        "### Step 2. Import the dataset from this [address](https://raw.githubusercontent.com/guipsamora/pandas_exercises/master/07_Visualization/Online_Retail/Online_Retail.csv). "
      ]
    },
    {
      "cell_type": "markdown",
      "metadata": {
        "id": "S7Y1Hd0imauB",
        "colab_type": "text"
      },
      "source": [
        "### Step 3. Assign it to a variable called online_rt\n",
        "Note: if you receive a utf-8 decode error, set `encoding = 'latin1'` in `pd.read_csv()`."
      ]
    },
    {
      "cell_type": "code",
      "metadata": {
        "jupyter": {
          "outputs_hidden": false
        },
        "id": "0TBLo-3pmauB",
        "colab_type": "code",
        "colab": {},
        "outputId": "7e60d68d-f75b-4d7e-9a91-4139f671aaab"
      },
      "source": [
        "path = 'https://raw.githubusercontent.com/guipsamora/pandas_exercises/master/07_Visualization/Online_Retail/Online_Retail.csv'\n",
        "\n",
        "online_rt = pd.read_csv(path, encoding = 'latin1')\n",
        "\n",
        "online_rt.head()"
      ],
      "execution_count": 0,
      "outputs": [
        {
          "output_type": "execute_result",
          "data": {
            "text/html": [
              "<div>\n",
              "<style scoped>\n",
              "    .dataframe tbody tr th:only-of-type {\n",
              "        vertical-align: middle;\n",
              "    }\n",
              "\n",
              "    .dataframe tbody tr th {\n",
              "        vertical-align: top;\n",
              "    }\n",
              "\n",
              "    .dataframe thead th {\n",
              "        text-align: right;\n",
              "    }\n",
              "</style>\n",
              "<table border=\"1\" class=\"dataframe\">\n",
              "  <thead>\n",
              "    <tr style=\"text-align: right;\">\n",
              "      <th></th>\n",
              "      <th>InvoiceNo</th>\n",
              "      <th>StockCode</th>\n",
              "      <th>Description</th>\n",
              "      <th>Quantity</th>\n",
              "      <th>InvoiceDate</th>\n",
              "      <th>UnitPrice</th>\n",
              "      <th>CustomerID</th>\n",
              "      <th>Country</th>\n",
              "    </tr>\n",
              "  </thead>\n",
              "  <tbody>\n",
              "    <tr>\n",
              "      <th>0</th>\n",
              "      <td>536365</td>\n",
              "      <td>85123A</td>\n",
              "      <td>WHITE HANGING HEART T-LIGHT HOLDER</td>\n",
              "      <td>6</td>\n",
              "      <td>12/1/10 8:26</td>\n",
              "      <td>2.55</td>\n",
              "      <td>17850.0</td>\n",
              "      <td>United Kingdom</td>\n",
              "    </tr>\n",
              "    <tr>\n",
              "      <th>1</th>\n",
              "      <td>536365</td>\n",
              "      <td>71053</td>\n",
              "      <td>WHITE METAL LANTERN</td>\n",
              "      <td>6</td>\n",
              "      <td>12/1/10 8:26</td>\n",
              "      <td>3.39</td>\n",
              "      <td>17850.0</td>\n",
              "      <td>United Kingdom</td>\n",
              "    </tr>\n",
              "    <tr>\n",
              "      <th>2</th>\n",
              "      <td>536365</td>\n",
              "      <td>84406B</td>\n",
              "      <td>CREAM CUPID HEARTS COAT HANGER</td>\n",
              "      <td>8</td>\n",
              "      <td>12/1/10 8:26</td>\n",
              "      <td>2.75</td>\n",
              "      <td>17850.0</td>\n",
              "      <td>United Kingdom</td>\n",
              "    </tr>\n",
              "    <tr>\n",
              "      <th>3</th>\n",
              "      <td>536365</td>\n",
              "      <td>84029G</td>\n",
              "      <td>KNITTED UNION FLAG HOT WATER BOTTLE</td>\n",
              "      <td>6</td>\n",
              "      <td>12/1/10 8:26</td>\n",
              "      <td>3.39</td>\n",
              "      <td>17850.0</td>\n",
              "      <td>United Kingdom</td>\n",
              "    </tr>\n",
              "    <tr>\n",
              "      <th>4</th>\n",
              "      <td>536365</td>\n",
              "      <td>84029E</td>\n",
              "      <td>RED WOOLLY HOTTIE WHITE HEART.</td>\n",
              "      <td>6</td>\n",
              "      <td>12/1/10 8:26</td>\n",
              "      <td>3.39</td>\n",
              "      <td>17850.0</td>\n",
              "      <td>United Kingdom</td>\n",
              "    </tr>\n",
              "  </tbody>\n",
              "</table>\n",
              "</div>"
            ],
            "text/plain": [
              "  InvoiceNo StockCode                          Description  Quantity  \\\n",
              "0    536365    85123A   WHITE HANGING HEART T-LIGHT HOLDER         6   \n",
              "1    536365     71053                  WHITE METAL LANTERN         6   \n",
              "2    536365    84406B       CREAM CUPID HEARTS COAT HANGER         8   \n",
              "3    536365    84029G  KNITTED UNION FLAG HOT WATER BOTTLE         6   \n",
              "4    536365    84029E       RED WOOLLY HOTTIE WHITE HEART.         6   \n",
              "\n",
              "    InvoiceDate  UnitPrice  CustomerID         Country  \n",
              "0  12/1/10 8:26       2.55     17850.0  United Kingdom  \n",
              "1  12/1/10 8:26       3.39     17850.0  United Kingdom  \n",
              "2  12/1/10 8:26       2.75     17850.0  United Kingdom  \n",
              "3  12/1/10 8:26       3.39     17850.0  United Kingdom  \n",
              "4  12/1/10 8:26       3.39     17850.0  United Kingdom  "
            ]
          },
          "metadata": {
            "tags": []
          },
          "execution_count": 2
        }
      ]
    },
    {
      "cell_type": "markdown",
      "metadata": {
        "id": "hNSDW4bDmauC",
        "colab_type": "text"
      },
      "source": [
        "### Step 4. Create a histogram with the 10 countries that have the most 'Quantity' ordered except UK"
      ]
    },
    {
      "cell_type": "code",
      "metadata": {
        "jupyter": {
          "outputs_hidden": false
        },
        "id": "ob3F-OeHmauD",
        "colab_type": "code",
        "colab": {},
        "outputId": "4c945fa0-4b19-4899-d476-a04806cc3052"
      },
      "source": [
        "# group by the Country\n",
        "countries = online_rt.groupby('Country').sum()\n",
        "\n",
        "# sort the value and get the first 10 after UK\n",
        "countries = countries.sort_values(by = 'Quantity',ascending = False)[1:11]\n",
        "\n",
        "# create the plot\n",
        "countries['Quantity'].plot(kind='bar')\n",
        "\n",
        "# Set the title and labels\n",
        "plt.xlabel('Countries')\n",
        "plt.ylabel('Quantity')\n",
        "plt.title('10 Countries with most orders')\n",
        "\n",
        "# show the plot\n",
        "plt.show()"
      ],
      "execution_count": 0,
      "outputs": [
        {
          "output_type": "display_data",
          "data": {
            "image/png": "[encoded data removed]",
            "text/plain": [
              "<Figure size 432x288 with 1 Axes>"
            ]
          },
          "metadata": {
            "tags": [],
            "needs_background": "light"
          }
        }
      ]
    },
    {
      "cell_type": "markdown",
      "metadata": {
        "id": "1YOwj89smauE",
        "colab_type": "text"
      },
      "source": [
        "### Step 5.  Exclude negative Quantity entries"
      ]
    },
    {
      "cell_type": "code",
      "metadata": {
        "jupyter": {
          "outputs_hidden": false
        },
        "id": "iI3_uSASmauE",
        "colab_type": "code",
        "colab": {},
        "outputId": "a5ed3094-bc0b-41bd-ce25-a95a4d39f806"
      },
      "source": [
        "online_rt = online_rt[online_rt.Quantity > 0]\n",
        "online_rt.head()"
      ],
      "execution_count": 0,
      "outputs": [
        {
          "output_type": "execute_result",
          "data": {
            "text/html": [
              "<div>\n",
              "<style scoped>\n",
              "    .dataframe tbody tr th:only-of-type {\n",
              "        vertical-align: middle;\n",
              "    }\n",
              "\n",
              "    .dataframe tbody tr th {\n",
              "        vertical-align: top;\n",
              "    }\n",
              "\n",
              "    .dataframe thead th {\n",
              "        text-align: right;\n",
              "    }\n",
              "</style>\n",
              "<table border=\"1\" class=\"dataframe\">\n",
              "  <thead>\n",
              "    <tr style=\"text-align: right;\">\n",
              "      <th></th>\n",
              "      <th>InvoiceNo</th>\n",
              "      <th>StockCode</th>\n",
              "      <th>Description</th>\n",
              "      <th>Quantity</th>\n",
              "      <th>InvoiceDate</th>\n",
              "      <th>UnitPrice</th>\n",
              "      <th>CustomerID</th>\n",
              "      <th>Country</th>\n",
              "    </tr>\n",
              "  </thead>\n",
              "  <tbody>\n",
              "    <tr>\n",
              "      <th>0</th>\n",
              "      <td>536365</td>\n",
              "      <td>85123A</td>\n",
              "      <td>WHITE HANGING HEART T-LIGHT HOLDER</td>\n",
              "      <td>6</td>\n",
              "      <td>12/1/10 8:26</td>\n",
              "      <td>2.55</td>\n",
              "      <td>17850.0</td>\n",
              "      <td>United Kingdom</td>\n",
              "    </tr>\n",
              "    <tr>\n",
              "      <th>1</th>\n",
              "      <td>536365</td>\n",
              "      <td>71053</td>\n",
              "      <td>WHITE METAL LANTERN</td>\n",
              "      <td>6</td>\n",
              "      <td>12/1/10 8:26</td>\n",
              "      <td>3.39</td>\n",
              "      <td>17850.0</td>\n",
              "      <td>United Kingdom</td>\n",
              "    </tr>\n",
              "    <tr>\n",
              "      <th>2</th>\n",
              "      <td>536365</td>\n",
              "      <td>84406B</td>\n",
              "      <td>CREAM CUPID HEARTS COAT HANGER</td>\n",
              "      <td>8</td>\n",
              "      <td>12/1/10 8:26</td>\n",
              "      <td>2.75</td>\n",
              "      <td>17850.0</td>\n",
              "      <td>United Kingdom</td>\n",
              "    </tr>\n",
              "    <tr>\n",
              "      <th>3</th>\n",
              "      <td>536365</td>\n",
              "      <td>84029G</td>\n",
              "      <td>KNITTED UNION FLAG HOT WATER BOTTLE</td>\n",
              "      <td>6</td>\n",
              "      <td>12/1/10 8:26</td>\n",
              "      <td>3.39</td>\n",
              "      <td>17850.0</td>\n",
              "      <td>United Kingdom</td>\n",
              "    </tr>\n",
              "    <tr>\n",
              "      <th>4</th>\n",
              "      <td>536365</td>\n",
              "      <td>84029E</td>\n",
              "      <td>RED WOOLLY HOTTIE WHITE HEART.</td>\n",
              "      <td>6</td>\n",
              "      <td>12/1/10 8:26</td>\n",
              "      <td>3.39</td>\n",
              "      <td>17850.0</td>\n",
              "      <td>United Kingdom</td>\n",
              "    </tr>\n",
              "  </tbody>\n",
              "</table>\n",
              "</div>"
            ],
            "text/plain": [
              "  InvoiceNo StockCode                          Description  Quantity  \\\n",
              "0    536365    85123A   WHITE HANGING HEART T-LIGHT HOLDER         6   \n",
              "1    536365     71053                  WHITE METAL LANTERN         6   \n",
              "2    536365    84406B       CREAM CUPID HEARTS COAT HANGER         8   \n",
              "3    536365    84029G  KNITTED UNION FLAG HOT WATER BOTTLE         6   \n",
              "4    536365    84029E       RED WOOLLY HOTTIE WHITE HEART.         6   \n",
              "\n",
              "    InvoiceDate  UnitPrice  CustomerID         Country  \n",
              "0  12/1/10 8:26       2.55     17850.0  United Kingdom  \n",
              "1  12/1/10 8:26       3.39     17850.0  United Kingdom  \n",
              "2  12/1/10 8:26       2.75     17850.0  United Kingdom  \n",
              "3  12/1/10 8:26       3.39     17850.0  United Kingdom  \n",
              "4  12/1/10 8:26       3.39     17850.0  United Kingdom  "
            ]
          },
          "metadata": {
            "tags": []
          },
          "execution_count": 4
        }
      ]
    },
    {
      "cell_type": "markdown",
      "metadata": {
        "id": "KvuXtHTamauF",
        "colab_type": "text"
      },
      "source": [
        "### Step 6. Create a scatterplot with the Quantity per UnitPrice by CustomerID for the top 3 Countries (except UK)"
      ]
    },
    {
      "cell_type": "code",
      "metadata": {
        "jupyter": {
          "outputs_hidden": false
        },
        "id": "q00C91UumauG",
        "colab_type": "code",
        "colab": {},
        "outputId": "46f29cf3-f101-4056-ed15-d6d85499e784"
      },
      "source": [
        "# groupby CustomerID\n",
        "customers = online_rt.groupby(['CustomerID','Country']).sum()\n",
        "\n",
        "# there is an outlier with negative price\n",
        "customers = customers[customers.UnitPrice > 0]\n",
        "\n",
        "# get the value of the index and put in the column Country\n",
        "customers['Country'] = customers.index.get_level_values(1)\n",
        "\n",
        "# top three countries\n",
        "top_countries =  ['Netherlands', 'EIRE', 'Germany']\n",
        "\n",
        "# filter the dataframe to just select ones in the top_countries\n",
        "customers = customers[customers['Country'].isin(top_countries)]\n",
        "\n",
        "#################\n",
        "# Graph Section #\n",
        "#################\n",
        "\n",
        "# creates the FaceGrid\n",
        "g = sns.FacetGrid(customers, col=\"Country\")\n",
        "\n",
        "# map over a make a scatterplot\n",
        "g.map(plt.scatter, \"Quantity\", \"UnitPrice\", alpha=1)\n",
        "\n",
        "# adds legend\n",
        "g.add_legend()"
      ],
      "execution_count": 0,
      "outputs": [
        {
          "output_type": "execute_result",
          "data": {
            "text/plain": [
              "<seaborn.axisgrid.FacetGrid at 0x28c5e47e400>"
            ]
          },
          "metadata": {
            "tags": []
          },
          "execution_count": 5
        },
        {
          "output_type": "display_data",
          "data": {
            "image/png": "[encoded data removed]",
            "text/plain": [
              "<Figure size 656.8x216 with 3 Axes>"
            ]
          },
          "metadata": {
            "tags": [],
            "needs_background": "light"
          }
        }
      ]
    },
    {
      "cell_type": "markdown",
      "metadata": {
        "id": "Z-H4AmDemauH",
        "colab_type": "text"
      },
      "source": [
        "### Step 7. Investigate why the previous results look so uninformative.\n",
        "\n",
        "This section might seem a bit tedious to go through. But I've thought of it as some kind of a simulation of problems one might encounter when dealing with data and other people. Besides there is a prize at the end (i.e. Section 8).\n",
        "\n",
        "(But feel free to jump right ahead into Section 8 if you want; it doesn't require that you finish this section.)\n",
        "\n",
        "#### Step 7.1 Look at the first line of code in Step 6. And try to figure out if it leads to any kind of problem.\n",
        "##### Step 7.1.1 Display the first few rows of that DataFrame."
      ]
    },
    {
      "cell_type": "code",
      "metadata": {
        "jupyter": {
          "outputs_hidden": false
        },
        "id": "UGOiL6pnmauI",
        "colab_type": "code",
        "colab": {},
        "outputId": "6333a2cd-ca70-4387-f08f-ee8a858fb378"
      },
      "source": [
        "#This takes our initial dataframe groups it primarily by 'CustomerID' and secondarily by 'Country'.\n",
        "#It sums all the (non-indexical) columns that have numerical values under each group.\n",
        "customers = online_rt.groupby(['CustomerID','Country']).sum().head()\n",
        "\n",
        "#Here's what it looks like:\n",
        "customers"
      ],
      "execution_count": 0,
      "outputs": [
        {
          "output_type": "execute_result",
          "data": {
            "text/html": [
              "<div>\n",
              "<style scoped>\n",
              "    .dataframe tbody tr th:only-of-type {\n",
              "        vertical-align: middle;\n",
              "    }\n",
              "\n",
              "    .dataframe tbody tr th {\n",
              "        vertical-align: top;\n",
              "    }\n",
              "\n",
              "    .dataframe thead th {\n",
              "        text-align: right;\n",
              "    }\n",
              "</style>\n",
              "<table border=\"1\" class=\"dataframe\">\n",
              "  <thead>\n",
              "    <tr style=\"text-align: right;\">\n",
              "      <th></th>\n",
              "      <th></th>\n",
              "      <th>Quantity</th>\n",
              "      <th>UnitPrice</th>\n",
              "    </tr>\n",
              "    <tr>\n",
              "      <th>CustomerID</th>\n",
              "      <th>Country</th>\n",
              "      <th></th>\n",
              "      <th></th>\n",
              "    </tr>\n",
              "  </thead>\n",
              "  <tbody>\n",
              "    <tr>\n",
              "      <th>12346.0</th>\n",
              "      <th>United Kingdom</th>\n",
              "      <td>74215</td>\n",
              "      <td>1.04</td>\n",
              "    </tr>\n",
              "    <tr>\n",
              "      <th>12347.0</th>\n",
              "      <th>Iceland</th>\n",
              "      <td>2458</td>\n",
              "      <td>481.21</td>\n",
              "    </tr>\n",
              "    <tr>\n",
              "      <th>12348.0</th>\n",
              "      <th>Finland</th>\n",
              "      <td>2341</td>\n",
              "      <td>178.71</td>\n",
              "    </tr>\n",
              "    <tr>\n",
              "      <th>12349.0</th>\n",
              "      <th>Italy</th>\n",
              "      <td>631</td>\n",
              "      <td>605.10</td>\n",
              "    </tr>\n",
              "    <tr>\n",
              "      <th>12350.0</th>\n",
              "      <th>Norway</th>\n",
              "      <td>197</td>\n",
              "      <td>65.30</td>\n",
              "    </tr>\n",
              "  </tbody>\n",
              "</table>\n",
              "</div>"
            ],
            "text/plain": [
              "                           Quantity  UnitPrice\n",
              "CustomerID Country                            \n",
              "12346.0    United Kingdom     74215       1.04\n",
              "12347.0    Iceland             2458     481.21\n",
              "12348.0    Finland             2341     178.71\n",
              "12349.0    Italy                631     605.10\n",
              "12350.0    Norway               197      65.30"
            ]
          },
          "metadata": {
            "tags": []
          },
          "execution_count": 6
        }
      ]
    },
    {
      "cell_type": "markdown",
      "metadata": {
        "id": "tXw6KuuEmauL",
        "colab_type": "text"
      },
      "source": [
        "##### Step 7.1.2 Think about what that piece of code does and display the dtype of `UnitPrice`"
      ]
    },
    {
      "cell_type": "code",
      "metadata": {
        "jupyter": {
          "outputs_hidden": false
        },
        "id": "BP9x8x-EmauL",
        "colab_type": "code",
        "colab": {},
        "outputId": "65950355-92f8-4bb9-b32d-d4331b8884ce"
      },
      "source": [
        "customers.UnitPrice.dtype\n",
        "#So it's 'float64'\n",
        "#But why did we sum 'UnitPrice', to begin with?\n",
        "#If 'UnitPrice' wasn't something that we were interested in then it would be OK\n",
        "#since we wouldn't care whether UnitPrice was being summed or not.\n",
        "#But we want our graphs to reflect 'UnitPrice'!\n",
        "#Note that summing up 'UnitPrice' can be highly misleading.\n",
        "#It doesn't tell us much as to what the customer is doing.\n",
        "#Suppose, a customer places one order of 1000 items that are worth $1 each.\n",
        "#Another customer places a thousand orders of 1 item worth $1.\n",
        "#There isn't much of a difference between what the former and the latter customers did.\n",
        "#After all, they've spent the same amount of money.\n",
        "#so we should be careful when we're summing columns. Sometimes we intend to sum just one column\n",
        "#('Quantity' in this case) and another column like UnitPrice gets ito the mix."
      ],
      "execution_count": 0,
      "outputs": [
        {
          "output_type": "execute_result",
          "data": {
            "text/plain": [
              "dtype('float64')"
            ]
          },
          "metadata": {
            "tags": []
          },
          "execution_count": 7
        }
      ]
    },
    {
      "cell_type": "markdown",
      "metadata": {
        "id": "RmEoUw6cmauP",
        "colab_type": "text"
      },
      "source": [
        "##### Step 7.1.3 Pull data from `online_rt`for `CustomerID`s 12346.0 and 12347.0."
      ]
    },
    {
      "cell_type": "code",
      "metadata": {
        "jupyter": {
          "outputs_hidden": false
        },
        "id": "kFKfiqLcmauP",
        "colab_type": "code",
        "colab": {},
        "outputId": "e5089e48-23f0-4bcd-de1e-a56099c7727e"
      },
      "source": [
        "display(online_rt[online_rt.CustomerID == 12347.0].\n",
        "        sort_values(by='UnitPrice', ascending = False).head())\n",
        "display(online_rt[online_rt.CustomerID == 12346.0].\n",
        "        sort_values(by='UnitPrice', ascending = False).head())\n",
        "#The result is exactly what we'd suspected. Customer 12346.0 placed\n",
        "#one giant order, whereas 12347.0 placed a lot of smaller orders.\n",
        "#So we've identified one potential reason why our plots looked so weird at section 6.\n",
        "#At this stage we need to go back to the initial problem we've specified at section 6.\n",
        "#And make it more precise."
      ],
      "execution_count": 0,
      "outputs": [
        {
          "output_type": "display_data",
          "data": {
            "text/html": [
              "<div>\n",
              "<style scoped>\n",
              "    .dataframe tbody tr th:only-of-type {\n",
              "        vertical-align: middle;\n",
              "    }\n",
              "\n",
              "    .dataframe tbody tr th {\n",
              "        vertical-align: top;\n",
              "    }\n",
              "\n",
              "    .dataframe thead th {\n",
              "        text-align: right;\n",
              "    }\n",
              "</style>\n",
              "<table border=\"1\" class=\"dataframe\">\n",
              "  <thead>\n",
              "    <tr style=\"text-align: right;\">\n",
              "      <th></th>\n",
              "      <th>InvoiceNo</th>\n",
              "      <th>StockCode</th>\n",
              "      <th>Description</th>\n",
              "      <th>Quantity</th>\n",
              "      <th>InvoiceDate</th>\n",
              "      <th>UnitPrice</th>\n",
              "      <th>CustomerID</th>\n",
              "      <th>Country</th>\n",
              "    </tr>\n",
              "  </thead>\n",
              "  <tbody>\n",
              "    <tr>\n",
              "      <th>428966</th>\n",
              "      <td>573511</td>\n",
              "      <td>22423</td>\n",
              "      <td>REGENCY CAKESTAND 3 TIER</td>\n",
              "      <td>6</td>\n",
              "      <td>10/31/11 12:25</td>\n",
              "      <td>12.75</td>\n",
              "      <td>12347.0</td>\n",
              "      <td>Iceland</td>\n",
              "    </tr>\n",
              "    <tr>\n",
              "      <th>286637</th>\n",
              "      <td>562032</td>\n",
              "      <td>22423</td>\n",
              "      <td>REGENCY CAKESTAND 3 TIER</td>\n",
              "      <td>3</td>\n",
              "      <td>8/2/11 8:48</td>\n",
              "      <td>12.75</td>\n",
              "      <td>12347.0</td>\n",
              "      <td>Iceland</td>\n",
              "    </tr>\n",
              "    <tr>\n",
              "      <th>72267</th>\n",
              "      <td>542237</td>\n",
              "      <td>22423</td>\n",
              "      <td>REGENCY CAKESTAND 3 TIER</td>\n",
              "      <td>3</td>\n",
              "      <td>1/26/11 14:30</td>\n",
              "      <td>12.75</td>\n",
              "      <td>12347.0</td>\n",
              "      <td>Iceland</td>\n",
              "    </tr>\n",
              "    <tr>\n",
              "      <th>148300</th>\n",
              "      <td>549222</td>\n",
              "      <td>22423</td>\n",
              "      <td>REGENCY CAKESTAND 3 TIER</td>\n",
              "      <td>3</td>\n",
              "      <td>4/7/11 10:43</td>\n",
              "      <td>12.75</td>\n",
              "      <td>12347.0</td>\n",
              "      <td>Iceland</td>\n",
              "    </tr>\n",
              "    <tr>\n",
              "      <th>428967</th>\n",
              "      <td>573511</td>\n",
              "      <td>23173</td>\n",
              "      <td>REGENCY TEAPOT ROSES</td>\n",
              "      <td>2</td>\n",
              "      <td>10/31/11 12:25</td>\n",
              "      <td>9.95</td>\n",
              "      <td>12347.0</td>\n",
              "      <td>Iceland</td>\n",
              "    </tr>\n",
              "  </tbody>\n",
              "</table>\n",
              "</div>"
            ],
            "text/plain": [
              "       InvoiceNo StockCode               Description  Quantity  \\\n",
              "428966    573511     22423  REGENCY CAKESTAND 3 TIER         6   \n",
              "286637    562032     22423  REGENCY CAKESTAND 3 TIER         3   \n",
              "72267     542237     22423  REGENCY CAKESTAND 3 TIER         3   \n",
              "148300    549222     22423  REGENCY CAKESTAND 3 TIER         3   \n",
              "428967    573511     23173     REGENCY TEAPOT ROSES          2   \n",
              "\n",
              "           InvoiceDate  UnitPrice  CustomerID  Country  \n",
              "428966  10/31/11 12:25      12.75     12347.0  Iceland  \n",
              "286637     8/2/11 8:48      12.75     12347.0  Iceland  \n",
              "72267    1/26/11 14:30      12.75     12347.0  Iceland  \n",
              "148300    4/7/11 10:43      12.75     12347.0  Iceland  \n",
              "428967  10/31/11 12:25       9.95     12347.0  Iceland  "
            ]
          },
          "metadata": {
            "tags": []
          }
        },
        {
          "output_type": "display_data",
          "data": {
            "text/html": [
              "<div>\n",
              "<style scoped>\n",
              "    .dataframe tbody tr th:only-of-type {\n",
              "        vertical-align: middle;\n",
              "    }\n",
              "\n",
              "    .dataframe tbody tr th {\n",
              "        vertical-align: top;\n",
              "    }\n",
              "\n",
              "    .dataframe thead th {\n",
              "        text-align: right;\n",
              "    }\n",
              "</style>\n",
              "<table border=\"1\" class=\"dataframe\">\n",
              "  <thead>\n",
              "    <tr style=\"text-align: right;\">\n",
              "      <th></th>\n",
              "      <th>InvoiceNo</th>\n",
              "      <th>StockCode</th>\n",
              "      <th>Description</th>\n",
              "      <th>Quantity</th>\n",
              "      <th>InvoiceDate</th>\n",
              "      <th>UnitPrice</th>\n",
              "      <th>CustomerID</th>\n",
              "      <th>Country</th>\n",
              "    </tr>\n",
              "  </thead>\n",
              "  <tbody>\n",
              "    <tr>\n",
              "      <th>61619</th>\n",
              "      <td>541431</td>\n",
              "      <td>23166</td>\n",
              "      <td>MEDIUM CERAMIC TOP STORAGE JAR</td>\n",
              "      <td>74215</td>\n",
              "      <td>1/18/11 10:01</td>\n",
              "      <td>1.04</td>\n",
              "      <td>12346.0</td>\n",
              "      <td>United Kingdom</td>\n",
              "    </tr>\n",
              "  </tbody>\n",
              "</table>\n",
              "</div>"
            ],
            "text/plain": [
              "      InvoiceNo StockCode                     Description  Quantity  \\\n",
              "61619    541431     23166  MEDIUM CERAMIC TOP STORAGE JAR     74215   \n",
              "\n",
              "         InvoiceDate  UnitPrice  CustomerID         Country  \n",
              "61619  1/18/11 10:01       1.04     12346.0  United Kingdom  "
            ]
          },
          "metadata": {
            "tags": []
          }
        }
      ]
    },
    {
      "cell_type": "markdown",
      "metadata": {
        "id": "BF34qACBmauR",
        "colab_type": "text"
      },
      "source": [
        "#### Step 7.2 Reinterpreting the initial problem.\n",
        "\n",
        "To reiterate the question that we were dealing with:  \n",
        "\"Create a scatterplot with the Quantity per UnitPrice by CustomerID for the top 3 Countries\"\n",
        "\n",
        "The question is open to a set of different interpretations.\n",
        "We need to disambiguate.\n",
        "\n",
        "We could do a single plot by looking at all the data from the top 3 countries.\n",
        "Or we could do one plot per country. To keep things consistent with the rest of the exercise,\n",
        "let's stick to the latter oprion. So that's settled.\n",
        "\n",
        "But \"top 3 countries\" with respect to what? Two answers suggest themselves:\n",
        "Total sales volume (i.e. total quantity sold) or total sales (i.e. revenue).\n",
        "This exercise goes for sales volume, so let's stick to that.\n",
        "\n",
        "##### Step 7.2.1 Find out the top 3 countries in terms of sales volume."
      ]
    },
    {
      "cell_type": "code",
      "metadata": {
        "jupyter": {
          "outputs_hidden": false
        },
        "id": "KwRcG6dgmauR",
        "colab_type": "code",
        "colab": {},
        "outputId": "f8db6f9c-0967-439f-cf12-fbe2431963b9"
      },
      "source": [
        "sales_volume = online_rt.groupby('Country').Quantity.sum().sort_values(ascending=False)\n",
        "\n",
        "top3 = sales_volume.index[1:4] #We are excluding UK\n",
        "top3"
      ],
      "execution_count": 0,
      "outputs": [
        {
          "output_type": "execute_result",
          "data": {
            "text/plain": [
              "Index(['Netherlands', 'EIRE', 'Germany'], dtype='object', name='Country')"
            ]
          },
          "metadata": {
            "tags": []
          },
          "execution_count": 9
        }
      ]
    },
    {
      "cell_type": "markdown",
      "metadata": {
        "id": "yMG_FlRnmauT",
        "colab_type": "text"
      },
      "source": [
        "##### Step 7.2.2 \n",
        "\n",
        "Now that we have the top 3 countries, we can focus on the rest of the problem:  \n",
        "\"Quantity per UnitPrice by CustomerID\".  \n",
        "We need to unpack that.\n",
        "\n",
        "\"by CustomerID\" part is easy. That means we're going to be plotting one dot per CustomerID's on our plot. In other words, we're going to be grouping by CustomerID.\n",
        "\n",
        "\"Quantity per UnitPrice\" is trickier. Here's what we know:  \n",
        "*One axis will represent a Quantity assigned to a given customer. This is easy; we can just plot the total  Quantity for each customer.  \n",
        "*The other axis will represent a UnitPrice assigned to a given customer. Remember a single customer can have any number of orders with different prices, so summing up prices isn't quite helpful. Besides it's not quite clear what we mean when we say \"unit price per customer\"; it sounds like price of the customer! A reasonable alternative is that we assign each customer the average amount each has paid per item. So let's settle that question in that manner.\n",
        "\n",
        "#### Step 7.3 Modify, select and plot data\n",
        "##### Step 7.3.1 Add a column to online_rt called `Revenue` calculate the revenue (Quantity * UnitPrice) from each sale.\n",
        "We will use this later to figure out an average price per customer."
      ]
    },
    {
      "cell_type": "code",
      "metadata": {
        "jupyter": {
          "outputs_hidden": false
        },
        "id": "uehUHV7PmauT",
        "colab_type": "code",
        "colab": {},
        "outputId": "3f290a03-6bd6-48ff-f968-25e207d514d0"
      },
      "source": [
        "online_rt['Revenue'] = online_rt.Quantity * online_rt.UnitPrice\n",
        "online_rt.head()"
      ],
      "execution_count": 0,
      "outputs": [
        {
          "output_type": "execute_result",
          "data": {
            "text/html": [
              "<div>\n",
              "<style scoped>\n",
              "    .dataframe tbody tr th:only-of-type {\n",
              "        vertical-align: middle;\n",
              "    }\n",
              "\n",
              "    .dataframe tbody tr th {\n",
              "        vertical-align: top;\n",
              "    }\n",
              "\n",
              "    .dataframe thead th {\n",
              "        text-align: right;\n",
              "    }\n",
              "</style>\n",
              "<table border=\"1\" class=\"dataframe\">\n",
              "  <thead>\n",
              "    <tr style=\"text-align: right;\">\n",
              "      <th></th>\n",
              "      <th>InvoiceNo</th>\n",
              "      <th>StockCode</th>\n",
              "      <th>Description</th>\n",
              "      <th>Quantity</th>\n",
              "      <th>InvoiceDate</th>\n",
              "      <th>UnitPrice</th>\n",
              "      <th>CustomerID</th>\n",
              "      <th>Country</th>\n",
              "      <th>Revenue</th>\n",
              "    </tr>\n",
              "  </thead>\n",
              "  <tbody>\n",
              "    <tr>\n",
              "      <th>0</th>\n",
              "      <td>536365</td>\n",
              "      <td>85123A</td>\n",
              "      <td>WHITE HANGING HEART T-LIGHT HOLDER</td>\n",
              "      <td>6</td>\n",
              "      <td>12/1/10 8:26</td>\n",
              "      <td>2.55</td>\n",
              "      <td>17850.0</td>\n",
              "      <td>United Kingdom</td>\n",
              "      <td>15.30</td>\n",
              "    </tr>\n",
              "    <tr>\n",
              "      <th>1</th>\n",
              "      <td>536365</td>\n",
              "      <td>71053</td>\n",
              "      <td>WHITE METAL LANTERN</td>\n",
              "      <td>6</td>\n",
              "      <td>12/1/10 8:26</td>\n",
              "      <td>3.39</td>\n",
              "      <td>17850.0</td>\n",
              "      <td>United Kingdom</td>\n",
              "      <td>20.34</td>\n",
              "    </tr>\n",
              "    <tr>\n",
              "      <th>2</th>\n",
              "      <td>536365</td>\n",
              "      <td>84406B</td>\n",
              "      <td>CREAM CUPID HEARTS COAT HANGER</td>\n",
              "      <td>8</td>\n",
              "      <td>12/1/10 8:26</td>\n",
              "      <td>2.75</td>\n",
              "      <td>17850.0</td>\n",
              "      <td>United Kingdom</td>\n",
              "      <td>22.00</td>\n",
              "    </tr>\n",
              "    <tr>\n",
              "      <th>3</th>\n",
              "      <td>536365</td>\n",
              "      <td>84029G</td>\n",
              "      <td>KNITTED UNION FLAG HOT WATER BOTTLE</td>\n",
              "      <td>6</td>\n",
              "      <td>12/1/10 8:26</td>\n",
              "      <td>3.39</td>\n",
              "      <td>17850.0</td>\n",
              "      <td>United Kingdom</td>\n",
              "      <td>20.34</td>\n",
              "    </tr>\n",
              "    <tr>\n",
              "      <th>4</th>\n",
              "      <td>536365</td>\n",
              "      <td>84029E</td>\n",
              "      <td>RED WOOLLY HOTTIE WHITE HEART.</td>\n",
              "      <td>6</td>\n",
              "      <td>12/1/10 8:26</td>\n",
              "      <td>3.39</td>\n",
              "      <td>17850.0</td>\n",
              "      <td>United Kingdom</td>\n",
              "      <td>20.34</td>\n",
              "    </tr>\n",
              "  </tbody>\n",
              "</table>\n",
              "</div>"
            ],
            "text/plain": [
              "  InvoiceNo StockCode                          Description  Quantity  \\\n",
              "0    536365    85123A   WHITE HANGING HEART T-LIGHT HOLDER         6   \n",
              "1    536365     71053                  WHITE METAL LANTERN         6   \n",
              "2    536365    84406B       CREAM CUPID HEARTS COAT HANGER         8   \n",
              "3    536365    84029G  KNITTED UNION FLAG HOT WATER BOTTLE         6   \n",
              "4    536365    84029E       RED WOOLLY HOTTIE WHITE HEART.         6   \n",
              "\n",
              "    InvoiceDate  UnitPrice  CustomerID         Country  Revenue  \n",
              "0  12/1/10 8:26       2.55     17850.0  United Kingdom    15.30  \n",
              "1  12/1/10 8:26       3.39     17850.0  United Kingdom    20.34  \n",
              "2  12/1/10 8:26       2.75     17850.0  United Kingdom    22.00  \n",
              "3  12/1/10 8:26       3.39     17850.0  United Kingdom    20.34  \n",
              "4  12/1/10 8:26       3.39     17850.0  United Kingdom    20.34  "
            ]
          },
          "metadata": {
            "tags": []
          },
          "execution_count": 10
        }
      ]
    },
    {
      "cell_type": "markdown",
      "metadata": {
        "id": "2MHp3NWTmauV",
        "colab_type": "text"
      },
      "source": [
        "##### Step 7.3.2 Group by `CustomerID` and `Country` and find out the average price (`AvgPrice`) each customer spends per unit."
      ]
    },
    {
      "cell_type": "code",
      "metadata": {
        "jupyter": {
          "outputs_hidden": false
        },
        "id": "xFurtFv5mauV",
        "colab_type": "code",
        "colab": {},
        "outputId": "01ec1891-7922-4aaf-a49c-3157c4724b89"
      },
      "source": [
        "grouped = online_rt[online_rt.Country.isin(top3)].groupby(['CustomerID','Country'])\n",
        "\n",
        "plottable = grouped['Quantity','Revenue'].agg('sum')\n",
        "plottable['AvgPrice'] = plottable.Revenue / plottable.Quantity\n",
        "\n",
        "# get the value of the index and put in the column Country\n",
        "plottable['Country'] = plottable.index.get_level_values(1)\n",
        "plottable.head()"
      ],
      "execution_count": 0,
      "outputs": [
        {
          "output_type": "execute_result",
          "data": {
            "text/html": [
              "<div>\n",
              "<style scoped>\n",
              "    .dataframe tbody tr th:only-of-type {\n",
              "        vertical-align: middle;\n",
              "    }\n",
              "\n",
              "    .dataframe tbody tr th {\n",
              "        vertical-align: top;\n",
              "    }\n",
              "\n",
              "    .dataframe thead th {\n",
              "        text-align: right;\n",
              "    }\n",
              "</style>\n",
              "<table border=\"1\" class=\"dataframe\">\n",
              "  <thead>\n",
              "    <tr style=\"text-align: right;\">\n",
              "      <th></th>\n",
              "      <th></th>\n",
              "      <th>Quantity</th>\n",
              "      <th>Revenue</th>\n",
              "      <th>AvgPrice</th>\n",
              "      <th>Country</th>\n",
              "    </tr>\n",
              "    <tr>\n",
              "      <th>CustomerID</th>\n",
              "      <th>Country</th>\n",
              "      <th></th>\n",
              "      <th></th>\n",
              "      <th></th>\n",
              "      <th></th>\n",
              "    </tr>\n",
              "  </thead>\n",
              "  <tbody>\n",
              "    <tr>\n",
              "      <th>12426.0</th>\n",
              "      <th>Germany</th>\n",
              "      <td>258</td>\n",
              "      <td>582.73</td>\n",
              "      <td>2.258643</td>\n",
              "      <td>Germany</td>\n",
              "    </tr>\n",
              "    <tr>\n",
              "      <th>12427.0</th>\n",
              "      <th>Germany</th>\n",
              "      <td>533</td>\n",
              "      <td>825.80</td>\n",
              "      <td>1.549343</td>\n",
              "      <td>Germany</td>\n",
              "    </tr>\n",
              "    <tr>\n",
              "      <th>12468.0</th>\n",
              "      <th>Germany</th>\n",
              "      <td>366</td>\n",
              "      <td>729.54</td>\n",
              "      <td>1.993279</td>\n",
              "      <td>Germany</td>\n",
              "    </tr>\n",
              "    <tr>\n",
              "      <th>12471.0</th>\n",
              "      <th>Germany</th>\n",
              "      <td>8212</td>\n",
              "      <td>19824.05</td>\n",
              "      <td>2.414034</td>\n",
              "      <td>Germany</td>\n",
              "    </tr>\n",
              "    <tr>\n",
              "      <th>12472.0</th>\n",
              "      <th>Germany</th>\n",
              "      <td>4148</td>\n",
              "      <td>6572.11</td>\n",
              "      <td>1.584405</td>\n",
              "      <td>Germany</td>\n",
              "    </tr>\n",
              "  </tbody>\n",
              "</table>\n",
              "</div>"
            ],
            "text/plain": [
              "                    Quantity   Revenue  AvgPrice  Country\n",
              "CustomerID Country                                       \n",
              "12426.0    Germany       258    582.73  2.258643  Germany\n",
              "12427.0    Germany       533    825.80  1.549343  Germany\n",
              "12468.0    Germany       366    729.54  1.993279  Germany\n",
              "12471.0    Germany      8212  19824.05  2.414034  Germany\n",
              "12472.0    Germany      4148   6572.11  1.584405  Germany"
            ]
          },
          "metadata": {
            "tags": []
          },
          "execution_count": 11
        }
      ]
    },
    {
      "cell_type": "markdown",
      "metadata": {
        "id": "O1MHSAYWmauX",
        "colab_type": "text"
      },
      "source": [
        "##### Step 7.3.3 Plot"
      ]
    },
    {
      "cell_type": "code",
      "metadata": {
        "jupyter": {
          "outputs_hidden": false
        },
        "id": "GEJE1yVZmauX",
        "colab_type": "code",
        "colab": {},
        "outputId": "9eb98cd3-1659-4c90-d439-6da5d6572bba"
      },
      "source": [
        "####################\n",
        "# Graph Section v 2#\n",
        "####################\n",
        "\n",
        "# creates the FaceGrid\n",
        "g = sns.FacetGrid(plottable, col=\"Country\")\n",
        "\n",
        "# map over a make a scatterplot\n",
        "g.map(plt.scatter, \"Quantity\", \"AvgPrice\", alpha=1)\n",
        "\n",
        "# adds legend\n",
        "g.add_legend();"
      ],
      "execution_count": 0,
      "outputs": [
        {
          "output_type": "display_data",
          "data": {
            "image/png": "[encoded data removed]",
            "text/plain": [
              "<Figure size 656.8x216 with 3 Axes>"
            ]
          },
          "metadata": {
            "tags": [],
            "needs_background": "light"
          }
        }
      ]
    },
    {
      "cell_type": "markdown",
      "metadata": {
        "id": "3y5y66SqmauY",
        "colab_type": "text"
      },
      "source": [
        "#### Step 7.4 What to do now?\n",
        "We aren't much better-off than what we started with. The data are still extremely scattered around and don't seem quite informative.\n",
        "\n",
        "But we shouldn't despair!\n",
        "There are two things to realize:\n",
        "1) The data seem to be skewed towaards the axes (e.g. we don't have any values where Quantity = 50000 and AvgPrice = 5). So that might suggest a trend.\n",
        "2) We have more data! We've only been looking at the data from 3 different countries and they are plotted on different graphs.\n",
        "\n",
        "So: we should plot the data regardless of `Country` and hopefully see a less scattered graph.\n",
        "\n",
        "##### Step 7.4.1 Plot the data for each `CustomerID` on a single graph"
      ]
    },
    {
      "cell_type": "code",
      "metadata": {
        "jupyter": {
          "outputs_hidden": false
        },
        "id": "1wARd3zymauZ",
        "colab_type": "code",
        "colab": {},
        "outputId": "3506345f-01a2-40dd-d340-d482b0a2bae3"
      },
      "source": [
        "grouped = online_rt.groupby(['CustomerID'])\n",
        "plottable = grouped['Quantity','Revenue'].agg('sum')\n",
        "plottable['AvgPrice'] = plottable.Revenue / plottable.Quantity\n",
        "\n",
        "# map over a make a scatterplot\n",
        "plt.scatter(plottable.Quantity, plottable.AvgPrice)\n",
        "plt.plot()\n",
        "\n",
        "\n",
        "#Turns out the graph is still extremely skewed towards the axes like an exponential decay function."
      ],
      "execution_count": 0,
      "outputs": [
        {
          "output_type": "execute_result",
          "data": {
            "text/plain": [
              "[]"
            ]
          },
          "metadata": {
            "tags": []
          },
          "execution_count": 13
        },
        {
          "output_type": "display_data",
          "data": {
            "image/png": "[encoded data removed]",
            "text/plain": [
              "<Figure size 432x288 with 1 Axes>"
            ]
          },
          "metadata": {
            "tags": [],
            "needs_background": "light"
          }
        }
      ]
    },
    {
      "cell_type": "markdown",
      "metadata": {
        "id": "5msTHXO2maua",
        "colab_type": "text"
      },
      "source": [
        "##### Step 7.4.2 Zoom in so we can see that curve more clearly"
      ]
    },
    {
      "cell_type": "code",
      "metadata": {
        "jupyter": {
          "outputs_hidden": false
        },
        "id": "pMP4mxKvmaua",
        "colab_type": "code",
        "colab": {},
        "outputId": "1a8f12d6-303a-4906-f525-94e06ce07d03"
      },
      "source": [
        "grouped = online_rt.groupby(['CustomerID','Country'])\n",
        "plottable = grouped.agg({'Quantity': 'sum',\n",
        "                         'Revenue': 'sum'})\n",
        "plottable['AvgPrice'] = plottable.Revenue / plottable.Quantity\n",
        "\n",
        "# map over a make a scatterplot\n",
        "plt.scatter(plottable.Quantity, plottable.AvgPrice)\n",
        "\n",
        "#Zooming in. (I'm starting the axes from a negative value so that\n",
        "#the dots can be plotted in the graph completely.)\n",
        "plt.xlim(-40,2000) \n",
        "plt.ylim(-1,80)\n",
        "\n",
        "plt.plot()\n",
        "\n",
        "\n",
        "#And there is still that pattern, this time in close-up!"
      ],
      "execution_count": 0,
      "outputs": [
        {
          "output_type": "execute_result",
          "data": {
            "text/plain": [
              "[]"
            ]
          },
          "metadata": {
            "tags": []
          },
          "execution_count": 14
        },
        {
          "output_type": "display_data",
          "data": {
            "image/png": "[encoded data removed]",
            "text/plain": [
              "<Figure size 432x288 with 1 Axes>"
            ]
          },
          "metadata": {
            "tags": [],
            "needs_background": "light"
          }
        }
      ]
    },
    {
      "cell_type": "markdown",
      "metadata": {
        "id": "MLSCuNwfmauc",
        "colab_type": "text"
      },
      "source": [
        "### 8. Plot a line chart showing revenue (y) per UnitPrice (x).\n",
        "\n",
        "Did Step 7 give us any insights about the data? Sure! As average price increases, the quantity ordered decreses.  But that's hardly surprising. It would be surprising if that wasn't the case!\n",
        "\n",
        "Nevertheless the rate of drop in quantity is so drastic, it makes me wonder how our revenue changes with respect to item price. It would not be that surprising if it didn't change that much. But it would be interesting to know whether most of our revenue comes from expensive or inexpensive items, and how that relation looks like.\n",
        "\n",
        "That is what we are going to do now.\n",
        "\n",
        "#### 8.1 Group `UnitPrice` by intervals of 1 for prices [0,50), and sum `Quantity` and `Revenue`."
      ]
    },
    {
      "cell_type": "code",
      "metadata": {
        "jupyter": {
          "outputs_hidden": false
        },
        "id": "V6xXwruLmauc",
        "colab_type": "code",
        "colab": {},
        "outputId": "d8bc1aff-a5c0-44f4-931b-175f3653cb5f"
      },
      "source": [
        "#These are the values for the graph.\n",
        "#They are used both in selecting data from\n",
        "#the DataFrame and plotting the data so I've assigned\n",
        "#them to variables to increase consistency and make things easier\n",
        "#when playing with the variables.\n",
        "price_start = 0 \n",
        "price_end = 50\n",
        "price_interval = 1\n",
        "\n",
        "#Creating the buckets to collect the data accordingly\n",
        "buckets = np.arange(price_start,price_end,price_interval)\n",
        "\n",
        "#Select the data and sum\n",
        "revenue_per_price = online_rt.groupby(pd.cut(online_rt.UnitPrice, buckets)).Revenue.sum()\n",
        "revenue_per_price.head()"
      ],
      "execution_count": 0,
      "outputs": [
        {
          "output_type": "execute_result",
          "data": {
            "text/plain": [
              "UnitPrice\n",
              "(0, 1]    1.107775e+06\n",
              "(1, 2]    2.691765e+06\n",
              "(2, 3]    2.024143e+06\n",
              "(3, 4]    8.651018e+05\n",
              "(4, 5]    1.219377e+06\n",
              "Name: Revenue, dtype: float64"
            ]
          },
          "metadata": {
            "tags": []
          },
          "execution_count": 15
        }
      ]
    },
    {
      "cell_type": "markdown",
      "metadata": {
        "id": "2vZkwNsLmaue",
        "colab_type": "text"
      },
      "source": [
        "#### 8.3 Plot."
      ]
    },
    {
      "cell_type": "code",
      "metadata": {
        "jupyter": {
          "outputs_hidden": false
        },
        "id": "fe_1ynaemauf",
        "colab_type": "code",
        "colab": {},
        "outputId": "c6e58d2c-ce01-4b82-de46-9cf20f79ea32"
      },
      "source": [
        "revenue_per_price.plot()\n",
        "plt.xlabel('Unit Price (in intervals of '+str(price_interval)+')')\n",
        "plt.ylabel('Revenue')\n",
        "plt.show()"
      ],
      "execution_count": 0,
      "outputs": [
        {
          "output_type": "display_data",
          "data": {
            "image/png": "[encoded data removed]",
            "text/plain": [
              "<Figure size 432x288 with 1 Axes>"
            ]
          },
          "metadata": {
            "tags": [],
            "needs_background": "light"
          }
        }
      ]
    },
    {
      "cell_type": "markdown",
      "metadata": {
        "id": "oDjiot11maug",
        "colab_type": "text"
      },
      "source": [
        "#### 8.4 Make it look nicer.\n",
        "x-axis needs values.  \n",
        "y-axis isn't that easy to read; show in terms of millions."
      ]
    },
    {
      "cell_type": "code",
      "metadata": {
        "jupyter": {
          "outputs_hidden": false
        },
        "id": "NsEiIOd4mauh",
        "colab_type": "code",
        "colab": {},
        "outputId": "5d2297fa-6082-4cb2-c487-319bf5cb0b8e"
      },
      "source": [
        "revenue_per_price.plot()\n",
        "\n",
        "#Place labels\n",
        "plt.xlabel('Unit Price (in buckets of '+str(price_interval)+')') \n",
        "plt.ylabel('Revenue')\n",
        "\n",
        "#Even though the data is bucketed in intervals of 1,\n",
        "#I'll plot ticks a little bit further apart from each other to avoid cluttering.\n",
        "plt.xticks(np.arange(price_start,price_end,3),\n",
        "           np.arange(price_start,price_end,3))\n",
        "plt.yticks([0, 500000, 1000000, 1500000, 2000000, 2500000],\n",
        "           ['0', '$0.5M', '$1M', '$1.5M', '$2M', '$2.5M'])\n",
        "plt.show()\n",
        "\n",
        "#Looks like a major chunk of our revenue comes from items worth $0-$3!"
      ],
      "execution_count": 0,
      "outputs": [
        {
          "output_type": "display_data",
          "data": {
            "image/png": "[encoded data removed]",
            "text/plain": [
              "<Figure size 432x288 with 1 Axes>"
            ]
          },
          "metadata": {
            "tags": [],
            "needs_background": "light"
          }
        }
      ]
    },
    {
      "cell_type": "markdown",
      "metadata": {
        "id": "GKmRz0N8mauj",
        "colab_type": "text"
      },
      "source": [
        "### BONUS: Create your own question and answer it."
      ]
    },
    {
      "cell_type": "code",
      "metadata": {
        "collapsed": true,
        "jupyter": {
          "outputs_hidden": true
        },
        "id": "ih5ZKdwKmauj",
        "colab_type": "code",
        "colab": {}
      },
      "source": [
        ""
      ],
      "execution_count": 0,
      "outputs": []
    },
    {
      "cell_type": "markdown",
      "metadata": {
        "id": "Za29rg2Ymaul",
        "colab_type": "text"
      },
      "source": [
        "# Pokemon"
      ]
    },
    {
      "cell_type": "markdown",
      "metadata": {
        "id": "FuV6H8pLmaul",
        "colab_type": "text"
      },
      "source": [
        "### Introduction:\n",
        "\n",
        "This time you will create the data.\n",
        "\n",
        "\n",
        "\n",
        "### Step 1. Import the necessary libraries"
      ]
    },
    {
      "cell_type": "code",
      "metadata": {
        "id": "7q5zt5prmaum",
        "colab_type": "code",
        "colab": {}
      },
      "source": [
        "import pandas as pd"
      ],
      "execution_count": 0,
      "outputs": []
    },
    {
      "cell_type": "markdown",
      "metadata": {
        "id": "m4B_Aha2maun",
        "colab_type": "text"
      },
      "source": [
        "### Step 2. Create a data dictionary"
      ]
    },
    {
      "cell_type": "code",
      "metadata": {
        "collapsed": true,
        "id": "SGXYI6lImaun",
        "colab_type": "code",
        "colab": {}
      },
      "source": [
        "raw_data = {\"name\": ['Bulbasaur', 'Charmander','Squirtle','Caterpie'],\n",
        "            \"evolution\": ['Ivysaur','Charmeleon','Wartortle','Metapod'],\n",
        "            \"type\": ['grass', 'fire', 'water', 'bug'],\n",
        "            \"hp\": [45, 39, 44, 45],\n",
        "            \"pokedex\": ['yes', 'no','yes','no']                        \n",
        "            }"
      ],
      "execution_count": 0,
      "outputs": []
    },
    {
      "cell_type": "markdown",
      "metadata": {
        "id": "zHK1_Yvrmaut",
        "colab_type": "text"
      },
      "source": [
        "### Step 3. Assign it to a variable called pokemon"
      ]
    },
    {
      "cell_type": "code",
      "metadata": {
        "id": "ParrIru2maut",
        "colab_type": "code",
        "colab": {},
        "outputId": "dc5445d8-ad0a-423a-a310-385dc81fffde"
      },
      "source": [
        "pokemon = pd.DataFrame(raw_data)\n",
        "pokemon.head()"
      ],
      "execution_count": 0,
      "outputs": [
        {
          "output_type": "execute_result",
          "data": {
            "text/html": [
              "<div>\n",
              "<table border=\"1\" class=\"dataframe\">\n",
              "  <thead>\n",
              "    <tr style=\"text-align: right;\">\n",
              "      <th></th>\n",
              "      <th>evolution</th>\n",
              "      <th>hp</th>\n",
              "      <th>name</th>\n",
              "      <th>pokedex</th>\n",
              "      <th>type</th>\n",
              "    </tr>\n",
              "  </thead>\n",
              "  <tbody>\n",
              "    <tr>\n",
              "      <th>0</th>\n",
              "      <td>Ivysaur</td>\n",
              "      <td>45</td>\n",
              "      <td>Bulbasaur</td>\n",
              "      <td>yes</td>\n",
              "      <td>grass</td>\n",
              "    </tr>\n",
              "    <tr>\n",
              "      <th>1</th>\n",
              "      <td>Charmeleon</td>\n",
              "      <td>39</td>\n",
              "      <td>Charmander</td>\n",
              "      <td>no</td>\n",
              "      <td>fire</td>\n",
              "    </tr>\n",
              "    <tr>\n",
              "      <th>2</th>\n",
              "      <td>Wartortle</td>\n",
              "      <td>44</td>\n",
              "      <td>Squirtle</td>\n",
              "      <td>yes</td>\n",
              "      <td>water</td>\n",
              "    </tr>\n",
              "    <tr>\n",
              "      <th>3</th>\n",
              "      <td>Metapod</td>\n",
              "      <td>45</td>\n",
              "      <td>Caterpie</td>\n",
              "      <td>no</td>\n",
              "      <td>bug</td>\n",
              "    </tr>\n",
              "  </tbody>\n",
              "</table>\n",
              "</div>"
            ],
            "text/plain": [
              "    evolution  hp        name pokedex   type\n",
              "0     Ivysaur  45   Bulbasaur     yes  grass\n",
              "1  Charmeleon  39  Charmander      no   fire\n",
              "2   Wartortle  44    Squirtle     yes  water\n",
              "3     Metapod  45    Caterpie      no    bug"
            ]
          },
          "metadata": {
            "tags": []
          },
          "execution_count": 5
        }
      ]
    },
    {
      "cell_type": "markdown",
      "metadata": {
        "id": "ILzA6y_Tmauv",
        "colab_type": "text"
      },
      "source": [
        "### Step 4. Ops...it seems the DataFrame columns are in alphabetical order. Place  the order of the columns as name, type, hp, evolution, pokedex"
      ]
    },
    {
      "cell_type": "code",
      "metadata": {
        "id": "vU87GkhUmauv",
        "colab_type": "code",
        "colab": {},
        "outputId": "2a29bb4d-e611-49aa-daca-e14e4823aec4"
      },
      "source": [
        "pokemon = pokemon[['name', 'type', 'hp', 'evolution','pokedex']]\n",
        "pokemon"
      ],
      "execution_count": 0,
      "outputs": [
        {
          "output_type": "execute_result",
          "data": {
            "text/html": [
              "<div>\n",
              "<table border=\"1\" class=\"dataframe\">\n",
              "  <thead>\n",
              "    <tr style=\"text-align: right;\">\n",
              "      <th></th>\n",
              "      <th>name</th>\n",
              "      <th>type</th>\n",
              "      <th>hp</th>\n",
              "      <th>evolution</th>\n",
              "      <th>pokedex</th>\n",
              "    </tr>\n",
              "  </thead>\n",
              "  <tbody>\n",
              "    <tr>\n",
              "      <th>0</th>\n",
              "      <td>Bulbasaur</td>\n",
              "      <td>grass</td>\n",
              "      <td>45</td>\n",
              "      <td>Ivysaur</td>\n",
              "      <td>yes</td>\n",
              "    </tr>\n",
              "    <tr>\n",
              "      <th>1</th>\n",
              "      <td>Charmander</td>\n",
              "      <td>fire</td>\n",
              "      <td>39</td>\n",
              "      <td>Charmeleon</td>\n",
              "      <td>no</td>\n",
              "    </tr>\n",
              "    <tr>\n",
              "      <th>2</th>\n",
              "      <td>Squirtle</td>\n",
              "      <td>water</td>\n",
              "      <td>44</td>\n",
              "      <td>Wartortle</td>\n",
              "      <td>yes</td>\n",
              "    </tr>\n",
              "    <tr>\n",
              "      <th>3</th>\n",
              "      <td>Caterpie</td>\n",
              "      <td>bug</td>\n",
              "      <td>45</td>\n",
              "      <td>Metapod</td>\n",
              "      <td>no</td>\n",
              "    </tr>\n",
              "  </tbody>\n",
              "</table>\n",
              "</div>"
            ],
            "text/plain": [
              "         name   type  hp   evolution pokedex\n",
              "0   Bulbasaur  grass  45     Ivysaur     yes\n",
              "1  Charmander   fire  39  Charmeleon      no\n",
              "2    Squirtle  water  44   Wartortle     yes\n",
              "3    Caterpie    bug  45     Metapod      no"
            ]
          },
          "metadata": {
            "tags": []
          },
          "execution_count": 8
        }
      ]
    },
    {
      "cell_type": "markdown",
      "metadata": {
        "id": "qpkKLjF7maux",
        "colab_type": "text"
      },
      "source": [
        "### Step 5. Add another column called place, and insert what you have in mind."
      ]
    },
    {
      "cell_type": "code",
      "metadata": {
        "id": "zVdSXKHEmaux",
        "colab_type": "code",
        "colab": {},
        "outputId": "16af90b4-43c9-45f8-8de1-7e786b330390"
      },
      "source": [
        "pokemon['place'] = ['park','street','lake','forest']\n",
        "pokemon"
      ],
      "execution_count": 0,
      "outputs": [
        {
          "output_type": "execute_result",
          "data": {
            "text/html": [
              "<div>\n",
              "<table border=\"1\" class=\"dataframe\">\n",
              "  <thead>\n",
              "    <tr style=\"text-align: right;\">\n",
              "      <th></th>\n",
              "      <th>name</th>\n",
              "      <th>type</th>\n",
              "      <th>hp</th>\n",
              "      <th>evolution</th>\n",
              "      <th>pokedex</th>\n",
              "      <th>place</th>\n",
              "    </tr>\n",
              "  </thead>\n",
              "  <tbody>\n",
              "    <tr>\n",
              "      <th>0</th>\n",
              "      <td>Bulbasaur</td>\n",
              "      <td>grass</td>\n",
              "      <td>45</td>\n",
              "      <td>Ivysaur</td>\n",
              "      <td>yes</td>\n",
              "      <td>park</td>\n",
              "    </tr>\n",
              "    <tr>\n",
              "      <th>1</th>\n",
              "      <td>Charmander</td>\n",
              "      <td>fire</td>\n",
              "      <td>39</td>\n",
              "      <td>Charmeleon</td>\n",
              "      <td>no</td>\n",
              "      <td>street</td>\n",
              "    </tr>\n",
              "    <tr>\n",
              "      <th>2</th>\n",
              "      <td>Squirtle</td>\n",
              "      <td>water</td>\n",
              "      <td>44</td>\n",
              "      <td>Wartortle</td>\n",
              "      <td>yes</td>\n",
              "      <td>lake</td>\n",
              "    </tr>\n",
              "    <tr>\n",
              "      <th>3</th>\n",
              "      <td>Caterpie</td>\n",
              "      <td>bug</td>\n",
              "      <td>45</td>\n",
              "      <td>Metapod</td>\n",
              "      <td>no</td>\n",
              "      <td>forest</td>\n",
              "    </tr>\n",
              "  </tbody>\n",
              "</table>\n",
              "</div>"
            ],
            "text/plain": [
              "         name   type  hp   evolution pokedex   place\n",
              "0   Bulbasaur  grass  45     Ivysaur     yes    park\n",
              "1  Charmander   fire  39  Charmeleon      no  street\n",
              "2    Squirtle  water  44   Wartortle     yes    lake\n",
              "3    Caterpie    bug  45     Metapod      no  forest"
            ]
          },
          "metadata": {
            "tags": []
          },
          "execution_count": 13
        }
      ]
    },
    {
      "cell_type": "markdown",
      "metadata": {
        "id": "qcm-fqRHmauz",
        "colab_type": "text"
      },
      "source": [
        "### Step 6. Present the type of each column"
      ]
    },
    {
      "cell_type": "code",
      "metadata": {
        "id": "sZWjy_P_mau0",
        "colab_type": "code",
        "colab": {},
        "outputId": "bbf4ae82-b868-4011-8b2f-fc93d830ef82"
      },
      "source": [
        "pokemon.dtypes"
      ],
      "execution_count": 0,
      "outputs": [
        {
          "output_type": "execute_result",
          "data": {
            "text/plain": [
              "name         object\n",
              "type         object\n",
              "hp            int64\n",
              "evolution    object\n",
              "pokedex      object\n",
              "dtype: object"
            ]
          },
          "metadata": {
            "tags": []
          },
          "execution_count": 9
        }
      ]
    },
    {
      "cell_type": "markdown",
      "metadata": {
        "id": "IFZxkf9kmau1",
        "colab_type": "text"
      },
      "source": [
        "### BONUS: Create your own question and answer it."
      ]
    },
    {
      "cell_type": "code",
      "metadata": {
        "collapsed": true,
        "id": "LmyAGUjbmau1",
        "colab_type": "code",
        "colab": {}
      },
      "source": [
        ""
      ],
      "execution_count": 0,
      "outputs": []
    },
    {
      "cell_type": "markdown",
      "metadata": {
        "id": "L9aObCZsmau2",
        "colab_type": "text"
      },
      "source": [
        "# Apple Stock"
      ]
    },
    {
      "cell_type": "markdown",
      "metadata": {
        "id": "7EAxsH4vmau2",
        "colab_type": "text"
      },
      "source": [
        "### Introduction:\n",
        "\n",
        "We are going to use Apple's stock price.\n",
        "\n",
        "\n",
        "### Step 1. Import the necessary libraries"
      ]
    },
    {
      "cell_type": "code",
      "metadata": {
        "id": "35yLmx1Bmau2",
        "colab_type": "code",
        "colab": {}
      },
      "source": [
        "import pandas as pd\n",
        "import numpy as np\n",
        "\n",
        "# visualization\n",
        "import matplotlib.pyplot as plt\n",
        "\n",
        "%matplotlib inline"
      ],
      "execution_count": 0,
      "outputs": []
    },
    {
      "cell_type": "markdown",
      "metadata": {
        "id": "KV784CChmau4",
        "colab_type": "text"
      },
      "source": [
        "### Step 2. Import the dataset from this [address](https://raw.githubusercontent.com/guipsamora/pandas_exercises/master/09_Time_Series/Apple_Stock/appl_1980_2014.csv)"
      ]
    },
    {
      "cell_type": "markdown",
      "metadata": {
        "id": "VzhXAzHBmau4",
        "colab_type": "text"
      },
      "source": [
        "### Step 3. Assign it to a variable apple"
      ]
    },
    {
      "cell_type": "code",
      "metadata": {
        "id": "3bmxLQuBmau4",
        "colab_type": "code",
        "colab": {},
        "outputId": "7e39dff4-3e1c-40de-f114-6132f7ef0b40"
      },
      "source": [
        "url = 'https://raw.githubusercontent.com/guipsamora/pandas_exercises/master/09_Time_Series/Apple_Stock/appl_1980_2014.csv'\n",
        "apple = pd.read_csv(url)\n",
        "\n",
        "apple.head()"
      ],
      "execution_count": 0,
      "outputs": [
        {
          "output_type": "execute_result",
          "data": {
            "text/html": [
              "<div>\n",
              "<table border=\"1\" class=\"dataframe\">\n",
              "  <thead>\n",
              "    <tr style=\"text-align: right;\">\n",
              "      <th></th>\n",
              "      <th>Date</th>\n",
              "      <th>Open</th>\n",
              "      <th>High</th>\n",
              "      <th>Low</th>\n",
              "      <th>Close</th>\n",
              "      <th>Volume</th>\n",
              "      <th>Adj Close</th>\n",
              "    </tr>\n",
              "  </thead>\n",
              "  <tbody>\n",
              "    <tr>\n",
              "      <th>0</th>\n",
              "      <td>2014-07-08</td>\n",
              "      <td>96.27</td>\n",
              "      <td>96.80</td>\n",
              "      <td>93.92</td>\n",
              "      <td>95.35</td>\n",
              "      <td>65130000</td>\n",
              "      <td>95.35</td>\n",
              "    </tr>\n",
              "    <tr>\n",
              "      <th>1</th>\n",
              "      <td>2014-07-07</td>\n",
              "      <td>94.14</td>\n",
              "      <td>95.99</td>\n",
              "      <td>94.10</td>\n",
              "      <td>95.97</td>\n",
              "      <td>56305400</td>\n",
              "      <td>95.97</td>\n",
              "    </tr>\n",
              "    <tr>\n",
              "      <th>2</th>\n",
              "      <td>2014-07-03</td>\n",
              "      <td>93.67</td>\n",
              "      <td>94.10</td>\n",
              "      <td>93.20</td>\n",
              "      <td>94.03</td>\n",
              "      <td>22891800</td>\n",
              "      <td>94.03</td>\n",
              "    </tr>\n",
              "    <tr>\n",
              "      <th>3</th>\n",
              "      <td>2014-07-02</td>\n",
              "      <td>93.87</td>\n",
              "      <td>94.06</td>\n",
              "      <td>93.09</td>\n",
              "      <td>93.48</td>\n",
              "      <td>28420900</td>\n",
              "      <td>93.48</td>\n",
              "    </tr>\n",
              "    <tr>\n",
              "      <th>4</th>\n",
              "      <td>2014-07-01</td>\n",
              "      <td>93.52</td>\n",
              "      <td>94.07</td>\n",
              "      <td>93.13</td>\n",
              "      <td>93.52</td>\n",
              "      <td>38170200</td>\n",
              "      <td>93.52</td>\n",
              "    </tr>\n",
              "  </tbody>\n",
              "</table>\n",
              "</div>"
            ],
            "text/plain": [
              "         Date   Open   High    Low  Close    Volume  Adj Close\n",
              "0  2014-07-08  96.27  96.80  93.92  95.35  65130000      95.35\n",
              "1  2014-07-07  94.14  95.99  94.10  95.97  56305400      95.97\n",
              "2  2014-07-03  93.67  94.10  93.20  94.03  22891800      94.03\n",
              "3  2014-07-02  93.87  94.06  93.09  93.48  28420900      93.48\n",
              "4  2014-07-01  93.52  94.07  93.13  93.52  38170200      93.52"
            ]
          },
          "metadata": {
            "tags": []
          },
          "execution_count": 32
        }
      ]
    },
    {
      "cell_type": "markdown",
      "metadata": {
        "id": "iBz1x6Tcmau5",
        "colab_type": "text"
      },
      "source": [
        "### Step 4.  Check out the type of the columns"
      ]
    },
    {
      "cell_type": "code",
      "metadata": {
        "id": "I7pw0P9Cmau6",
        "colab_type": "code",
        "colab": {},
        "outputId": "5fa667b7-d3e9-4d47-bed2-c334300dc93f"
      },
      "source": [
        "apple.dtypes"
      ],
      "execution_count": 0,
      "outputs": [
        {
          "output_type": "execute_result",
          "data": {
            "text/plain": [
              "Date          object\n",
              "Open         float64\n",
              "High         float64\n",
              "Low          float64\n",
              "Close        float64\n",
              "Volume         int64\n",
              "Adj Close    float64\n",
              "dtype: object"
            ]
          },
          "metadata": {
            "tags": []
          },
          "execution_count": 33
        }
      ]
    },
    {
      "cell_type": "markdown",
      "metadata": {
        "id": "g2VF_KOEmau8",
        "colab_type": "text"
      },
      "source": [
        "### Step 5. Transform the Date column as a datetime type"
      ]
    },
    {
      "cell_type": "code",
      "metadata": {
        "id": "gMxvvZrBmau8",
        "colab_type": "code",
        "colab": {},
        "outputId": "79350e08-8888-45e0-db3e-4304e8c569bf"
      },
      "source": [
        "apple.Date = pd.to_datetime(apple.Date)\n",
        "\n",
        "apple['Date'].head()"
      ],
      "execution_count": 0,
      "outputs": [
        {
          "output_type": "execute_result",
          "data": {
            "text/plain": [
              "0   2014-07-08\n",
              "1   2014-07-07\n",
              "2   2014-07-03\n",
              "3   2014-07-02\n",
              "4   2014-07-01\n",
              "Name: Date, dtype: datetime64[ns]"
            ]
          },
          "metadata": {
            "tags": []
          },
          "execution_count": 34
        }
      ]
    },
    {
      "cell_type": "markdown",
      "metadata": {
        "id": "wrTbQdX7mau-",
        "colab_type": "text"
      },
      "source": [
        "### Step 6.  Set the date as the index"
      ]
    },
    {
      "cell_type": "code",
      "metadata": {
        "id": "AbZmbdc5mau-",
        "colab_type": "code",
        "colab": {},
        "outputId": "4da93d16-708f-4640-a669-dab184759b7b"
      },
      "source": [
        "apple = apple.set_index('Date')\n",
        "\n",
        "apple.head()"
      ],
      "execution_count": 0,
      "outputs": [
        {
          "output_type": "execute_result",
          "data": {
            "text/html": [
              "<div>\n",
              "<table border=\"1\" class=\"dataframe\">\n",
              "  <thead>\n",
              "    <tr style=\"text-align: right;\">\n",
              "      <th></th>\n",
              "      <th>Open</th>\n",
              "      <th>High</th>\n",
              "      <th>Low</th>\n",
              "      <th>Close</th>\n",
              "      <th>Volume</th>\n",
              "      <th>Adj Close</th>\n",
              "    </tr>\n",
              "    <tr>\n",
              "      <th>Date</th>\n",
              "      <th></th>\n",
              "      <th></th>\n",
              "      <th></th>\n",
              "      <th></th>\n",
              "      <th></th>\n",
              "      <th></th>\n",
              "    </tr>\n",
              "  </thead>\n",
              "  <tbody>\n",
              "    <tr>\n",
              "      <th>2014-07-08</th>\n",
              "      <td>96.27</td>\n",
              "      <td>96.80</td>\n",
              "      <td>93.92</td>\n",
              "      <td>95.35</td>\n",
              "      <td>65130000</td>\n",
              "      <td>95.35</td>\n",
              "    </tr>\n",
              "    <tr>\n",
              "      <th>2014-07-07</th>\n",
              "      <td>94.14</td>\n",
              "      <td>95.99</td>\n",
              "      <td>94.10</td>\n",
              "      <td>95.97</td>\n",
              "      <td>56305400</td>\n",
              "      <td>95.97</td>\n",
              "    </tr>\n",
              "    <tr>\n",
              "      <th>2014-07-03</th>\n",
              "      <td>93.67</td>\n",
              "      <td>94.10</td>\n",
              "      <td>93.20</td>\n",
              "      <td>94.03</td>\n",
              "      <td>22891800</td>\n",
              "      <td>94.03</td>\n",
              "    </tr>\n",
              "    <tr>\n",
              "      <th>2014-07-02</th>\n",
              "      <td>93.87</td>\n",
              "      <td>94.06</td>\n",
              "      <td>93.09</td>\n",
              "      <td>93.48</td>\n",
              "      <td>28420900</td>\n",
              "      <td>93.48</td>\n",
              "    </tr>\n",
              "    <tr>\n",
              "      <th>2014-07-01</th>\n",
              "      <td>93.52</td>\n",
              "      <td>94.07</td>\n",
              "      <td>93.13</td>\n",
              "      <td>93.52</td>\n",
              "      <td>38170200</td>\n",
              "      <td>93.52</td>\n",
              "    </tr>\n",
              "  </tbody>\n",
              "</table>\n",
              "</div>"
            ],
            "text/plain": [
              "             Open   High    Low  Close    Volume  Adj Close\n",
              "Date                                                       \n",
              "2014-07-08  96.27  96.80  93.92  95.35  65130000      95.35\n",
              "2014-07-07  94.14  95.99  94.10  95.97  56305400      95.97\n",
              "2014-07-03  93.67  94.10  93.20  94.03  22891800      94.03\n",
              "2014-07-02  93.87  94.06  93.09  93.48  28420900      93.48\n",
              "2014-07-01  93.52  94.07  93.13  93.52  38170200      93.52"
            ]
          },
          "metadata": {
            "tags": []
          },
          "execution_count": 35
        }
      ]
    },
    {
      "cell_type": "markdown",
      "metadata": {
        "id": "vMqpIaubmau_",
        "colab_type": "text"
      },
      "source": [
        "### Step 7.  Is there any duplicate dates?"
      ]
    },
    {
      "cell_type": "code",
      "metadata": {
        "id": "CDRZshLQmavA",
        "colab_type": "code",
        "colab": {},
        "outputId": "3a4b93b0-f393-4cc0-db1f-54600aa83293"
      },
      "source": [
        "# NO! All are unique\n",
        "apple.index.is_unique"
      ],
      "execution_count": 0,
      "outputs": [
        {
          "output_type": "execute_result",
          "data": {
            "text/plain": [
              "True"
            ]
          },
          "metadata": {
            "tags": []
          },
          "execution_count": 36
        }
      ]
    },
    {
      "cell_type": "markdown",
      "metadata": {
        "id": "_i0XuD4ImavC",
        "colab_type": "text"
      },
      "source": [
        "### Step 8.  Ops...it seems the index is from the most recent date. Make the first entry the oldest date."
      ]
    },
    {
      "cell_type": "code",
      "metadata": {
        "id": "NAWNBStImavC",
        "colab_type": "code",
        "colab": {},
        "outputId": "51921b6f-d984-4198-b2cb-8b505fba53ed"
      },
      "source": [
        "apple.sort_index(ascending = True).head()"
      ],
      "execution_count": 0,
      "outputs": [
        {
          "output_type": "execute_result",
          "data": {
            "text/html": [
              "<div>\n",
              "<table border=\"1\" class=\"dataframe\">\n",
              "  <thead>\n",
              "    <tr style=\"text-align: right;\">\n",
              "      <th></th>\n",
              "      <th>Open</th>\n",
              "      <th>High</th>\n",
              "      <th>Low</th>\n",
              "      <th>Close</th>\n",
              "      <th>Volume</th>\n",
              "      <th>Adj Close</th>\n",
              "    </tr>\n",
              "    <tr>\n",
              "      <th>Date</th>\n",
              "      <th></th>\n",
              "      <th></th>\n",
              "      <th></th>\n",
              "      <th></th>\n",
              "      <th></th>\n",
              "      <th></th>\n",
              "    </tr>\n",
              "  </thead>\n",
              "  <tbody>\n",
              "    <tr>\n",
              "      <th>1980-12-12</th>\n",
              "      <td>28.75</td>\n",
              "      <td>28.87</td>\n",
              "      <td>28.75</td>\n",
              "      <td>28.75</td>\n",
              "      <td>117258400</td>\n",
              "      <td>0.45</td>\n",
              "    </tr>\n",
              "    <tr>\n",
              "      <th>1980-12-15</th>\n",
              "      <td>27.38</td>\n",
              "      <td>27.38</td>\n",
              "      <td>27.25</td>\n",
              "      <td>27.25</td>\n",
              "      <td>43971200</td>\n",
              "      <td>0.42</td>\n",
              "    </tr>\n",
              "    <tr>\n",
              "      <th>1980-12-16</th>\n",
              "      <td>25.37</td>\n",
              "      <td>25.37</td>\n",
              "      <td>25.25</td>\n",
              "      <td>25.25</td>\n",
              "      <td>26432000</td>\n",
              "      <td>0.39</td>\n",
              "    </tr>\n",
              "    <tr>\n",
              "      <th>1980-12-17</th>\n",
              "      <td>25.87</td>\n",
              "      <td>26.00</td>\n",
              "      <td>25.87</td>\n",
              "      <td>25.87</td>\n",
              "      <td>21610400</td>\n",
              "      <td>0.40</td>\n",
              "    </tr>\n",
              "    <tr>\n",
              "      <th>1980-12-18</th>\n",
              "      <td>26.63</td>\n",
              "      <td>26.75</td>\n",
              "      <td>26.63</td>\n",
              "      <td>26.63</td>\n",
              "      <td>18362400</td>\n",
              "      <td>0.41</td>\n",
              "    </tr>\n",
              "  </tbody>\n",
              "</table>\n",
              "</div>"
            ],
            "text/plain": [
              "             Open   High    Low  Close     Volume  Adj Close\n",
              "Date                                                        \n",
              "1980-12-12  28.75  28.87  28.75  28.75  117258400       0.45\n",
              "1980-12-15  27.38  27.38  27.25  27.25   43971200       0.42\n",
              "1980-12-16  25.37  25.37  25.25  25.25   26432000       0.39\n",
              "1980-12-17  25.87  26.00  25.87  25.87   21610400       0.40\n",
              "1980-12-18  26.63  26.75  26.63  26.63   18362400       0.41"
            ]
          },
          "metadata": {
            "tags": []
          },
          "execution_count": 39
        }
      ]
    },
    {
      "cell_type": "markdown",
      "metadata": {
        "id": "x1795iulmavD",
        "colab_type": "text"
      },
      "source": [
        "### Step 9. Get the last business day of each month"
      ]
    },
    {
      "cell_type": "code",
      "metadata": {
        "id": "ch4p7UBBmavD",
        "colab_type": "code",
        "colab": {},
        "outputId": "13e41fb0-ab85-443b-9de5-3619c39026a5"
      },
      "source": [
        "apple_month = apple.resample('BM').mean()\n",
        "\n",
        "apple_month.head()"
      ],
      "execution_count": 0,
      "outputs": [
        {
          "output_type": "execute_result",
          "data": {
            "text/html": [
              "<div>\n",
              "<table border=\"1\" class=\"dataframe\">\n",
              "  <thead>\n",
              "    <tr style=\"text-align: right;\">\n",
              "      <th></th>\n",
              "      <th>Open</th>\n",
              "      <th>High</th>\n",
              "      <th>Low</th>\n",
              "      <th>Close</th>\n",
              "      <th>Volume</th>\n",
              "      <th>Adj Close</th>\n",
              "    </tr>\n",
              "    <tr>\n",
              "      <th>Date</th>\n",
              "      <th></th>\n",
              "      <th></th>\n",
              "      <th></th>\n",
              "      <th></th>\n",
              "      <th></th>\n",
              "      <th></th>\n",
              "    </tr>\n",
              "  </thead>\n",
              "  <tbody>\n",
              "    <tr>\n",
              "      <th>1980-12-31</th>\n",
              "      <td>30.481538</td>\n",
              "      <td>30.567692</td>\n",
              "      <td>30.443077</td>\n",
              "      <td>30.443077</td>\n",
              "      <td>25862523</td>\n",
              "      <td>0.473077</td>\n",
              "    </tr>\n",
              "    <tr>\n",
              "      <th>1981-01-30</th>\n",
              "      <td>31.754762</td>\n",
              "      <td>31.826667</td>\n",
              "      <td>31.654762</td>\n",
              "      <td>31.654762</td>\n",
              "      <td>7249866</td>\n",
              "      <td>0.493810</td>\n",
              "    </tr>\n",
              "    <tr>\n",
              "      <th>1981-02-27</th>\n",
              "      <td>26.480000</td>\n",
              "      <td>26.572105</td>\n",
              "      <td>26.407895</td>\n",
              "      <td>26.407895</td>\n",
              "      <td>4231831</td>\n",
              "      <td>0.411053</td>\n",
              "    </tr>\n",
              "    <tr>\n",
              "      <th>1981-03-31</th>\n",
              "      <td>24.937727</td>\n",
              "      <td>25.016818</td>\n",
              "      <td>24.836364</td>\n",
              "      <td>24.836364</td>\n",
              "      <td>7962690</td>\n",
              "      <td>0.387727</td>\n",
              "    </tr>\n",
              "    <tr>\n",
              "      <th>1981-04-30</th>\n",
              "      <td>27.286667</td>\n",
              "      <td>27.368095</td>\n",
              "      <td>27.227143</td>\n",
              "      <td>27.227143</td>\n",
              "      <td>6392000</td>\n",
              "      <td>0.423333</td>\n",
              "    </tr>\n",
              "  </tbody>\n",
              "</table>\n",
              "</div>"
            ],
            "text/plain": [
              "                 Open       High        Low      Close    Volume  Adj Close\n",
              "Date                                                                       \n",
              "1980-12-31  30.481538  30.567692  30.443077  30.443077  25862523   0.473077\n",
              "1981-01-30  31.754762  31.826667  31.654762  31.654762   7249866   0.493810\n",
              "1981-02-27  26.480000  26.572105  26.407895  26.407895   4231831   0.411053\n",
              "1981-03-31  24.937727  25.016818  24.836364  24.836364   7962690   0.387727\n",
              "1981-04-30  27.286667  27.368095  27.227143  27.227143   6392000   0.423333"
            ]
          },
          "metadata": {
            "tags": []
          },
          "execution_count": 48
        }
      ]
    },
    {
      "cell_type": "markdown",
      "metadata": {
        "id": "QxTZqb_kmavH",
        "colab_type": "text"
      },
      "source": [
        "### Step 10.  What is the difference in days between the first day and the oldest"
      ]
    },
    {
      "cell_type": "code",
      "metadata": {
        "id": "Qs7Cal8imavH",
        "colab_type": "code",
        "colab": {},
        "outputId": "ca66a563-2df5-4d57-ef60-1552f57a7e41"
      },
      "source": [
        "(apple.index.max() - apple.index.min()).days"
      ],
      "execution_count": 0,
      "outputs": [
        {
          "output_type": "execute_result",
          "data": {
            "text/plain": [
              "12261"
            ]
          },
          "metadata": {
            "tags": []
          },
          "execution_count": 65
        }
      ]
    },
    {
      "cell_type": "markdown",
      "metadata": {
        "id": "BIdg6kWpmavI",
        "colab_type": "text"
      },
      "source": [
        "### Step 11.  How many months in the data we have?"
      ]
    },
    {
      "cell_type": "code",
      "metadata": {
        "id": "SKjxsOuGmavI",
        "colab_type": "code",
        "colab": {},
        "outputId": "502d1e71-5060-47ff-b75f-62ac4911f1cb"
      },
      "source": [
        "apple_months = apple.resample('BM').mean()\n",
        "\n",
        "len(apple_months.index)"
      ],
      "execution_count": 0,
      "outputs": [
        {
          "output_type": "execute_result",
          "data": {
            "text/plain": [
              "404"
            ]
          },
          "metadata": {
            "tags": []
          },
          "execution_count": 66
        }
      ]
    },
    {
      "cell_type": "markdown",
      "metadata": {
        "id": "BLdmeEeSmavJ",
        "colab_type": "text"
      },
      "source": [
        "### Step 12. Plot the 'Adj Close' value. Set the size of the figure to 13.5 x 9 inches"
      ]
    },
    {
      "cell_type": "code",
      "metadata": {
        "id": "sQ05a0GumavJ",
        "colab_type": "code",
        "colab": {},
        "outputId": "25aeb88e-0d60-4892-9cf5-39699a4ba5c2"
      },
      "source": [
        "# makes the plot and assign it to a variable\n",
        "appl_open = apple['Adj Close'].plot(title = \"Apple Stock\")\n",
        "\n",
        "# changes the size of the graph\n",
        "fig = appl_open.get_figure()\n",
        "fig.set_size_inches(13.5, 9)"
      ],
      "execution_count": 0,
      "outputs": [
        {
          "output_type": "display_data",
          "data": {
            "image/png": "[encoded data removed]",
            "text/plain": [
              "<matplotlib.figure.Figure at 0x116367690>"
            ]
          },
          "metadata": {
            "tags": []
          }
        }
      ]
    },
    {
      "cell_type": "markdown",
      "metadata": {
        "id": "BmH07U1hmavL",
        "colab_type": "text"
      },
      "source": [
        "### BONUS: Create your own question and answer it."
      ]
    },
    {
      "cell_type": "code",
      "metadata": {
        "collapsed": true,
        "id": "R5b0vFYPmavL",
        "colab_type": "code",
        "colab": {}
      },
      "source": [
        ""
      ],
      "execution_count": 0,
      "outputs": []
    },
    {
      "cell_type": "markdown",
      "metadata": {
        "id": "aWz8FGb5mavM",
        "colab_type": "text"
      },
      "source": [
        "# Iris"
      ]
    },
    {
      "cell_type": "markdown",
      "metadata": {
        "id": "MwnJfnqRmavM",
        "colab_type": "text"
      },
      "source": [
        "### Introduction:\n",
        "\n",
        "This exercise may seem a little bit strange, but keep doing it.\n",
        "\n",
        "### Step 1. Import the necessary libraries"
      ]
    },
    {
      "cell_type": "code",
      "metadata": {
        "id": "ORcETu9WmavN",
        "colab_type": "code",
        "colab": {}
      },
      "source": [
        "import pandas as pd\n",
        "import numpy as np"
      ],
      "execution_count": 0,
      "outputs": []
    },
    {
      "cell_type": "markdown",
      "metadata": {
        "id": "woEQr2nKmavQ",
        "colab_type": "text"
      },
      "source": [
        "### Step 2. Import the dataset from this [address](https://archive.ics.uci.edu/ml/machine-learning-databases/iris/iris.data). "
      ]
    },
    {
      "cell_type": "markdown",
      "metadata": {
        "id": "BQeIULf7mavQ",
        "colab_type": "text"
      },
      "source": [
        "### Step 3. Assign it to a variable called iris"
      ]
    },
    {
      "cell_type": "code",
      "metadata": {
        "id": "c1jrkIPfmavQ",
        "colab_type": "code",
        "colab": {},
        "outputId": "85d7403a-e2aa-4606-c6ad-e23c99d90d2e"
      },
      "source": [
        "url = 'https://archive.ics.uci.edu/ml/machine-learning-databases/iris/iris.data'\n",
        "iris = pd.read_csv(url)\n",
        "\n",
        "iris.head()"
      ],
      "execution_count": 0,
      "outputs": [
        {
          "output_type": "execute_result",
          "data": {
            "text/html": [
              "<div>\n",
              "<table border=\"1\" class=\"dataframe\">\n",
              "  <thead>\n",
              "    <tr style=\"text-align: right;\">\n",
              "      <th></th>\n",
              "      <th>5.1</th>\n",
              "      <th>3.5</th>\n",
              "      <th>1.4</th>\n",
              "      <th>0.2</th>\n",
              "      <th>Iris-setosa</th>\n",
              "    </tr>\n",
              "  </thead>\n",
              "  <tbody>\n",
              "    <tr>\n",
              "      <th>0</th>\n",
              "      <td>4.9</td>\n",
              "      <td>3.0</td>\n",
              "      <td>1.4</td>\n",
              "      <td>0.2</td>\n",
              "      <td>Iris-setosa</td>\n",
              "    </tr>\n",
              "    <tr>\n",
              "      <th>1</th>\n",
              "      <td>4.7</td>\n",
              "      <td>3.2</td>\n",
              "      <td>1.3</td>\n",
              "      <td>0.2</td>\n",
              "      <td>Iris-setosa</td>\n",
              "    </tr>\n",
              "    <tr>\n",
              "      <th>2</th>\n",
              "      <td>4.6</td>\n",
              "      <td>3.1</td>\n",
              "      <td>1.5</td>\n",
              "      <td>0.2</td>\n",
              "      <td>Iris-setosa</td>\n",
              "    </tr>\n",
              "    <tr>\n",
              "      <th>3</th>\n",
              "      <td>5.0</td>\n",
              "      <td>3.6</td>\n",
              "      <td>1.4</td>\n",
              "      <td>0.2</td>\n",
              "      <td>Iris-setosa</td>\n",
              "    </tr>\n",
              "    <tr>\n",
              "      <th>4</th>\n",
              "      <td>5.4</td>\n",
              "      <td>3.9</td>\n",
              "      <td>1.7</td>\n",
              "      <td>0.4</td>\n",
              "      <td>Iris-setosa</td>\n",
              "    </tr>\n",
              "  </tbody>\n",
              "</table>\n",
              "</div>"
            ],
            "text/plain": [
              "   5.1  3.5  1.4  0.2  Iris-setosa\n",
              "0  4.9  3.0  1.4  0.2  Iris-setosa\n",
              "1  4.7  3.2  1.3  0.2  Iris-setosa\n",
              "2  4.6  3.1  1.5  0.2  Iris-setosa\n",
              "3  5.0  3.6  1.4  0.2  Iris-setosa\n",
              "4  5.4  3.9  1.7  0.4  Iris-setosa"
            ]
          },
          "metadata": {
            "tags": []
          },
          "execution_count": 3
        }
      ]
    },
    {
      "cell_type": "markdown",
      "metadata": {
        "id": "xrmd6TU6mavS",
        "colab_type": "text"
      },
      "source": [
        "### Step 4. Create columns for the dataset"
      ]
    },
    {
      "cell_type": "code",
      "metadata": {
        "id": "j4gsXKsJmavS",
        "colab_type": "code",
        "colab": {},
        "outputId": "55289016-ee82-4248-84a8-04518ddc11bb"
      },
      "source": [
        "# 1. sepal_length (in cm)\n",
        "# 2. sepal_width (in cm)\n",
        "# 3. petal_length (in cm)\n",
        "# 4. petal_width (in cm)\n",
        "# 5. class\n",
        "\n",
        "iris.columns = ['sepal_length','sepal_width', 'petal_length', 'petal_width', 'class']\n",
        "iris.head()"
      ],
      "execution_count": 0,
      "outputs": [
        {
          "output_type": "execute_result",
          "data": {
            "text/html": [
              "<div>\n",
              "<table border=\"1\" class=\"dataframe\">\n",
              "  <thead>\n",
              "    <tr style=\"text-align: right;\">\n",
              "      <th></th>\n",
              "      <th>sepal_length</th>\n",
              "      <th>sepal_width</th>\n",
              "      <th>petal_length</th>\n",
              "      <th>petal_width</th>\n",
              "      <th>class</th>\n",
              "    </tr>\n",
              "  </thead>\n",
              "  <tbody>\n",
              "    <tr>\n",
              "      <th>0</th>\n",
              "      <td>4.9</td>\n",
              "      <td>3.0</td>\n",
              "      <td>1.4</td>\n",
              "      <td>0.2</td>\n",
              "      <td>Iris-setosa</td>\n",
              "    </tr>\n",
              "    <tr>\n",
              "      <th>1</th>\n",
              "      <td>4.7</td>\n",
              "      <td>3.2</td>\n",
              "      <td>1.3</td>\n",
              "      <td>0.2</td>\n",
              "      <td>Iris-setosa</td>\n",
              "    </tr>\n",
              "    <tr>\n",
              "      <th>2</th>\n",
              "      <td>4.6</td>\n",
              "      <td>3.1</td>\n",
              "      <td>1.5</td>\n",
              "      <td>0.2</td>\n",
              "      <td>Iris-setosa</td>\n",
              "    </tr>\n",
              "    <tr>\n",
              "      <th>3</th>\n",
              "      <td>5.0</td>\n",
              "      <td>3.6</td>\n",
              "      <td>1.4</td>\n",
              "      <td>0.2</td>\n",
              "      <td>Iris-setosa</td>\n",
              "    </tr>\n",
              "    <tr>\n",
              "      <th>4</th>\n",
              "      <td>5.4</td>\n",
              "      <td>3.9</td>\n",
              "      <td>1.7</td>\n",
              "      <td>0.4</td>\n",
              "      <td>Iris-setosa</td>\n",
              "    </tr>\n",
              "  </tbody>\n",
              "</table>\n",
              "</div>"
            ],
            "text/plain": [
              "   sepal_length  sepal_width  petal_length  petal_width        class\n",
              "0           4.9          3.0           1.4          0.2  Iris-setosa\n",
              "1           4.7          3.2           1.3          0.2  Iris-setosa\n",
              "2           4.6          3.1           1.5          0.2  Iris-setosa\n",
              "3           5.0          3.6           1.4          0.2  Iris-setosa\n",
              "4           5.4          3.9           1.7          0.4  Iris-setosa"
            ]
          },
          "metadata": {
            "tags": []
          },
          "execution_count": 5
        }
      ]
    },
    {
      "cell_type": "markdown",
      "metadata": {
        "id": "S6NjsR8cmavU",
        "colab_type": "text"
      },
      "source": [
        "### Step 5.  Is there any missing value in the dataframe?"
      ]
    },
    {
      "cell_type": "code",
      "metadata": {
        "id": "YuLX4LC2mavU",
        "colab_type": "code",
        "colab": {},
        "outputId": "fd7e4bed-1dd1-43f8-e4b8-510d5b1ba216"
      },
      "source": [
        "pd.isnull(iris).sum()\n",
        "# nice no missing value"
      ],
      "execution_count": 0,
      "outputs": [
        {
          "output_type": "execute_result",
          "data": {
            "text/plain": [
              "sepal_length    0\n",
              "sepal_width     0\n",
              "petal_length    0\n",
              "petal_width     0\n",
              "class           0\n",
              "dtype: int64"
            ]
          },
          "metadata": {
            "tags": []
          },
          "execution_count": 11
        }
      ]
    },
    {
      "cell_type": "markdown",
      "metadata": {
        "id": "iSVwMIyEmavV",
        "colab_type": "text"
      },
      "source": [
        "### Step 6.  Lets set the values of the rows 10 to 29 of the column 'petal_length' to NaN"
      ]
    },
    {
      "cell_type": "code",
      "metadata": {
        "id": "SFDVsj1RmavW",
        "colab_type": "code",
        "colab": {},
        "outputId": "d541c6ea-1dfe-47ae-f3b9-1f1f1f3a8653"
      },
      "source": [
        "iris.iloc[10:30,2:3] = np.nan\n",
        "iris.head(20)"
      ],
      "execution_count": 0,
      "outputs": [
        {
          "output_type": "execute_result",
          "data": {
            "text/html": [
              "<div>\n",
              "<table border=\"1\" class=\"dataframe\">\n",
              "  <thead>\n",
              "    <tr style=\"text-align: right;\">\n",
              "      <th></th>\n",
              "      <th>sepal_length</th>\n",
              "      <th>sepal_width</th>\n",
              "      <th>petal_length</th>\n",
              "      <th>petal_width</th>\n",
              "      <th>class</th>\n",
              "    </tr>\n",
              "  </thead>\n",
              "  <tbody>\n",
              "    <tr>\n",
              "      <th>0</th>\n",
              "      <td>4.9</td>\n",
              "      <td>3.0</td>\n",
              "      <td>1.4</td>\n",
              "      <td>0.2</td>\n",
              "      <td>Iris-setosa</td>\n",
              "    </tr>\n",
              "    <tr>\n",
              "      <th>1</th>\n",
              "      <td>4.7</td>\n",
              "      <td>3.2</td>\n",
              "      <td>1.3</td>\n",
              "      <td>0.2</td>\n",
              "      <td>Iris-setosa</td>\n",
              "    </tr>\n",
              "    <tr>\n",
              "      <th>2</th>\n",
              "      <td>4.6</td>\n",
              "      <td>3.1</td>\n",
              "      <td>1.5</td>\n",
              "      <td>0.2</td>\n",
              "      <td>Iris-setosa</td>\n",
              "    </tr>\n",
              "    <tr>\n",
              "      <th>3</th>\n",
              "      <td>5.0</td>\n",
              "      <td>3.6</td>\n",
              "      <td>1.4</td>\n",
              "      <td>0.2</td>\n",
              "      <td>Iris-setosa</td>\n",
              "    </tr>\n",
              "    <tr>\n",
              "      <th>4</th>\n",
              "      <td>5.4</td>\n",
              "      <td>3.9</td>\n",
              "      <td>1.7</td>\n",
              "      <td>0.4</td>\n",
              "      <td>Iris-setosa</td>\n",
              "    </tr>\n",
              "    <tr>\n",
              "      <th>5</th>\n",
              "      <td>4.6</td>\n",
              "      <td>3.4</td>\n",
              "      <td>1.4</td>\n",
              "      <td>0.3</td>\n",
              "      <td>Iris-setosa</td>\n",
              "    </tr>\n",
              "    <tr>\n",
              "      <th>6</th>\n",
              "      <td>5.0</td>\n",
              "      <td>3.4</td>\n",
              "      <td>1.5</td>\n",
              "      <td>0.2</td>\n",
              "      <td>Iris-setosa</td>\n",
              "    </tr>\n",
              "    <tr>\n",
              "      <th>7</th>\n",
              "      <td>4.4</td>\n",
              "      <td>2.9</td>\n",
              "      <td>1.4</td>\n",
              "      <td>0.2</td>\n",
              "      <td>Iris-setosa</td>\n",
              "    </tr>\n",
              "    <tr>\n",
              "      <th>8</th>\n",
              "      <td>4.9</td>\n",
              "      <td>3.1</td>\n",
              "      <td>1.5</td>\n",
              "      <td>0.1</td>\n",
              "      <td>Iris-setosa</td>\n",
              "    </tr>\n",
              "    <tr>\n",
              "      <th>9</th>\n",
              "      <td>5.4</td>\n",
              "      <td>3.7</td>\n",
              "      <td>1.5</td>\n",
              "      <td>0.2</td>\n",
              "      <td>Iris-setosa</td>\n",
              "    </tr>\n",
              "    <tr>\n",
              "      <th>10</th>\n",
              "      <td>4.8</td>\n",
              "      <td>3.4</td>\n",
              "      <td>NaN</td>\n",
              "      <td>0.2</td>\n",
              "      <td>Iris-setosa</td>\n",
              "    </tr>\n",
              "    <tr>\n",
              "      <th>11</th>\n",
              "      <td>4.8</td>\n",
              "      <td>3.0</td>\n",
              "      <td>NaN</td>\n",
              "      <td>0.1</td>\n",
              "      <td>Iris-setosa</td>\n",
              "    </tr>\n",
              "    <tr>\n",
              "      <th>12</th>\n",
              "      <td>4.3</td>\n",
              "      <td>3.0</td>\n",
              "      <td>NaN</td>\n",
              "      <td>0.1</td>\n",
              "      <td>Iris-setosa</td>\n",
              "    </tr>\n",
              "    <tr>\n",
              "      <th>13</th>\n",
              "      <td>5.8</td>\n",
              "      <td>4.0</td>\n",
              "      <td>NaN</td>\n",
              "      <td>0.2</td>\n",
              "      <td>Iris-setosa</td>\n",
              "    </tr>\n",
              "    <tr>\n",
              "      <th>14</th>\n",
              "      <td>5.7</td>\n",
              "      <td>4.4</td>\n",
              "      <td>NaN</td>\n",
              "      <td>0.4</td>\n",
              "      <td>Iris-setosa</td>\n",
              "    </tr>\n",
              "    <tr>\n",
              "      <th>15</th>\n",
              "      <td>5.4</td>\n",
              "      <td>3.9</td>\n",
              "      <td>NaN</td>\n",
              "      <td>0.4</td>\n",
              "      <td>Iris-setosa</td>\n",
              "    </tr>\n",
              "    <tr>\n",
              "      <th>16</th>\n",
              "      <td>5.1</td>\n",
              "      <td>3.5</td>\n",
              "      <td>NaN</td>\n",
              "      <td>0.3</td>\n",
              "      <td>Iris-setosa</td>\n",
              "    </tr>\n",
              "    <tr>\n",
              "      <th>17</th>\n",
              "      <td>5.7</td>\n",
              "      <td>3.8</td>\n",
              "      <td>NaN</td>\n",
              "      <td>0.3</td>\n",
              "      <td>Iris-setosa</td>\n",
              "    </tr>\n",
              "    <tr>\n",
              "      <th>18</th>\n",
              "      <td>5.1</td>\n",
              "      <td>3.8</td>\n",
              "      <td>NaN</td>\n",
              "      <td>0.3</td>\n",
              "      <td>Iris-setosa</td>\n",
              "    </tr>\n",
              "    <tr>\n",
              "      <th>19</th>\n",
              "      <td>5.4</td>\n",
              "      <td>3.4</td>\n",
              "      <td>NaN</td>\n",
              "      <td>0.2</td>\n",
              "      <td>Iris-setosa</td>\n",
              "    </tr>\n",
              "  </tbody>\n",
              "</table>\n",
              "</div>"
            ],
            "text/plain": [
              "    sepal_length  sepal_width  petal_length  petal_width        class\n",
              "0            4.9          3.0           1.4          0.2  Iris-setosa\n",
              "1            4.7          3.2           1.3          0.2  Iris-setosa\n",
              "2            4.6          3.1           1.5          0.2  Iris-setosa\n",
              "3            5.0          3.6           1.4          0.2  Iris-setosa\n",
              "4            5.4          3.9           1.7          0.4  Iris-setosa\n",
              "5            4.6          3.4           1.4          0.3  Iris-setosa\n",
              "6            5.0          3.4           1.5          0.2  Iris-setosa\n",
              "7            4.4          2.9           1.4          0.2  Iris-setosa\n",
              "8            4.9          3.1           1.5          0.1  Iris-setosa\n",
              "9            5.4          3.7           1.5          0.2  Iris-setosa\n",
              "10           4.8          3.4           NaN          0.2  Iris-setosa\n",
              "11           4.8          3.0           NaN          0.1  Iris-setosa\n",
              "12           4.3          3.0           NaN          0.1  Iris-setosa\n",
              "13           5.8          4.0           NaN          0.2  Iris-setosa\n",
              "14           5.7          4.4           NaN          0.4  Iris-setosa\n",
              "15           5.4          3.9           NaN          0.4  Iris-setosa\n",
              "16           5.1          3.5           NaN          0.3  Iris-setosa\n",
              "17           5.7          3.8           NaN          0.3  Iris-setosa\n",
              "18           5.1          3.8           NaN          0.3  Iris-setosa\n",
              "19           5.4          3.4           NaN          0.2  Iris-setosa"
            ]
          },
          "metadata": {
            "tags": []
          },
          "execution_count": 36
        }
      ]
    },
    {
      "cell_type": "markdown",
      "metadata": {
        "id": "b0_cA-wImavY",
        "colab_type": "text"
      },
      "source": [
        "### Step 7. Good, now lets substitute the NaN values to 1.0"
      ]
    },
    {
      "cell_type": "code",
      "metadata": {
        "id": "LnHYj-kYmavY",
        "colab_type": "code",
        "colab": {},
        "outputId": "d6b8e886-668d-4f35-9f5f-8cc2ed701c32"
      },
      "source": [
        "iris.petal_length.fillna(1, inplace = True)\n",
        "iris"
      ],
      "execution_count": 0,
      "outputs": [
        {
          "output_type": "execute_result",
          "data": {
            "text/html": [
              "<div>\n",
              "<table border=\"1\" class=\"dataframe\">\n",
              "  <thead>\n",
              "    <tr style=\"text-align: right;\">\n",
              "      <th></th>\n",
              "      <th>sepal_length</th>\n",
              "      <th>sepal_width</th>\n",
              "      <th>petal_length</th>\n",
              "      <th>petal_width</th>\n",
              "      <th>class</th>\n",
              "    </tr>\n",
              "  </thead>\n",
              "  <tbody>\n",
              "    <tr>\n",
              "      <th>0</th>\n",
              "      <td>4.9</td>\n",
              "      <td>3.0</td>\n",
              "      <td>1.4</td>\n",
              "      <td>0.2</td>\n",
              "      <td>Iris-setosa</td>\n",
              "    </tr>\n",
              "    <tr>\n",
              "      <th>1</th>\n",
              "      <td>4.7</td>\n",
              "      <td>3.2</td>\n",
              "      <td>1.3</td>\n",
              "      <td>0.2</td>\n",
              "      <td>Iris-setosa</td>\n",
              "    </tr>\n",
              "    <tr>\n",
              "      <th>2</th>\n",
              "      <td>4.6</td>\n",
              "      <td>3.1</td>\n",
              "      <td>1.5</td>\n",
              "      <td>0.2</td>\n",
              "      <td>Iris-setosa</td>\n",
              "    </tr>\n",
              "    <tr>\n",
              "      <th>3</th>\n",
              "      <td>5.0</td>\n",
              "      <td>3.6</td>\n",
              "      <td>1.4</td>\n",
              "      <td>0.2</td>\n",
              "      <td>Iris-setosa</td>\n",
              "    </tr>\n",
              "    <tr>\n",
              "      <th>4</th>\n",
              "      <td>5.4</td>\n",
              "      <td>3.9</td>\n",
              "      <td>1.7</td>\n",
              "      <td>0.4</td>\n",
              "      <td>Iris-setosa</td>\n",
              "    </tr>\n",
              "    <tr>\n",
              "      <th>5</th>\n",
              "      <td>4.6</td>\n",
              "      <td>3.4</td>\n",
              "      <td>1.4</td>\n",
              "      <td>0.3</td>\n",
              "      <td>Iris-setosa</td>\n",
              "    </tr>\n",
              "    <tr>\n",
              "      <th>6</th>\n",
              "      <td>5.0</td>\n",
              "      <td>3.4</td>\n",
              "      <td>1.5</td>\n",
              "      <td>0.2</td>\n",
              "      <td>Iris-setosa</td>\n",
              "    </tr>\n",
              "    <tr>\n",
              "      <th>7</th>\n",
              "      <td>4.4</td>\n",
              "      <td>2.9</td>\n",
              "      <td>1.4</td>\n",
              "      <td>0.2</td>\n",
              "      <td>Iris-setosa</td>\n",
              "    </tr>\n",
              "    <tr>\n",
              "      <th>8</th>\n",
              "      <td>4.9</td>\n",
              "      <td>3.1</td>\n",
              "      <td>1.5</td>\n",
              "      <td>0.1</td>\n",
              "      <td>Iris-setosa</td>\n",
              "    </tr>\n",
              "    <tr>\n",
              "      <th>9</th>\n",
              "      <td>5.4</td>\n",
              "      <td>3.7</td>\n",
              "      <td>1.5</td>\n",
              "      <td>0.2</td>\n",
              "      <td>Iris-setosa</td>\n",
              "    </tr>\n",
              "    <tr>\n",
              "      <th>10</th>\n",
              "      <td>4.8</td>\n",
              "      <td>3.4</td>\n",
              "      <td>1.0</td>\n",
              "      <td>0.2</td>\n",
              "      <td>Iris-setosa</td>\n",
              "    </tr>\n",
              "    <tr>\n",
              "      <th>11</th>\n",
              "      <td>4.8</td>\n",
              "      <td>3.0</td>\n",
              "      <td>1.0</td>\n",
              "      <td>0.1</td>\n",
              "      <td>Iris-setosa</td>\n",
              "    </tr>\n",
              "    <tr>\n",
              "      <th>12</th>\n",
              "      <td>4.3</td>\n",
              "      <td>3.0</td>\n",
              "      <td>1.0</td>\n",
              "      <td>0.1</td>\n",
              "      <td>Iris-setosa</td>\n",
              "    </tr>\n",
              "    <tr>\n",
              "      <th>13</th>\n",
              "      <td>5.8</td>\n",
              "      <td>4.0</td>\n",
              "      <td>1.0</td>\n",
              "      <td>0.2</td>\n",
              "      <td>Iris-setosa</td>\n",
              "    </tr>\n",
              "    <tr>\n",
              "      <th>14</th>\n",
              "      <td>5.7</td>\n",
              "      <td>4.4</td>\n",
              "      <td>1.0</td>\n",
              "      <td>0.4</td>\n",
              "      <td>Iris-setosa</td>\n",
              "    </tr>\n",
              "    <tr>\n",
              "      <th>15</th>\n",
              "      <td>5.4</td>\n",
              "      <td>3.9</td>\n",
              "      <td>1.0</td>\n",
              "      <td>0.4</td>\n",
              "      <td>Iris-setosa</td>\n",
              "    </tr>\n",
              "    <tr>\n",
              "      <th>16</th>\n",
              "      <td>5.1</td>\n",
              "      <td>3.5</td>\n",
              "      <td>1.0</td>\n",
              "      <td>0.3</td>\n",
              "      <td>Iris-setosa</td>\n",
              "    </tr>\n",
              "    <tr>\n",
              "      <th>17</th>\n",
              "      <td>5.7</td>\n",
              "      <td>3.8</td>\n",
              "      <td>1.0</td>\n",
              "      <td>0.3</td>\n",
              "      <td>Iris-setosa</td>\n",
              "    </tr>\n",
              "    <tr>\n",
              "      <th>18</th>\n",
              "      <td>5.1</td>\n",
              "      <td>3.8</td>\n",
              "      <td>1.0</td>\n",
              "      <td>0.3</td>\n",
              "      <td>Iris-setosa</td>\n",
              "    </tr>\n",
              "    <tr>\n",
              "      <th>19</th>\n",
              "      <td>5.4</td>\n",
              "      <td>3.4</td>\n",
              "      <td>1.0</td>\n",
              "      <td>0.2</td>\n",
              "      <td>Iris-setosa</td>\n",
              "    </tr>\n",
              "    <tr>\n",
              "      <th>20</th>\n",
              "      <td>5.1</td>\n",
              "      <td>3.7</td>\n",
              "      <td>1.0</td>\n",
              "      <td>0.4</td>\n",
              "      <td>Iris-setosa</td>\n",
              "    </tr>\n",
              "    <tr>\n",
              "      <th>21</th>\n",
              "      <td>4.6</td>\n",
              "      <td>3.6</td>\n",
              "      <td>1.0</td>\n",
              "      <td>0.2</td>\n",
              "      <td>Iris-setosa</td>\n",
              "    </tr>\n",
              "    <tr>\n",
              "      <th>22</th>\n",
              "      <td>5.1</td>\n",
              "      <td>3.3</td>\n",
              "      <td>1.0</td>\n",
              "      <td>0.5</td>\n",
              "      <td>Iris-setosa</td>\n",
              "    </tr>\n",
              "    <tr>\n",
              "      <th>23</th>\n",
              "      <td>4.8</td>\n",
              "      <td>3.4</td>\n",
              "      <td>1.0</td>\n",
              "      <td>0.2</td>\n",
              "      <td>Iris-setosa</td>\n",
              "    </tr>\n",
              "    <tr>\n",
              "      <th>24</th>\n",
              "      <td>5.0</td>\n",
              "      <td>3.0</td>\n",
              "      <td>1.0</td>\n",
              "      <td>0.2</td>\n",
              "      <td>Iris-setosa</td>\n",
              "    </tr>\n",
              "    <tr>\n",
              "      <th>25</th>\n",
              "      <td>5.0</td>\n",
              "      <td>3.4</td>\n",
              "      <td>1.0</td>\n",
              "      <td>0.4</td>\n",
              "      <td>Iris-setosa</td>\n",
              "    </tr>\n",
              "    <tr>\n",
              "      <th>26</th>\n",
              "      <td>5.2</td>\n",
              "      <td>3.5</td>\n",
              "      <td>1.0</td>\n",
              "      <td>0.2</td>\n",
              "      <td>Iris-setosa</td>\n",
              "    </tr>\n",
              "    <tr>\n",
              "      <th>27</th>\n",
              "      <td>5.2</td>\n",
              "      <td>3.4</td>\n",
              "      <td>1.0</td>\n",
              "      <td>0.2</td>\n",
              "      <td>Iris-setosa</td>\n",
              "    </tr>\n",
              "    <tr>\n",
              "      <th>28</th>\n",
              "      <td>4.7</td>\n",
              "      <td>3.2</td>\n",
              "      <td>1.0</td>\n",
              "      <td>0.2</td>\n",
              "      <td>Iris-setosa</td>\n",
              "    </tr>\n",
              "    <tr>\n",
              "      <th>29</th>\n",
              "      <td>4.8</td>\n",
              "      <td>3.1</td>\n",
              "      <td>1.0</td>\n",
              "      <td>0.2</td>\n",
              "      <td>Iris-setosa</td>\n",
              "    </tr>\n",
              "    <tr>\n",
              "      <th>...</th>\n",
              "      <td>...</td>\n",
              "      <td>...</td>\n",
              "      <td>...</td>\n",
              "      <td>...</td>\n",
              "      <td>...</td>\n",
              "    </tr>\n",
              "    <tr>\n",
              "      <th>119</th>\n",
              "      <td>6.9</td>\n",
              "      <td>3.2</td>\n",
              "      <td>5.7</td>\n",
              "      <td>2.3</td>\n",
              "      <td>Iris-virginica</td>\n",
              "    </tr>\n",
              "    <tr>\n",
              "      <th>120</th>\n",
              "      <td>5.6</td>\n",
              "      <td>2.8</td>\n",
              "      <td>4.9</td>\n",
              "      <td>2.0</td>\n",
              "      <td>Iris-virginica</td>\n",
              "    </tr>\n",
              "    <tr>\n",
              "      <th>121</th>\n",
              "      <td>7.7</td>\n",
              "      <td>2.8</td>\n",
              "      <td>6.7</td>\n",
              "      <td>2.0</td>\n",
              "      <td>Iris-virginica</td>\n",
              "    </tr>\n",
              "    <tr>\n",
              "      <th>122</th>\n",
              "      <td>6.3</td>\n",
              "      <td>2.7</td>\n",
              "      <td>4.9</td>\n",
              "      <td>1.8</td>\n",
              "      <td>Iris-virginica</td>\n",
              "    </tr>\n",
              "    <tr>\n",
              "      <th>123</th>\n",
              "      <td>6.7</td>\n",
              "      <td>3.3</td>\n",
              "      <td>5.7</td>\n",
              "      <td>2.1</td>\n",
              "      <td>Iris-virginica</td>\n",
              "    </tr>\n",
              "    <tr>\n",
              "      <th>124</th>\n",
              "      <td>7.2</td>\n",
              "      <td>3.2</td>\n",
              "      <td>6.0</td>\n",
              "      <td>1.8</td>\n",
              "      <td>Iris-virginica</td>\n",
              "    </tr>\n",
              "    <tr>\n",
              "      <th>125</th>\n",
              "      <td>6.2</td>\n",
              "      <td>2.8</td>\n",
              "      <td>4.8</td>\n",
              "      <td>1.8</td>\n",
              "      <td>Iris-virginica</td>\n",
              "    </tr>\n",
              "    <tr>\n",
              "      <th>126</th>\n",
              "      <td>6.1</td>\n",
              "      <td>3.0</td>\n",
              "      <td>4.9</td>\n",
              "      <td>1.8</td>\n",
              "      <td>Iris-virginica</td>\n",
              "    </tr>\n",
              "    <tr>\n",
              "      <th>127</th>\n",
              "      <td>6.4</td>\n",
              "      <td>2.8</td>\n",
              "      <td>5.6</td>\n",
              "      <td>2.1</td>\n",
              "      <td>Iris-virginica</td>\n",
              "    </tr>\n",
              "    <tr>\n",
              "      <th>128</th>\n",
              "      <td>7.2</td>\n",
              "      <td>3.0</td>\n",
              "      <td>5.8</td>\n",
              "      <td>1.6</td>\n",
              "      <td>Iris-virginica</td>\n",
              "    </tr>\n",
              "    <tr>\n",
              "      <th>129</th>\n",
              "      <td>7.4</td>\n",
              "      <td>2.8</td>\n",
              "      <td>6.1</td>\n",
              "      <td>1.9</td>\n",
              "      <td>Iris-virginica</td>\n",
              "    </tr>\n",
              "    <tr>\n",
              "      <th>130</th>\n",
              "      <td>7.9</td>\n",
              "      <td>3.8</td>\n",
              "      <td>6.4</td>\n",
              "      <td>2.0</td>\n",
              "      <td>Iris-virginica</td>\n",
              "    </tr>\n",
              "    <tr>\n",
              "      <th>131</th>\n",
              "      <td>6.4</td>\n",
              "      <td>2.8</td>\n",
              "      <td>5.6</td>\n",
              "      <td>2.2</td>\n",
              "      <td>Iris-virginica</td>\n",
              "    </tr>\n",
              "    <tr>\n",
              "      <th>132</th>\n",
              "      <td>6.3</td>\n",
              "      <td>2.8</td>\n",
              "      <td>5.1</td>\n",
              "      <td>1.5</td>\n",
              "      <td>Iris-virginica</td>\n",
              "    </tr>\n",
              "    <tr>\n",
              "      <th>133</th>\n",
              "      <td>6.1</td>\n",
              "      <td>2.6</td>\n",
              "      <td>5.6</td>\n",
              "      <td>1.4</td>\n",
              "      <td>Iris-virginica</td>\n",
              "    </tr>\n",
              "    <tr>\n",
              "      <th>134</th>\n",
              "      <td>7.7</td>\n",
              "      <td>3.0</td>\n",
              "      <td>6.1</td>\n",
              "      <td>2.3</td>\n",
              "      <td>Iris-virginica</td>\n",
              "    </tr>\n",
              "    <tr>\n",
              "      <th>135</th>\n",
              "      <td>6.3</td>\n",
              "      <td>3.4</td>\n",
              "      <td>5.6</td>\n",
              "      <td>2.4</td>\n",
              "      <td>Iris-virginica</td>\n",
              "    </tr>\n",
              "    <tr>\n",
              "      <th>136</th>\n",
              "      <td>6.4</td>\n",
              "      <td>3.1</td>\n",
              "      <td>5.5</td>\n",
              "      <td>1.8</td>\n",
              "      <td>Iris-virginica</td>\n",
              "    </tr>\n",
              "    <tr>\n",
              "      <th>137</th>\n",
              "      <td>6.0</td>\n",
              "      <td>3.0</td>\n",
              "      <td>4.8</td>\n",
              "      <td>1.8</td>\n",
              "      <td>Iris-virginica</td>\n",
              "    </tr>\n",
              "    <tr>\n",
              "      <th>138</th>\n",
              "      <td>6.9</td>\n",
              "      <td>3.1</td>\n",
              "      <td>5.4</td>\n",
              "      <td>2.1</td>\n",
              "      <td>Iris-virginica</td>\n",
              "    </tr>\n",
              "    <tr>\n",
              "      <th>139</th>\n",
              "      <td>6.7</td>\n",
              "      <td>3.1</td>\n",
              "      <td>5.6</td>\n",
              "      <td>2.4</td>\n",
              "      <td>Iris-virginica</td>\n",
              "    </tr>\n",
              "    <tr>\n",
              "      <th>140</th>\n",
              "      <td>6.9</td>\n",
              "      <td>3.1</td>\n",
              "      <td>5.1</td>\n",
              "      <td>2.3</td>\n",
              "      <td>Iris-virginica</td>\n",
              "    </tr>\n",
              "    <tr>\n",
              "      <th>141</th>\n",
              "      <td>5.8</td>\n",
              "      <td>2.7</td>\n",
              "      <td>5.1</td>\n",
              "      <td>1.9</td>\n",
              "      <td>Iris-virginica</td>\n",
              "    </tr>\n",
              "    <tr>\n",
              "      <th>142</th>\n",
              "      <td>6.8</td>\n",
              "      <td>3.2</td>\n",
              "      <td>5.9</td>\n",
              "      <td>2.3</td>\n",
              "      <td>Iris-virginica</td>\n",
              "    </tr>\n",
              "    <tr>\n",
              "      <th>143</th>\n",
              "      <td>6.7</td>\n",
              "      <td>3.3</td>\n",
              "      <td>5.7</td>\n",
              "      <td>2.5</td>\n",
              "      <td>Iris-virginica</td>\n",
              "    </tr>\n",
              "    <tr>\n",
              "      <th>144</th>\n",
              "      <td>6.7</td>\n",
              "      <td>3.0</td>\n",
              "      <td>5.2</td>\n",
              "      <td>2.3</td>\n",
              "      <td>Iris-virginica</td>\n",
              "    </tr>\n",
              "    <tr>\n",
              "      <th>145</th>\n",
              "      <td>6.3</td>\n",
              "      <td>2.5</td>\n",
              "      <td>5.0</td>\n",
              "      <td>1.9</td>\n",
              "      <td>Iris-virginica</td>\n",
              "    </tr>\n",
              "    <tr>\n",
              "      <th>146</th>\n",
              "      <td>6.5</td>\n",
              "      <td>3.0</td>\n",
              "      <td>5.2</td>\n",
              "      <td>2.0</td>\n",
              "      <td>Iris-virginica</td>\n",
              "    </tr>\n",
              "    <tr>\n",
              "      <th>147</th>\n",
              "      <td>6.2</td>\n",
              "      <td>3.4</td>\n",
              "      <td>5.4</td>\n",
              "      <td>2.3</td>\n",
              "      <td>Iris-virginica</td>\n",
              "    </tr>\n",
              "    <tr>\n",
              "      <th>148</th>\n",
              "      <td>5.9</td>\n",
              "      <td>3.0</td>\n",
              "      <td>5.1</td>\n",
              "      <td>1.8</td>\n",
              "      <td>Iris-virginica</td>\n",
              "    </tr>\n",
              "  </tbody>\n",
              "</table>\n",
              "<p>149 rows × 5 columns</p>\n",
              "</div>"
            ],
            "text/plain": [
              "     sepal_length  sepal_width  petal_length  petal_width           class\n",
              "0             4.9          3.0           1.4          0.2     Iris-setosa\n",
              "1             4.7          3.2           1.3          0.2     Iris-setosa\n",
              "2             4.6          3.1           1.5          0.2     Iris-setosa\n",
              "3             5.0          3.6           1.4          0.2     Iris-setosa\n",
              "4             5.4          3.9           1.7          0.4     Iris-setosa\n",
              "5             4.6          3.4           1.4          0.3     Iris-setosa\n",
              "6             5.0          3.4           1.5          0.2     Iris-setosa\n",
              "7             4.4          2.9           1.4          0.2     Iris-setosa\n",
              "8             4.9          3.1           1.5          0.1     Iris-setosa\n",
              "9             5.4          3.7           1.5          0.2     Iris-setosa\n",
              "10            4.8          3.4           1.0          0.2     Iris-setosa\n",
              "11            4.8          3.0           1.0          0.1     Iris-setosa\n",
              "12            4.3          3.0           1.0          0.1     Iris-setosa\n",
              "13            5.8          4.0           1.0          0.2     Iris-setosa\n",
              "14            5.7          4.4           1.0          0.4     Iris-setosa\n",
              "15            5.4          3.9           1.0          0.4     Iris-setosa\n",
              "16            5.1          3.5           1.0          0.3     Iris-setosa\n",
              "17            5.7          3.8           1.0          0.3     Iris-setosa\n",
              "18            5.1          3.8           1.0          0.3     Iris-setosa\n",
              "19            5.4          3.4           1.0          0.2     Iris-setosa\n",
              "20            5.1          3.7           1.0          0.4     Iris-setosa\n",
              "21            4.6          3.6           1.0          0.2     Iris-setosa\n",
              "22            5.1          3.3           1.0          0.5     Iris-setosa\n",
              "23            4.8          3.4           1.0          0.2     Iris-setosa\n",
              "24            5.0          3.0           1.0          0.2     Iris-setosa\n",
              "25            5.0          3.4           1.0          0.4     Iris-setosa\n",
              "26            5.2          3.5           1.0          0.2     Iris-setosa\n",
              "27            5.2          3.4           1.0          0.2     Iris-setosa\n",
              "28            4.7          3.2           1.0          0.2     Iris-setosa\n",
              "29            4.8          3.1           1.0          0.2     Iris-setosa\n",
              "..            ...          ...           ...          ...             ...\n",
              "119           6.9          3.2           5.7          2.3  Iris-virginica\n",
              "120           5.6          2.8           4.9          2.0  Iris-virginica\n",
              "121           7.7          2.8           6.7          2.0  Iris-virginica\n",
              "122           6.3          2.7           4.9          1.8  Iris-virginica\n",
              "123           6.7          3.3           5.7          2.1  Iris-virginica\n",
              "124           7.2          3.2           6.0          1.8  Iris-virginica\n",
              "125           6.2          2.8           4.8          1.8  Iris-virginica\n",
              "126           6.1          3.0           4.9          1.8  Iris-virginica\n",
              "127           6.4          2.8           5.6          2.1  Iris-virginica\n",
              "128           7.2          3.0           5.8          1.6  Iris-virginica\n",
              "129           7.4          2.8           6.1          1.9  Iris-virginica\n",
              "130           7.9          3.8           6.4          2.0  Iris-virginica\n",
              "131           6.4          2.8           5.6          2.2  Iris-virginica\n",
              "132           6.3          2.8           5.1          1.5  Iris-virginica\n",
              "133           6.1          2.6           5.6          1.4  Iris-virginica\n",
              "134           7.7          3.0           6.1          2.3  Iris-virginica\n",
              "135           6.3          3.4           5.6          2.4  Iris-virginica\n",
              "136           6.4          3.1           5.5          1.8  Iris-virginica\n",
              "137           6.0          3.0           4.8          1.8  Iris-virginica\n",
              "138           6.9          3.1           5.4          2.1  Iris-virginica\n",
              "139           6.7          3.1           5.6          2.4  Iris-virginica\n",
              "140           6.9          3.1           5.1          2.3  Iris-virginica\n",
              "141           5.8          2.7           5.1          1.9  Iris-virginica\n",
              "142           6.8          3.2           5.9          2.3  Iris-virginica\n",
              "143           6.7          3.3           5.7          2.5  Iris-virginica\n",
              "144           6.7          3.0           5.2          2.3  Iris-virginica\n",
              "145           6.3          2.5           5.0          1.9  Iris-virginica\n",
              "146           6.5          3.0           5.2          2.0  Iris-virginica\n",
              "147           6.2          3.4           5.4          2.3  Iris-virginica\n",
              "148           5.9          3.0           5.1          1.8  Iris-virginica\n",
              "\n",
              "[149 rows x 5 columns]"
            ]
          },
          "metadata": {
            "tags": []
          },
          "execution_count": 39
        }
      ]
    },
    {
      "cell_type": "markdown",
      "metadata": {
        "id": "HTY5MAfDmavZ",
        "colab_type": "text"
      },
      "source": [
        "### Step 8. Now let's delete the column class"
      ]
    },
    {
      "cell_type": "code",
      "metadata": {
        "id": "mBPnOBFwmava",
        "colab_type": "code",
        "colab": {},
        "outputId": "93eab5d9-5210-4fc5-93a7-0943e1c14fa9"
      },
      "source": [
        "del iris['class']\n",
        "iris.head()"
      ],
      "execution_count": 0,
      "outputs": [
        {
          "output_type": "execute_result",
          "data": {
            "text/html": [
              "<div>\n",
              "<table border=\"1\" class=\"dataframe\">\n",
              "  <thead>\n",
              "    <tr style=\"text-align: right;\">\n",
              "      <th></th>\n",
              "      <th>sepal_length</th>\n",
              "      <th>sepal_width</th>\n",
              "      <th>petal_length</th>\n",
              "      <th>petal_width</th>\n",
              "    </tr>\n",
              "  </thead>\n",
              "  <tbody>\n",
              "    <tr>\n",
              "      <th>0</th>\n",
              "      <td>4.9</td>\n",
              "      <td>3.0</td>\n",
              "      <td>1.4</td>\n",
              "      <td>0.2</td>\n",
              "    </tr>\n",
              "    <tr>\n",
              "      <th>1</th>\n",
              "      <td>4.7</td>\n",
              "      <td>3.2</td>\n",
              "      <td>1.3</td>\n",
              "      <td>0.2</td>\n",
              "    </tr>\n",
              "    <tr>\n",
              "      <th>2</th>\n",
              "      <td>4.6</td>\n",
              "      <td>3.1</td>\n",
              "      <td>1.5</td>\n",
              "      <td>0.2</td>\n",
              "    </tr>\n",
              "    <tr>\n",
              "      <th>3</th>\n",
              "      <td>5.0</td>\n",
              "      <td>3.6</td>\n",
              "      <td>1.4</td>\n",
              "      <td>0.2</td>\n",
              "    </tr>\n",
              "    <tr>\n",
              "      <th>4</th>\n",
              "      <td>5.4</td>\n",
              "      <td>3.9</td>\n",
              "      <td>1.7</td>\n",
              "      <td>0.4</td>\n",
              "    </tr>\n",
              "  </tbody>\n",
              "</table>\n",
              "</div>"
            ],
            "text/plain": [
              "   sepal_length  sepal_width  petal_length  petal_width\n",
              "0           4.9          3.0           1.4          0.2\n",
              "1           4.7          3.2           1.3          0.2\n",
              "2           4.6          3.1           1.5          0.2\n",
              "3           5.0          3.6           1.4          0.2\n",
              "4           5.4          3.9           1.7          0.4"
            ]
          },
          "metadata": {
            "tags": []
          },
          "execution_count": 40
        }
      ]
    },
    {
      "cell_type": "markdown",
      "metadata": {
        "id": "LNYpp1rqmavc",
        "colab_type": "text"
      },
      "source": [
        "### Step 9.  Set the first 3 rows as NaN"
      ]
    },
    {
      "cell_type": "code",
      "metadata": {
        "id": "kamUM_ECmavd",
        "colab_type": "code",
        "colab": {},
        "outputId": "8e141757-d85e-48b0-8fcf-21851f918ebd"
      },
      "source": [
        "iris.iloc[0:3 ,:] = np.nan\n",
        "iris.head()"
      ],
      "execution_count": 0,
      "outputs": [
        {
          "output_type": "execute_result",
          "data": {
            "text/html": [
              "<div>\n",
              "<table border=\"1\" class=\"dataframe\">\n",
              "  <thead>\n",
              "    <tr style=\"text-align: right;\">\n",
              "      <th></th>\n",
              "      <th>sepal_length</th>\n",
              "      <th>sepal_width</th>\n",
              "      <th>petal_length</th>\n",
              "      <th>petal_width</th>\n",
              "    </tr>\n",
              "  </thead>\n",
              "  <tbody>\n",
              "    <tr>\n",
              "      <th>0</th>\n",
              "      <td>NaN</td>\n",
              "      <td>NaN</td>\n",
              "      <td>NaN</td>\n",
              "      <td>NaN</td>\n",
              "    </tr>\n",
              "    <tr>\n",
              "      <th>1</th>\n",
              "      <td>NaN</td>\n",
              "      <td>NaN</td>\n",
              "      <td>NaN</td>\n",
              "      <td>NaN</td>\n",
              "    </tr>\n",
              "    <tr>\n",
              "      <th>2</th>\n",
              "      <td>NaN</td>\n",
              "      <td>NaN</td>\n",
              "      <td>NaN</td>\n",
              "      <td>NaN</td>\n",
              "    </tr>\n",
              "    <tr>\n",
              "      <th>3</th>\n",
              "      <td>5.0</td>\n",
              "      <td>3.4</td>\n",
              "      <td>1.5</td>\n",
              "      <td>0.2</td>\n",
              "    </tr>\n",
              "    <tr>\n",
              "      <th>4</th>\n",
              "      <td>4.4</td>\n",
              "      <td>2.9</td>\n",
              "      <td>1.4</td>\n",
              "      <td>0.2</td>\n",
              "    </tr>\n",
              "  </tbody>\n",
              "</table>\n",
              "</div>"
            ],
            "text/plain": [
              "   sepal_length  sepal_width  petal_length  petal_width\n",
              "0           NaN          NaN           NaN          NaN\n",
              "1           NaN          NaN           NaN          NaN\n",
              "2           NaN          NaN           NaN          NaN\n",
              "3           5.0          3.4           1.5          0.2\n",
              "4           4.4          2.9           1.4          0.2"
            ]
          },
          "metadata": {
            "tags": []
          },
          "execution_count": 52
        }
      ]
    },
    {
      "cell_type": "markdown",
      "metadata": {
        "id": "amtWFJYrmavf",
        "colab_type": "text"
      },
      "source": [
        "### Step 10.  Delete the rows that have NaN"
      ]
    },
    {
      "cell_type": "code",
      "metadata": {
        "id": "eEB0B1NMmavf",
        "colab_type": "code",
        "colab": {},
        "outputId": "bbd39a7e-bafc-4bad-d1ca-6644bd22666c"
      },
      "source": [
        "iris = iris.dropna(how='any')\n",
        "iris.head()"
      ],
      "execution_count": 0,
      "outputs": [
        {
          "output_type": "execute_result",
          "data": {
            "text/html": [
              "<div>\n",
              "<table border=\"1\" class=\"dataframe\">\n",
              "  <thead>\n",
              "    <tr style=\"text-align: right;\">\n",
              "      <th></th>\n",
              "      <th>sepal_length</th>\n",
              "      <th>sepal_width</th>\n",
              "      <th>petal_length</th>\n",
              "      <th>petal_width</th>\n",
              "    </tr>\n",
              "  </thead>\n",
              "  <tbody>\n",
              "    <tr>\n",
              "      <th>3</th>\n",
              "      <td>5.0</td>\n",
              "      <td>3.4</td>\n",
              "      <td>1.5</td>\n",
              "      <td>0.2</td>\n",
              "    </tr>\n",
              "    <tr>\n",
              "      <th>4</th>\n",
              "      <td>4.4</td>\n",
              "      <td>2.9</td>\n",
              "      <td>1.4</td>\n",
              "      <td>0.2</td>\n",
              "    </tr>\n",
              "    <tr>\n",
              "      <th>5</th>\n",
              "      <td>4.9</td>\n",
              "      <td>3.1</td>\n",
              "      <td>1.5</td>\n",
              "      <td>0.1</td>\n",
              "    </tr>\n",
              "    <tr>\n",
              "      <th>6</th>\n",
              "      <td>5.4</td>\n",
              "      <td>3.7</td>\n",
              "      <td>1.5</td>\n",
              "      <td>0.2</td>\n",
              "    </tr>\n",
              "    <tr>\n",
              "      <th>7</th>\n",
              "      <td>4.8</td>\n",
              "      <td>3.4</td>\n",
              "      <td>1.0</td>\n",
              "      <td>0.2</td>\n",
              "    </tr>\n",
              "  </tbody>\n",
              "</table>\n",
              "</div>"
            ],
            "text/plain": [
              "   sepal_length  sepal_width  petal_length  petal_width\n",
              "3           5.0          3.4           1.5          0.2\n",
              "4           4.4          2.9           1.4          0.2\n",
              "5           4.9          3.1           1.5          0.1\n",
              "6           5.4          3.7           1.5          0.2\n",
              "7           4.8          3.4           1.0          0.2"
            ]
          },
          "metadata": {
            "tags": []
          },
          "execution_count": 53
        }
      ]
    },
    {
      "cell_type": "markdown",
      "metadata": {
        "id": "EhLE9Gxlmavh",
        "colab_type": "text"
      },
      "source": [
        "### Step 11. Reset the index so it begins with 0 again"
      ]
    },
    {
      "cell_type": "code",
      "metadata": {
        "id": "o6PADrs5mavh",
        "colab_type": "code",
        "colab": {},
        "outputId": "ac291b4b-c5b2-4f32-8186-147ab2cc2911"
      },
      "source": [
        "iris = iris.reset_index(drop = True)\n",
        "iris.head()"
      ],
      "execution_count": 0,
      "outputs": [
        {
          "output_type": "execute_result",
          "data": {
            "text/html": [
              "<div>\n",
              "<table border=\"1\" class=\"dataframe\">\n",
              "  <thead>\n",
              "    <tr style=\"text-align: right;\">\n",
              "      <th></th>\n",
              "      <th>sepal_length</th>\n",
              "      <th>sepal_width</th>\n",
              "      <th>petal_length</th>\n",
              "      <th>petal_width</th>\n",
              "    </tr>\n",
              "  </thead>\n",
              "  <tbody>\n",
              "    <tr>\n",
              "      <th>0</th>\n",
              "      <td>5.0</td>\n",
              "      <td>3.4</td>\n",
              "      <td>1.5</td>\n",
              "      <td>0.2</td>\n",
              "    </tr>\n",
              "    <tr>\n",
              "      <th>1</th>\n",
              "      <td>4.4</td>\n",
              "      <td>2.9</td>\n",
              "      <td>1.4</td>\n",
              "      <td>0.2</td>\n",
              "    </tr>\n",
              "    <tr>\n",
              "      <th>2</th>\n",
              "      <td>4.9</td>\n",
              "      <td>3.1</td>\n",
              "      <td>1.5</td>\n",
              "      <td>0.1</td>\n",
              "    </tr>\n",
              "    <tr>\n",
              "      <th>3</th>\n",
              "      <td>5.4</td>\n",
              "      <td>3.7</td>\n",
              "      <td>1.5</td>\n",
              "      <td>0.2</td>\n",
              "    </tr>\n",
              "    <tr>\n",
              "      <th>4</th>\n",
              "      <td>4.8</td>\n",
              "      <td>3.4</td>\n",
              "      <td>1.0</td>\n",
              "      <td>0.2</td>\n",
              "    </tr>\n",
              "  </tbody>\n",
              "</table>\n",
              "</div>"
            ],
            "text/plain": [
              "   sepal_length  sepal_width  petal_length  petal_width\n",
              "0           5.0          3.4           1.5          0.2\n",
              "1           4.4          2.9           1.4          0.2\n",
              "2           4.9          3.1           1.5          0.1\n",
              "3           5.4          3.7           1.5          0.2\n",
              "4           4.8          3.4           1.0          0.2"
            ]
          },
          "metadata": {
            "tags": []
          },
          "execution_count": 56
        }
      ]
    },
    {
      "cell_type": "markdown",
      "metadata": {
        "id": "kq-NHCHRmavi",
        "colab_type": "text"
      },
      "source": [
        "### BONUS: Create your own question and answer it."
      ]
    },
    {
      "cell_type": "code",
      "metadata": {
        "collapsed": true,
        "id": "CAZAh557mavi",
        "colab_type": "code",
        "colab": {}
      },
      "source": [
        ""
      ],
      "execution_count": 0,
      "outputs": []
    }
  ]
}