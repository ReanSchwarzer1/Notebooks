{
  "nbformat": 4,
  "nbformat_minor": 0,
  "metadata": {
    "colab": {
      "name": "DatalogBasics.ipynb",
      "provenance": [],
      "collapsed_sections": [],
      "include_colab_link": true
    },
    "kernelspec": {
      "display_name": "Python 3",
      "language": "python",
      "name": "python3"
    },
    "language_info": {
      "codemirror_mode": {
        "name": "ipython",
        "version": 3
      },
      "file_extension": ".py",
      "mimetype": "text/x-python",
      "name": "python",
      "nbconvert_exporter": "python",
      "pygments_lexer": "ipython3",
      "version": "3.7.4"
    }
  },
  "cells": [
    {
      "cell_type": "markdown",
      "metadata": {
        "id": "view-in-github",
        "colab_type": "text"
      },
      "source": [
        "<a href=\"https://colab.research.google.com/github/ReanSchwarzer1/Notebooks/blob/master/DatalogBasics.ipynb\" target=\"_parent\"><img src=\"https://colab.research.google.com/assets/colab-badge.svg\" alt=\"Open In Colab\"/></a>"
      ]
    },
    {
      "cell_type": "code",
      "metadata": {
        "colab_type": "code",
        "id": "utWy9I0bpTeX",
        "colab": {}
      },
      "source": [
        "from pyDatalog import pyDatalog"
      ],
      "execution_count": 0,
      "outputs": []
    },
    {
      "cell_type": "code",
      "metadata": {
        "colab_type": "code",
        "id": "TS2x0HnHtJb9",
        "outputId": "a11cb8de-bbda-4a12-e4b3-dc7c3cc6b9d4",
        "colab": {
          "base_uri": "https://localhost:8080/",
          "height": 34
        }
      },
      "source": [
        "pip install --upgrade pyDatalog"
      ],
      "execution_count": 0,
      "outputs": [
        {
          "output_type": "stream",
          "text": [
            "Requirement already up-to-date: pyDatalog in /usr/local/lib/python3.6/dist-packages (0.17.1)\n"
          ],
          "name": "stdout"
        }
      ]
    },
    {
      "cell_type": "code",
      "metadata": {
        "colab_type": "code",
        "id": "wvE0jt_6s9cv",
        "outputId": "606969b4-cee9-411d-e1b8-a2ed0e853bda",
        "colab": {
          "base_uri": "https://localhost:8080/",
          "height": 207
        }
      },
      "source": [
        "pip install pyDatalog"
      ],
      "execution_count": 0,
      "outputs": [
        {
          "output_type": "stream",
          "text": [
            "Collecting pyDatalog\n",
            "\u001b[?25l  Downloading https://files.pythonhosted.org/packages/09/0b/2670eb9c0027aacfb5b5024ca75e5fee2f1261180ab8797108ffc941158a/pyDatalog-0.17.1.zip (304kB)\n",
            "\u001b[K     |████████████████████████████████| 307kB 2.5MB/s \n",
            "\u001b[?25hBuilding wheels for collected packages: pyDatalog\n",
            "  Building wheel for pyDatalog (setup.py) ... \u001b[?25l\u001b[?25hdone\n",
            "  Created wheel for pyDatalog: filename=pyDatalog-0.17.1-cp36-cp36m-linux_x86_64.whl size=950767 sha256=1f01ba7ed6809f204c024557ae02e177625deec7e525704fbedb2e2862baf6de\n",
            "  Stored in directory: /root/.cache/pip/wheels/dc/4e/90/b1b2d12ea976db63d78799ded3298ab2c6ee630072a0a49ea8\n",
            "Successfully built pyDatalog\n",
            "Installing collected packages: pyDatalog\n",
            "Successfully installed pyDatalog-0.17.1\n"
          ],
          "name": "stdout"
        }
      ]
    },
    {
      "cell_type": "code",
      "metadata": {
        "colab_type": "code",
        "id": "OrVyxxM7tT3_",
        "outputId": "b5c4e72a-a50b-4ef4-8895-6217637e48b4",
        "colab": {
          "base_uri": "https://localhost:8080/",
          "height": 68
        }
      },
      "source": [
        "pyDatalog.create_terms('X,Y')\n",
        "print(X==1)"
      ],
      "execution_count": 0,
      "outputs": [
        {
          "output_type": "stream",
          "text": [
            "X\n",
            "-\n",
            "1\n"
          ],
          "name": "stdout"
        }
      ]
    },
    {
      "cell_type": "code",
      "metadata": {
        "colab_type": "code",
        "id": "1bFmOGvftdEh",
        "outputId": "4513719c-5fa0-4c9b-e0c3-3c7071076001",
        "colab": {
          "base_uri": "https://localhost:8080/",
          "height": 68
        }
      },
      "source": [
        "print((X==True) & (Y==False))"
      ],
      "execution_count": 0,
      "outputs": [
        {
          "output_type": "stream",
          "text": [
            "X    | Y    \n",
            "-----|------\n",
            "True | False\n"
          ],
          "name": "stdout"
        }
      ]
    },
    {
      "cell_type": "code",
      "metadata": {
        "colab_type": "code",
        "id": "ZF_IcQLttjWe",
        "outputId": "e12f4e8c-c046-4914-f341-cfee1ca200fc",
        "colab": {
          "base_uri": "https://localhost:8080/",
          "height": 102
        }
      },
      "source": [
        "print((X==True) & (X==False))\n",
        "print((X==input('Please enter your name : ')) & (Y=='Hello ' + X[0]))"
      ],
      "execution_count": 0,
      "outputs": [
        {
          "output_type": "stream",
          "text": [
            "[]\n",
            "Please enter your name : amudha\n",
            "X      | Y      \n",
            "-------|--------\n",
            "amudha | Hello a\n"
          ],
          "name": "stdout"
        }
      ]
    },
    {
      "cell_type": "code",
      "metadata": {
        "colab_type": "code",
        "id": "_jy12oRot2TY",
        "outputId": "c75f6aef-7ef3-42ac-ede8-168855779eb5",
        "colab": {
          "base_uri": "https://localhost:8080/",
          "height": 68
        }
      },
      "source": [
        "print((X==(1,2)+(3,)) & (Y==X[2]))"
      ],
      "execution_count": 0,
      "outputs": [
        {
          "output_type": "stream",
          "text": [
            "X         | Y\n",
            "----------|--\n",
            "(1, 2, 3) | 3\n"
          ],
          "name": "stdout"
        }
      ]
    },
    {
      "cell_type": "code",
      "metadata": {
        "colab_type": "code",
        "id": "hV1_JGNjt9FU",
        "outputId": "5957b217-c171-49e3-e60c-27b887afd268",
        "colab": {
          "base_uri": "https://localhost:8080/",
          "height": 68
        }
      },
      "source": [
        "#To use your own functions in logic expressions, define them in Python, then ask pyDatalog to create logical terms for them:\n",
        "def twice(a):\n",
        "    return a+a\n",
        "\n",
        "pyDatalog.create_terms('twice')\n",
        "print((X==1) & (Y==twice(X)))"
      ],
      "execution_count": 0,
      "outputs": [
        {
          "output_type": "stream",
          "text": [
            "X | Y\n",
            "--|--\n",
            "1 | 2\n"
          ],
          "name": "stdout"
        }
      ]
    },
    {
      "cell_type": "code",
      "metadata": {
        "colab_type": "code",
        "id": "SbgvnyH-uF6X",
        "outputId": "a9283aee-95a5-4535-cafb-47651fd70343",
        "colab": {
          "base_uri": "https://localhost:8080/",
          "height": 68
        }
      },
      "source": [
        "#pyDatalog variables can be passed to functions in the Python standard library\n",
        "import math\n",
        "pyDatalog.create_terms('math')\n",
        "print(X==2) and (Y==math.sqrt(X))"
      ],
      "execution_count": 0,
      "outputs": [
        {
          "output_type": "stream",
          "text": [
            "X\n",
            "-\n",
            "2\n"
          ],
          "name": "stdout"
        }
      ]
    },
    {
      "cell_type": "code",
      "metadata": {
        "colab_type": "code",
        "id": "HoEaMMzXugaO",
        "colab": {}
      },
      "source": [
        "from pyDatalog import pyDatalog\n",
        "pyDatalog.create_terms('X,Y,Z')"
      ],
      "execution_count": 0,
      "outputs": []
    },
    {
      "cell_type": "code",
      "metadata": {
        "colab_type": "code",
        "id": "6iQFQwYkujdX",
        "outputId": "f01155a9-cdbe-4cb2-8c24-8143de2d7183",
        "colab": {
          "base_uri": "https://localhost:8080/",
          "height": 153
        }
      },
      "source": [
        "# give me all the X so that X is in the range 0..4\n",
        "print(X.in_((0,1,2,3,4)))\n",
        "\n",
        "print(X)\n",
        "\n"
      ],
      "execution_count": 0,
      "outputs": [
        {
          "output_type": "stream",
          "text": [
            "X\n",
            "-\n",
            "4\n",
            "3\n",
            "2\n",
            "1\n",
            "0\n",
            "X\n"
          ],
          "name": "stdout"
        }
      ]
    },
    {
      "cell_type": "code",
      "metadata": {
        "colab_type": "code",
        "id": "uaxv_wsbu-U2",
        "outputId": "1fe77147-da8d-42ff-c111-a8ffe430173e",
        "colab": {
          "base_uri": "https://localhost:8080/",
          "height": 51
        }
      },
      "source": [
        "print(X.in_(range(5)).data)\n",
        "print(X.in_(range(5)) == set([(0,), (1,), (2,), (3,), (4,)]))"
      ],
      "execution_count": 0,
      "outputs": [
        {
          "output_type": "stream",
          "text": [
            "[(4,), (3,), (2,), (1,), (0,)]\n",
            "True\n"
          ],
          "name": "stdout"
        }
      ]
    },
    {
      "cell_type": "code",
      "metadata": {
        "colab_type": "code",
        "id": "wFbRl2eovFy-",
        "outputId": "8bd02dc6-0ea8-42d5-8b96-0578a35c3b50",
        "colab": {
          "base_uri": "https://localhost:8080/",
          "height": 68
        }
      },
      "source": [
        "print(\"Data : \",X.data)\n",
        "print(\"First value : \",  X.v())\n",
        "# below, '>=' is a variable extraction operator\n",
        "print(\"Extraction of first value of X: \", X.in_(range(5)) >= X)"
      ],
      "execution_count": 0,
      "outputs": [
        {
          "output_type": "stream",
          "text": [
            "Data :  [4, 3, 2, 1, 0]\n",
            "First value :  4\n",
            "Extraction of first value of X:  4\n"
          ],
          "name": "stdout"
        }
      ]
    },
    {
      "cell_type": "code",
      "metadata": {
        "colab_type": "code",
        "id": "SFumAUw-vQnv",
        "outputId": "4191174e-c583-4537-a477-5c9147f489a3",
        "colab": {
          "base_uri": "https://localhost:8080/",
          "height": 85
        }
      },
      "source": [
        "# give me all X in range 0..4 that are below 2\n",
        "print(X.in_(range(5)) & (X<2))"
      ],
      "execution_count": 0,
      "outputs": [
        {
          "output_type": "stream",
          "text": [
            "X\n",
            "-\n",
            "1\n",
            "0\n"
          ],
          "name": "stdout"
        }
      ]
    },
    {
      "cell_type": "code",
      "metadata": {
        "colab_type": "code",
        "id": "BRtpjzBrvUIe",
        "outputId": "029f902f-cdf3-4b7a-bf8d-938f768b35ce",
        "colab": {
          "base_uri": "https://localhost:8080/",
          "height": 153
        }
      },
      "source": [
        "# give me all X, Y and Z so that X and Y are in 0..4, Z is their sum, and Z is below 3\n",
        "print(X.in_(range(5)) &\n",
        "          Y.in_(range(5)) &\n",
        "              (Z==X+Y) &\n",
        "              (Z<3))"
      ],
      "execution_count": 0,
      "outputs": [
        {
          "output_type": "stream",
          "text": [
            "X | Y | Z\n",
            "--|---|--\n",
            "2 | 0 | 2\n",
            "1 | 1 | 2\n",
            "1 | 0 | 1\n",
            "0 | 2 | 2\n",
            "0 | 1 | 1\n",
            "0 | 0 | 0\n"
          ],
          "name": "stdout"
        }
      ]
    },
    {
      "cell_type": "code",
      "metadata": {
        "colab_type": "code",
        "id": "7-vc7gt5vZnQ",
        "colab": {}
      },
      "source": [
        "# calculate the net salary of employee foo and bar\n",
        "from pyDatalog import pyDatalog\n",
        "pyDatalog.create_terms('X,Y,Z, salary, tax_rate, tax_rate_for_salary_above, net_salary')"
      ],
      "execution_count": 0,
      "outputs": []
    },
    {
      "cell_type": "code",
      "metadata": {
        "colab_type": "code",
        "id": "-8Q2xY_fvd7n",
        "outputId": "53e0fa53-1dc2-422a-a76c-5749d5e88f2f",
        "colab": {
          "base_uri": "https://localhost:8080/",
          "height": 102
        }
      },
      "source": [
        "salary['foo'] = 60\n",
        "salary['bar'] = 110\n",
        "\n",
        "# Python equivalent\n",
        "_salary = dict()\n",
        "_salary['foo'] = 60\n",
        "_salary['bar'] = 110\n",
        "# give me all the X and Y so that the salary of X is Y\n",
        "print(salary[X]==Y)\n",
        "print\n",
        "# python equivalent\n",
        "print(_salary.items())"
      ],
      "execution_count": 0,
      "outputs": [
        {
          "output_type": "stream",
          "text": [
            "X   | Y  \n",
            "----|----\n",
            "bar | 110\n",
            "foo | 60 \n",
            "dict_items([('foo', 60), ('bar', 110)])\n"
          ],
          "name": "stdout"
        }
      ]
    },
    {
      "cell_type": "code",
      "metadata": {
        "colab_type": "code",
        "id": "OKmQ9zV3vq1n",
        "outputId": "8d0ab636-d257-4adf-dd98-c7617e903511",
        "colab": {
          "base_uri": "https://localhost:8080/",
          "height": 85
        }
      },
      "source": [
        "#A function has only one value for a given argument.\n",
        "# foo now has a salary of 70\n",
        "salary['foo'] = 70\n",
        "print(salary['foo']==Y)\n",
        "print\n",
        "\n",
        "# Python equivalent\n",
        "_salary['foo'] = 70\n",
        "print('foo --> ' + str(_salary['foo']))"
      ],
      "execution_count": 0,
      "outputs": [
        {
          "output_type": "stream",
          "text": [
            "Y \n",
            "--\n",
            "70\n",
            "foo --> 70\n"
          ],
          "name": "stdout"
        }
      ]
    },
    {
      "cell_type": "code",
      "metadata": {
        "colab_type": "code",
        "id": "7iOFB7n3vxqg",
        "outputId": "4f386beb-6249-4808-b554-abfaa4eb9037",
        "colab": {
          "base_uri": "https://localhost:8080/",
          "height": 85
        }
      },
      "source": [
        "#A function can also be queried by value.\n",
        "# give me all the X that have a salary of 110\n",
        "print(salary[X]==110)\n",
        "print\n",
        "\n",
        "# procedural equivalent in python\n",
        "for i, j in _salary.items():\n",
        "    if j==110:\n",
        "        print( i, '-->', j)"
      ],
      "execution_count": 0,
      "outputs": [
        {
          "output_type": "stream",
          "text": [
            "X  \n",
            "---\n",
            "bar\n",
            "bar --> 110\n"
          ],
          "name": "stdout"
        }
      ]
    },
    {
      "cell_type": "code",
      "metadata": {
        "colab_type": "code",
        "id": "MXFJDBygv-aO",
        "outputId": "59ce7194-f407-451d-8a9c-65bfc7309c1c",
        "colab": {
          "base_uri": "https://localhost:8080/",
          "height": 68
        }
      },
      "source": [
        "print((salary[X]==Y) & ~(Y==110))"
      ],
      "execution_count": 0,
      "outputs": [
        {
          "output_type": "stream",
          "text": [
            "X   | Y \n",
            "----|---\n",
            "foo | 70\n"
          ],
          "name": "stdout"
        }
      ]
    },
    {
      "cell_type": "code",
      "metadata": {
        "colab_type": "code",
        "id": "V0uJpMI8wIS5",
        "outputId": "c45df728-97e2-4789-a654-087470340352",
        "colab": {
          "base_uri": "https://localhost:8080/",
          "height": 119
        }
      },
      "source": [
        "# the tax rate for salaries above 0 is 33%, and above 100 is 50 %\n",
        "(tax_rate_for_salary_above[X] == 0.33) <= (0 <= X)\n",
        "(tax_rate_for_salary_above[X] == 0.50) <= (100 <= X)\n",
        "print(tax_rate_for_salary_above[70]==Y)\n",
        "print\n",
        "print(tax_rate_for_salary_above[150]==Y)"
      ],
      "execution_count": 0,
      "outputs": [
        {
          "output_type": "stream",
          "text": [
            "Y   \n",
            "----\n",
            "0.33\n",
            "Y  \n",
            "---\n",
            "0.5\n"
          ],
          "name": "stdout"
        }
      ]
    },
    {
      "cell_type": "code",
      "metadata": {
        "colab_type": "code",
        "id": "EZVJGCu6wND4",
        "outputId": "56f3ace1-1cff-4524-cac1-f902d3e6d7dc",
        "colab": {
          "base_uri": "https://localhost:8080/",
          "height": 85
        }
      },
      "source": [
        "net_salary[X] = salary[X]*(1-tax_rate_for_salary_above[salary[X]])\n",
        "# give me all X and Y so that Y is the net salary of X\n",
        "print(net_salary[X]==Y)"
      ],
      "execution_count": 0,
      "outputs": [
        {
          "output_type": "stream",
          "text": [
            "X   | Y                \n",
            "----|------------------\n",
            "bar | 55.0             \n",
            "foo | 46.89999999999999\n"
          ],
          "name": "stdout"
        }
      ]
    },
    {
      "cell_type": "code",
      "metadata": {
        "colab_type": "code",
        "id": "b_pxbx8ZwRxR",
        "outputId": "7524eabc-177e-49a6-a831-29cb4b20a0cc",
        "colab": {
          "base_uri": "https://localhost:8080/",
          "height": 68
        }
      },
      "source": [
        "pyDatalog.create_terms('factorial, N')\n",
        "\n",
        "factorial[N] = N*factorial[N-1]\n",
        "factorial[1] = 1\n",
        "\n",
        "print(factorial[3]==N)"
      ],
      "execution_count": 0,
      "outputs": [
        {
          "output_type": "stream",
          "text": [
            "N\n",
            "-\n",
            "6\n"
          ],
          "name": "stdout"
        }
      ]
    },
    {
      "cell_type": "code",
      "metadata": {
        "colab_type": "code",
        "id": "KPDxpBDmwedu",
        "outputId": "4a97062b-86a6-445b-c799-dd750bc4b646",
        "colab": {
          "base_uri": "https://localhost:8080/",
          "height": 68
        }
      },
      "source": [
        "#Aggregate Functions\n",
        "from pyDatalog import pyDatalog\n",
        "pyDatalog.create_terms('X,Y,manager, count_of_direct_reports')\n",
        "# the manager of Mary is John\n",
        "+(manager['Mary'] == 'John')\n",
        "+(manager['Sam']  == 'Mary')\n",
        "+(manager['Tom']  == 'Mary')\n",
        "(count_of_direct_reports[X]==len_(Y)) <= (manager[Y]==X)\n",
        "print(count_of_direct_reports['Mary']==Z)"
      ],
      "execution_count": 0,
      "outputs": [
        {
          "output_type": "stream",
          "text": [
            "Z\n",
            "-\n",
            "2\n"
          ],
          "name": "stdout"
        }
      ]
    },
    {
      "cell_type": "code",
      "metadata": {
        "colab_type": "code",
        "id": "848auJmQwoSa",
        "outputId": "c54d398f-04d7-4896-ab41-8ce0703d8504",
        "colab": {
          "base_uri": "https://localhost:8080/",
          "height": 119
        }
      },
      "source": [
        "#Literals and sets\n",
        "from pyDatalog import pyDatalog\n",
        "pyDatalog.create_terms('X,Y,Z, works_in, department_size, manager, indirect_manager, count_of_indirect_reports')\n",
        "# Mary works in Production\n",
        "+ works_in('Mary', 'Production')\n",
        "+ works_in('Sam',  'Marketing')\n",
        "\n",
        "+ works_in('John', 'Production')\n",
        "+ works_in('John', 'Marketing')\n",
        "\n",
        "_works_in = set()\n",
        "_works_in.add(('Mary', 'Production'))\n",
        "_works_in.add(('Sam',  'Marketing'))\n",
        "_works_in.add(('John', 'Production'))\n",
        "_works_in.add(('John', 'Marketing'))\n",
        "# give me all the X that work in Marketing\n",
        "print(works_in(X,  'Marketing'))\n",
        "print\n",
        "\n",
        "# procedural equivalent in Python\n",
        "for i in _works_in:\n",
        "    if i[1]=='Marketing':\n",
        "        print( i[0])"
      ],
      "execution_count": 0,
      "outputs": [
        {
          "output_type": "stream",
          "text": [
            "X   \n",
            "----\n",
            "John\n",
            "Sam \n",
            "John\n",
            "Sam\n"
          ],
          "name": "stdout"
        }
      ]
    },
    {
      "cell_type": "code",
      "metadata": {
        "colab_type": "code",
        "id": "2krzu9uTw28T",
        "outputId": "c5e9aca9-8570-4ab2-8193-c3104c1097e4",
        "colab": {
          "base_uri": "https://localhost:8080/",
          "height": 85
        }
      },
      "source": [
        "# one of the indirect manager of X is Y, if the (direct) manager of X is Y\n",
        "indirect_manager(X,Y) <= (manager[X] == Y)\n",
        "# another indirect manager of X is Y, if there is a Z so that the manager of X is Z, \n",
        "#   and an indirect manager of Z is Y\n",
        "indirect_manager(X,Y) <= (manager[X] == Z) & indirect_manager(Z,Y)\n",
        "print(indirect_manager('Sam',X))"
      ],
      "execution_count": 0,
      "outputs": [
        {
          "output_type": "stream",
          "text": [
            "X   \n",
            "----\n",
            "Mary\n",
            "John\n"
          ],
          "name": "stdout"
        }
      ]
    },
    {
      "cell_type": "code",
      "metadata": {
        "colab_type": "code",
        "id": "yQGz9W89xAOO",
        "outputId": "0b1d414f-3dfb-4785-c740-b2bc506767aa",
        "colab": {
          "base_uri": "https://localhost:8080/",
          "height": 85
        }
      },
      "source": [
        "# the manager of John is Mary (whose manager is John !)\n",
        "manager['John'] = 'Mary'\n",
        "\n",
        "print(indirect_manager('John',X))"
      ],
      "execution_count": 0,
      "outputs": [
        {
          "output_type": "stream",
          "text": [
            "X   \n",
            "----\n",
            "John\n",
            "Mary\n"
          ],
          "name": "stdout"
        }
      ]
    },
    {
      "cell_type": "code",
      "metadata": {
        "colab_type": "code",
        "id": "XexMKf8IxDJd",
        "outputId": "ae0a9155-1910-4b5f-8619-621d26b15002",
        "colab": {
          "base_uri": "https://localhost:8080/",
          "height": 68
        }
      },
      "source": [
        "# John does not work in Production anymore\n",
        "- works_in('John', 'Production')\n",
        "(count_of_indirect_reports[X]==len_(Y)) <= indirect_manager(Y,X)\n",
        "print(count_of_indirect_reports['John']==Y)"
      ],
      "execution_count": 0,
      "outputs": [
        {
          "output_type": "stream",
          "text": [
            "Y\n",
            "-\n",
            "4\n"
          ],
          "name": "stdout"
        }
      ]
    },
    {
      "cell_type": "code",
      "metadata": {
        "colab_type": "code",
        "id": "Hjdw_iwuxKvq",
        "outputId": "e472759f-4b00-4de9-9238-ba9073e0a660",
        "colab": {
          "base_uri": "https://localhost:8080/",
          "height": 34
        }
      },
      "source": [
        "#Tree, graphs and recursive algorithms\n",
        "pyDatalog.create_terms('link, can_reach')\n",
        "\n",
        "# there is a link between node 1 and node 2\n",
        "+link(1,2)\n",
        "+link(2,3)\n",
        "+link(2,4)\n",
        "+link(2,5)\n",
        "+link(5,6)\n",
        "+link(6,7)\n",
        "+link(7,2)\n",
        "# links are bi-directional\n",
        "link(X,Y) <= link(Y,X)"
      ],
      "execution_count": 0,
      "outputs": [
        {
          "output_type": "execute_result",
          "data": {
            "text/plain": [
              "link(X,Y) <= link(Y,X)"
            ]
          },
          "metadata": {
            "tags": []
          },
          "execution_count": 45
        }
      ]
    },
    {
      "cell_type": "code",
      "metadata": {
        "colab_type": "code",
        "id": "P980TimTxUlc",
        "outputId": "f7deb8e2-2308-4a3e-8990-4a845fa04c6f",
        "colab": {
          "base_uri": "https://localhost:8080/",
          "height": 153
        }
      },
      "source": [
        "# can Y be reached from X ?\n",
        "can_reach(X,Y) <= link(X,Y) # direct link\n",
        "# via Z\n",
        "can_reach(X,Y) <= link(X,Z) & can_reach(Z,Y) & (X!=Y)\n",
        "\n",
        "print (can_reach(1,Y))"
      ],
      "execution_count": 0,
      "outputs": [
        {
          "output_type": "stream",
          "text": [
            "Y\n",
            "-\n",
            "2\n",
            "7\n",
            "4\n",
            "5\n",
            "3\n",
            "6\n"
          ],
          "name": "stdout"
        }
      ]
    }
  ]
}